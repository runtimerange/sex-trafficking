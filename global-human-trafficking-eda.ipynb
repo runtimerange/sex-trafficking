{
 "cells": [
  {
   "cell_type": "code",
   "execution_count": 180,
   "metadata": {
    "_cell_guid": "b1076dfc-b9ad-4769-8c92-a6c4dae69d19",
    "_uuid": "8f2839f25d086af736a60e9eeb907d3b93b6e0e5"
   },
   "outputs": [],
   "source": [
    "import pandas as pd\n",
    "import numpy as np\n",
    "import seaborn as sns\n",
    "import plotly\n",
    "import plotly.express as px\n",
    "import plotly.graph_objects as go\n",
    "import warnings\n",
    "warnings.filterwarnings('ignore')\n",
    "!pip install --quiet pycountry_convert\n",
    "from pycountry_convert import country_alpha2_to_country_name, country_name_to_country_alpha3\n",
    "import os"
   ]
  },
  {
   "cell_type": "code",
   "execution_count": 181,
   "metadata": {
    "_cell_guid": "79c7e3d0-c299-4dcb-8224-4455121ee9b0",
    "_uuid": "d629ff2d2480ee46fbb7e2d37f6b5fab8052498a"
   },
   "outputs": [],
   "source": [
    "data = pd.read_csv('dd.csv')"
   ]
  },
  {
   "cell_type": "code",
   "execution_count": 182,
   "metadata": {},
   "outputs": [
    {
     "data": {
      "text/html": [
       "<div>\n",
       "<style scoped>\n",
       "    .dataframe tbody tr th:only-of-type {\n",
       "        vertical-align: middle;\n",
       "    }\n",
       "\n",
       "    .dataframe tbody tr th {\n",
       "        vertical-align: top;\n",
       "    }\n",
       "\n",
       "    .dataframe thead th {\n",
       "        text-align: right;\n",
       "    }\n",
       "</style>\n",
       "<table border=\"1\" class=\"dataframe\">\n",
       "  <thead>\n",
       "    <tr style=\"text-align: right;\">\n",
       "      <th></th>\n",
       "      <th>yearOfRegistration</th>\n",
       "      <th>Datasource</th>\n",
       "      <th>gender</th>\n",
       "      <th>ageBroad</th>\n",
       "      <th>majorityStatus</th>\n",
       "      <th>majorityStatusAtExploit</th>\n",
       "      <th>majorityEntry</th>\n",
       "      <th>citizenship</th>\n",
       "      <th>meansOfControlDebtBondage</th>\n",
       "      <th>meansOfControlTakesEarnings</th>\n",
       "      <th>...</th>\n",
       "      <th>typeOfSexPrivateSexualServices</th>\n",
       "      <th>typeOfSexConcatenated</th>\n",
       "      <th>isAbduction</th>\n",
       "      <th>RecruiterRelationship</th>\n",
       "      <th>CountryOfExploitation</th>\n",
       "      <th>recruiterRelationIntimatePartner</th>\n",
       "      <th>recruiterRelationFriend</th>\n",
       "      <th>recruiterRelationFamily</th>\n",
       "      <th>recruiterRelationOther</th>\n",
       "      <th>recruiterRelationUnknown</th>\n",
       "    </tr>\n",
       "  </thead>\n",
       "  <tbody>\n",
       "    <tr>\n",
       "      <th>0</th>\n",
       "      <td>2002</td>\n",
       "      <td>Case Management</td>\n",
       "      <td>Female</td>\n",
       "      <td>18--20</td>\n",
       "      <td>Adult</td>\n",
       "      <td>-99</td>\n",
       "      <td>-99</td>\n",
       "      <td>CO</td>\n",
       "      <td>-99</td>\n",
       "      <td>-99</td>\n",
       "      <td>...</td>\n",
       "      <td>-99</td>\n",
       "      <td>-99</td>\n",
       "      <td>-99</td>\n",
       "      <td>-99</td>\n",
       "      <td>-99</td>\n",
       "      <td>0</td>\n",
       "      <td>0</td>\n",
       "      <td>0</td>\n",
       "      <td>0</td>\n",
       "      <td>1</td>\n",
       "    </tr>\n",
       "    <tr>\n",
       "      <th>1</th>\n",
       "      <td>2002</td>\n",
       "      <td>Case Management</td>\n",
       "      <td>Female</td>\n",
       "      <td>18--20</td>\n",
       "      <td>Adult</td>\n",
       "      <td>-99</td>\n",
       "      <td>-99</td>\n",
       "      <td>CO</td>\n",
       "      <td>-99</td>\n",
       "      <td>-99</td>\n",
       "      <td>...</td>\n",
       "      <td>-99</td>\n",
       "      <td>-99</td>\n",
       "      <td>-99</td>\n",
       "      <td>-99</td>\n",
       "      <td>-99</td>\n",
       "      <td>0</td>\n",
       "      <td>0</td>\n",
       "      <td>0</td>\n",
       "      <td>0</td>\n",
       "      <td>1</td>\n",
       "    </tr>\n",
       "    <tr>\n",
       "      <th>2</th>\n",
       "      <td>2002</td>\n",
       "      <td>Case Management</td>\n",
       "      <td>Female</td>\n",
       "      <td>18--20</td>\n",
       "      <td>Adult</td>\n",
       "      <td>-99</td>\n",
       "      <td>-99</td>\n",
       "      <td>CO</td>\n",
       "      <td>-99</td>\n",
       "      <td>-99</td>\n",
       "      <td>...</td>\n",
       "      <td>-99</td>\n",
       "      <td>-99</td>\n",
       "      <td>-99</td>\n",
       "      <td>-99</td>\n",
       "      <td>-99</td>\n",
       "      <td>0</td>\n",
       "      <td>0</td>\n",
       "      <td>0</td>\n",
       "      <td>0</td>\n",
       "      <td>1</td>\n",
       "    </tr>\n",
       "    <tr>\n",
       "      <th>3</th>\n",
       "      <td>2002</td>\n",
       "      <td>Case Management</td>\n",
       "      <td>Female</td>\n",
       "      <td>18--20</td>\n",
       "      <td>Adult</td>\n",
       "      <td>-99</td>\n",
       "      <td>-99</td>\n",
       "      <td>CO</td>\n",
       "      <td>-99</td>\n",
       "      <td>-99</td>\n",
       "      <td>...</td>\n",
       "      <td>-99</td>\n",
       "      <td>-99</td>\n",
       "      <td>-99</td>\n",
       "      <td>-99</td>\n",
       "      <td>-99</td>\n",
       "      <td>0</td>\n",
       "      <td>0</td>\n",
       "      <td>0</td>\n",
       "      <td>0</td>\n",
       "      <td>1</td>\n",
       "    </tr>\n",
       "    <tr>\n",
       "      <th>4</th>\n",
       "      <td>2002</td>\n",
       "      <td>Case Management</td>\n",
       "      <td>Female</td>\n",
       "      <td>18--20</td>\n",
       "      <td>Adult</td>\n",
       "      <td>-99</td>\n",
       "      <td>-99</td>\n",
       "      <td>CO</td>\n",
       "      <td>-99</td>\n",
       "      <td>-99</td>\n",
       "      <td>...</td>\n",
       "      <td>-99</td>\n",
       "      <td>-99</td>\n",
       "      <td>-99</td>\n",
       "      <td>-99</td>\n",
       "      <td>-99</td>\n",
       "      <td>0</td>\n",
       "      <td>0</td>\n",
       "      <td>0</td>\n",
       "      <td>0</td>\n",
       "      <td>1</td>\n",
       "    </tr>\n",
       "  </tbody>\n",
       "</table>\n",
       "<p>5 rows × 63 columns</p>\n",
       "</div>"
      ],
      "text/plain": [
       "   yearOfRegistration       Datasource  gender ageBroad majorityStatus  \\\n",
       "0                2002  Case Management  Female   18--20          Adult   \n",
       "1                2002  Case Management  Female   18--20          Adult   \n",
       "2                2002  Case Management  Female   18--20          Adult   \n",
       "3                2002  Case Management  Female   18--20          Adult   \n",
       "4                2002  Case Management  Female   18--20          Adult   \n",
       "\n",
       "  majorityStatusAtExploit majorityEntry citizenship  \\\n",
       "0                     -99           -99          CO   \n",
       "1                     -99           -99          CO   \n",
       "2                     -99           -99          CO   \n",
       "3                     -99           -99          CO   \n",
       "4                     -99           -99          CO   \n",
       "\n",
       "   meansOfControlDebtBondage  meansOfControlTakesEarnings  ...  \\\n",
       "0                        -99                          -99  ...   \n",
       "1                        -99                          -99  ...   \n",
       "2                        -99                          -99  ...   \n",
       "3                        -99                          -99  ...   \n",
       "4                        -99                          -99  ...   \n",
       "\n",
       "   typeOfSexPrivateSexualServices  typeOfSexConcatenated  isAbduction  \\\n",
       "0                             -99                    -99          -99   \n",
       "1                             -99                    -99          -99   \n",
       "2                             -99                    -99          -99   \n",
       "3                             -99                    -99          -99   \n",
       "4                             -99                    -99          -99   \n",
       "\n",
       "   RecruiterRelationship  CountryOfExploitation  \\\n",
       "0                    -99                    -99   \n",
       "1                    -99                    -99   \n",
       "2                    -99                    -99   \n",
       "3                    -99                    -99   \n",
       "4                    -99                    -99   \n",
       "\n",
       "   recruiterRelationIntimatePartner  recruiterRelationFriend  \\\n",
       "0                                 0                        0   \n",
       "1                                 0                        0   \n",
       "2                                 0                        0   \n",
       "3                                 0                        0   \n",
       "4                                 0                        0   \n",
       "\n",
       "   recruiterRelationFamily  recruiterRelationOther  recruiterRelationUnknown  \n",
       "0                        0                       0                         1  \n",
       "1                        0                       0                         1  \n",
       "2                        0                       0                         1  \n",
       "3                        0                       0                         1  \n",
       "4                        0                       0                         1  \n",
       "\n",
       "[5 rows x 63 columns]"
      ]
     },
     "execution_count": 182,
     "metadata": {},
     "output_type": "execute_result"
    }
   ],
   "source": [
    "data[:5]"
   ]
  },
  {
   "cell_type": "code",
   "execution_count": 108,
   "metadata": {},
   "outputs": [],
   "source": [
    "data.replace('-99', np.nan, inplace=True)\n",
    "data.replace(-99, np.nan, inplace=True)"
   ]
  },
  {
   "cell_type": "code",
   "execution_count": 183,
   "metadata": {},
   "outputs": [],
   "source": [
    "def get_alpha3(col):\n",
    "    try:\n",
    "        iso_3 =  country_name_to_country_alpha3(col)\n",
    "    except:\n",
    "        iso_3 = 'Unknown'\n",
    "    return iso_3\n",
    "\n",
    "def get_name(col):\n",
    "    try:\n",
    "        name =  country_alpha2_to_country_name(col)\n",
    "    except:\n",
    "        name = 'Unknown'\n",
    "    return name"
   ]
  },
  {
   "cell_type": "code",
   "execution_count": 184,
   "metadata": {},
   "outputs": [],
   "source": [
    "data['country'] = data['citizenship'].apply(lambda x: get_name(x))\n",
    "data['alpha_3'] = data['country'].apply(lambda x: get_alpha3(x))\n",
    "data_map = pd.DataFrame(data.groupby(['country', 'alpha_3'])['alpha_3'].agg(Victims='count')).reset_index()"
   ]
  },
  {
   "cell_type": "code",
   "execution_count": 185,
   "metadata": {},
   "outputs": [
    {
     "data": {
      "application/vnd.plotly.v1+json": {
       "config": {
        "plotlyServerURL": "https://plot.ly"
       },
       "data": [
        {
         "coloraxis": "coloraxis",
         "geo": "geo",
         "hovertemplate": "<b>%{hovertext}</b><br><br>alpha_3=%{location}<br>Victims=%{z}<extra></extra>",
         "hovertext": [
          "Afghanistan",
          "Albania",
          "Bangladesh",
          "Belarus",
          "Bolivia, Plurinational State of",
          "Bulgaria",
          "Burkina Faso",
          "Cambodia",
          "China",
          "Colombia",
          "Congo, The Democratic Republic of the",
          "Côte d'Ivoire",
          "Eritrea",
          "Ghana",
          "Guinea",
          "Guinea-Bissau",
          "Haiti",
          "Indonesia",
          "Kazakhstan",
          "Kenya",
          "Korea, Republic of",
          "Kyrgyzstan",
          "Lao People's Democratic Republic",
          "Madagascar",
          "Mali",
          "Mexico",
          "Moldova, Republic of",
          "Myanmar",
          "Nepal",
          "Niger",
          "Nigeria",
          "Philippines",
          "Romania",
          "Senegal",
          "Sierra Leone",
          "Sri Lanka",
          "Tajikistan",
          "Thailand",
          "Turkmenistan",
          "Uganda",
          "Ukraine",
          "United States",
          "Unknown",
          "Uzbekistan",
          "Viet Nam"
         ],
         "locations": [
          "AFG",
          "ALB",
          "BGD",
          "BLR",
          "BOL",
          "BGR",
          "BFA",
          "KHM",
          "CHN",
          "COL",
          "COD",
          "CIV",
          "ERI",
          "GHA",
          "GIN",
          "GNB",
          "HTI",
          "IDN",
          "KAZ",
          "KEN",
          "KOR",
          "KGZ",
          "LAO",
          "MDG",
          "MLI",
          "MEX",
          "MDA",
          "MMR",
          "NPL",
          "NER",
          "NGA",
          "PHL",
          "ROU",
          "SEN",
          "SLE",
          "LKA",
          "TJK",
          "THA",
          "TKM",
          "UGA",
          "UKR",
          "USA",
          "Unknown",
          "UZB",
          "VNM"
         ],
         "name": "",
         "type": "choropleth",
         "z": [
          97,
          22,
          11,
          1463,
          18,
          342,
          33,
          1979,
          23,
          124,
          53,
          31,
          13,
          544,
          15,
          145,
          339,
          1971,
          54,
          32,
          12,
          437,
          126,
          94,
          45,
          19,
          5901,
          1250,
          27,
          31,
          108,
          11365,
          655,
          70,
          81,
          85,
          43,
          55,
          26,
          98,
          7761,
          3636,
          9136,
          261,
          170
         ]
        }
       ],
       "layout": {
        "coloraxis": {
         "colorbar": {
          "title": {
           "text": "Victims"
          }
         },
         "colorscale": [
          [
           0,
           "#fde725"
          ],
          [
           0.1111111111111111,
           "#b5de2b"
          ],
          [
           0.2222222222222222,
           "#6ece58"
          ],
          [
           0.3333333333333333,
           "#35b779"
          ],
          [
           0.4444444444444444,
           "#1f9e89"
          ],
          [
           0.5555555555555556,
           "#26828e"
          ],
          [
           0.6666666666666666,
           "#31688e"
          ],
          [
           0.7777777777777778,
           "#3e4989"
          ],
          [
           0.8888888888888888,
           "#482878"
          ],
          [
           1,
           "#440154"
          ]
         ]
        },
        "geo": {
         "center": {},
         "domain": {
          "x": [
           0,
           1
          ],
          "y": [
           0,
           1
          ]
         }
        },
        "legend": {
         "tracegroupgap": 0
        },
        "margin": {
         "t": 60
        },
        "template": {
         "data": {
          "bar": [
           {
            "error_x": {
             "color": "#2a3f5f"
            },
            "error_y": {
             "color": "#2a3f5f"
            },
            "marker": {
             "line": {
              "color": "#E5ECF6",
              "width": 0.5
             },
             "pattern": {
              "fillmode": "overlay",
              "size": 10,
              "solidity": 0.2
             }
            },
            "type": "bar"
           }
          ],
          "barpolar": [
           {
            "marker": {
             "line": {
              "color": "#E5ECF6",
              "width": 0.5
             },
             "pattern": {
              "fillmode": "overlay",
              "size": 10,
              "solidity": 0.2
             }
            },
            "type": "barpolar"
           }
          ],
          "carpet": [
           {
            "aaxis": {
             "endlinecolor": "#2a3f5f",
             "gridcolor": "white",
             "linecolor": "white",
             "minorgridcolor": "white",
             "startlinecolor": "#2a3f5f"
            },
            "baxis": {
             "endlinecolor": "#2a3f5f",
             "gridcolor": "white",
             "linecolor": "white",
             "minorgridcolor": "white",
             "startlinecolor": "#2a3f5f"
            },
            "type": "carpet"
           }
          ],
          "choropleth": [
           {
            "colorbar": {
             "outlinewidth": 0,
             "ticks": ""
            },
            "type": "choropleth"
           }
          ],
          "contour": [
           {
            "colorbar": {
             "outlinewidth": 0,
             "ticks": ""
            },
            "colorscale": [
             [
              0,
              "#0d0887"
             ],
             [
              0.1111111111111111,
              "#46039f"
             ],
             [
              0.2222222222222222,
              "#7201a8"
             ],
             [
              0.3333333333333333,
              "#9c179e"
             ],
             [
              0.4444444444444444,
              "#bd3786"
             ],
             [
              0.5555555555555556,
              "#d8576b"
             ],
             [
              0.6666666666666666,
              "#ed7953"
             ],
             [
              0.7777777777777778,
              "#fb9f3a"
             ],
             [
              0.8888888888888888,
              "#fdca26"
             ],
             [
              1,
              "#f0f921"
             ]
            ],
            "type": "contour"
           }
          ],
          "contourcarpet": [
           {
            "colorbar": {
             "outlinewidth": 0,
             "ticks": ""
            },
            "type": "contourcarpet"
           }
          ],
          "heatmap": [
           {
            "colorbar": {
             "outlinewidth": 0,
             "ticks": ""
            },
            "colorscale": [
             [
              0,
              "#0d0887"
             ],
             [
              0.1111111111111111,
              "#46039f"
             ],
             [
              0.2222222222222222,
              "#7201a8"
             ],
             [
              0.3333333333333333,
              "#9c179e"
             ],
             [
              0.4444444444444444,
              "#bd3786"
             ],
             [
              0.5555555555555556,
              "#d8576b"
             ],
             [
              0.6666666666666666,
              "#ed7953"
             ],
             [
              0.7777777777777778,
              "#fb9f3a"
             ],
             [
              0.8888888888888888,
              "#fdca26"
             ],
             [
              1,
              "#f0f921"
             ]
            ],
            "type": "heatmap"
           }
          ],
          "heatmapgl": [
           {
            "colorbar": {
             "outlinewidth": 0,
             "ticks": ""
            },
            "colorscale": [
             [
              0,
              "#0d0887"
             ],
             [
              0.1111111111111111,
              "#46039f"
             ],
             [
              0.2222222222222222,
              "#7201a8"
             ],
             [
              0.3333333333333333,
              "#9c179e"
             ],
             [
              0.4444444444444444,
              "#bd3786"
             ],
             [
              0.5555555555555556,
              "#d8576b"
             ],
             [
              0.6666666666666666,
              "#ed7953"
             ],
             [
              0.7777777777777778,
              "#fb9f3a"
             ],
             [
              0.8888888888888888,
              "#fdca26"
             ],
             [
              1,
              "#f0f921"
             ]
            ],
            "type": "heatmapgl"
           }
          ],
          "histogram": [
           {
            "marker": {
             "pattern": {
              "fillmode": "overlay",
              "size": 10,
              "solidity": 0.2
             }
            },
            "type": "histogram"
           }
          ],
          "histogram2d": [
           {
            "colorbar": {
             "outlinewidth": 0,
             "ticks": ""
            },
            "colorscale": [
             [
              0,
              "#0d0887"
             ],
             [
              0.1111111111111111,
              "#46039f"
             ],
             [
              0.2222222222222222,
              "#7201a8"
             ],
             [
              0.3333333333333333,
              "#9c179e"
             ],
             [
              0.4444444444444444,
              "#bd3786"
             ],
             [
              0.5555555555555556,
              "#d8576b"
             ],
             [
              0.6666666666666666,
              "#ed7953"
             ],
             [
              0.7777777777777778,
              "#fb9f3a"
             ],
             [
              0.8888888888888888,
              "#fdca26"
             ],
             [
              1,
              "#f0f921"
             ]
            ],
            "type": "histogram2d"
           }
          ],
          "histogram2dcontour": [
           {
            "colorbar": {
             "outlinewidth": 0,
             "ticks": ""
            },
            "colorscale": [
             [
              0,
              "#0d0887"
             ],
             [
              0.1111111111111111,
              "#46039f"
             ],
             [
              0.2222222222222222,
              "#7201a8"
             ],
             [
              0.3333333333333333,
              "#9c179e"
             ],
             [
              0.4444444444444444,
              "#bd3786"
             ],
             [
              0.5555555555555556,
              "#d8576b"
             ],
             [
              0.6666666666666666,
              "#ed7953"
             ],
             [
              0.7777777777777778,
              "#fb9f3a"
             ],
             [
              0.8888888888888888,
              "#fdca26"
             ],
             [
              1,
              "#f0f921"
             ]
            ],
            "type": "histogram2dcontour"
           }
          ],
          "mesh3d": [
           {
            "colorbar": {
             "outlinewidth": 0,
             "ticks": ""
            },
            "type": "mesh3d"
           }
          ],
          "parcoords": [
           {
            "line": {
             "colorbar": {
              "outlinewidth": 0,
              "ticks": ""
             }
            },
            "type": "parcoords"
           }
          ],
          "pie": [
           {
            "automargin": true,
            "type": "pie"
           }
          ],
          "scatter": [
           {
            "marker": {
             "colorbar": {
              "outlinewidth": 0,
              "ticks": ""
             }
            },
            "type": "scatter"
           }
          ],
          "scatter3d": [
           {
            "line": {
             "colorbar": {
              "outlinewidth": 0,
              "ticks": ""
             }
            },
            "marker": {
             "colorbar": {
              "outlinewidth": 0,
              "ticks": ""
             }
            },
            "type": "scatter3d"
           }
          ],
          "scattercarpet": [
           {
            "marker": {
             "colorbar": {
              "outlinewidth": 0,
              "ticks": ""
             }
            },
            "type": "scattercarpet"
           }
          ],
          "scattergeo": [
           {
            "marker": {
             "colorbar": {
              "outlinewidth": 0,
              "ticks": ""
             }
            },
            "type": "scattergeo"
           }
          ],
          "scattergl": [
           {
            "marker": {
             "colorbar": {
              "outlinewidth": 0,
              "ticks": ""
             }
            },
            "type": "scattergl"
           }
          ],
          "scattermapbox": [
           {
            "marker": {
             "colorbar": {
              "outlinewidth": 0,
              "ticks": ""
             }
            },
            "type": "scattermapbox"
           }
          ],
          "scatterpolar": [
           {
            "marker": {
             "colorbar": {
              "outlinewidth": 0,
              "ticks": ""
             }
            },
            "type": "scatterpolar"
           }
          ],
          "scatterpolargl": [
           {
            "marker": {
             "colorbar": {
              "outlinewidth": 0,
              "ticks": ""
             }
            },
            "type": "scatterpolargl"
           }
          ],
          "scatterternary": [
           {
            "marker": {
             "colorbar": {
              "outlinewidth": 0,
              "ticks": ""
             }
            },
            "type": "scatterternary"
           }
          ],
          "surface": [
           {
            "colorbar": {
             "outlinewidth": 0,
             "ticks": ""
            },
            "colorscale": [
             [
              0,
              "#0d0887"
             ],
             [
              0.1111111111111111,
              "#46039f"
             ],
             [
              0.2222222222222222,
              "#7201a8"
             ],
             [
              0.3333333333333333,
              "#9c179e"
             ],
             [
              0.4444444444444444,
              "#bd3786"
             ],
             [
              0.5555555555555556,
              "#d8576b"
             ],
             [
              0.6666666666666666,
              "#ed7953"
             ],
             [
              0.7777777777777778,
              "#fb9f3a"
             ],
             [
              0.8888888888888888,
              "#fdca26"
             ],
             [
              1,
              "#f0f921"
             ]
            ],
            "type": "surface"
           }
          ],
          "table": [
           {
            "cells": {
             "fill": {
              "color": "#EBF0F8"
             },
             "line": {
              "color": "white"
             }
            },
            "header": {
             "fill": {
              "color": "#C8D4E3"
             },
             "line": {
              "color": "white"
             }
            },
            "type": "table"
           }
          ]
         },
         "layout": {
          "annotationdefaults": {
           "arrowcolor": "#2a3f5f",
           "arrowhead": 0,
           "arrowwidth": 1
          },
          "autotypenumbers": "strict",
          "coloraxis": {
           "colorbar": {
            "outlinewidth": 0,
            "ticks": ""
           }
          },
          "colorscale": {
           "diverging": [
            [
             0,
             "#8e0152"
            ],
            [
             0.1,
             "#c51b7d"
            ],
            [
             0.2,
             "#de77ae"
            ],
            [
             0.3,
             "#f1b6da"
            ],
            [
             0.4,
             "#fde0ef"
            ],
            [
             0.5,
             "#f7f7f7"
            ],
            [
             0.6,
             "#e6f5d0"
            ],
            [
             0.7,
             "#b8e186"
            ],
            [
             0.8,
             "#7fbc41"
            ],
            [
             0.9,
             "#4d9221"
            ],
            [
             1,
             "#276419"
            ]
           ],
           "sequential": [
            [
             0,
             "#0d0887"
            ],
            [
             0.1111111111111111,
             "#46039f"
            ],
            [
             0.2222222222222222,
             "#7201a8"
            ],
            [
             0.3333333333333333,
             "#9c179e"
            ],
            [
             0.4444444444444444,
             "#bd3786"
            ],
            [
             0.5555555555555556,
             "#d8576b"
            ],
            [
             0.6666666666666666,
             "#ed7953"
            ],
            [
             0.7777777777777778,
             "#fb9f3a"
            ],
            [
             0.8888888888888888,
             "#fdca26"
            ],
            [
             1,
             "#f0f921"
            ]
           ],
           "sequentialminus": [
            [
             0,
             "#0d0887"
            ],
            [
             0.1111111111111111,
             "#46039f"
            ],
            [
             0.2222222222222222,
             "#7201a8"
            ],
            [
             0.3333333333333333,
             "#9c179e"
            ],
            [
             0.4444444444444444,
             "#bd3786"
            ],
            [
             0.5555555555555556,
             "#d8576b"
            ],
            [
             0.6666666666666666,
             "#ed7953"
            ],
            [
             0.7777777777777778,
             "#fb9f3a"
            ],
            [
             0.8888888888888888,
             "#fdca26"
            ],
            [
             1,
             "#f0f921"
            ]
           ]
          },
          "colorway": [
           "#636efa",
           "#EF553B",
           "#00cc96",
           "#ab63fa",
           "#FFA15A",
           "#19d3f3",
           "#FF6692",
           "#B6E880",
           "#FF97FF",
           "#FECB52"
          ],
          "font": {
           "color": "#2a3f5f"
          },
          "geo": {
           "bgcolor": "white",
           "lakecolor": "white",
           "landcolor": "#E5ECF6",
           "showlakes": true,
           "showland": true,
           "subunitcolor": "white"
          },
          "hoverlabel": {
           "align": "left"
          },
          "hovermode": "closest",
          "mapbox": {
           "style": "light"
          },
          "paper_bgcolor": "white",
          "plot_bgcolor": "#E5ECF6",
          "polar": {
           "angularaxis": {
            "gridcolor": "white",
            "linecolor": "white",
            "ticks": ""
           },
           "bgcolor": "#E5ECF6",
           "radialaxis": {
            "gridcolor": "white",
            "linecolor": "white",
            "ticks": ""
           }
          },
          "scene": {
           "xaxis": {
            "backgroundcolor": "#E5ECF6",
            "gridcolor": "white",
            "gridwidth": 2,
            "linecolor": "white",
            "showbackground": true,
            "ticks": "",
            "zerolinecolor": "white"
           },
           "yaxis": {
            "backgroundcolor": "#E5ECF6",
            "gridcolor": "white",
            "gridwidth": 2,
            "linecolor": "white",
            "showbackground": true,
            "ticks": "",
            "zerolinecolor": "white"
           },
           "zaxis": {
            "backgroundcolor": "#E5ECF6",
            "gridcolor": "white",
            "gridwidth": 2,
            "linecolor": "white",
            "showbackground": true,
            "ticks": "",
            "zerolinecolor": "white"
           }
          },
          "shapedefaults": {
           "line": {
            "color": "#2a3f5f"
           }
          },
          "ternary": {
           "aaxis": {
            "gridcolor": "white",
            "linecolor": "white",
            "ticks": ""
           },
           "baxis": {
            "gridcolor": "white",
            "linecolor": "white",
            "ticks": ""
           },
           "bgcolor": "#E5ECF6",
           "caxis": {
            "gridcolor": "white",
            "linecolor": "white",
            "ticks": ""
           }
          },
          "title": {
           "x": 0.05
          },
          "xaxis": {
           "automargin": true,
           "gridcolor": "white",
           "linecolor": "white",
           "ticks": "",
           "title": {
            "standoff": 15
           },
           "zerolinecolor": "white",
           "zerolinewidth": 2
          },
          "yaxis": {
           "automargin": true,
           "gridcolor": "white",
           "linecolor": "white",
           "ticks": "",
           "title": {
            "standoff": 15
           },
           "zerolinecolor": "white",
           "zerolinewidth": 2
          }
         }
        },
        "title": {
         "text": "Human Trafficking Victims"
        }
       }
      },
      "text/html": [
       "<div>                            <div id=\"0b0014ef-a80f-4fe9-8691-d8c02de7bba5\" class=\"plotly-graph-div\" style=\"height:525px; width:100%;\"></div>            <script type=\"text/javascript\">                require([\"plotly\"], function(Plotly) {                    window.PLOTLYENV=window.PLOTLYENV || {};                                    if (document.getElementById(\"0b0014ef-a80f-4fe9-8691-d8c02de7bba5\")) {                    Plotly.newPlot(                        \"0b0014ef-a80f-4fe9-8691-d8c02de7bba5\",                        [{\"coloraxis\":\"coloraxis\",\"geo\":\"geo\",\"hovertemplate\":\"<b>%{hovertext}</b><br><br>alpha_3=%{location}<br>Victims=%{z}<extra></extra>\",\"hovertext\":[\"Afghanistan\",\"Albania\",\"Bangladesh\",\"Belarus\",\"Bolivia, Plurinational State of\",\"Bulgaria\",\"Burkina Faso\",\"Cambodia\",\"China\",\"Colombia\",\"Congo, The Democratic Republic of the\",\"C\\u00f4te d'Ivoire\",\"Eritrea\",\"Ghana\",\"Guinea\",\"Guinea-Bissau\",\"Haiti\",\"Indonesia\",\"Kazakhstan\",\"Kenya\",\"Korea, Republic of\",\"Kyrgyzstan\",\"Lao People's Democratic Republic\",\"Madagascar\",\"Mali\",\"Mexico\",\"Moldova, Republic of\",\"Myanmar\",\"Nepal\",\"Niger\",\"Nigeria\",\"Philippines\",\"Romania\",\"Senegal\",\"Sierra Leone\",\"Sri Lanka\",\"Tajikistan\",\"Thailand\",\"Turkmenistan\",\"Uganda\",\"Ukraine\",\"United States\",\"Unknown\",\"Uzbekistan\",\"Viet Nam\"],\"locations\":[\"AFG\",\"ALB\",\"BGD\",\"BLR\",\"BOL\",\"BGR\",\"BFA\",\"KHM\",\"CHN\",\"COL\",\"COD\",\"CIV\",\"ERI\",\"GHA\",\"GIN\",\"GNB\",\"HTI\",\"IDN\",\"KAZ\",\"KEN\",\"KOR\",\"KGZ\",\"LAO\",\"MDG\",\"MLI\",\"MEX\",\"MDA\",\"MMR\",\"NPL\",\"NER\",\"NGA\",\"PHL\",\"ROU\",\"SEN\",\"SLE\",\"LKA\",\"TJK\",\"THA\",\"TKM\",\"UGA\",\"UKR\",\"USA\",\"Unknown\",\"UZB\",\"VNM\"],\"name\":\"\",\"z\":[97,22,11,1463,18,342,33,1979,23,124,53,31,13,544,15,145,339,1971,54,32,12,437,126,94,45,19,5901,1250,27,31,108,11365,655,70,81,85,43,55,26,98,7761,3636,9136,261,170],\"type\":\"choropleth\"}],                        {\"template\":{\"data\":{\"bar\":[{\"error_x\":{\"color\":\"#2a3f5f\"},\"error_y\":{\"color\":\"#2a3f5f\"},\"marker\":{\"line\":{\"color\":\"#E5ECF6\",\"width\":0.5},\"pattern\":{\"fillmode\":\"overlay\",\"size\":10,\"solidity\":0.2}},\"type\":\"bar\"}],\"barpolar\":[{\"marker\":{\"line\":{\"color\":\"#E5ECF6\",\"width\":0.5},\"pattern\":{\"fillmode\":\"overlay\",\"size\":10,\"solidity\":0.2}},\"type\":\"barpolar\"}],\"carpet\":[{\"aaxis\":{\"endlinecolor\":\"#2a3f5f\",\"gridcolor\":\"white\",\"linecolor\":\"white\",\"minorgridcolor\":\"white\",\"startlinecolor\":\"#2a3f5f\"},\"baxis\":{\"endlinecolor\":\"#2a3f5f\",\"gridcolor\":\"white\",\"linecolor\":\"white\",\"minorgridcolor\":\"white\",\"startlinecolor\":\"#2a3f5f\"},\"type\":\"carpet\"}],\"choropleth\":[{\"colorbar\":{\"outlinewidth\":0,\"ticks\":\"\"},\"type\":\"choropleth\"}],\"contour\":[{\"colorbar\":{\"outlinewidth\":0,\"ticks\":\"\"},\"colorscale\":[[0.0,\"#0d0887\"],[0.1111111111111111,\"#46039f\"],[0.2222222222222222,\"#7201a8\"],[0.3333333333333333,\"#9c179e\"],[0.4444444444444444,\"#bd3786\"],[0.5555555555555556,\"#d8576b\"],[0.6666666666666666,\"#ed7953\"],[0.7777777777777778,\"#fb9f3a\"],[0.8888888888888888,\"#fdca26\"],[1.0,\"#f0f921\"]],\"type\":\"contour\"}],\"contourcarpet\":[{\"colorbar\":{\"outlinewidth\":0,\"ticks\":\"\"},\"type\":\"contourcarpet\"}],\"heatmap\":[{\"colorbar\":{\"outlinewidth\":0,\"ticks\":\"\"},\"colorscale\":[[0.0,\"#0d0887\"],[0.1111111111111111,\"#46039f\"],[0.2222222222222222,\"#7201a8\"],[0.3333333333333333,\"#9c179e\"],[0.4444444444444444,\"#bd3786\"],[0.5555555555555556,\"#d8576b\"],[0.6666666666666666,\"#ed7953\"],[0.7777777777777778,\"#fb9f3a\"],[0.8888888888888888,\"#fdca26\"],[1.0,\"#f0f921\"]],\"type\":\"heatmap\"}],\"heatmapgl\":[{\"colorbar\":{\"outlinewidth\":0,\"ticks\":\"\"},\"colorscale\":[[0.0,\"#0d0887\"],[0.1111111111111111,\"#46039f\"],[0.2222222222222222,\"#7201a8\"],[0.3333333333333333,\"#9c179e\"],[0.4444444444444444,\"#bd3786\"],[0.5555555555555556,\"#d8576b\"],[0.6666666666666666,\"#ed7953\"],[0.7777777777777778,\"#fb9f3a\"],[0.8888888888888888,\"#fdca26\"],[1.0,\"#f0f921\"]],\"type\":\"heatmapgl\"}],\"histogram\":[{\"marker\":{\"pattern\":{\"fillmode\":\"overlay\",\"size\":10,\"solidity\":0.2}},\"type\":\"histogram\"}],\"histogram2d\":[{\"colorbar\":{\"outlinewidth\":0,\"ticks\":\"\"},\"colorscale\":[[0.0,\"#0d0887\"],[0.1111111111111111,\"#46039f\"],[0.2222222222222222,\"#7201a8\"],[0.3333333333333333,\"#9c179e\"],[0.4444444444444444,\"#bd3786\"],[0.5555555555555556,\"#d8576b\"],[0.6666666666666666,\"#ed7953\"],[0.7777777777777778,\"#fb9f3a\"],[0.8888888888888888,\"#fdca26\"],[1.0,\"#f0f921\"]],\"type\":\"histogram2d\"}],\"histogram2dcontour\":[{\"colorbar\":{\"outlinewidth\":0,\"ticks\":\"\"},\"colorscale\":[[0.0,\"#0d0887\"],[0.1111111111111111,\"#46039f\"],[0.2222222222222222,\"#7201a8\"],[0.3333333333333333,\"#9c179e\"],[0.4444444444444444,\"#bd3786\"],[0.5555555555555556,\"#d8576b\"],[0.6666666666666666,\"#ed7953\"],[0.7777777777777778,\"#fb9f3a\"],[0.8888888888888888,\"#fdca26\"],[1.0,\"#f0f921\"]],\"type\":\"histogram2dcontour\"}],\"mesh3d\":[{\"colorbar\":{\"outlinewidth\":0,\"ticks\":\"\"},\"type\":\"mesh3d\"}],\"parcoords\":[{\"line\":{\"colorbar\":{\"outlinewidth\":0,\"ticks\":\"\"}},\"type\":\"parcoords\"}],\"pie\":[{\"automargin\":true,\"type\":\"pie\"}],\"scatter\":[{\"marker\":{\"colorbar\":{\"outlinewidth\":0,\"ticks\":\"\"}},\"type\":\"scatter\"}],\"scatter3d\":[{\"line\":{\"colorbar\":{\"outlinewidth\":0,\"ticks\":\"\"}},\"marker\":{\"colorbar\":{\"outlinewidth\":0,\"ticks\":\"\"}},\"type\":\"scatter3d\"}],\"scattercarpet\":[{\"marker\":{\"colorbar\":{\"outlinewidth\":0,\"ticks\":\"\"}},\"type\":\"scattercarpet\"}],\"scattergeo\":[{\"marker\":{\"colorbar\":{\"outlinewidth\":0,\"ticks\":\"\"}},\"type\":\"scattergeo\"}],\"scattergl\":[{\"marker\":{\"colorbar\":{\"outlinewidth\":0,\"ticks\":\"\"}},\"type\":\"scattergl\"}],\"scattermapbox\":[{\"marker\":{\"colorbar\":{\"outlinewidth\":0,\"ticks\":\"\"}},\"type\":\"scattermapbox\"}],\"scatterpolar\":[{\"marker\":{\"colorbar\":{\"outlinewidth\":0,\"ticks\":\"\"}},\"type\":\"scatterpolar\"}],\"scatterpolargl\":[{\"marker\":{\"colorbar\":{\"outlinewidth\":0,\"ticks\":\"\"}},\"type\":\"scatterpolargl\"}],\"scatterternary\":[{\"marker\":{\"colorbar\":{\"outlinewidth\":0,\"ticks\":\"\"}},\"type\":\"scatterternary\"}],\"surface\":[{\"colorbar\":{\"outlinewidth\":0,\"ticks\":\"\"},\"colorscale\":[[0.0,\"#0d0887\"],[0.1111111111111111,\"#46039f\"],[0.2222222222222222,\"#7201a8\"],[0.3333333333333333,\"#9c179e\"],[0.4444444444444444,\"#bd3786\"],[0.5555555555555556,\"#d8576b\"],[0.6666666666666666,\"#ed7953\"],[0.7777777777777778,\"#fb9f3a\"],[0.8888888888888888,\"#fdca26\"],[1.0,\"#f0f921\"]],\"type\":\"surface\"}],\"table\":[{\"cells\":{\"fill\":{\"color\":\"#EBF0F8\"},\"line\":{\"color\":\"white\"}},\"header\":{\"fill\":{\"color\":\"#C8D4E3\"},\"line\":{\"color\":\"white\"}},\"type\":\"table\"}]},\"layout\":{\"annotationdefaults\":{\"arrowcolor\":\"#2a3f5f\",\"arrowhead\":0,\"arrowwidth\":1},\"autotypenumbers\":\"strict\",\"coloraxis\":{\"colorbar\":{\"outlinewidth\":0,\"ticks\":\"\"}},\"colorscale\":{\"diverging\":[[0,\"#8e0152\"],[0.1,\"#c51b7d\"],[0.2,\"#de77ae\"],[0.3,\"#f1b6da\"],[0.4,\"#fde0ef\"],[0.5,\"#f7f7f7\"],[0.6,\"#e6f5d0\"],[0.7,\"#b8e186\"],[0.8,\"#7fbc41\"],[0.9,\"#4d9221\"],[1,\"#276419\"]],\"sequential\":[[0.0,\"#0d0887\"],[0.1111111111111111,\"#46039f\"],[0.2222222222222222,\"#7201a8\"],[0.3333333333333333,\"#9c179e\"],[0.4444444444444444,\"#bd3786\"],[0.5555555555555556,\"#d8576b\"],[0.6666666666666666,\"#ed7953\"],[0.7777777777777778,\"#fb9f3a\"],[0.8888888888888888,\"#fdca26\"],[1.0,\"#f0f921\"]],\"sequentialminus\":[[0.0,\"#0d0887\"],[0.1111111111111111,\"#46039f\"],[0.2222222222222222,\"#7201a8\"],[0.3333333333333333,\"#9c179e\"],[0.4444444444444444,\"#bd3786\"],[0.5555555555555556,\"#d8576b\"],[0.6666666666666666,\"#ed7953\"],[0.7777777777777778,\"#fb9f3a\"],[0.8888888888888888,\"#fdca26\"],[1.0,\"#f0f921\"]]},\"colorway\":[\"#636efa\",\"#EF553B\",\"#00cc96\",\"#ab63fa\",\"#FFA15A\",\"#19d3f3\",\"#FF6692\",\"#B6E880\",\"#FF97FF\",\"#FECB52\"],\"font\":{\"color\":\"#2a3f5f\"},\"geo\":{\"bgcolor\":\"white\",\"lakecolor\":\"white\",\"landcolor\":\"#E5ECF6\",\"showlakes\":true,\"showland\":true,\"subunitcolor\":\"white\"},\"hoverlabel\":{\"align\":\"left\"},\"hovermode\":\"closest\",\"mapbox\":{\"style\":\"light\"},\"paper_bgcolor\":\"white\",\"plot_bgcolor\":\"#E5ECF6\",\"polar\":{\"angularaxis\":{\"gridcolor\":\"white\",\"linecolor\":\"white\",\"ticks\":\"\"},\"bgcolor\":\"#E5ECF6\",\"radialaxis\":{\"gridcolor\":\"white\",\"linecolor\":\"white\",\"ticks\":\"\"}},\"scene\":{\"xaxis\":{\"backgroundcolor\":\"#E5ECF6\",\"gridcolor\":\"white\",\"gridwidth\":2,\"linecolor\":\"white\",\"showbackground\":true,\"ticks\":\"\",\"zerolinecolor\":\"white\"},\"yaxis\":{\"backgroundcolor\":\"#E5ECF6\",\"gridcolor\":\"white\",\"gridwidth\":2,\"linecolor\":\"white\",\"showbackground\":true,\"ticks\":\"\",\"zerolinecolor\":\"white\"},\"zaxis\":{\"backgroundcolor\":\"#E5ECF6\",\"gridcolor\":\"white\",\"gridwidth\":2,\"linecolor\":\"white\",\"showbackground\":true,\"ticks\":\"\",\"zerolinecolor\":\"white\"}},\"shapedefaults\":{\"line\":{\"color\":\"#2a3f5f\"}},\"ternary\":{\"aaxis\":{\"gridcolor\":\"white\",\"linecolor\":\"white\",\"ticks\":\"\"},\"baxis\":{\"gridcolor\":\"white\",\"linecolor\":\"white\",\"ticks\":\"\"},\"bgcolor\":\"#E5ECF6\",\"caxis\":{\"gridcolor\":\"white\",\"linecolor\":\"white\",\"ticks\":\"\"}},\"title\":{\"x\":0.05},\"xaxis\":{\"automargin\":true,\"gridcolor\":\"white\",\"linecolor\":\"white\",\"ticks\":\"\",\"title\":{\"standoff\":15},\"zerolinecolor\":\"white\",\"zerolinewidth\":2},\"yaxis\":{\"automargin\":true,\"gridcolor\":\"white\",\"linecolor\":\"white\",\"ticks\":\"\",\"title\":{\"standoff\":15},\"zerolinecolor\":\"white\",\"zerolinewidth\":2}}},\"geo\":{\"domain\":{\"x\":[0.0,1.0],\"y\":[0.0,1.0]},\"center\":{}},\"coloraxis\":{\"colorbar\":{\"title\":{\"text\":\"Victims\"}},\"colorscale\":[[0.0,\"#fde725\"],[0.1111111111111111,\"#b5de2b\"],[0.2222222222222222,\"#6ece58\"],[0.3333333333333333,\"#35b779\"],[0.4444444444444444,\"#1f9e89\"],[0.5555555555555556,\"#26828e\"],[0.6666666666666666,\"#31688e\"],[0.7777777777777778,\"#3e4989\"],[0.8888888888888888,\"#482878\"],[1.0,\"#440154\"]]},\"legend\":{\"tracegroupgap\":0},\"margin\":{\"t\":60},\"title\":{\"text\":\"Human Trafficking Victims\"}},                        {\"responsive\": true}                    ).then(function(){\n",
       "                            \n",
       "var gd = document.getElementById('0b0014ef-a80f-4fe9-8691-d8c02de7bba5');\n",
       "var x = new MutationObserver(function (mutations, observer) {{\n",
       "        var display = window.getComputedStyle(gd).display;\n",
       "        if (!display || display === 'none') {{\n",
       "            console.log([gd, 'removed!']);\n",
       "            Plotly.purge(gd);\n",
       "            observer.disconnect();\n",
       "        }}\n",
       "}});\n",
       "\n",
       "// Listen for the removal of the full notebook cells\n",
       "var notebookContainer = gd.closest('#notebook-container');\n",
       "if (notebookContainer) {{\n",
       "    x.observe(notebookContainer, {childList: true});\n",
       "}}\n",
       "\n",
       "// Listen for the clearing of the current output cell\n",
       "var outputEl = gd.closest('.output');\n",
       "if (outputEl) {{\n",
       "    x.observe(outputEl, {childList: true});\n",
       "}}\n",
       "\n",
       "                        })                };                });            </script>        </div>"
      ]
     },
     "metadata": {},
     "output_type": "display_data"
    }
   ],
   "source": [
    "fig = px.choropleth(data_map, locations=\"alpha_3\",\n",
    "                    color=\"Victims\",\n",
    "                    hover_name=\"country\",\n",
    "                    color_continuous_scale='Viridis_r')\n",
    "fig.update_layout(title_text=\"Human Trafficking Victims\")\n",
    "fig.show()"
   ]
  },
  {
   "cell_type": "code",
   "execution_count": 186,
   "metadata": {},
   "outputs": [
    {
     "data": {
      "text/html": [
       "<style type=\"text/css\">\n",
       "#T_1e8b9_row0_col0, #T_1e8b9_row0_col1, #T_1e8b9_row0_col2, #T_1e8b9_row0_col3, #T_1e8b9_row0_col4, #T_1e8b9_row0_col5, #T_1e8b9_row0_col6, #T_1e8b9_row0_col7, #T_1e8b9_row0_col8, #T_1e8b9_row0_col9, #T_1e8b9_row0_col10, #T_1e8b9_row0_col14, #T_1e8b9_row0_col15, #T_1e8b9_row0_col16, #T_1e8b9_row0_col17, #T_1e8b9_row1_col0, #T_1e8b9_row1_col1, #T_1e8b9_row1_col2, #T_1e8b9_row1_col4, #T_1e8b9_row1_col5, #T_1e8b9_row1_col6, #T_1e8b9_row1_col7, #T_1e8b9_row1_col8, #T_1e8b9_row1_col9, #T_1e8b9_row1_col10, #T_1e8b9_row1_col11, #T_1e8b9_row1_col12, #T_1e8b9_row1_col13, #T_1e8b9_row1_col14, #T_1e8b9_row1_col15, #T_1e8b9_row1_col16, #T_1e8b9_row1_col17, #T_1e8b9_row2_col0, #T_1e8b9_row2_col1, #T_1e8b9_row2_col2, #T_1e8b9_row2_col3, #T_1e8b9_row2_col4, #T_1e8b9_row2_col5, #T_1e8b9_row2_col6, #T_1e8b9_row2_col7, #T_1e8b9_row2_col8, #T_1e8b9_row2_col9, #T_1e8b9_row2_col10, #T_1e8b9_row2_col11, #T_1e8b9_row2_col12, #T_1e8b9_row2_col14, #T_1e8b9_row2_col15, #T_1e8b9_row2_col16, #T_1e8b9_row2_col17, #T_1e8b9_row3_col0, #T_1e8b9_row3_col1, #T_1e8b9_row3_col7, #T_1e8b9_row3_col17, #T_1e8b9_row4_col0, #T_1e8b9_row4_col1, #T_1e8b9_row4_col2, #T_1e8b9_row4_col3, #T_1e8b9_row4_col4, #T_1e8b9_row4_col5, #T_1e8b9_row4_col6, #T_1e8b9_row4_col7, #T_1e8b9_row4_col8, #T_1e8b9_row4_col9, #T_1e8b9_row4_col11, #T_1e8b9_row4_col12, #T_1e8b9_row4_col13, #T_1e8b9_row4_col14, #T_1e8b9_row4_col15, #T_1e8b9_row4_col16, #T_1e8b9_row4_col17, #T_1e8b9_row5_col0, #T_1e8b9_row5_col1, #T_1e8b9_row5_col2, #T_1e8b9_row5_col4, #T_1e8b9_row5_col6, #T_1e8b9_row5_col7, #T_1e8b9_row5_col8, #T_1e8b9_row5_col9, #T_1e8b9_row5_col10, #T_1e8b9_row5_col11, #T_1e8b9_row5_col12, #T_1e8b9_row5_col13, #T_1e8b9_row5_col14, #T_1e8b9_row5_col15, #T_1e8b9_row5_col16, #T_1e8b9_row5_col17, #T_1e8b9_row6_col0, #T_1e8b9_row6_col1, #T_1e8b9_row6_col2, #T_1e8b9_row6_col3, #T_1e8b9_row6_col4, #T_1e8b9_row6_col5, #T_1e8b9_row6_col6, #T_1e8b9_row6_col7, #T_1e8b9_row6_col9, #T_1e8b9_row6_col10, #T_1e8b9_row6_col11, #T_1e8b9_row6_col12, #T_1e8b9_row6_col13, #T_1e8b9_row6_col14, #T_1e8b9_row6_col15, #T_1e8b9_row6_col16, #T_1e8b9_row6_col17, #T_1e8b9_row7_col0, #T_1e8b9_row7_col1, #T_1e8b9_row7_col2, #T_1e8b9_row7_col3, #T_1e8b9_row7_col4, #T_1e8b9_row7_col5, #T_1e8b9_row7_col6, #T_1e8b9_row7_col7, #T_1e8b9_row7_col9, #T_1e8b9_row7_col10, #T_1e8b9_row7_col11, #T_1e8b9_row7_col12, #T_1e8b9_row7_col17, #T_1e8b9_row8_col0, #T_1e8b9_row8_col1, #T_1e8b9_row8_col2, #T_1e8b9_row8_col3, #T_1e8b9_row8_col4, #T_1e8b9_row8_col5, #T_1e8b9_row8_col6, #T_1e8b9_row8_col7, #T_1e8b9_row8_col8, #T_1e8b9_row8_col9, #T_1e8b9_row8_col10, #T_1e8b9_row8_col11, #T_1e8b9_row8_col12, #T_1e8b9_row8_col13, #T_1e8b9_row8_col14, #T_1e8b9_row8_col16, #T_1e8b9_row8_col17, #T_1e8b9_row9_col2, #T_1e8b9_row9_col3, #T_1e8b9_row9_col4, #T_1e8b9_row9_col5, #T_1e8b9_row9_col6, #T_1e8b9_row9_col7, #T_1e8b9_row9_col9, #T_1e8b9_row9_col10, #T_1e8b9_row9_col11, #T_1e8b9_row9_col12, #T_1e8b9_row9_col13, #T_1e8b9_row9_col14, #T_1e8b9_row9_col15, #T_1e8b9_row9_col16, #T_1e8b9_row9_col17, #T_1e8b9_row10_col0, #T_1e8b9_row10_col1, #T_1e8b9_row10_col2, #T_1e8b9_row10_col3, #T_1e8b9_row10_col4, #T_1e8b9_row10_col6, #T_1e8b9_row10_col7, #T_1e8b9_row10_col8, #T_1e8b9_row10_col9, #T_1e8b9_row10_col10, #T_1e8b9_row10_col11, #T_1e8b9_row10_col12, #T_1e8b9_row10_col13, #T_1e8b9_row10_col14, #T_1e8b9_row10_col15, #T_1e8b9_row10_col16, #T_1e8b9_row10_col17, #T_1e8b9_row11_col0, #T_1e8b9_row11_col1, #T_1e8b9_row11_col2, #T_1e8b9_row11_col3, #T_1e8b9_row11_col4, #T_1e8b9_row11_col6, #T_1e8b9_row11_col7, #T_1e8b9_row11_col8, #T_1e8b9_row11_col9, #T_1e8b9_row11_col10, #T_1e8b9_row11_col11, #T_1e8b9_row11_col12, #T_1e8b9_row11_col13, #T_1e8b9_row11_col14, #T_1e8b9_row11_col15, #T_1e8b9_row11_col16, #T_1e8b9_row11_col17, #T_1e8b9_row12_col0, #T_1e8b9_row12_col1, #T_1e8b9_row12_col2, #T_1e8b9_row12_col3, #T_1e8b9_row12_col4, #T_1e8b9_row12_col5, #T_1e8b9_row12_col6, #T_1e8b9_row12_col7, #T_1e8b9_row12_col8, #T_1e8b9_row12_col9, #T_1e8b9_row12_col10, #T_1e8b9_row12_col11, #T_1e8b9_row12_col13, #T_1e8b9_row12_col14, #T_1e8b9_row12_col15, #T_1e8b9_row12_col16, #T_1e8b9_row12_col17, #T_1e8b9_row13_col0, #T_1e8b9_row13_col1, #T_1e8b9_row13_col2, #T_1e8b9_row13_col5, #T_1e8b9_row13_col6, #T_1e8b9_row13_col7, #T_1e8b9_row13_col8, #T_1e8b9_row13_col9, #T_1e8b9_row13_col10, #T_1e8b9_row13_col11, #T_1e8b9_row13_col12, #T_1e8b9_row13_col13, #T_1e8b9_row13_col14, #T_1e8b9_row13_col15, #T_1e8b9_row13_col16, #T_1e8b9_row13_col17, #T_1e8b9_row14_col0, #T_1e8b9_row14_col1, #T_1e8b9_row14_col2, #T_1e8b9_row14_col3, #T_1e8b9_row14_col4, #T_1e8b9_row14_col5, #T_1e8b9_row14_col7, #T_1e8b9_row14_col8, #T_1e8b9_row14_col9, #T_1e8b9_row14_col10, #T_1e8b9_row14_col11, #T_1e8b9_row14_col12, #T_1e8b9_row14_col13, #T_1e8b9_row14_col14, #T_1e8b9_row14_col15, #T_1e8b9_row14_col16, #T_1e8b9_row14_col17, #T_1e8b9_row15_col0, #T_1e8b9_row15_col1, #T_1e8b9_row15_col2, #T_1e8b9_row15_col3, #T_1e8b9_row15_col4, #T_1e8b9_row15_col6, #T_1e8b9_row15_col7, #T_1e8b9_row15_col9, #T_1e8b9_row15_col10, #T_1e8b9_row15_col11, #T_1e8b9_row15_col12, #T_1e8b9_row15_col13, #T_1e8b9_row15_col14, #T_1e8b9_row15_col15, #T_1e8b9_row15_col16, #T_1e8b9_row15_col17, #T_1e8b9_row16_col0, #T_1e8b9_row16_col1, #T_1e8b9_row16_col2, #T_1e8b9_row16_col3, #T_1e8b9_row16_col4, #T_1e8b9_row16_col5, #T_1e8b9_row16_col6, #T_1e8b9_row16_col7, #T_1e8b9_row16_col8, #T_1e8b9_row16_col9, #T_1e8b9_row16_col12, #T_1e8b9_row16_col13, #T_1e8b9_row16_col14, #T_1e8b9_row16_col15, #T_1e8b9_row16_col16, #T_1e8b9_row16_col17, #T_1e8b9_row17_col0, #T_1e8b9_row17_col1, #T_1e8b9_row17_col2, #T_1e8b9_row17_col6, #T_1e8b9_row17_col7, #T_1e8b9_row17_col8, #T_1e8b9_row17_col9, #T_1e8b9_row17_col10, #T_1e8b9_row17_col11, #T_1e8b9_row17_col14, #T_1e8b9_row17_col16, #T_1e8b9_row17_col17, #T_1e8b9_row18_col0, #T_1e8b9_row18_col1, #T_1e8b9_row18_col2, #T_1e8b9_row18_col3, #T_1e8b9_row18_col4, #T_1e8b9_row18_col5, #T_1e8b9_row18_col6, #T_1e8b9_row18_col7, #T_1e8b9_row18_col10, #T_1e8b9_row18_col11, #T_1e8b9_row18_col12, #T_1e8b9_row18_col13, #T_1e8b9_row18_col14, #T_1e8b9_row18_col15, #T_1e8b9_row18_col16, #T_1e8b9_row18_col17, #T_1e8b9_row19_col0, #T_1e8b9_row19_col1, #T_1e8b9_row19_col2, #T_1e8b9_row19_col3, #T_1e8b9_row19_col4, #T_1e8b9_row19_col5, #T_1e8b9_row19_col6, #T_1e8b9_row19_col7, #T_1e8b9_row19_col8, #T_1e8b9_row19_col9, #T_1e8b9_row19_col10, #T_1e8b9_row19_col11, #T_1e8b9_row19_col12, #T_1e8b9_row19_col13, #T_1e8b9_row19_col14, #T_1e8b9_row19_col16, #T_1e8b9_row19_col17, #T_1e8b9_row20_col0, #T_1e8b9_row20_col1, #T_1e8b9_row20_col2, #T_1e8b9_row20_col3, #T_1e8b9_row20_col4, #T_1e8b9_row20_col5, #T_1e8b9_row20_col6, #T_1e8b9_row20_col7, #T_1e8b9_row20_col8, #T_1e8b9_row20_col9, #T_1e8b9_row20_col10, #T_1e8b9_row20_col11, #T_1e8b9_row20_col12, #T_1e8b9_row20_col13, #T_1e8b9_row20_col14, #T_1e8b9_row20_col15, #T_1e8b9_row20_col16, #T_1e8b9_row20_col17, #T_1e8b9_row21_col0, #T_1e8b9_row21_col1, #T_1e8b9_row21_col2, #T_1e8b9_row21_col3, #T_1e8b9_row21_col4, #T_1e8b9_row21_col5, #T_1e8b9_row21_col7, #T_1e8b9_row21_col10, #T_1e8b9_row21_col11, #T_1e8b9_row21_col14, #T_1e8b9_row21_col15, #T_1e8b9_row21_col16, #T_1e8b9_row21_col17, #T_1e8b9_row22_col0, #T_1e8b9_row22_col1, #T_1e8b9_row22_col2, #T_1e8b9_row22_col3, #T_1e8b9_row22_col4, #T_1e8b9_row22_col5, #T_1e8b9_row22_col6, #T_1e8b9_row22_col7, #T_1e8b9_row22_col9, #T_1e8b9_row22_col10, #T_1e8b9_row22_col11, #T_1e8b9_row22_col12, #T_1e8b9_row22_col13, #T_1e8b9_row22_col14, #T_1e8b9_row22_col15, #T_1e8b9_row22_col16, #T_1e8b9_row22_col17, #T_1e8b9_row23_col0, #T_1e8b9_row23_col1, #T_1e8b9_row23_col2, #T_1e8b9_row23_col3, #T_1e8b9_row23_col4, #T_1e8b9_row23_col5, #T_1e8b9_row23_col6, #T_1e8b9_row23_col7, #T_1e8b9_row23_col8, #T_1e8b9_row23_col9, #T_1e8b9_row23_col10, #T_1e8b9_row23_col11, #T_1e8b9_row23_col12, #T_1e8b9_row23_col13, #T_1e8b9_row23_col14, #T_1e8b9_row23_col15, #T_1e8b9_row23_col17, #T_1e8b9_row24_col0, #T_1e8b9_row24_col1, #T_1e8b9_row24_col2, #T_1e8b9_row24_col3, #T_1e8b9_row24_col4, #T_1e8b9_row24_col6, #T_1e8b9_row24_col7, #T_1e8b9_row24_col9, #T_1e8b9_row24_col10, #T_1e8b9_row24_col11, #T_1e8b9_row24_col12, #T_1e8b9_row24_col13, #T_1e8b9_row24_col14, #T_1e8b9_row24_col15, #T_1e8b9_row24_col16, #T_1e8b9_row24_col17, #T_1e8b9_row25_col0, #T_1e8b9_row25_col1, #T_1e8b9_row25_col2, #T_1e8b9_row25_col3, #T_1e8b9_row25_col4, #T_1e8b9_row25_col5, #T_1e8b9_row25_col6, #T_1e8b9_row25_col7, #T_1e8b9_row25_col8, #T_1e8b9_row25_col9, #T_1e8b9_row25_col10, #T_1e8b9_row25_col11, #T_1e8b9_row25_col12, #T_1e8b9_row25_col13, #T_1e8b9_row25_col14, #T_1e8b9_row25_col16, #T_1e8b9_row25_col17, #T_1e8b9_row26_col17, #T_1e8b9_row27_col0, #T_1e8b9_row27_col1, #T_1e8b9_row27_col2, #T_1e8b9_row27_col3, #T_1e8b9_row27_col4, #T_1e8b9_row27_col5, #T_1e8b9_row27_col6, #T_1e8b9_row27_col7, #T_1e8b9_row27_col8, #T_1e8b9_row27_col9, #T_1e8b9_row27_col10, #T_1e8b9_row27_col15, #T_1e8b9_row27_col17, #T_1e8b9_row28_col0, #T_1e8b9_row28_col1, #T_1e8b9_row28_col2, #T_1e8b9_row28_col3, #T_1e8b9_row28_col4, #T_1e8b9_row28_col5, #T_1e8b9_row28_col6, #T_1e8b9_row28_col7, #T_1e8b9_row28_col8, #T_1e8b9_row28_col9, #T_1e8b9_row28_col10, #T_1e8b9_row28_col11, #T_1e8b9_row28_col12, #T_1e8b9_row28_col14, #T_1e8b9_row28_col15, #T_1e8b9_row28_col16, #T_1e8b9_row28_col17, #T_1e8b9_row29_col0, #T_1e8b9_row29_col1, #T_1e8b9_row29_col2, #T_1e8b9_row29_col3, #T_1e8b9_row29_col4, #T_1e8b9_row29_col5, #T_1e8b9_row29_col6, #T_1e8b9_row29_col7, #T_1e8b9_row29_col9, #T_1e8b9_row29_col10, #T_1e8b9_row29_col11, #T_1e8b9_row29_col12, #T_1e8b9_row29_col13, #T_1e8b9_row29_col14, #T_1e8b9_row29_col15, #T_1e8b9_row29_col16, #T_1e8b9_row29_col17, #T_1e8b9_row30_col0, #T_1e8b9_row30_col1, #T_1e8b9_row30_col2, #T_1e8b9_row30_col3, #T_1e8b9_row30_col4, #T_1e8b9_row30_col5, #T_1e8b9_row30_col6, #T_1e8b9_row30_col7, #T_1e8b9_row30_col8, #T_1e8b9_row30_col9, #T_1e8b9_row30_col10, #T_1e8b9_row30_col11, #T_1e8b9_row30_col12, #T_1e8b9_row30_col14, #T_1e8b9_row30_col15, #T_1e8b9_row30_col16, #T_1e8b9_row30_col17, #T_1e8b9_row31_col0, #T_1e8b9_row31_col1, #T_1e8b9_row31_col2, #T_1e8b9_row31_col3, #T_1e8b9_row31_col4, #T_1e8b9_row31_col5, #T_1e8b9_row31_col6, #T_1e8b9_row31_col7, #T_1e8b9_row31_col8, #T_1e8b9_row31_col9, #T_1e8b9_row31_col10, #T_1e8b9_row31_col11, #T_1e8b9_row31_col12, #T_1e8b9_row31_col16, #T_1e8b9_row31_col17, #T_1e8b9_row32_col2, #T_1e8b9_row32_col7, #T_1e8b9_row32_col8, #T_1e8b9_row32_col9, #T_1e8b9_row32_col10, #T_1e8b9_row32_col11, #T_1e8b9_row32_col12, #T_1e8b9_row32_col14, #T_1e8b9_row32_col15, #T_1e8b9_row32_col16, #T_1e8b9_row32_col17, #T_1e8b9_row33_col0, #T_1e8b9_row33_col1, #T_1e8b9_row33_col2, #T_1e8b9_row33_col3, #T_1e8b9_row33_col4, #T_1e8b9_row33_col7, #T_1e8b9_row33_col9, #T_1e8b9_row33_col10, #T_1e8b9_row33_col11, #T_1e8b9_row33_col12, #T_1e8b9_row33_col13, #T_1e8b9_row33_col14, #T_1e8b9_row33_col15, #T_1e8b9_row33_col16, #T_1e8b9_row33_col17, #T_1e8b9_row34_col0, #T_1e8b9_row34_col1, #T_1e8b9_row34_col2, #T_1e8b9_row34_col3, #T_1e8b9_row34_col4, #T_1e8b9_row34_col5, #T_1e8b9_row34_col7, #T_1e8b9_row34_col8, #T_1e8b9_row34_col9, #T_1e8b9_row34_col10, #T_1e8b9_row34_col11, #T_1e8b9_row34_col12, #T_1e8b9_row34_col13, #T_1e8b9_row34_col14, #T_1e8b9_row34_col15, #T_1e8b9_row34_col17, #T_1e8b9_row35_col0, #T_1e8b9_row35_col1, #T_1e8b9_row35_col2, #T_1e8b9_row35_col3, #T_1e8b9_row35_col4, #T_1e8b9_row35_col5, #T_1e8b9_row35_col6, #T_1e8b9_row35_col7, #T_1e8b9_row35_col8, #T_1e8b9_row35_col9, #T_1e8b9_row35_col12, #T_1e8b9_row35_col13, #T_1e8b9_row35_col14, #T_1e8b9_row35_col15, #T_1e8b9_row35_col16, #T_1e8b9_row35_col17, #T_1e8b9_row36_col0, #T_1e8b9_row36_col1, #T_1e8b9_row36_col2, #T_1e8b9_row36_col4, #T_1e8b9_row36_col5, #T_1e8b9_row36_col6, #T_1e8b9_row36_col7, #T_1e8b9_row36_col8, #T_1e8b9_row36_col10, #T_1e8b9_row36_col11, #T_1e8b9_row36_col12, #T_1e8b9_row36_col13, #T_1e8b9_row36_col14, #T_1e8b9_row36_col15, #T_1e8b9_row36_col16, #T_1e8b9_row36_col17, #T_1e8b9_row37_col0, #T_1e8b9_row37_col1, #T_1e8b9_row37_col2, #T_1e8b9_row37_col3, #T_1e8b9_row37_col4, #T_1e8b9_row37_col5, #T_1e8b9_row37_col6, #T_1e8b9_row37_col7, #T_1e8b9_row37_col8, #T_1e8b9_row37_col9, #T_1e8b9_row37_col10, #T_1e8b9_row37_col11, #T_1e8b9_row37_col12, #T_1e8b9_row37_col13, #T_1e8b9_row37_col15, #T_1e8b9_row37_col16, #T_1e8b9_row37_col17, #T_1e8b9_row38_col0, #T_1e8b9_row38_col1, #T_1e8b9_row38_col2, #T_1e8b9_row38_col3, #T_1e8b9_row38_col4, #T_1e8b9_row38_col5, #T_1e8b9_row38_col6, #T_1e8b9_row38_col7, #T_1e8b9_row38_col10, #T_1e8b9_row38_col11, #T_1e8b9_row38_col12, #T_1e8b9_row38_col13, #T_1e8b9_row38_col14, #T_1e8b9_row38_col15, #T_1e8b9_row38_col16, #T_1e8b9_row38_col17, #T_1e8b9_row39_col0, #T_1e8b9_row39_col1, #T_1e8b9_row39_col2, #T_1e8b9_row39_col3, #T_1e8b9_row39_col4, #T_1e8b9_row39_col5, #T_1e8b9_row39_col6, #T_1e8b9_row39_col7, #T_1e8b9_row39_col8, #T_1e8b9_row39_col9, #T_1e8b9_row39_col10, #T_1e8b9_row39_col11, #T_1e8b9_row39_col13, #T_1e8b9_row39_col14, #T_1e8b9_row39_col15, #T_1e8b9_row39_col16, #T_1e8b9_row40_col2, #T_1e8b9_row40_col17, #T_1e8b9_row41_col0, #T_1e8b9_row41_col1, #T_1e8b9_row41_col2, #T_1e8b9_row41_col3, #T_1e8b9_row41_col4, #T_1e8b9_row41_col5, #T_1e8b9_row41_col6, #T_1e8b9_row41_col7, #T_1e8b9_row41_col8, #T_1e8b9_row41_col9, #T_1e8b9_row41_col10, #T_1e8b9_row41_col11, #T_1e8b9_row41_col12, #T_1e8b9_row41_col17, #T_1e8b9_row42_col0, #T_1e8b9_row42_col1, #T_1e8b9_row42_col2, #T_1e8b9_row42_col3, #T_1e8b9_row42_col4, #T_1e8b9_row42_col5, #T_1e8b9_row42_col6, #T_1e8b9_row42_col7, #T_1e8b9_row42_col8, #T_1e8b9_row42_col9, #T_1e8b9_row42_col10, #T_1e8b9_row42_col11, #T_1e8b9_row42_col12, #T_1e8b9_row42_col17, #T_1e8b9_row43_col0, #T_1e8b9_row43_col1, #T_1e8b9_row43_col2, #T_1e8b9_row43_col4, #T_1e8b9_row43_col5, #T_1e8b9_row43_col6, #T_1e8b9_row43_col7, #T_1e8b9_row43_col8, #T_1e8b9_row43_col10, #T_1e8b9_row43_col12, #T_1e8b9_row43_col14, #T_1e8b9_row43_col16, #T_1e8b9_row43_col17, #T_1e8b9_row44_col0, #T_1e8b9_row44_col1, #T_1e8b9_row44_col2, #T_1e8b9_row44_col3, #T_1e8b9_row44_col4, #T_1e8b9_row44_col5, #T_1e8b9_row44_col6, #T_1e8b9_row44_col7, #T_1e8b9_row44_col8, #T_1e8b9_row44_col9, #T_1e8b9_row44_col10, #T_1e8b9_row44_col11, #T_1e8b9_row44_col12, #T_1e8b9_row44_col13, #T_1e8b9_row44_col14, #T_1e8b9_row44_col17 {\n",
       "  background-color: #f0f0f3;\n",
       "  color: #000000;\n",
       "}\n",
       "#T_1e8b9_row0_col11, #T_1e8b9_row26_col16, #T_1e8b9_row32_col13 {\n",
       "  background-color: #ededf3;\n",
       "  color: #000000;\n",
       "}\n",
       "#T_1e8b9_row0_col12, #T_1e8b9_row11_col5, #T_1e8b9_row21_col12 {\n",
       "  background-color: #e3e3f3;\n",
       "  color: #000000;\n",
       "}\n",
       "#T_1e8b9_row0_col13, #T_1e8b9_row17_col15, #T_1e8b9_row26_col10 {\n",
       "  background-color: #eeeef3;\n",
       "  color: #000000;\n",
       "}\n",
       "#T_1e8b9_row1_col3 {\n",
       "  background-color: #e7e7f3;\n",
       "  color: #000000;\n",
       "}\n",
       "#T_1e8b9_row2_col13, #T_1e8b9_row3_col14, #T_1e8b9_row3_col15, #T_1e8b9_row3_col16, #T_1e8b9_row8_col15, #T_1e8b9_row12_col12, #T_1e8b9_row19_col15, #T_1e8b9_row25_col15, #T_1e8b9_row27_col14, #T_1e8b9_row27_col16, #T_1e8b9_row34_col16, #T_1e8b9_row37_col14, #T_1e8b9_row43_col13, #T_1e8b9_row43_col15, #T_1e8b9_row44_col16 {\n",
       "  background-color: #efeff3;\n",
       "  color: #000000;\n",
       "}\n",
       "#T_1e8b9_row3_col2 {\n",
       "  background-color: #a4a4f7;\n",
       "  color: #000000;\n",
       "}\n",
       "#T_1e8b9_row3_col3 {\n",
       "  background-color: #7676f9;\n",
       "  color: #f1f1f1;\n",
       "}\n",
       "#T_1e8b9_row3_col4 {\n",
       "  background-color: #6161fa;\n",
       "  color: #f1f1f1;\n",
       "}\n",
       "#T_1e8b9_row3_col5, #T_1e8b9_row4_col10, #T_1e8b9_row17_col3, #T_1e8b9_row36_col3, #T_1e8b9_row38_col9 {\n",
       "  background-color: #ececf3;\n",
       "  color: #000000;\n",
       "}\n",
       "#T_1e8b9_row3_col6, #T_1e8b9_row7_col14, #T_1e8b9_row21_col6, #T_1e8b9_row23_col16, #T_1e8b9_row28_col13, #T_1e8b9_row31_col15, #T_1e8b9_row33_col5 {\n",
       "  background-color: #ebebf3;\n",
       "  color: #000000;\n",
       "}\n",
       "#T_1e8b9_row3_col8, #T_1e8b9_row9_col8, #T_1e8b9_row14_col6, #T_1e8b9_row18_col8, #T_1e8b9_row24_col5, #T_1e8b9_row26_col8 {\n",
       "  background-color: #e9e9f3;\n",
       "  color: #000000;\n",
       "}\n",
       "#T_1e8b9_row3_col9, #T_1e8b9_row9_col1, #T_1e8b9_row42_col14 {\n",
       "  background-color: #c7c7f5;\n",
       "  color: #000000;\n",
       "}\n",
       "#T_1e8b9_row3_col10 {\n",
       "  background-color: #c4c4f5;\n",
       "  color: #000000;\n",
       "}\n",
       "#T_1e8b9_row3_col11 {\n",
       "  background-color: #7f7ff9;\n",
       "  color: #f1f1f1;\n",
       "}\n",
       "#T_1e8b9_row3_col12, #T_1e8b9_row27_col11 {\n",
       "  background-color: #e6e6f3;\n",
       "  color: #000000;\n",
       "}\n",
       "#T_1e8b9_row3_col13 {\n",
       "  background-color: #d8d8f4;\n",
       "  color: #000000;\n",
       "}\n",
       "#T_1e8b9_row5_col3 {\n",
       "  background-color: #bbbbf5;\n",
       "  color: #000000;\n",
       "}\n",
       "#T_1e8b9_row5_col5, #T_1e8b9_row40_col13 {\n",
       "  background-color: #8c8cf8;\n",
       "  color: #f1f1f1;\n",
       "}\n",
       "#T_1e8b9_row6_col8, #T_1e8b9_row18_col9 {\n",
       "  background-color: #dedef4;\n",
       "  color: #000000;\n",
       "}\n",
       "#T_1e8b9_row7_col8 {\n",
       "  background-color: #d1d1f4;\n",
       "  color: #000000;\n",
       "}\n",
       "#T_1e8b9_row7_col13 {\n",
       "  background-color: #d5d5f4;\n",
       "  color: #000000;\n",
       "}\n",
       "#T_1e8b9_row7_col15, #T_1e8b9_row40_col3 {\n",
       "  background-color: #b9b9f6;\n",
       "  color: #000000;\n",
       "}\n",
       "#T_1e8b9_row7_col16 {\n",
       "  background-color: #b4b4f6;\n",
       "  color: #000000;\n",
       "}\n",
       "#T_1e8b9_row9_col0 {\n",
       "  background-color: #d3d3f4;\n",
       "  color: #000000;\n",
       "}\n",
       "#T_1e8b9_row10_col5 {\n",
       "  background-color: #dadaf4;\n",
       "  color: #000000;\n",
       "}\n",
       "#T_1e8b9_row13_col3, #T_1e8b9_row17_col4, #T_1e8b9_row17_col12, #T_1e8b9_row26_col0, #T_1e8b9_row26_col1, #T_1e8b9_row26_col2, #T_1e8b9_row26_col9, #T_1e8b9_row27_col13, #T_1e8b9_row31_col14, #T_1e8b9_row39_col17, #T_1e8b9_row40_col5, #T_1e8b9_row40_col6, #T_1e8b9_row40_col7, #T_1e8b9_row40_col8, #T_1e8b9_row40_col10, #T_1e8b9_row40_col11, #T_1e8b9_row42_col15, #T_1e8b9_row42_col16 {\n",
       "  background-color: #0000ff;\n",
       "  color: #f1f1f1;\n",
       "}\n",
       "#T_1e8b9_row13_col4, #T_1e8b9_row29_col8 {\n",
       "  background-color: #dedff4;\n",
       "  color: #000000;\n",
       "}\n",
       "#T_1e8b9_row15_col5 {\n",
       "  background-color: #cbcbf5;\n",
       "  color: #000000;\n",
       "}\n",
       "#T_1e8b9_row15_col8, #T_1e8b9_row34_col6, #T_1e8b9_row43_col3 {\n",
       "  background-color: #cdcdf5;\n",
       "  color: #000000;\n",
       "}\n",
       "#T_1e8b9_row16_col10, #T_1e8b9_row21_col9 {\n",
       "  background-color: #a1a1f7;\n",
       "  color: #f1f1f1;\n",
       "}\n",
       "#T_1e8b9_row16_col11, #T_1e8b9_row35_col11 {\n",
       "  background-color: #ddddf4;\n",
       "  color: #000000;\n",
       "}\n",
       "#T_1e8b9_row17_col5 {\n",
       "  background-color: #c2c2f5;\n",
       "  color: #000000;\n",
       "}\n",
       "#T_1e8b9_row17_col13, #T_1e8b9_row40_col16, #T_1e8b9_row41_col14 {\n",
       "  background-color: #d6d6f4;\n",
       "  color: #000000;\n",
       "}\n",
       "#T_1e8b9_row21_col8 {\n",
       "  background-color: #b5b5f6;\n",
       "  color: #000000;\n",
       "}\n",
       "#T_1e8b9_row21_col13, #T_1e8b9_row32_col5 {\n",
       "  background-color: #e0e0f4;\n",
       "  color: #000000;\n",
       "}\n",
       "#T_1e8b9_row22_col8 {\n",
       "  background-color: #a5a5f7;\n",
       "  color: #000000;\n",
       "}\n",
       "#T_1e8b9_row24_col8, #T_1e8b9_row36_col9 {\n",
       "  background-color: #e1e1f4;\n",
       "  color: #000000;\n",
       "}\n",
       "#T_1e8b9_row26_col3 {\n",
       "  background-color: #9595f7;\n",
       "  color: #f1f1f1;\n",
       "}\n",
       "#T_1e8b9_row26_col4 {\n",
       "  background-color: #3f3ffc;\n",
       "  color: #f1f1f1;\n",
       "}\n",
       "#T_1e8b9_row26_col5 {\n",
       "  background-color: #6f6ff9;\n",
       "  color: #f1f1f1;\n",
       "}\n",
       "#T_1e8b9_row26_col6 {\n",
       "  background-color: #6b6bfa;\n",
       "  color: #f1f1f1;\n",
       "}\n",
       "#T_1e8b9_row26_col7 {\n",
       "  background-color: #1212fe;\n",
       "  color: #f1f1f1;\n",
       "}\n",
       "#T_1e8b9_row26_col11 {\n",
       "  background-color: #0303ff;\n",
       "  color: #f1f1f1;\n",
       "}\n",
       "#T_1e8b9_row26_col12 {\n",
       "  background-color: #8888f8;\n",
       "  color: #f1f1f1;\n",
       "}\n",
       "#T_1e8b9_row26_col13 {\n",
       "  background-color: #3a3afc;\n",
       "  color: #f1f1f1;\n",
       "}\n",
       "#T_1e8b9_row26_col14, #T_1e8b9_row39_col12 {\n",
       "  background-color: #e4e4f3;\n",
       "  color: #000000;\n",
       "}\n",
       "#T_1e8b9_row26_col15 {\n",
       "  background-color: #c8c8f5;\n",
       "  color: #000000;\n",
       "}\n",
       "#T_1e8b9_row27_col12, #T_1e8b9_row30_col13, #T_1e8b9_row33_col8 {\n",
       "  background-color: #d7d7f4;\n",
       "  color: #000000;\n",
       "}\n",
       "#T_1e8b9_row31_col13, #T_1e8b9_row32_col6, #T_1e8b9_row33_col6 {\n",
       "  background-color: #eaeaf3;\n",
       "  color: #000000;\n",
       "}\n",
       "#T_1e8b9_row32_col0 {\n",
       "  background-color: #8787f8;\n",
       "  color: #f1f1f1;\n",
       "}\n",
       "#T_1e8b9_row32_col1 {\n",
       "  background-color: #8a8af8;\n",
       "  color: #f1f1f1;\n",
       "}\n",
       "#T_1e8b9_row32_col3 {\n",
       "  background-color: #b6b6f6;\n",
       "  color: #000000;\n",
       "}\n",
       "#T_1e8b9_row32_col4 {\n",
       "  background-color: #adadf6;\n",
       "  color: #000000;\n",
       "}\n",
       "#T_1e8b9_row35_col10, #T_1e8b9_row38_col8 {\n",
       "  background-color: #e8e8f3;\n",
       "  color: #000000;\n",
       "}\n",
       "#T_1e8b9_row40_col0 {\n",
       "  background-color: #ccccf5;\n",
       "  color: #000000;\n",
       "}\n",
       "#T_1e8b9_row40_col1, #T_1e8b9_row43_col9 {\n",
       "  background-color: #e2e2f3;\n",
       "  color: #000000;\n",
       "}\n",
       "#T_1e8b9_row40_col4 {\n",
       "  background-color: #0b0bfe;\n",
       "  color: #f1f1f1;\n",
       "}\n",
       "#T_1e8b9_row40_col9 {\n",
       "  background-color: #1414fe;\n",
       "  color: #f1f1f1;\n",
       "}\n",
       "#T_1e8b9_row40_col12 {\n",
       "  background-color: #6767fa;\n",
       "  color: #f1f1f1;\n",
       "}\n",
       "#T_1e8b9_row40_col14 {\n",
       "  background-color: #dfdff4;\n",
       "  color: #000000;\n",
       "}\n",
       "#T_1e8b9_row40_col15 {\n",
       "  background-color: #8b8bf8;\n",
       "  color: #f1f1f1;\n",
       "}\n",
       "#T_1e8b9_row41_col13 {\n",
       "  background-color: #5a5afa;\n",
       "  color: #f1f1f1;\n",
       "}\n",
       "#T_1e8b9_row41_col15 {\n",
       "  background-color: #9292f8;\n",
       "  color: #f1f1f1;\n",
       "}\n",
       "#T_1e8b9_row41_col16 {\n",
       "  background-color: #c3c3f5;\n",
       "  color: #000000;\n",
       "}\n",
       "#T_1e8b9_row42_col13 {\n",
       "  background-color: #2b2bfd;\n",
       "  color: #f1f1f1;\n",
       "}\n",
       "#T_1e8b9_row43_col11 {\n",
       "  background-color: #c5c5f5;\n",
       "  color: #000000;\n",
       "}\n",
       "#T_1e8b9_row44_col15 {\n",
       "  background-color: #e5e5f3;\n",
       "  color: #000000;\n",
       "}\n",
       "</style>\n",
       "<table id=\"T_1e8b9\">\n",
       "  <thead>\n",
       "    <tr>\n",
       "      <th class=\"index_name level0\" >yearOfRegistration</th>\n",
       "      <th id=\"T_1e8b9_level0_col0\" class=\"col_heading level0 col0\" >2002</th>\n",
       "      <th id=\"T_1e8b9_level0_col1\" class=\"col_heading level0 col1\" >2003</th>\n",
       "      <th id=\"T_1e8b9_level0_col2\" class=\"col_heading level0 col2\" >2004</th>\n",
       "      <th id=\"T_1e8b9_level0_col3\" class=\"col_heading level0 col3\" >2005</th>\n",
       "      <th id=\"T_1e8b9_level0_col4\" class=\"col_heading level0 col4\" >2006</th>\n",
       "      <th id=\"T_1e8b9_level0_col5\" class=\"col_heading level0 col5\" >2007</th>\n",
       "      <th id=\"T_1e8b9_level0_col6\" class=\"col_heading level0 col6\" >2008</th>\n",
       "      <th id=\"T_1e8b9_level0_col7\" class=\"col_heading level0 col7\" >2009</th>\n",
       "      <th id=\"T_1e8b9_level0_col8\" class=\"col_heading level0 col8\" >2010</th>\n",
       "      <th id=\"T_1e8b9_level0_col9\" class=\"col_heading level0 col9\" >2011</th>\n",
       "      <th id=\"T_1e8b9_level0_col10\" class=\"col_heading level0 col10\" >2012</th>\n",
       "      <th id=\"T_1e8b9_level0_col11\" class=\"col_heading level0 col11\" >2013</th>\n",
       "      <th id=\"T_1e8b9_level0_col12\" class=\"col_heading level0 col12\" >2014</th>\n",
       "      <th id=\"T_1e8b9_level0_col13\" class=\"col_heading level0 col13\" >2015</th>\n",
       "      <th id=\"T_1e8b9_level0_col14\" class=\"col_heading level0 col14\" >2016</th>\n",
       "      <th id=\"T_1e8b9_level0_col15\" class=\"col_heading level0 col15\" >2017</th>\n",
       "      <th id=\"T_1e8b9_level0_col16\" class=\"col_heading level0 col16\" >2018</th>\n",
       "      <th id=\"T_1e8b9_level0_col17\" class=\"col_heading level0 col17\" >2019</th>\n",
       "    </tr>\n",
       "    <tr>\n",
       "      <th class=\"index_name level0\" >country</th>\n",
       "      <th class=\"blank col0\" >&nbsp;</th>\n",
       "      <th class=\"blank col1\" >&nbsp;</th>\n",
       "      <th class=\"blank col2\" >&nbsp;</th>\n",
       "      <th class=\"blank col3\" >&nbsp;</th>\n",
       "      <th class=\"blank col4\" >&nbsp;</th>\n",
       "      <th class=\"blank col5\" >&nbsp;</th>\n",
       "      <th class=\"blank col6\" >&nbsp;</th>\n",
       "      <th class=\"blank col7\" >&nbsp;</th>\n",
       "      <th class=\"blank col8\" >&nbsp;</th>\n",
       "      <th class=\"blank col9\" >&nbsp;</th>\n",
       "      <th class=\"blank col10\" >&nbsp;</th>\n",
       "      <th class=\"blank col11\" >&nbsp;</th>\n",
       "      <th class=\"blank col12\" >&nbsp;</th>\n",
       "      <th class=\"blank col13\" >&nbsp;</th>\n",
       "      <th class=\"blank col14\" >&nbsp;</th>\n",
       "      <th class=\"blank col15\" >&nbsp;</th>\n",
       "      <th class=\"blank col16\" >&nbsp;</th>\n",
       "      <th class=\"blank col17\" >&nbsp;</th>\n",
       "    </tr>\n",
       "  </thead>\n",
       "  <tbody>\n",
       "    <tr>\n",
       "      <th id=\"T_1e8b9_level0_row0\" class=\"row_heading level0 row0\" >Afghanistan</th>\n",
       "      <td id=\"T_1e8b9_row0_col0\" class=\"data row0 col0\" >0</td>\n",
       "      <td id=\"T_1e8b9_row0_col1\" class=\"data row0 col1\" >0</td>\n",
       "      <td id=\"T_1e8b9_row0_col2\" class=\"data row0 col2\" >0</td>\n",
       "      <td id=\"T_1e8b9_row0_col3\" class=\"data row0 col3\" >0</td>\n",
       "      <td id=\"T_1e8b9_row0_col4\" class=\"data row0 col4\" >0</td>\n",
       "      <td id=\"T_1e8b9_row0_col5\" class=\"data row0 col5\" >0</td>\n",
       "      <td id=\"T_1e8b9_row0_col6\" class=\"data row0 col6\" >0</td>\n",
       "      <td id=\"T_1e8b9_row0_col7\" class=\"data row0 col7\" >0</td>\n",
       "      <td id=\"T_1e8b9_row0_col8\" class=\"data row0 col8\" >0</td>\n",
       "      <td id=\"T_1e8b9_row0_col9\" class=\"data row0 col9\" >0</td>\n",
       "      <td id=\"T_1e8b9_row0_col10\" class=\"data row0 col10\" >0</td>\n",
       "      <td id=\"T_1e8b9_row0_col11\" class=\"data row0 col11\" >12</td>\n",
       "      <td id=\"T_1e8b9_row0_col12\" class=\"data row0 col12\" >71</td>\n",
       "      <td id=\"T_1e8b9_row0_col13\" class=\"data row0 col13\" >14</td>\n",
       "      <td id=\"T_1e8b9_row0_col14\" class=\"data row0 col14\" >0</td>\n",
       "      <td id=\"T_1e8b9_row0_col15\" class=\"data row0 col15\" >0</td>\n",
       "      <td id=\"T_1e8b9_row0_col16\" class=\"data row0 col16\" >0</td>\n",
       "      <td id=\"T_1e8b9_row0_col17\" class=\"data row0 col17\" >0</td>\n",
       "    </tr>\n",
       "    <tr>\n",
       "      <th id=\"T_1e8b9_level0_row1\" class=\"row_heading level0 row1\" >Albania</th>\n",
       "      <td id=\"T_1e8b9_row1_col0\" class=\"data row1 col0\" >0</td>\n",
       "      <td id=\"T_1e8b9_row1_col1\" class=\"data row1 col1\" >0</td>\n",
       "      <td id=\"T_1e8b9_row1_col2\" class=\"data row1 col2\" >0</td>\n",
       "      <td id=\"T_1e8b9_row1_col3\" class=\"data row1 col3\" >22</td>\n",
       "      <td id=\"T_1e8b9_row1_col4\" class=\"data row1 col4\" >0</td>\n",
       "      <td id=\"T_1e8b9_row1_col5\" class=\"data row1 col5\" >0</td>\n",
       "      <td id=\"T_1e8b9_row1_col6\" class=\"data row1 col6\" >0</td>\n",
       "      <td id=\"T_1e8b9_row1_col7\" class=\"data row1 col7\" >0</td>\n",
       "      <td id=\"T_1e8b9_row1_col8\" class=\"data row1 col8\" >0</td>\n",
       "      <td id=\"T_1e8b9_row1_col9\" class=\"data row1 col9\" >0</td>\n",
       "      <td id=\"T_1e8b9_row1_col10\" class=\"data row1 col10\" >0</td>\n",
       "      <td id=\"T_1e8b9_row1_col11\" class=\"data row1 col11\" >0</td>\n",
       "      <td id=\"T_1e8b9_row1_col12\" class=\"data row1 col12\" >0</td>\n",
       "      <td id=\"T_1e8b9_row1_col13\" class=\"data row1 col13\" >0</td>\n",
       "      <td id=\"T_1e8b9_row1_col14\" class=\"data row1 col14\" >0</td>\n",
       "      <td id=\"T_1e8b9_row1_col15\" class=\"data row1 col15\" >0</td>\n",
       "      <td id=\"T_1e8b9_row1_col16\" class=\"data row1 col16\" >0</td>\n",
       "      <td id=\"T_1e8b9_row1_col17\" class=\"data row1 col17\" >0</td>\n",
       "    </tr>\n",
       "    <tr>\n",
       "      <th id=\"T_1e8b9_level0_row2\" class=\"row_heading level0 row2\" >Bangladesh</th>\n",
       "      <td id=\"T_1e8b9_row2_col0\" class=\"data row2 col0\" >0</td>\n",
       "      <td id=\"T_1e8b9_row2_col1\" class=\"data row2 col1\" >0</td>\n",
       "      <td id=\"T_1e8b9_row2_col2\" class=\"data row2 col2\" >0</td>\n",
       "      <td id=\"T_1e8b9_row2_col3\" class=\"data row2 col3\" >0</td>\n",
       "      <td id=\"T_1e8b9_row2_col4\" class=\"data row2 col4\" >0</td>\n",
       "      <td id=\"T_1e8b9_row2_col5\" class=\"data row2 col5\" >0</td>\n",
       "      <td id=\"T_1e8b9_row2_col6\" class=\"data row2 col6\" >0</td>\n",
       "      <td id=\"T_1e8b9_row2_col7\" class=\"data row2 col7\" >0</td>\n",
       "      <td id=\"T_1e8b9_row2_col8\" class=\"data row2 col8\" >0</td>\n",
       "      <td id=\"T_1e8b9_row2_col9\" class=\"data row2 col9\" >0</td>\n",
       "      <td id=\"T_1e8b9_row2_col10\" class=\"data row2 col10\" >0</td>\n",
       "      <td id=\"T_1e8b9_row2_col11\" class=\"data row2 col11\" >0</td>\n",
       "      <td id=\"T_1e8b9_row2_col12\" class=\"data row2 col12\" >0</td>\n",
       "      <td id=\"T_1e8b9_row2_col13\" class=\"data row2 col13\" >11</td>\n",
       "      <td id=\"T_1e8b9_row2_col14\" class=\"data row2 col14\" >0</td>\n",
       "      <td id=\"T_1e8b9_row2_col15\" class=\"data row2 col15\" >0</td>\n",
       "      <td id=\"T_1e8b9_row2_col16\" class=\"data row2 col16\" >0</td>\n",
       "      <td id=\"T_1e8b9_row2_col17\" class=\"data row2 col17\" >0</td>\n",
       "    </tr>\n",
       "    <tr>\n",
       "      <th id=\"T_1e8b9_level0_row3\" class=\"row_heading level0 row3\" >Belarus</th>\n",
       "      <td id=\"T_1e8b9_row3_col0\" class=\"data row3 col0\" >0</td>\n",
       "      <td id=\"T_1e8b9_row3_col1\" class=\"data row3 col1\" >0</td>\n",
       "      <td id=\"T_1e8b9_row3_col2\" class=\"data row3 col2\" >54</td>\n",
       "      <td id=\"T_1e8b9_row3_col3\" class=\"data row3 col3\" >263</td>\n",
       "      <td id=\"T_1e8b9_row3_col4\" class=\"data row3 col4\" >233</td>\n",
       "      <td id=\"T_1e8b9_row3_col5\" class=\"data row3 col5\" >11</td>\n",
       "      <td id=\"T_1e8b9_row3_col6\" class=\"data row3 col6\" >11</td>\n",
       "      <td id=\"T_1e8b9_row3_col7\" class=\"data row3 col7\" >0</td>\n",
       "      <td id=\"T_1e8b9_row3_col8\" class=\"data row3 col8\" >14</td>\n",
       "      <td id=\"T_1e8b9_row3_col9\" class=\"data row3 col9\" >88</td>\n",
       "      <td id=\"T_1e8b9_row3_col10\" class=\"data row3 col10\" >161</td>\n",
       "      <td id=\"T_1e8b9_row3_col11\" class=\"data row3 col11\" >301</td>\n",
       "      <td id=\"T_1e8b9_row3_col12\" class=\"data row3 col12\" >58</td>\n",
       "      <td id=\"T_1e8b9_row3_col13\" class=\"data row3 col13\" >106</td>\n",
       "      <td id=\"T_1e8b9_row3_col14\" class=\"data row3 col14\" >114</td>\n",
       "      <td id=\"T_1e8b9_row3_col15\" class=\"data row3 col15\" >30</td>\n",
       "      <td id=\"T_1e8b9_row3_col16\" class=\"data row3 col16\" >19</td>\n",
       "      <td id=\"T_1e8b9_row3_col17\" class=\"data row3 col17\" >0</td>\n",
       "    </tr>\n",
       "    <tr>\n",
       "      <th id=\"T_1e8b9_level0_row4\" class=\"row_heading level0 row4\" >Bolivia, Plurinational State of</th>\n",
       "      <td id=\"T_1e8b9_row4_col0\" class=\"data row4 col0\" >0</td>\n",
       "      <td id=\"T_1e8b9_row4_col1\" class=\"data row4 col1\" >0</td>\n",
       "      <td id=\"T_1e8b9_row4_col2\" class=\"data row4 col2\" >0</td>\n",
       "      <td id=\"T_1e8b9_row4_col3\" class=\"data row4 col3\" >0</td>\n",
       "      <td id=\"T_1e8b9_row4_col4\" class=\"data row4 col4\" >0</td>\n",
       "      <td id=\"T_1e8b9_row4_col5\" class=\"data row4 col5\" >0</td>\n",
       "      <td id=\"T_1e8b9_row4_col6\" class=\"data row4 col6\" >0</td>\n",
       "      <td id=\"T_1e8b9_row4_col7\" class=\"data row4 col7\" >0</td>\n",
       "      <td id=\"T_1e8b9_row4_col8\" class=\"data row4 col8\" >0</td>\n",
       "      <td id=\"T_1e8b9_row4_col9\" class=\"data row4 col9\" >0</td>\n",
       "      <td id=\"T_1e8b9_row4_col10\" class=\"data row4 col10\" >18</td>\n",
       "      <td id=\"T_1e8b9_row4_col11\" class=\"data row4 col11\" >0</td>\n",
       "      <td id=\"T_1e8b9_row4_col12\" class=\"data row4 col12\" >0</td>\n",
       "      <td id=\"T_1e8b9_row4_col13\" class=\"data row4 col13\" >0</td>\n",
       "      <td id=\"T_1e8b9_row4_col14\" class=\"data row4 col14\" >0</td>\n",
       "      <td id=\"T_1e8b9_row4_col15\" class=\"data row4 col15\" >0</td>\n",
       "      <td id=\"T_1e8b9_row4_col16\" class=\"data row4 col16\" >0</td>\n",
       "      <td id=\"T_1e8b9_row4_col17\" class=\"data row4 col17\" >0</td>\n",
       "    </tr>\n",
       "    <tr>\n",
       "      <th id=\"T_1e8b9_level0_row5\" class=\"row_heading level0 row5\" >Bulgaria</th>\n",
       "      <td id=\"T_1e8b9_row5_col0\" class=\"data row5 col0\" >0</td>\n",
       "      <td id=\"T_1e8b9_row5_col1\" class=\"data row5 col1\" >0</td>\n",
       "      <td id=\"T_1e8b9_row5_col2\" class=\"data row5 col2\" >0</td>\n",
       "      <td id=\"T_1e8b9_row5_col3\" class=\"data row5 col3\" >116</td>\n",
       "      <td id=\"T_1e8b9_row5_col4\" class=\"data row5 col4\" >0</td>\n",
       "      <td id=\"T_1e8b9_row5_col5\" class=\"data row5 col5\" >226</td>\n",
       "      <td id=\"T_1e8b9_row5_col6\" class=\"data row5 col6\" >0</td>\n",
       "      <td id=\"T_1e8b9_row5_col7\" class=\"data row5 col7\" >0</td>\n",
       "      <td id=\"T_1e8b9_row5_col8\" class=\"data row5 col8\" >0</td>\n",
       "      <td id=\"T_1e8b9_row5_col9\" class=\"data row5 col9\" >0</td>\n",
       "      <td id=\"T_1e8b9_row5_col10\" class=\"data row5 col10\" >0</td>\n",
       "      <td id=\"T_1e8b9_row5_col11\" class=\"data row5 col11\" >0</td>\n",
       "      <td id=\"T_1e8b9_row5_col12\" class=\"data row5 col12\" >0</td>\n",
       "      <td id=\"T_1e8b9_row5_col13\" class=\"data row5 col13\" >0</td>\n",
       "      <td id=\"T_1e8b9_row5_col14\" class=\"data row5 col14\" >0</td>\n",
       "      <td id=\"T_1e8b9_row5_col15\" class=\"data row5 col15\" >0</td>\n",
       "      <td id=\"T_1e8b9_row5_col16\" class=\"data row5 col16\" >0</td>\n",
       "      <td id=\"T_1e8b9_row5_col17\" class=\"data row5 col17\" >0</td>\n",
       "    </tr>\n",
       "    <tr>\n",
       "      <th id=\"T_1e8b9_level0_row6\" class=\"row_heading level0 row6\" >Burkina Faso</th>\n",
       "      <td id=\"T_1e8b9_row6_col0\" class=\"data row6 col0\" >0</td>\n",
       "      <td id=\"T_1e8b9_row6_col1\" class=\"data row6 col1\" >0</td>\n",
       "      <td id=\"T_1e8b9_row6_col2\" class=\"data row6 col2\" >0</td>\n",
       "      <td id=\"T_1e8b9_row6_col3\" class=\"data row6 col3\" >0</td>\n",
       "      <td id=\"T_1e8b9_row6_col4\" class=\"data row6 col4\" >0</td>\n",
       "      <td id=\"T_1e8b9_row6_col5\" class=\"data row6 col5\" >0</td>\n",
       "      <td id=\"T_1e8b9_row6_col6\" class=\"data row6 col6\" >0</td>\n",
       "      <td id=\"T_1e8b9_row6_col7\" class=\"data row6 col7\" >0</td>\n",
       "      <td id=\"T_1e8b9_row6_col8\" class=\"data row6 col8\" >33</td>\n",
       "      <td id=\"T_1e8b9_row6_col9\" class=\"data row6 col9\" >0</td>\n",
       "      <td id=\"T_1e8b9_row6_col10\" class=\"data row6 col10\" >0</td>\n",
       "      <td id=\"T_1e8b9_row6_col11\" class=\"data row6 col11\" >0</td>\n",
       "      <td id=\"T_1e8b9_row6_col12\" class=\"data row6 col12\" >0</td>\n",
       "      <td id=\"T_1e8b9_row6_col13\" class=\"data row6 col13\" >0</td>\n",
       "      <td id=\"T_1e8b9_row6_col14\" class=\"data row6 col14\" >0</td>\n",
       "      <td id=\"T_1e8b9_row6_col15\" class=\"data row6 col15\" >0</td>\n",
       "      <td id=\"T_1e8b9_row6_col16\" class=\"data row6 col16\" >0</td>\n",
       "      <td id=\"T_1e8b9_row6_col17\" class=\"data row6 col17\" >0</td>\n",
       "    </tr>\n",
       "    <tr>\n",
       "      <th id=\"T_1e8b9_level0_row7\" class=\"row_heading level0 row7\" >Cambodia</th>\n",
       "      <td id=\"T_1e8b9_row7_col0\" class=\"data row7 col0\" >0</td>\n",
       "      <td id=\"T_1e8b9_row7_col1\" class=\"data row7 col1\" >0</td>\n",
       "      <td id=\"T_1e8b9_row7_col2\" class=\"data row7 col2\" >0</td>\n",
       "      <td id=\"T_1e8b9_row7_col3\" class=\"data row7 col3\" >0</td>\n",
       "      <td id=\"T_1e8b9_row7_col4\" class=\"data row7 col4\" >0</td>\n",
       "      <td id=\"T_1e8b9_row7_col5\" class=\"data row7 col5\" >0</td>\n",
       "      <td id=\"T_1e8b9_row7_col6\" class=\"data row7 col6\" >0</td>\n",
       "      <td id=\"T_1e8b9_row7_col7\" class=\"data row7 col7\" >0</td>\n",
       "      <td id=\"T_1e8b9_row7_col8\" class=\"data row7 col8\" >52</td>\n",
       "      <td id=\"T_1e8b9_row7_col9\" class=\"data row7 col9\" >0</td>\n",
       "      <td id=\"T_1e8b9_row7_col10\" class=\"data row7 col10\" >0</td>\n",
       "      <td id=\"T_1e8b9_row7_col11\" class=\"data row7 col11\" >0</td>\n",
       "      <td id=\"T_1e8b9_row7_col12\" class=\"data row7 col12\" >0</td>\n",
       "      <td id=\"T_1e8b9_row7_col13\" class=\"data row7 col13\" >116</td>\n",
       "      <td id=\"T_1e8b9_row7_col14\" class=\"data row7 col14\" >267</td>\n",
       "      <td id=\"T_1e8b9_row7_col15\" class=\"data row7 col15\" >647</td>\n",
       "      <td id=\"T_1e8b9_row7_col16\" class=\"data row7 col16\" >897</td>\n",
       "      <td id=\"T_1e8b9_row7_col17\" class=\"data row7 col17\" >0</td>\n",
       "    </tr>\n",
       "    <tr>\n",
       "      <th id=\"T_1e8b9_level0_row8\" class=\"row_heading level0 row8\" >China</th>\n",
       "      <td id=\"T_1e8b9_row8_col0\" class=\"data row8 col0\" >0</td>\n",
       "      <td id=\"T_1e8b9_row8_col1\" class=\"data row8 col1\" >0</td>\n",
       "      <td id=\"T_1e8b9_row8_col2\" class=\"data row8 col2\" >0</td>\n",
       "      <td id=\"T_1e8b9_row8_col3\" class=\"data row8 col3\" >0</td>\n",
       "      <td id=\"T_1e8b9_row8_col4\" class=\"data row8 col4\" >0</td>\n",
       "      <td id=\"T_1e8b9_row8_col5\" class=\"data row8 col5\" >0</td>\n",
       "      <td id=\"T_1e8b9_row8_col6\" class=\"data row8 col6\" >0</td>\n",
       "      <td id=\"T_1e8b9_row8_col7\" class=\"data row8 col7\" >0</td>\n",
       "      <td id=\"T_1e8b9_row8_col8\" class=\"data row8 col8\" >0</td>\n",
       "      <td id=\"T_1e8b9_row8_col9\" class=\"data row8 col9\" >0</td>\n",
       "      <td id=\"T_1e8b9_row8_col10\" class=\"data row8 col10\" >0</td>\n",
       "      <td id=\"T_1e8b9_row8_col11\" class=\"data row8 col11\" >0</td>\n",
       "      <td id=\"T_1e8b9_row8_col12\" class=\"data row8 col12\" >0</td>\n",
       "      <td id=\"T_1e8b9_row8_col13\" class=\"data row8 col13\" >0</td>\n",
       "      <td id=\"T_1e8b9_row8_col14\" class=\"data row8 col14\" >0</td>\n",
       "      <td id=\"T_1e8b9_row8_col15\" class=\"data row8 col15\" >11</td>\n",
       "      <td id=\"T_1e8b9_row8_col16\" class=\"data row8 col16\" >12</td>\n",
       "      <td id=\"T_1e8b9_row8_col17\" class=\"data row8 col17\" >0</td>\n",
       "    </tr>\n",
       "    <tr>\n",
       "      <th id=\"T_1e8b9_level0_row9\" class=\"row_heading level0 row9\" >Colombia</th>\n",
       "      <td id=\"T_1e8b9_row9_col0\" class=\"data row9 col0\" >74</td>\n",
       "      <td id=\"T_1e8b9_row9_col1\" class=\"data row9 col1\" >37</td>\n",
       "      <td id=\"T_1e8b9_row9_col2\" class=\"data row9 col2\" >0</td>\n",
       "      <td id=\"T_1e8b9_row9_col3\" class=\"data row9 col3\" >0</td>\n",
       "      <td id=\"T_1e8b9_row9_col4\" class=\"data row9 col4\" >0</td>\n",
       "      <td id=\"T_1e8b9_row9_col5\" class=\"data row9 col5\" >0</td>\n",
       "      <td id=\"T_1e8b9_row9_col6\" class=\"data row9 col6\" >0</td>\n",
       "      <td id=\"T_1e8b9_row9_col7\" class=\"data row9 col7\" >0</td>\n",
       "      <td id=\"T_1e8b9_row9_col8\" class=\"data row9 col8\" >13</td>\n",
       "      <td id=\"T_1e8b9_row9_col9\" class=\"data row9 col9\" >0</td>\n",
       "      <td id=\"T_1e8b9_row9_col10\" class=\"data row9 col10\" >0</td>\n",
       "      <td id=\"T_1e8b9_row9_col11\" class=\"data row9 col11\" >0</td>\n",
       "      <td id=\"T_1e8b9_row9_col12\" class=\"data row9 col12\" >0</td>\n",
       "      <td id=\"T_1e8b9_row9_col13\" class=\"data row9 col13\" >0</td>\n",
       "      <td id=\"T_1e8b9_row9_col14\" class=\"data row9 col14\" >0</td>\n",
       "      <td id=\"T_1e8b9_row9_col15\" class=\"data row9 col15\" >0</td>\n",
       "      <td id=\"T_1e8b9_row9_col16\" class=\"data row9 col16\" >0</td>\n",
       "      <td id=\"T_1e8b9_row9_col17\" class=\"data row9 col17\" >0</td>\n",
       "    </tr>\n",
       "    <tr>\n",
       "      <th id=\"T_1e8b9_level0_row10\" class=\"row_heading level0 row10\" >Congo, The Democratic Republic of the</th>\n",
       "      <td id=\"T_1e8b9_row10_col0\" class=\"data row10 col0\" >0</td>\n",
       "      <td id=\"T_1e8b9_row10_col1\" class=\"data row10 col1\" >0</td>\n",
       "      <td id=\"T_1e8b9_row10_col2\" class=\"data row10 col2\" >0</td>\n",
       "      <td id=\"T_1e8b9_row10_col3\" class=\"data row10 col3\" >0</td>\n",
       "      <td id=\"T_1e8b9_row10_col4\" class=\"data row10 col4\" >0</td>\n",
       "      <td id=\"T_1e8b9_row10_col5\" class=\"data row10 col5\" >53</td>\n",
       "      <td id=\"T_1e8b9_row10_col6\" class=\"data row10 col6\" >0</td>\n",
       "      <td id=\"T_1e8b9_row10_col7\" class=\"data row10 col7\" >0</td>\n",
       "      <td id=\"T_1e8b9_row10_col8\" class=\"data row10 col8\" >0</td>\n",
       "      <td id=\"T_1e8b9_row10_col9\" class=\"data row10 col9\" >0</td>\n",
       "      <td id=\"T_1e8b9_row10_col10\" class=\"data row10 col10\" >0</td>\n",
       "      <td id=\"T_1e8b9_row10_col11\" class=\"data row10 col11\" >0</td>\n",
       "      <td id=\"T_1e8b9_row10_col12\" class=\"data row10 col12\" >0</td>\n",
       "      <td id=\"T_1e8b9_row10_col13\" class=\"data row10 col13\" >0</td>\n",
       "      <td id=\"T_1e8b9_row10_col14\" class=\"data row10 col14\" >0</td>\n",
       "      <td id=\"T_1e8b9_row10_col15\" class=\"data row10 col15\" >0</td>\n",
       "      <td id=\"T_1e8b9_row10_col16\" class=\"data row10 col16\" >0</td>\n",
       "      <td id=\"T_1e8b9_row10_col17\" class=\"data row10 col17\" >0</td>\n",
       "    </tr>\n",
       "    <tr>\n",
       "      <th id=\"T_1e8b9_level0_row11\" class=\"row_heading level0 row11\" >Côte d'Ivoire</th>\n",
       "      <td id=\"T_1e8b9_row11_col0\" class=\"data row11 col0\" >0</td>\n",
       "      <td id=\"T_1e8b9_row11_col1\" class=\"data row11 col1\" >0</td>\n",
       "      <td id=\"T_1e8b9_row11_col2\" class=\"data row11 col2\" >0</td>\n",
       "      <td id=\"T_1e8b9_row11_col3\" class=\"data row11 col3\" >0</td>\n",
       "      <td id=\"T_1e8b9_row11_col4\" class=\"data row11 col4\" >0</td>\n",
       "      <td id=\"T_1e8b9_row11_col5\" class=\"data row11 col5\" >31</td>\n",
       "      <td id=\"T_1e8b9_row11_col6\" class=\"data row11 col6\" >0</td>\n",
       "      <td id=\"T_1e8b9_row11_col7\" class=\"data row11 col7\" >0</td>\n",
       "      <td id=\"T_1e8b9_row11_col8\" class=\"data row11 col8\" >0</td>\n",
       "      <td id=\"T_1e8b9_row11_col9\" class=\"data row11 col9\" >0</td>\n",
       "      <td id=\"T_1e8b9_row11_col10\" class=\"data row11 col10\" >0</td>\n",
       "      <td id=\"T_1e8b9_row11_col11\" class=\"data row11 col11\" >0</td>\n",
       "      <td id=\"T_1e8b9_row11_col12\" class=\"data row11 col12\" >0</td>\n",
       "      <td id=\"T_1e8b9_row11_col13\" class=\"data row11 col13\" >0</td>\n",
       "      <td id=\"T_1e8b9_row11_col14\" class=\"data row11 col14\" >0</td>\n",
       "      <td id=\"T_1e8b9_row11_col15\" class=\"data row11 col15\" >0</td>\n",
       "      <td id=\"T_1e8b9_row11_col16\" class=\"data row11 col16\" >0</td>\n",
       "      <td id=\"T_1e8b9_row11_col17\" class=\"data row11 col17\" >0</td>\n",
       "    </tr>\n",
       "    <tr>\n",
       "      <th id=\"T_1e8b9_level0_row12\" class=\"row_heading level0 row12\" >Eritrea</th>\n",
       "      <td id=\"T_1e8b9_row12_col0\" class=\"data row12 col0\" >0</td>\n",
       "      <td id=\"T_1e8b9_row12_col1\" class=\"data row12 col1\" >0</td>\n",
       "      <td id=\"T_1e8b9_row12_col2\" class=\"data row12 col2\" >0</td>\n",
       "      <td id=\"T_1e8b9_row12_col3\" class=\"data row12 col3\" >0</td>\n",
       "      <td id=\"T_1e8b9_row12_col4\" class=\"data row12 col4\" >0</td>\n",
       "      <td id=\"T_1e8b9_row12_col5\" class=\"data row12 col5\" >0</td>\n",
       "      <td id=\"T_1e8b9_row12_col6\" class=\"data row12 col6\" >0</td>\n",
       "      <td id=\"T_1e8b9_row12_col7\" class=\"data row12 col7\" >0</td>\n",
       "      <td id=\"T_1e8b9_row12_col8\" class=\"data row12 col8\" >0</td>\n",
       "      <td id=\"T_1e8b9_row12_col9\" class=\"data row12 col9\" >0</td>\n",
       "      <td id=\"T_1e8b9_row12_col10\" class=\"data row12 col10\" >0</td>\n",
       "      <td id=\"T_1e8b9_row12_col11\" class=\"data row12 col11\" >0</td>\n",
       "      <td id=\"T_1e8b9_row12_col12\" class=\"data row12 col12\" >13</td>\n",
       "      <td id=\"T_1e8b9_row12_col13\" class=\"data row12 col13\" >0</td>\n",
       "      <td id=\"T_1e8b9_row12_col14\" class=\"data row12 col14\" >0</td>\n",
       "      <td id=\"T_1e8b9_row12_col15\" class=\"data row12 col15\" >0</td>\n",
       "      <td id=\"T_1e8b9_row12_col16\" class=\"data row12 col16\" >0</td>\n",
       "      <td id=\"T_1e8b9_row12_col17\" class=\"data row12 col17\" >0</td>\n",
       "    </tr>\n",
       "    <tr>\n",
       "      <th id=\"T_1e8b9_level0_row13\" class=\"row_heading level0 row13\" >Ghana</th>\n",
       "      <td id=\"T_1e8b9_row13_col0\" class=\"data row13 col0\" >0</td>\n",
       "      <td id=\"T_1e8b9_row13_col1\" class=\"data row13 col1\" >0</td>\n",
       "      <td id=\"T_1e8b9_row13_col2\" class=\"data row13 col2\" >0</td>\n",
       "      <td id=\"T_1e8b9_row13_col3\" class=\"data row13 col3\" >514</td>\n",
       "      <td id=\"T_1e8b9_row13_col4\" class=\"data row13 col4\" >30</td>\n",
       "      <td id=\"T_1e8b9_row13_col5\" class=\"data row13 col5\" >0</td>\n",
       "      <td id=\"T_1e8b9_row13_col6\" class=\"data row13 col6\" >0</td>\n",
       "      <td id=\"T_1e8b9_row13_col7\" class=\"data row13 col7\" >0</td>\n",
       "      <td id=\"T_1e8b9_row13_col8\" class=\"data row13 col8\" >0</td>\n",
       "      <td id=\"T_1e8b9_row13_col9\" class=\"data row13 col9\" >0</td>\n",
       "      <td id=\"T_1e8b9_row13_col10\" class=\"data row13 col10\" >0</td>\n",
       "      <td id=\"T_1e8b9_row13_col11\" class=\"data row13 col11\" >0</td>\n",
       "      <td id=\"T_1e8b9_row13_col12\" class=\"data row13 col12\" >0</td>\n",
       "      <td id=\"T_1e8b9_row13_col13\" class=\"data row13 col13\" >0</td>\n",
       "      <td id=\"T_1e8b9_row13_col14\" class=\"data row13 col14\" >0</td>\n",
       "      <td id=\"T_1e8b9_row13_col15\" class=\"data row13 col15\" >0</td>\n",
       "      <td id=\"T_1e8b9_row13_col16\" class=\"data row13 col16\" >0</td>\n",
       "      <td id=\"T_1e8b9_row13_col17\" class=\"data row13 col17\" >0</td>\n",
       "    </tr>\n",
       "    <tr>\n",
       "      <th id=\"T_1e8b9_level0_row14\" class=\"row_heading level0 row14\" >Guinea</th>\n",
       "      <td id=\"T_1e8b9_row14_col0\" class=\"data row14 col0\" >0</td>\n",
       "      <td id=\"T_1e8b9_row14_col1\" class=\"data row14 col1\" >0</td>\n",
       "      <td id=\"T_1e8b9_row14_col2\" class=\"data row14 col2\" >0</td>\n",
       "      <td id=\"T_1e8b9_row14_col3\" class=\"data row14 col3\" >0</td>\n",
       "      <td id=\"T_1e8b9_row14_col4\" class=\"data row14 col4\" >0</td>\n",
       "      <td id=\"T_1e8b9_row14_col5\" class=\"data row14 col5\" >0</td>\n",
       "      <td id=\"T_1e8b9_row14_col6\" class=\"data row14 col6\" >15</td>\n",
       "      <td id=\"T_1e8b9_row14_col7\" class=\"data row14 col7\" >0</td>\n",
       "      <td id=\"T_1e8b9_row14_col8\" class=\"data row14 col8\" >0</td>\n",
       "      <td id=\"T_1e8b9_row14_col9\" class=\"data row14 col9\" >0</td>\n",
       "      <td id=\"T_1e8b9_row14_col10\" class=\"data row14 col10\" >0</td>\n",
       "      <td id=\"T_1e8b9_row14_col11\" class=\"data row14 col11\" >0</td>\n",
       "      <td id=\"T_1e8b9_row14_col12\" class=\"data row14 col12\" >0</td>\n",
       "      <td id=\"T_1e8b9_row14_col13\" class=\"data row14 col13\" >0</td>\n",
       "      <td id=\"T_1e8b9_row14_col14\" class=\"data row14 col14\" >0</td>\n",
       "      <td id=\"T_1e8b9_row14_col15\" class=\"data row14 col15\" >0</td>\n",
       "      <td id=\"T_1e8b9_row14_col16\" class=\"data row14 col16\" >0</td>\n",
       "      <td id=\"T_1e8b9_row14_col17\" class=\"data row14 col17\" >0</td>\n",
       "    </tr>\n",
       "    <tr>\n",
       "      <th id=\"T_1e8b9_level0_row15\" class=\"row_heading level0 row15\" >Guinea-Bissau</th>\n",
       "      <td id=\"T_1e8b9_row15_col0\" class=\"data row15 col0\" >0</td>\n",
       "      <td id=\"T_1e8b9_row15_col1\" class=\"data row15 col1\" >0</td>\n",
       "      <td id=\"T_1e8b9_row15_col2\" class=\"data row15 col2\" >0</td>\n",
       "      <td id=\"T_1e8b9_row15_col3\" class=\"data row15 col3\" >0</td>\n",
       "      <td id=\"T_1e8b9_row15_col4\" class=\"data row15 col4\" >0</td>\n",
       "      <td id=\"T_1e8b9_row15_col5\" class=\"data row15 col5\" >85</td>\n",
       "      <td id=\"T_1e8b9_row15_col6\" class=\"data row15 col6\" >0</td>\n",
       "      <td id=\"T_1e8b9_row15_col7\" class=\"data row15 col7\" >0</td>\n",
       "      <td id=\"T_1e8b9_row15_col8\" class=\"data row15 col8\" >60</td>\n",
       "      <td id=\"T_1e8b9_row15_col9\" class=\"data row15 col9\" >0</td>\n",
       "      <td id=\"T_1e8b9_row15_col10\" class=\"data row15 col10\" >0</td>\n",
       "      <td id=\"T_1e8b9_row15_col11\" class=\"data row15 col11\" >0</td>\n",
       "      <td id=\"T_1e8b9_row15_col12\" class=\"data row15 col12\" >0</td>\n",
       "      <td id=\"T_1e8b9_row15_col13\" class=\"data row15 col13\" >0</td>\n",
       "      <td id=\"T_1e8b9_row15_col14\" class=\"data row15 col14\" >0</td>\n",
       "      <td id=\"T_1e8b9_row15_col15\" class=\"data row15 col15\" >0</td>\n",
       "      <td id=\"T_1e8b9_row15_col16\" class=\"data row15 col16\" >0</td>\n",
       "      <td id=\"T_1e8b9_row15_col17\" class=\"data row15 col17\" >0</td>\n",
       "    </tr>\n",
       "    <tr>\n",
       "      <th id=\"T_1e8b9_level0_row16\" class=\"row_heading level0 row16\" >Haiti</th>\n",
       "      <td id=\"T_1e8b9_row16_col0\" class=\"data row16 col0\" >0</td>\n",
       "      <td id=\"T_1e8b9_row16_col1\" class=\"data row16 col1\" >0</td>\n",
       "      <td id=\"T_1e8b9_row16_col2\" class=\"data row16 col2\" >0</td>\n",
       "      <td id=\"T_1e8b9_row16_col3\" class=\"data row16 col3\" >0</td>\n",
       "      <td id=\"T_1e8b9_row16_col4\" class=\"data row16 col4\" >0</td>\n",
       "      <td id=\"T_1e8b9_row16_col5\" class=\"data row16 col5\" >0</td>\n",
       "      <td id=\"T_1e8b9_row16_col6\" class=\"data row16 col6\" >0</td>\n",
       "      <td id=\"T_1e8b9_row16_col7\" class=\"data row16 col7\" >0</td>\n",
       "      <td id=\"T_1e8b9_row16_col8\" class=\"data row16 col8\" >0</td>\n",
       "      <td id=\"T_1e8b9_row16_col9\" class=\"data row16 col9\" >0</td>\n",
       "      <td id=\"T_1e8b9_row16_col10\" class=\"data row16 col10\" >285</td>\n",
       "      <td id=\"T_1e8b9_row16_col11\" class=\"data row16 col11\" >54</td>\n",
       "      <td id=\"T_1e8b9_row16_col12\" class=\"data row16 col12\" >0</td>\n",
       "      <td id=\"T_1e8b9_row16_col13\" class=\"data row16 col13\" >0</td>\n",
       "      <td id=\"T_1e8b9_row16_col14\" class=\"data row16 col14\" >0</td>\n",
       "      <td id=\"T_1e8b9_row16_col15\" class=\"data row16 col15\" >0</td>\n",
       "      <td id=\"T_1e8b9_row16_col16\" class=\"data row16 col16\" >0</td>\n",
       "      <td id=\"T_1e8b9_row16_col17\" class=\"data row16 col17\" >0</td>\n",
       "    </tr>\n",
       "    <tr>\n",
       "      <th id=\"T_1e8b9_level0_row17\" class=\"row_heading level0 row17\" >Indonesia</th>\n",
       "      <td id=\"T_1e8b9_row17_col0\" class=\"data row17 col0\" >0</td>\n",
       "      <td id=\"T_1e8b9_row17_col1\" class=\"data row17 col1\" >0</td>\n",
       "      <td id=\"T_1e8b9_row17_col2\" class=\"data row17 col2\" >0</td>\n",
       "      <td id=\"T_1e8b9_row17_col3\" class=\"data row17 col3\" >11</td>\n",
       "      <td id=\"T_1e8b9_row17_col4\" class=\"data row17 col4\" >391</td>\n",
       "      <td id=\"T_1e8b9_row17_col5\" class=\"data row17 col5\" >106</td>\n",
       "      <td id=\"T_1e8b9_row17_col6\" class=\"data row17 col6\" >0</td>\n",
       "      <td id=\"T_1e8b9_row17_col7\" class=\"data row17 col7\" >0</td>\n",
       "      <td id=\"T_1e8b9_row17_col8\" class=\"data row17 col8\" >0</td>\n",
       "      <td id=\"T_1e8b9_row17_col9\" class=\"data row17 col9\" >0</td>\n",
       "      <td id=\"T_1e8b9_row17_col10\" class=\"data row17 col10\" >0</td>\n",
       "      <td id=\"T_1e8b9_row17_col11\" class=\"data row17 col11\" >0</td>\n",
       "      <td id=\"T_1e8b9_row17_col12\" class=\"data row17 col12\" >1287</td>\n",
       "      <td id=\"T_1e8b9_row17_col13\" class=\"data row17 col13\" >111</td>\n",
       "      <td id=\"T_1e8b9_row17_col14\" class=\"data row17 col14\" >29</td>\n",
       "      <td id=\"T_1e8b9_row17_col15\" class=\"data row17 col15\" >36</td>\n",
       "      <td id=\"T_1e8b9_row17_col16\" class=\"data row17 col16\" >0</td>\n",
       "      <td id=\"T_1e8b9_row17_col17\" class=\"data row17 col17\" >0</td>\n",
       "    </tr>\n",
       "    <tr>\n",
       "      <th id=\"T_1e8b9_level0_row18\" class=\"row_heading level0 row18\" >Kazakhstan</th>\n",
       "      <td id=\"T_1e8b9_row18_col0\" class=\"data row18 col0\" >0</td>\n",
       "      <td id=\"T_1e8b9_row18_col1\" class=\"data row18 col1\" >0</td>\n",
       "      <td id=\"T_1e8b9_row18_col2\" class=\"data row18 col2\" >0</td>\n",
       "      <td id=\"T_1e8b9_row18_col3\" class=\"data row18 col3\" >0</td>\n",
       "      <td id=\"T_1e8b9_row18_col4\" class=\"data row18 col4\" >0</td>\n",
       "      <td id=\"T_1e8b9_row18_col5\" class=\"data row18 col5\" >0</td>\n",
       "      <td id=\"T_1e8b9_row18_col6\" class=\"data row18 col6\" >0</td>\n",
       "      <td id=\"T_1e8b9_row18_col7\" class=\"data row18 col7\" >0</td>\n",
       "      <td id=\"T_1e8b9_row18_col8\" class=\"data row18 col8\" >13</td>\n",
       "      <td id=\"T_1e8b9_row18_col9\" class=\"data row18 col9\" >41</td>\n",
       "      <td id=\"T_1e8b9_row18_col10\" class=\"data row18 col10\" >0</td>\n",
       "      <td id=\"T_1e8b9_row18_col11\" class=\"data row18 col11\" >0</td>\n",
       "      <td id=\"T_1e8b9_row18_col12\" class=\"data row18 col12\" >0</td>\n",
       "      <td id=\"T_1e8b9_row18_col13\" class=\"data row18 col13\" >0</td>\n",
       "      <td id=\"T_1e8b9_row18_col14\" class=\"data row18 col14\" >0</td>\n",
       "      <td id=\"T_1e8b9_row18_col15\" class=\"data row18 col15\" >0</td>\n",
       "      <td id=\"T_1e8b9_row18_col16\" class=\"data row18 col16\" >0</td>\n",
       "      <td id=\"T_1e8b9_row18_col17\" class=\"data row18 col17\" >0</td>\n",
       "    </tr>\n",
       "    <tr>\n",
       "      <th id=\"T_1e8b9_level0_row19\" class=\"row_heading level0 row19\" >Kenya</th>\n",
       "      <td id=\"T_1e8b9_row19_col0\" class=\"data row19 col0\" >0</td>\n",
       "      <td id=\"T_1e8b9_row19_col1\" class=\"data row19 col1\" >0</td>\n",
       "      <td id=\"T_1e8b9_row19_col2\" class=\"data row19 col2\" >0</td>\n",
       "      <td id=\"T_1e8b9_row19_col3\" class=\"data row19 col3\" >0</td>\n",
       "      <td id=\"T_1e8b9_row19_col4\" class=\"data row19 col4\" >0</td>\n",
       "      <td id=\"T_1e8b9_row19_col5\" class=\"data row19 col5\" >0</td>\n",
       "      <td id=\"T_1e8b9_row19_col6\" class=\"data row19 col6\" >0</td>\n",
       "      <td id=\"T_1e8b9_row19_col7\" class=\"data row19 col7\" >0</td>\n",
       "      <td id=\"T_1e8b9_row19_col8\" class=\"data row19 col8\" >0</td>\n",
       "      <td id=\"T_1e8b9_row19_col9\" class=\"data row19 col9\" >0</td>\n",
       "      <td id=\"T_1e8b9_row19_col10\" class=\"data row19 col10\" >0</td>\n",
       "      <td id=\"T_1e8b9_row19_col11\" class=\"data row19 col11\" >0</td>\n",
       "      <td id=\"T_1e8b9_row19_col12\" class=\"data row19 col12\" >0</td>\n",
       "      <td id=\"T_1e8b9_row19_col13\" class=\"data row19 col13\" >0</td>\n",
       "      <td id=\"T_1e8b9_row19_col14\" class=\"data row19 col14\" >0</td>\n",
       "      <td id=\"T_1e8b9_row19_col15\" class=\"data row19 col15\" >32</td>\n",
       "      <td id=\"T_1e8b9_row19_col16\" class=\"data row19 col16\" >0</td>\n",
       "      <td id=\"T_1e8b9_row19_col17\" class=\"data row19 col17\" >0</td>\n",
       "    </tr>\n",
       "    <tr>\n",
       "      <th id=\"T_1e8b9_level0_row20\" class=\"row_heading level0 row20\" >Korea, Republic of</th>\n",
       "      <td id=\"T_1e8b9_row20_col0\" class=\"data row20 col0\" >0</td>\n",
       "      <td id=\"T_1e8b9_row20_col1\" class=\"data row20 col1\" >0</td>\n",
       "      <td id=\"T_1e8b9_row20_col2\" class=\"data row20 col2\" >0</td>\n",
       "      <td id=\"T_1e8b9_row20_col3\" class=\"data row20 col3\" >0</td>\n",
       "      <td id=\"T_1e8b9_row20_col4\" class=\"data row20 col4\" >0</td>\n",
       "      <td id=\"T_1e8b9_row20_col5\" class=\"data row20 col5\" >0</td>\n",
       "      <td id=\"T_1e8b9_row20_col6\" class=\"data row20 col6\" >0</td>\n",
       "      <td id=\"T_1e8b9_row20_col7\" class=\"data row20 col7\" >0</td>\n",
       "      <td id=\"T_1e8b9_row20_col8\" class=\"data row20 col8\" >0</td>\n",
       "      <td id=\"T_1e8b9_row20_col9\" class=\"data row20 col9\" >0</td>\n",
       "      <td id=\"T_1e8b9_row20_col10\" class=\"data row20 col10\" >0</td>\n",
       "      <td id=\"T_1e8b9_row20_col11\" class=\"data row20 col11\" >0</td>\n",
       "      <td id=\"T_1e8b9_row20_col12\" class=\"data row20 col12\" >0</td>\n",
       "      <td id=\"T_1e8b9_row20_col13\" class=\"data row20 col13\" >0</td>\n",
       "      <td id=\"T_1e8b9_row20_col14\" class=\"data row20 col14\" >12</td>\n",
       "      <td id=\"T_1e8b9_row20_col15\" class=\"data row20 col15\" >0</td>\n",
       "      <td id=\"T_1e8b9_row20_col16\" class=\"data row20 col16\" >0</td>\n",
       "      <td id=\"T_1e8b9_row20_col17\" class=\"data row20 col17\" >0</td>\n",
       "    </tr>\n",
       "    <tr>\n",
       "      <th id=\"T_1e8b9_level0_row21\" class=\"row_heading level0 row21\" >Kyrgyzstan</th>\n",
       "      <td id=\"T_1e8b9_row21_col0\" class=\"data row21 col0\" >0</td>\n",
       "      <td id=\"T_1e8b9_row21_col1\" class=\"data row21 col1\" >0</td>\n",
       "      <td id=\"T_1e8b9_row21_col2\" class=\"data row21 col2\" >0</td>\n",
       "      <td id=\"T_1e8b9_row21_col3\" class=\"data row21 col3\" >0</td>\n",
       "      <td id=\"T_1e8b9_row21_col4\" class=\"data row21 col4\" >0</td>\n",
       "      <td id=\"T_1e8b9_row21_col5\" class=\"data row21 col5\" >0</td>\n",
       "      <td id=\"T_1e8b9_row21_col6\" class=\"data row21 col6\" >11</td>\n",
       "      <td id=\"T_1e8b9_row21_col7\" class=\"data row21 col7\" >0</td>\n",
       "      <td id=\"T_1e8b9_row21_col8\" class=\"data row21 col8\" >100</td>\n",
       "      <td id=\"T_1e8b9_row21_col9\" class=\"data row21 col9\" >167</td>\n",
       "      <td id=\"T_1e8b9_row21_col10\" class=\"data row21 col10\" >0</td>\n",
       "      <td id=\"T_1e8b9_row21_col11\" class=\"data row21 col11\" >0</td>\n",
       "      <td id=\"T_1e8b9_row21_col12\" class=\"data row21 col12\" >71</td>\n",
       "      <td id=\"T_1e8b9_row21_col13\" class=\"data row21 col13\" >68</td>\n",
       "      <td id=\"T_1e8b9_row21_col14\" class=\"data row21 col14\" >20</td>\n",
       "      <td id=\"T_1e8b9_row21_col15\" class=\"data row21 col15\" >0</td>\n",
       "      <td id=\"T_1e8b9_row21_col16\" class=\"data row21 col16\" >0</td>\n",
       "      <td id=\"T_1e8b9_row21_col17\" class=\"data row21 col17\" >0</td>\n",
       "    </tr>\n",
       "    <tr>\n",
       "      <th id=\"T_1e8b9_level0_row22\" class=\"row_heading level0 row22\" >Lao People's Democratic Republic</th>\n",
       "      <td id=\"T_1e8b9_row22_col0\" class=\"data row22 col0\" >0</td>\n",
       "      <td id=\"T_1e8b9_row22_col1\" class=\"data row22 col1\" >0</td>\n",
       "      <td id=\"T_1e8b9_row22_col2\" class=\"data row22 col2\" >0</td>\n",
       "      <td id=\"T_1e8b9_row22_col3\" class=\"data row22 col3\" >0</td>\n",
       "      <td id=\"T_1e8b9_row22_col4\" class=\"data row22 col4\" >0</td>\n",
       "      <td id=\"T_1e8b9_row22_col5\" class=\"data row22 col5\" >0</td>\n",
       "      <td id=\"T_1e8b9_row22_col6\" class=\"data row22 col6\" >0</td>\n",
       "      <td id=\"T_1e8b9_row22_col7\" class=\"data row22 col7\" >0</td>\n",
       "      <td id=\"T_1e8b9_row22_col8\" class=\"data row22 col8\" >126</td>\n",
       "      <td id=\"T_1e8b9_row22_col9\" class=\"data row22 col9\" >0</td>\n",
       "      <td id=\"T_1e8b9_row22_col10\" class=\"data row22 col10\" >0</td>\n",
       "      <td id=\"T_1e8b9_row22_col11\" class=\"data row22 col11\" >0</td>\n",
       "      <td id=\"T_1e8b9_row22_col12\" class=\"data row22 col12\" >0</td>\n",
       "      <td id=\"T_1e8b9_row22_col13\" class=\"data row22 col13\" >0</td>\n",
       "      <td id=\"T_1e8b9_row22_col14\" class=\"data row22 col14\" >0</td>\n",
       "      <td id=\"T_1e8b9_row22_col15\" class=\"data row22 col15\" >0</td>\n",
       "      <td id=\"T_1e8b9_row22_col16\" class=\"data row22 col16\" >0</td>\n",
       "      <td id=\"T_1e8b9_row22_col17\" class=\"data row22 col17\" >0</td>\n",
       "    </tr>\n",
       "    <tr>\n",
       "      <th id=\"T_1e8b9_level0_row23\" class=\"row_heading level0 row23\" >Madagascar</th>\n",
       "      <td id=\"T_1e8b9_row23_col0\" class=\"data row23 col0\" >0</td>\n",
       "      <td id=\"T_1e8b9_row23_col1\" class=\"data row23 col1\" >0</td>\n",
       "      <td id=\"T_1e8b9_row23_col2\" class=\"data row23 col2\" >0</td>\n",
       "      <td id=\"T_1e8b9_row23_col3\" class=\"data row23 col3\" >0</td>\n",
       "      <td id=\"T_1e8b9_row23_col4\" class=\"data row23 col4\" >0</td>\n",
       "      <td id=\"T_1e8b9_row23_col5\" class=\"data row23 col5\" >0</td>\n",
       "      <td id=\"T_1e8b9_row23_col6\" class=\"data row23 col6\" >0</td>\n",
       "      <td id=\"T_1e8b9_row23_col7\" class=\"data row23 col7\" >0</td>\n",
       "      <td id=\"T_1e8b9_row23_col8\" class=\"data row23 col8\" >0</td>\n",
       "      <td id=\"T_1e8b9_row23_col9\" class=\"data row23 col9\" >0</td>\n",
       "      <td id=\"T_1e8b9_row23_col10\" class=\"data row23 col10\" >0</td>\n",
       "      <td id=\"T_1e8b9_row23_col11\" class=\"data row23 col11\" >0</td>\n",
       "      <td id=\"T_1e8b9_row23_col12\" class=\"data row23 col12\" >0</td>\n",
       "      <td id=\"T_1e8b9_row23_col13\" class=\"data row23 col13\" >0</td>\n",
       "      <td id=\"T_1e8b9_row23_col14\" class=\"data row23 col14\" >0</td>\n",
       "      <td id=\"T_1e8b9_row23_col15\" class=\"data row23 col15\" >0</td>\n",
       "      <td id=\"T_1e8b9_row23_col16\" class=\"data row23 col16\" >94</td>\n",
       "      <td id=\"T_1e8b9_row23_col17\" class=\"data row23 col17\" >0</td>\n",
       "    </tr>\n",
       "    <tr>\n",
       "      <th id=\"T_1e8b9_level0_row24\" class=\"row_heading level0 row24\" >Mali</th>\n",
       "      <td id=\"T_1e8b9_row24_col0\" class=\"data row24 col0\" >0</td>\n",
       "      <td id=\"T_1e8b9_row24_col1\" class=\"data row24 col1\" >0</td>\n",
       "      <td id=\"T_1e8b9_row24_col2\" class=\"data row24 col2\" >0</td>\n",
       "      <td id=\"T_1e8b9_row24_col3\" class=\"data row24 col3\" >0</td>\n",
       "      <td id=\"T_1e8b9_row24_col4\" class=\"data row24 col4\" >0</td>\n",
       "      <td id=\"T_1e8b9_row24_col5\" class=\"data row24 col5\" >19</td>\n",
       "      <td id=\"T_1e8b9_row24_col6\" class=\"data row24 col6\" >0</td>\n",
       "      <td id=\"T_1e8b9_row24_col7\" class=\"data row24 col7\" >0</td>\n",
       "      <td id=\"T_1e8b9_row24_col8\" class=\"data row24 col8\" >26</td>\n",
       "      <td id=\"T_1e8b9_row24_col9\" class=\"data row24 col9\" >0</td>\n",
       "      <td id=\"T_1e8b9_row24_col10\" class=\"data row24 col10\" >0</td>\n",
       "      <td id=\"T_1e8b9_row24_col11\" class=\"data row24 col11\" >0</td>\n",
       "      <td id=\"T_1e8b9_row24_col12\" class=\"data row24 col12\" >0</td>\n",
       "      <td id=\"T_1e8b9_row24_col13\" class=\"data row24 col13\" >0</td>\n",
       "      <td id=\"T_1e8b9_row24_col14\" class=\"data row24 col14\" >0</td>\n",
       "      <td id=\"T_1e8b9_row24_col15\" class=\"data row24 col15\" >0</td>\n",
       "      <td id=\"T_1e8b9_row24_col16\" class=\"data row24 col16\" >0</td>\n",
       "      <td id=\"T_1e8b9_row24_col17\" class=\"data row24 col17\" >0</td>\n",
       "    </tr>\n",
       "    <tr>\n",
       "      <th id=\"T_1e8b9_level0_row25\" class=\"row_heading level0 row25\" >Mexico</th>\n",
       "      <td id=\"T_1e8b9_row25_col0\" class=\"data row25 col0\" >0</td>\n",
       "      <td id=\"T_1e8b9_row25_col1\" class=\"data row25 col1\" >0</td>\n",
       "      <td id=\"T_1e8b9_row25_col2\" class=\"data row25 col2\" >0</td>\n",
       "      <td id=\"T_1e8b9_row25_col3\" class=\"data row25 col3\" >0</td>\n",
       "      <td id=\"T_1e8b9_row25_col4\" class=\"data row25 col4\" >0</td>\n",
       "      <td id=\"T_1e8b9_row25_col5\" class=\"data row25 col5\" >0</td>\n",
       "      <td id=\"T_1e8b9_row25_col6\" class=\"data row25 col6\" >0</td>\n",
       "      <td id=\"T_1e8b9_row25_col7\" class=\"data row25 col7\" >0</td>\n",
       "      <td id=\"T_1e8b9_row25_col8\" class=\"data row25 col8\" >0</td>\n",
       "      <td id=\"T_1e8b9_row25_col9\" class=\"data row25 col9\" >0</td>\n",
       "      <td id=\"T_1e8b9_row25_col10\" class=\"data row25 col10\" >0</td>\n",
       "      <td id=\"T_1e8b9_row25_col11\" class=\"data row25 col11\" >0</td>\n",
       "      <td id=\"T_1e8b9_row25_col12\" class=\"data row25 col12\" >0</td>\n",
       "      <td id=\"T_1e8b9_row25_col13\" class=\"data row25 col13\" >0</td>\n",
       "      <td id=\"T_1e8b9_row25_col14\" class=\"data row25 col14\" >0</td>\n",
       "      <td id=\"T_1e8b9_row25_col15\" class=\"data row25 col15\" >19</td>\n",
       "      <td id=\"T_1e8b9_row25_col16\" class=\"data row25 col16\" >0</td>\n",
       "      <td id=\"T_1e8b9_row25_col17\" class=\"data row25 col17\" >0</td>\n",
       "    </tr>\n",
       "    <tr>\n",
       "      <th id=\"T_1e8b9_level0_row26\" class=\"row_heading level0 row26\" >Moldova, Republic of</th>\n",
       "      <td id=\"T_1e8b9_row26_col0\" class=\"data row26 col0\" >597</td>\n",
       "      <td id=\"T_1e8b9_row26_col1\" class=\"data row26 col1\" >215</td>\n",
       "      <td id=\"T_1e8b9_row26_col2\" class=\"data row26 col2\" >169</td>\n",
       "      <td id=\"T_1e8b9_row26_col3\" class=\"data row26 col3\" >196</td>\n",
       "      <td id=\"T_1e8b9_row26_col4\" class=\"data row26 col4\" >288</td>\n",
       "      <td id=\"T_1e8b9_row26_col5\" class=\"data row26 col5\" >292</td>\n",
       "      <td id=\"T_1e8b9_row26_col6\" class=\"data row26 col6\" >241</td>\n",
       "      <td id=\"T_1e8b9_row26_col7\" class=\"data row26 col7\" >282</td>\n",
       "      <td id=\"T_1e8b9_row26_col8\" class=\"data row26 col8\" >13</td>\n",
       "      <td id=\"T_1e8b9_row26_col9\" class=\"data row26 col9\" >506</td>\n",
       "      <td id=\"T_1e8b9_row26_col10\" class=\"data row26 col10\" >12</td>\n",
       "      <td id=\"T_1e8b9_row26_col11\" class=\"data row26 col11\" >630</td>\n",
       "      <td id=\"T_1e8b9_row26_col12\" class=\"data row26 col12\" >559</td>\n",
       "      <td id=\"T_1e8b9_row26_col13\" class=\"data row26 col13\" >766</td>\n",
       "      <td id=\"T_1e8b9_row26_col14\" class=\"data row26 col14\" >597</td>\n",
       "      <td id=\"T_1e8b9_row26_col15\" class=\"data row26 col15\" >471</td>\n",
       "      <td id=\"T_1e8b9_row26_col16\" class=\"data row26 col16\" >67</td>\n",
       "      <td id=\"T_1e8b9_row26_col17\" class=\"data row26 col17\" >0</td>\n",
       "    </tr>\n",
       "    <tr>\n",
       "      <th id=\"T_1e8b9_level0_row27\" class=\"row_heading level0 row27\" >Myanmar</th>\n",
       "      <td id=\"T_1e8b9_row27_col0\" class=\"data row27 col0\" >0</td>\n",
       "      <td id=\"T_1e8b9_row27_col1\" class=\"data row27 col1\" >0</td>\n",
       "      <td id=\"T_1e8b9_row27_col2\" class=\"data row27 col2\" >0</td>\n",
       "      <td id=\"T_1e8b9_row27_col3\" class=\"data row27 col3\" >0</td>\n",
       "      <td id=\"T_1e8b9_row27_col4\" class=\"data row27 col4\" >0</td>\n",
       "      <td id=\"T_1e8b9_row27_col5\" class=\"data row27 col5\" >0</td>\n",
       "      <td id=\"T_1e8b9_row27_col6\" class=\"data row27 col6\" >0</td>\n",
       "      <td id=\"T_1e8b9_row27_col7\" class=\"data row27 col7\" >0</td>\n",
       "      <td id=\"T_1e8b9_row27_col8\" class=\"data row27 col8\" >0</td>\n",
       "      <td id=\"T_1e8b9_row27_col9\" class=\"data row27 col9\" >0</td>\n",
       "      <td id=\"T_1e8b9_row27_col10\" class=\"data row27 col10\" >0</td>\n",
       "      <td id=\"T_1e8b9_row27_col11\" class=\"data row27 col11\" >29</td>\n",
       "      <td id=\"T_1e8b9_row27_col12\" class=\"data row27 col12\" >136</td>\n",
       "      <td id=\"T_1e8b9_row27_col13\" class=\"data row27 col13\" >1011</td>\n",
       "      <td id=\"T_1e8b9_row27_col14\" class=\"data row27 col14\" >48</td>\n",
       "      <td id=\"T_1e8b9_row27_col15\" class=\"data row27 col15\" >0</td>\n",
       "      <td id=\"T_1e8b9_row27_col16\" class=\"data row27 col16\" >26</td>\n",
       "      <td id=\"T_1e8b9_row27_col17\" class=\"data row27 col17\" >0</td>\n",
       "    </tr>\n",
       "    <tr>\n",
       "      <th id=\"T_1e8b9_level0_row28\" class=\"row_heading level0 row28\" >Nepal</th>\n",
       "      <td id=\"T_1e8b9_row28_col0\" class=\"data row28 col0\" >0</td>\n",
       "      <td id=\"T_1e8b9_row28_col1\" class=\"data row28 col1\" >0</td>\n",
       "      <td id=\"T_1e8b9_row28_col2\" class=\"data row28 col2\" >0</td>\n",
       "      <td id=\"T_1e8b9_row28_col3\" class=\"data row28 col3\" >0</td>\n",
       "      <td id=\"T_1e8b9_row28_col4\" class=\"data row28 col4\" >0</td>\n",
       "      <td id=\"T_1e8b9_row28_col5\" class=\"data row28 col5\" >0</td>\n",
       "      <td id=\"T_1e8b9_row28_col6\" class=\"data row28 col6\" >0</td>\n",
       "      <td id=\"T_1e8b9_row28_col7\" class=\"data row28 col7\" >0</td>\n",
       "      <td id=\"T_1e8b9_row28_col8\" class=\"data row28 col8\" >0</td>\n",
       "      <td id=\"T_1e8b9_row28_col9\" class=\"data row28 col9\" >0</td>\n",
       "      <td id=\"T_1e8b9_row28_col10\" class=\"data row28 col10\" >0</td>\n",
       "      <td id=\"T_1e8b9_row28_col11\" class=\"data row28 col11\" >0</td>\n",
       "      <td id=\"T_1e8b9_row28_col12\" class=\"data row28 col12\" >0</td>\n",
       "      <td id=\"T_1e8b9_row28_col13\" class=\"data row28 col13\" >27</td>\n",
       "      <td id=\"T_1e8b9_row28_col14\" class=\"data row28 col14\" >0</td>\n",
       "      <td id=\"T_1e8b9_row28_col15\" class=\"data row28 col15\" >0</td>\n",
       "      <td id=\"T_1e8b9_row28_col16\" class=\"data row28 col16\" >0</td>\n",
       "      <td id=\"T_1e8b9_row28_col17\" class=\"data row28 col17\" >0</td>\n",
       "    </tr>\n",
       "    <tr>\n",
       "      <th id=\"T_1e8b9_level0_row29\" class=\"row_heading level0 row29\" >Niger</th>\n",
       "      <td id=\"T_1e8b9_row29_col0\" class=\"data row29 col0\" >0</td>\n",
       "      <td id=\"T_1e8b9_row29_col1\" class=\"data row29 col1\" >0</td>\n",
       "      <td id=\"T_1e8b9_row29_col2\" class=\"data row29 col2\" >0</td>\n",
       "      <td id=\"T_1e8b9_row29_col3\" class=\"data row29 col3\" >0</td>\n",
       "      <td id=\"T_1e8b9_row29_col4\" class=\"data row29 col4\" >0</td>\n",
       "      <td id=\"T_1e8b9_row29_col5\" class=\"data row29 col5\" >0</td>\n",
       "      <td id=\"T_1e8b9_row29_col6\" class=\"data row29 col6\" >0</td>\n",
       "      <td id=\"T_1e8b9_row29_col7\" class=\"data row29 col7\" >0</td>\n",
       "      <td id=\"T_1e8b9_row29_col8\" class=\"data row29 col8\" >31</td>\n",
       "      <td id=\"T_1e8b9_row29_col9\" class=\"data row29 col9\" >0</td>\n",
       "      <td id=\"T_1e8b9_row29_col10\" class=\"data row29 col10\" >0</td>\n",
       "      <td id=\"T_1e8b9_row29_col11\" class=\"data row29 col11\" >0</td>\n",
       "      <td id=\"T_1e8b9_row29_col12\" class=\"data row29 col12\" >0</td>\n",
       "      <td id=\"T_1e8b9_row29_col13\" class=\"data row29 col13\" >0</td>\n",
       "      <td id=\"T_1e8b9_row29_col14\" class=\"data row29 col14\" >0</td>\n",
       "      <td id=\"T_1e8b9_row29_col15\" class=\"data row29 col15\" >0</td>\n",
       "      <td id=\"T_1e8b9_row29_col16\" class=\"data row29 col16\" >0</td>\n",
       "      <td id=\"T_1e8b9_row29_col17\" class=\"data row29 col17\" >0</td>\n",
       "    </tr>\n",
       "    <tr>\n",
       "      <th id=\"T_1e8b9_level0_row30\" class=\"row_heading level0 row30\" >Nigeria</th>\n",
       "      <td id=\"T_1e8b9_row30_col0\" class=\"data row30 col0\" >0</td>\n",
       "      <td id=\"T_1e8b9_row30_col1\" class=\"data row30 col1\" >0</td>\n",
       "      <td id=\"T_1e8b9_row30_col2\" class=\"data row30 col2\" >0</td>\n",
       "      <td id=\"T_1e8b9_row30_col3\" class=\"data row30 col3\" >0</td>\n",
       "      <td id=\"T_1e8b9_row30_col4\" class=\"data row30 col4\" >0</td>\n",
       "      <td id=\"T_1e8b9_row30_col5\" class=\"data row30 col5\" >0</td>\n",
       "      <td id=\"T_1e8b9_row30_col6\" class=\"data row30 col6\" >0</td>\n",
       "      <td id=\"T_1e8b9_row30_col7\" class=\"data row30 col7\" >0</td>\n",
       "      <td id=\"T_1e8b9_row30_col8\" class=\"data row30 col8\" >0</td>\n",
       "      <td id=\"T_1e8b9_row30_col9\" class=\"data row30 col9\" >0</td>\n",
       "      <td id=\"T_1e8b9_row30_col10\" class=\"data row30 col10\" >0</td>\n",
       "      <td id=\"T_1e8b9_row30_col11\" class=\"data row30 col11\" >0</td>\n",
       "      <td id=\"T_1e8b9_row30_col12\" class=\"data row30 col12\" >0</td>\n",
       "      <td id=\"T_1e8b9_row30_col13\" class=\"data row30 col13\" >108</td>\n",
       "      <td id=\"T_1e8b9_row30_col14\" class=\"data row30 col14\" >0</td>\n",
       "      <td id=\"T_1e8b9_row30_col15\" class=\"data row30 col15\" >0</td>\n",
       "      <td id=\"T_1e8b9_row30_col16\" class=\"data row30 col16\" >0</td>\n",
       "      <td id=\"T_1e8b9_row30_col17\" class=\"data row30 col17\" >0</td>\n",
       "    </tr>\n",
       "    <tr>\n",
       "      <th id=\"T_1e8b9_level0_row31\" class=\"row_heading level0 row31\" >Philippines</th>\n",
       "      <td id=\"T_1e8b9_row31_col0\" class=\"data row31 col0\" >0</td>\n",
       "      <td id=\"T_1e8b9_row31_col1\" class=\"data row31 col1\" >0</td>\n",
       "      <td id=\"T_1e8b9_row31_col2\" class=\"data row31 col2\" >0</td>\n",
       "      <td id=\"T_1e8b9_row31_col3\" class=\"data row31 col3\" >0</td>\n",
       "      <td id=\"T_1e8b9_row31_col4\" class=\"data row31 col4\" >0</td>\n",
       "      <td id=\"T_1e8b9_row31_col5\" class=\"data row31 col5\" >0</td>\n",
       "      <td id=\"T_1e8b9_row31_col6\" class=\"data row31 col6\" >0</td>\n",
       "      <td id=\"T_1e8b9_row31_col7\" class=\"data row31 col7\" >0</td>\n",
       "      <td id=\"T_1e8b9_row31_col8\" class=\"data row31 col8\" >0</td>\n",
       "      <td id=\"T_1e8b9_row31_col9\" class=\"data row31 col9\" >0</td>\n",
       "      <td id=\"T_1e8b9_row31_col10\" class=\"data row31 col10\" >0</td>\n",
       "      <td id=\"T_1e8b9_row31_col11\" class=\"data row31 col11\" >0</td>\n",
       "      <td id=\"T_1e8b9_row31_col12\" class=\"data row31 col12\" >0</td>\n",
       "      <td id=\"T_1e8b9_row31_col13\" class=\"data row31 col13\" >28</td>\n",
       "      <td id=\"T_1e8b9_row31_col14\" class=\"data row31 col14\" >11262</td>\n",
       "      <td id=\"T_1e8b9_row31_col15\" class=\"data row31 col15\" >75</td>\n",
       "      <td id=\"T_1e8b9_row31_col16\" class=\"data row31 col16\" >0</td>\n",
       "      <td id=\"T_1e8b9_row31_col17\" class=\"data row31 col17\" >0</td>\n",
       "    </tr>\n",
       "    <tr>\n",
       "      <th id=\"T_1e8b9_level0_row32\" class=\"row_heading level0 row32\" >Romania</th>\n",
       "      <td id=\"T_1e8b9_row32_col0\" class=\"data row32 col0\" >263</td>\n",
       "      <td id=\"T_1e8b9_row32_col1\" class=\"data row32 col1\" >92</td>\n",
       "      <td id=\"T_1e8b9_row32_col2\" class=\"data row32 col2\" >0</td>\n",
       "      <td id=\"T_1e8b9_row32_col3\" class=\"data row32 col3\" >125</td>\n",
       "      <td id=\"T_1e8b9_row32_col4\" class=\"data row32 col4\" >109</td>\n",
       "      <td id=\"T_1e8b9_row32_col5\" class=\"data row32 col5\" >37</td>\n",
       "      <td id=\"T_1e8b9_row32_col6\" class=\"data row32 col6\" >12</td>\n",
       "      <td id=\"T_1e8b9_row32_col7\" class=\"data row32 col7\" >0</td>\n",
       "      <td id=\"T_1e8b9_row32_col8\" class=\"data row32 col8\" >0</td>\n",
       "      <td id=\"T_1e8b9_row32_col9\" class=\"data row32 col9\" >0</td>\n",
       "      <td id=\"T_1e8b9_row32_col10\" class=\"data row32 col10\" >0</td>\n",
       "      <td id=\"T_1e8b9_row32_col11\" class=\"data row32 col11\" >0</td>\n",
       "      <td id=\"T_1e8b9_row32_col12\" class=\"data row32 col12\" >0</td>\n",
       "      <td id=\"T_1e8b9_row32_col13\" class=\"data row32 col13\" >17</td>\n",
       "      <td id=\"T_1e8b9_row32_col14\" class=\"data row32 col14\" >0</td>\n",
       "      <td id=\"T_1e8b9_row32_col15\" class=\"data row32 col15\" >0</td>\n",
       "      <td id=\"T_1e8b9_row32_col16\" class=\"data row32 col16\" >0</td>\n",
       "      <td id=\"T_1e8b9_row32_col17\" class=\"data row32 col17\" >0</td>\n",
       "    </tr>\n",
       "    <tr>\n",
       "      <th id=\"T_1e8b9_level0_row33\" class=\"row_heading level0 row33\" >Senegal</th>\n",
       "      <td id=\"T_1e8b9_row33_col0\" class=\"data row33 col0\" >0</td>\n",
       "      <td id=\"T_1e8b9_row33_col1\" class=\"data row33 col1\" >0</td>\n",
       "      <td id=\"T_1e8b9_row33_col2\" class=\"data row33 col2\" >0</td>\n",
       "      <td id=\"T_1e8b9_row33_col3\" class=\"data row33 col3\" >0</td>\n",
       "      <td id=\"T_1e8b9_row33_col4\" class=\"data row33 col4\" >0</td>\n",
       "      <td id=\"T_1e8b9_row33_col5\" class=\"data row33 col5\" >14</td>\n",
       "      <td id=\"T_1e8b9_row33_col6\" class=\"data row33 col6\" >12</td>\n",
       "      <td id=\"T_1e8b9_row33_col7\" class=\"data row33 col7\" >0</td>\n",
       "      <td id=\"T_1e8b9_row33_col8\" class=\"data row33 col8\" >44</td>\n",
       "      <td id=\"T_1e8b9_row33_col9\" class=\"data row33 col9\" >0</td>\n",
       "      <td id=\"T_1e8b9_row33_col10\" class=\"data row33 col10\" >0</td>\n",
       "      <td id=\"T_1e8b9_row33_col11\" class=\"data row33 col11\" >0</td>\n",
       "      <td id=\"T_1e8b9_row33_col12\" class=\"data row33 col12\" >0</td>\n",
       "      <td id=\"T_1e8b9_row33_col13\" class=\"data row33 col13\" >0</td>\n",
       "      <td id=\"T_1e8b9_row33_col14\" class=\"data row33 col14\" >0</td>\n",
       "      <td id=\"T_1e8b9_row33_col15\" class=\"data row33 col15\" >0</td>\n",
       "      <td id=\"T_1e8b9_row33_col16\" class=\"data row33 col16\" >0</td>\n",
       "      <td id=\"T_1e8b9_row33_col17\" class=\"data row33 col17\" >0</td>\n",
       "    </tr>\n",
       "    <tr>\n",
       "      <th id=\"T_1e8b9_level0_row34\" class=\"row_heading level0 row34\" >Sierra Leone</th>\n",
       "      <td id=\"T_1e8b9_row34_col0\" class=\"data row34 col0\" >0</td>\n",
       "      <td id=\"T_1e8b9_row34_col1\" class=\"data row34 col1\" >0</td>\n",
       "      <td id=\"T_1e8b9_row34_col2\" class=\"data row34 col2\" >0</td>\n",
       "      <td id=\"T_1e8b9_row34_col3\" class=\"data row34 col3\" >0</td>\n",
       "      <td id=\"T_1e8b9_row34_col4\" class=\"data row34 col4\" >0</td>\n",
       "      <td id=\"T_1e8b9_row34_col5\" class=\"data row34 col5\" >0</td>\n",
       "      <td id=\"T_1e8b9_row34_col6\" class=\"data row34 col6\" >65</td>\n",
       "      <td id=\"T_1e8b9_row34_col7\" class=\"data row34 col7\" >0</td>\n",
       "      <td id=\"T_1e8b9_row34_col8\" class=\"data row34 col8\" >0</td>\n",
       "      <td id=\"T_1e8b9_row34_col9\" class=\"data row34 col9\" >0</td>\n",
       "      <td id=\"T_1e8b9_row34_col10\" class=\"data row34 col10\" >0</td>\n",
       "      <td id=\"T_1e8b9_row34_col11\" class=\"data row34 col11\" >0</td>\n",
       "      <td id=\"T_1e8b9_row34_col12\" class=\"data row34 col12\" >0</td>\n",
       "      <td id=\"T_1e8b9_row34_col13\" class=\"data row34 col13\" >0</td>\n",
       "      <td id=\"T_1e8b9_row34_col14\" class=\"data row34 col14\" >0</td>\n",
       "      <td id=\"T_1e8b9_row34_col15\" class=\"data row34 col15\" >0</td>\n",
       "      <td id=\"T_1e8b9_row34_col16\" class=\"data row34 col16\" >16</td>\n",
       "      <td id=\"T_1e8b9_row34_col17\" class=\"data row34 col17\" >0</td>\n",
       "    </tr>\n",
       "    <tr>\n",
       "      <th id=\"T_1e8b9_level0_row35\" class=\"row_heading level0 row35\" >Sri Lanka</th>\n",
       "      <td id=\"T_1e8b9_row35_col0\" class=\"data row35 col0\" >0</td>\n",
       "      <td id=\"T_1e8b9_row35_col1\" class=\"data row35 col1\" >0</td>\n",
       "      <td id=\"T_1e8b9_row35_col2\" class=\"data row35 col2\" >0</td>\n",
       "      <td id=\"T_1e8b9_row35_col3\" class=\"data row35 col3\" >0</td>\n",
       "      <td id=\"T_1e8b9_row35_col4\" class=\"data row35 col4\" >0</td>\n",
       "      <td id=\"T_1e8b9_row35_col5\" class=\"data row35 col5\" >0</td>\n",
       "      <td id=\"T_1e8b9_row35_col6\" class=\"data row35 col6\" >0</td>\n",
       "      <td id=\"T_1e8b9_row35_col7\" class=\"data row35 col7\" >0</td>\n",
       "      <td id=\"T_1e8b9_row35_col8\" class=\"data row35 col8\" >0</td>\n",
       "      <td id=\"T_1e8b9_row35_col9\" class=\"data row35 col9\" >0</td>\n",
       "      <td id=\"T_1e8b9_row35_col10\" class=\"data row35 col10\" >32</td>\n",
       "      <td id=\"T_1e8b9_row35_col11\" class=\"data row35 col11\" >53</td>\n",
       "      <td id=\"T_1e8b9_row35_col12\" class=\"data row35 col12\" >0</td>\n",
       "      <td id=\"T_1e8b9_row35_col13\" class=\"data row35 col13\" >0</td>\n",
       "      <td id=\"T_1e8b9_row35_col14\" class=\"data row35 col14\" >0</td>\n",
       "      <td id=\"T_1e8b9_row35_col15\" class=\"data row35 col15\" >0</td>\n",
       "      <td id=\"T_1e8b9_row35_col16\" class=\"data row35 col16\" >0</td>\n",
       "      <td id=\"T_1e8b9_row35_col17\" class=\"data row35 col17\" >0</td>\n",
       "    </tr>\n",
       "    <tr>\n",
       "      <th id=\"T_1e8b9_level0_row36\" class=\"row_heading level0 row36\" >Tajikistan</th>\n",
       "      <td id=\"T_1e8b9_row36_col0\" class=\"data row36 col0\" >0</td>\n",
       "      <td id=\"T_1e8b9_row36_col1\" class=\"data row36 col1\" >0</td>\n",
       "      <td id=\"T_1e8b9_row36_col2\" class=\"data row36 col2\" >0</td>\n",
       "      <td id=\"T_1e8b9_row36_col3\" class=\"data row36 col3\" >11</td>\n",
       "      <td id=\"T_1e8b9_row36_col4\" class=\"data row36 col4\" >0</td>\n",
       "      <td id=\"T_1e8b9_row36_col5\" class=\"data row36 col5\" >0</td>\n",
       "      <td id=\"T_1e8b9_row36_col6\" class=\"data row36 col6\" >0</td>\n",
       "      <td id=\"T_1e8b9_row36_col7\" class=\"data row36 col7\" >0</td>\n",
       "      <td id=\"T_1e8b9_row36_col8\" class=\"data row36 col8\" >0</td>\n",
       "      <td id=\"T_1e8b9_row36_col9\" class=\"data row36 col9\" >32</td>\n",
       "      <td id=\"T_1e8b9_row36_col10\" class=\"data row36 col10\" >0</td>\n",
       "      <td id=\"T_1e8b9_row36_col11\" class=\"data row36 col11\" >0</td>\n",
       "      <td id=\"T_1e8b9_row36_col12\" class=\"data row36 col12\" >0</td>\n",
       "      <td id=\"T_1e8b9_row36_col13\" class=\"data row36 col13\" >0</td>\n",
       "      <td id=\"T_1e8b9_row36_col14\" class=\"data row36 col14\" >0</td>\n",
       "      <td id=\"T_1e8b9_row36_col15\" class=\"data row36 col15\" >0</td>\n",
       "      <td id=\"T_1e8b9_row36_col16\" class=\"data row36 col16\" >0</td>\n",
       "      <td id=\"T_1e8b9_row36_col17\" class=\"data row36 col17\" >0</td>\n",
       "    </tr>\n",
       "    <tr>\n",
       "      <th id=\"T_1e8b9_level0_row37\" class=\"row_heading level0 row37\" >Thailand</th>\n",
       "      <td id=\"T_1e8b9_row37_col0\" class=\"data row37 col0\" >0</td>\n",
       "      <td id=\"T_1e8b9_row37_col1\" class=\"data row37 col1\" >0</td>\n",
       "      <td id=\"T_1e8b9_row37_col2\" class=\"data row37 col2\" >0</td>\n",
       "      <td id=\"T_1e8b9_row37_col3\" class=\"data row37 col3\" >0</td>\n",
       "      <td id=\"T_1e8b9_row37_col4\" class=\"data row37 col4\" >0</td>\n",
       "      <td id=\"T_1e8b9_row37_col5\" class=\"data row37 col5\" >0</td>\n",
       "      <td id=\"T_1e8b9_row37_col6\" class=\"data row37 col6\" >0</td>\n",
       "      <td id=\"T_1e8b9_row37_col7\" class=\"data row37 col7\" >0</td>\n",
       "      <td id=\"T_1e8b9_row37_col8\" class=\"data row37 col8\" >0</td>\n",
       "      <td id=\"T_1e8b9_row37_col9\" class=\"data row37 col9\" >0</td>\n",
       "      <td id=\"T_1e8b9_row37_col10\" class=\"data row37 col10\" >0</td>\n",
       "      <td id=\"T_1e8b9_row37_col11\" class=\"data row37 col11\" >0</td>\n",
       "      <td id=\"T_1e8b9_row37_col12\" class=\"data row37 col12\" >0</td>\n",
       "      <td id=\"T_1e8b9_row37_col13\" class=\"data row37 col13\" >0</td>\n",
       "      <td id=\"T_1e8b9_row37_col14\" class=\"data row37 col14\" >55</td>\n",
       "      <td id=\"T_1e8b9_row37_col15\" class=\"data row37 col15\" >0</td>\n",
       "      <td id=\"T_1e8b9_row37_col16\" class=\"data row37 col16\" >0</td>\n",
       "      <td id=\"T_1e8b9_row37_col17\" class=\"data row37 col17\" >0</td>\n",
       "    </tr>\n",
       "    <tr>\n",
       "      <th id=\"T_1e8b9_level0_row38\" class=\"row_heading level0 row38\" >Turkmenistan</th>\n",
       "      <td id=\"T_1e8b9_row38_col0\" class=\"data row38 col0\" >0</td>\n",
       "      <td id=\"T_1e8b9_row38_col1\" class=\"data row38 col1\" >0</td>\n",
       "      <td id=\"T_1e8b9_row38_col2\" class=\"data row38 col2\" >0</td>\n",
       "      <td id=\"T_1e8b9_row38_col3\" class=\"data row38 col3\" >0</td>\n",
       "      <td id=\"T_1e8b9_row38_col4\" class=\"data row38 col4\" >0</td>\n",
       "      <td id=\"T_1e8b9_row38_col5\" class=\"data row38 col5\" >0</td>\n",
       "      <td id=\"T_1e8b9_row38_col6\" class=\"data row38 col6\" >0</td>\n",
       "      <td id=\"T_1e8b9_row38_col7\" class=\"data row38 col7\" >0</td>\n",
       "      <td id=\"T_1e8b9_row38_col8\" class=\"data row38 col8\" >15</td>\n",
       "      <td id=\"T_1e8b9_row38_col9\" class=\"data row38 col9\" >11</td>\n",
       "      <td id=\"T_1e8b9_row38_col10\" class=\"data row38 col10\" >0</td>\n",
       "      <td id=\"T_1e8b9_row38_col11\" class=\"data row38 col11\" >0</td>\n",
       "      <td id=\"T_1e8b9_row38_col12\" class=\"data row38 col12\" >0</td>\n",
       "      <td id=\"T_1e8b9_row38_col13\" class=\"data row38 col13\" >0</td>\n",
       "      <td id=\"T_1e8b9_row38_col14\" class=\"data row38 col14\" >0</td>\n",
       "      <td id=\"T_1e8b9_row38_col15\" class=\"data row38 col15\" >0</td>\n",
       "      <td id=\"T_1e8b9_row38_col16\" class=\"data row38 col16\" >0</td>\n",
       "      <td id=\"T_1e8b9_row38_col17\" class=\"data row38 col17\" >0</td>\n",
       "    </tr>\n",
       "    <tr>\n",
       "      <th id=\"T_1e8b9_level0_row39\" class=\"row_heading level0 row39\" >Uganda</th>\n",
       "      <td id=\"T_1e8b9_row39_col0\" class=\"data row39 col0\" >0</td>\n",
       "      <td id=\"T_1e8b9_row39_col1\" class=\"data row39 col1\" >0</td>\n",
       "      <td id=\"T_1e8b9_row39_col2\" class=\"data row39 col2\" >0</td>\n",
       "      <td id=\"T_1e8b9_row39_col3\" class=\"data row39 col3\" >0</td>\n",
       "      <td id=\"T_1e8b9_row39_col4\" class=\"data row39 col4\" >0</td>\n",
       "      <td id=\"T_1e8b9_row39_col5\" class=\"data row39 col5\" >0</td>\n",
       "      <td id=\"T_1e8b9_row39_col6\" class=\"data row39 col6\" >0</td>\n",
       "      <td id=\"T_1e8b9_row39_col7\" class=\"data row39 col7\" >0</td>\n",
       "      <td id=\"T_1e8b9_row39_col8\" class=\"data row39 col8\" >0</td>\n",
       "      <td id=\"T_1e8b9_row39_col9\" class=\"data row39 col9\" >0</td>\n",
       "      <td id=\"T_1e8b9_row39_col10\" class=\"data row39 col10\" >0</td>\n",
       "      <td id=\"T_1e8b9_row39_col11\" class=\"data row39 col11\" >0</td>\n",
       "      <td id=\"T_1e8b9_row39_col12\" class=\"data row39 col12\" >70</td>\n",
       "      <td id=\"T_1e8b9_row39_col13\" class=\"data row39 col13\" >0</td>\n",
       "      <td id=\"T_1e8b9_row39_col14\" class=\"data row39 col14\" >0</td>\n",
       "      <td id=\"T_1e8b9_row39_col15\" class=\"data row39 col15\" >0</td>\n",
       "      <td id=\"T_1e8b9_row39_col16\" class=\"data row39 col16\" >0</td>\n",
       "      <td id=\"T_1e8b9_row39_col17\" class=\"data row39 col17\" >28</td>\n",
       "    </tr>\n",
       "    <tr>\n",
       "      <th id=\"T_1e8b9_level0_row40\" class=\"row_heading level0 row40\" >Ukraine</th>\n",
       "      <td id=\"T_1e8b9_row40_col0\" class=\"data row40 col0\" >92</td>\n",
       "      <td id=\"T_1e8b9_row40_col1\" class=\"data row40 col1\" >13</td>\n",
       "      <td id=\"T_1e8b9_row40_col2\" class=\"data row40 col2\" >0</td>\n",
       "      <td id=\"T_1e8b9_row40_col3\" class=\"data row40 col3\" >119</td>\n",
       "      <td id=\"T_1e8b9_row40_col4\" class=\"data row40 col4\" >372</td>\n",
       "      <td id=\"T_1e8b9_row40_col5\" class=\"data row40 col5\" >543</td>\n",
       "      <td id=\"T_1e8b9_row40_col6\" class=\"data row40 col6\" >435</td>\n",
       "      <td id=\"T_1e8b9_row40_col7\" class=\"data row40 col7\" >305</td>\n",
       "      <td id=\"T_1e8b9_row40_col8\" class=\"data row40 col8\" >403</td>\n",
       "      <td id=\"T_1e8b9_row40_col9\" class=\"data row40 col9\" >464</td>\n",
       "      <td id=\"T_1e8b9_row40_col10\" class=\"data row40 col10\" >859</td>\n",
       "      <td id=\"T_1e8b9_row40_col11\" class=\"data row40 col11\" >638</td>\n",
       "      <td id=\"T_1e8b9_row40_col12\" class=\"data row40 col12\" >735</td>\n",
       "      <td id=\"T_1e8b9_row40_col13\" class=\"data row40 col13\" >423</td>\n",
       "      <td id=\"T_1e8b9_row40_col14\" class=\"data row40 col14\" >794</td>\n",
       "      <td id=\"T_1e8b9_row40_col15\" class=\"data row40 col15\" >1173</td>\n",
       "      <td id=\"T_1e8b9_row40_col16\" class=\"data row40 col16\" >393</td>\n",
       "      <td id=\"T_1e8b9_row40_col17\" class=\"data row40 col17\" >0</td>\n",
       "    </tr>\n",
       "    <tr>\n",
       "      <th id=\"T_1e8b9_level0_row41\" class=\"row_heading level0 row41\" >United States</th>\n",
       "      <td id=\"T_1e8b9_row41_col0\" class=\"data row41 col0\" >0</td>\n",
       "      <td id=\"T_1e8b9_row41_col1\" class=\"data row41 col1\" >0</td>\n",
       "      <td id=\"T_1e8b9_row41_col2\" class=\"data row41 col2\" >0</td>\n",
       "      <td id=\"T_1e8b9_row41_col3\" class=\"data row41 col3\" >0</td>\n",
       "      <td id=\"T_1e8b9_row41_col4\" class=\"data row41 col4\" >0</td>\n",
       "      <td id=\"T_1e8b9_row41_col5\" class=\"data row41 col5\" >0</td>\n",
       "      <td id=\"T_1e8b9_row41_col6\" class=\"data row41 col6\" >0</td>\n",
       "      <td id=\"T_1e8b9_row41_col7\" class=\"data row41 col7\" >0</td>\n",
       "      <td id=\"T_1e8b9_row41_col8\" class=\"data row41 col8\" >0</td>\n",
       "      <td id=\"T_1e8b9_row41_col9\" class=\"data row41 col9\" >0</td>\n",
       "      <td id=\"T_1e8b9_row41_col10\" class=\"data row41 col10\" >0</td>\n",
       "      <td id=\"T_1e8b9_row41_col11\" class=\"data row41 col11\" >0</td>\n",
       "      <td id=\"T_1e8b9_row41_col12\" class=\"data row41 col12\" >0</td>\n",
       "      <td id=\"T_1e8b9_row41_col13\" class=\"data row41 col13\" >632</td>\n",
       "      <td id=\"T_1e8b9_row41_col14\" class=\"data row41 col14\" >1239</td>\n",
       "      <td id=\"T_1e8b9_row41_col15\" class=\"data row41 col15\" >1086</td>\n",
       "      <td id=\"T_1e8b9_row41_col16\" class=\"data row41 col16\" >679</td>\n",
       "      <td id=\"T_1e8b9_row41_col17\" class=\"data row41 col17\" >0</td>\n",
       "    </tr>\n",
       "    <tr>\n",
       "      <th id=\"T_1e8b9_level0_row42\" class=\"row_heading level0 row42\" >Unknown</th>\n",
       "      <td id=\"T_1e8b9_row42_col0\" class=\"data row42 col0\" >0</td>\n",
       "      <td id=\"T_1e8b9_row42_col1\" class=\"data row42 col1\" >0</td>\n",
       "      <td id=\"T_1e8b9_row42_col2\" class=\"data row42 col2\" >0</td>\n",
       "      <td id=\"T_1e8b9_row42_col3\" class=\"data row42 col3\" >0</td>\n",
       "      <td id=\"T_1e8b9_row42_col4\" class=\"data row42 col4\" >0</td>\n",
       "      <td id=\"T_1e8b9_row42_col5\" class=\"data row42 col5\" >0</td>\n",
       "      <td id=\"T_1e8b9_row42_col6\" class=\"data row42 col6\" >0</td>\n",
       "      <td id=\"T_1e8b9_row42_col7\" class=\"data row42 col7\" >0</td>\n",
       "      <td id=\"T_1e8b9_row42_col8\" class=\"data row42 col8\" >0</td>\n",
       "      <td id=\"T_1e8b9_row42_col9\" class=\"data row42 col9\" >0</td>\n",
       "      <td id=\"T_1e8b9_row42_col10\" class=\"data row42 col10\" >0</td>\n",
       "      <td id=\"T_1e8b9_row42_col11\" class=\"data row42 col11\" >0</td>\n",
       "      <td id=\"T_1e8b9_row42_col12\" class=\"data row42 col12\" >0</td>\n",
       "      <td id=\"T_1e8b9_row42_col13\" class=\"data row42 col13\" >827</td>\n",
       "      <td id=\"T_1e8b9_row42_col14\" class=\"data row42 col14\" >1962</td>\n",
       "      <td id=\"T_1e8b9_row42_col15\" class=\"data row42 col15\" >2763</td>\n",
       "      <td id=\"T_1e8b9_row42_col16\" class=\"data row42 col16\" >3584</td>\n",
       "      <td id=\"T_1e8b9_row42_col17\" class=\"data row42 col17\" >0</td>\n",
       "    </tr>\n",
       "    <tr>\n",
       "      <th id=\"T_1e8b9_level0_row43\" class=\"row_heading level0 row43\" >Uzbekistan</th>\n",
       "      <td id=\"T_1e8b9_row43_col0\" class=\"data row43 col0\" >0</td>\n",
       "      <td id=\"T_1e8b9_row43_col1\" class=\"data row43 col1\" >0</td>\n",
       "      <td id=\"T_1e8b9_row43_col2\" class=\"data row43 col2\" >0</td>\n",
       "      <td id=\"T_1e8b9_row43_col3\" class=\"data row43 col3\" >78</td>\n",
       "      <td id=\"T_1e8b9_row43_col4\" class=\"data row43 col4\" >0</td>\n",
       "      <td id=\"T_1e8b9_row43_col5\" class=\"data row43 col5\" >0</td>\n",
       "      <td id=\"T_1e8b9_row43_col6\" class=\"data row43 col6\" >0</td>\n",
       "      <td id=\"T_1e8b9_row43_col7\" class=\"data row43 col7\" >0</td>\n",
       "      <td id=\"T_1e8b9_row43_col8\" class=\"data row43 col8\" >0</td>\n",
       "      <td id=\"T_1e8b9_row43_col9\" class=\"data row43 col9\" >31</td>\n",
       "      <td id=\"T_1e8b9_row43_col10\" class=\"data row43 col10\" >0</td>\n",
       "      <td id=\"T_1e8b9_row43_col11\" class=\"data row43 col11\" >115</td>\n",
       "      <td id=\"T_1e8b9_row43_col12\" class=\"data row43 col12\" >0</td>\n",
       "      <td id=\"T_1e8b9_row43_col13\" class=\"data row43 col13\" >11</td>\n",
       "      <td id=\"T_1e8b9_row43_col14\" class=\"data row43 col14\" >0</td>\n",
       "      <td id=\"T_1e8b9_row43_col15\" class=\"data row43 col15\" >26</td>\n",
       "      <td id=\"T_1e8b9_row43_col16\" class=\"data row43 col16\" >0</td>\n",
       "      <td id=\"T_1e8b9_row43_col17\" class=\"data row43 col17\" >0</td>\n",
       "    </tr>\n",
       "    <tr>\n",
       "      <th id=\"T_1e8b9_level0_row44\" class=\"row_heading level0 row44\" >Viet Nam</th>\n",
       "      <td id=\"T_1e8b9_row44_col0\" class=\"data row44 col0\" >0</td>\n",
       "      <td id=\"T_1e8b9_row44_col1\" class=\"data row44 col1\" >0</td>\n",
       "      <td id=\"T_1e8b9_row44_col2\" class=\"data row44 col2\" >0</td>\n",
       "      <td id=\"T_1e8b9_row44_col3\" class=\"data row44 col3\" >0</td>\n",
       "      <td id=\"T_1e8b9_row44_col4\" class=\"data row44 col4\" >0</td>\n",
       "      <td id=\"T_1e8b9_row44_col5\" class=\"data row44 col5\" >0</td>\n",
       "      <td id=\"T_1e8b9_row44_col6\" class=\"data row44 col6\" >0</td>\n",
       "      <td id=\"T_1e8b9_row44_col7\" class=\"data row44 col7\" >0</td>\n",
       "      <td id=\"T_1e8b9_row44_col8\" class=\"data row44 col8\" >0</td>\n",
       "      <td id=\"T_1e8b9_row44_col9\" class=\"data row44 col9\" >0</td>\n",
       "      <td id=\"T_1e8b9_row44_col10\" class=\"data row44 col10\" >0</td>\n",
       "      <td id=\"T_1e8b9_row44_col11\" class=\"data row44 col11\" >0</td>\n",
       "      <td id=\"T_1e8b9_row44_col12\" class=\"data row44 col12\" >0</td>\n",
       "      <td id=\"T_1e8b9_row44_col13\" class=\"data row44 col13\" >0</td>\n",
       "      <td id=\"T_1e8b9_row44_col14\" class=\"data row44 col14\" >0</td>\n",
       "      <td id=\"T_1e8b9_row44_col15\" class=\"data row44 col15\" >139</td>\n",
       "      <td id=\"T_1e8b9_row44_col16\" class=\"data row44 col16\" >31</td>\n",
       "      <td id=\"T_1e8b9_row44_col17\" class=\"data row44 col17\" >0</td>\n",
       "    </tr>\n",
       "  </tbody>\n",
       "</table>\n"
      ],
      "text/plain": [
       "<pandas.io.formats.style.Styler at 0x23949306610>"
      ]
     },
     "execution_count": 186,
     "metadata": {},
     "output_type": "execute_result"
    }
   ],
   "source": [
    "cm = sns.light_palette(\"blue\", as_cmap=True)\n",
    "table = pd.pivot_table(data, values='Datasource', index='country',\n",
    "                    columns='yearOfRegistration', aggfunc='count', fill_value=0)\n",
    "table.style.background_gradient(cmap=cm)"
   ]
  },
  {
   "cell_type": "code",
   "execution_count": 189,
   "metadata": {
    "scrolled": true
   },
   "outputs": [
    {
     "data": {
      "application/vnd.plotly.v1+json": {
       "config": {
        "plotlyServerURL": "https://plot.ly"
       },
       "data": [
        {
         "branchvalues": "total",
         "customdata": [
          [
           "Female"
          ],
          [
           "Male"
          ],
          [
           "Female"
          ],
          [
           "Male"
          ],
          [
           "Female"
          ],
          [
           "Male"
          ],
          [
           "Female"
          ],
          [
           "Male"
          ],
          [
           "Female"
          ],
          [
           "Male"
          ],
          [
           "Female"
          ],
          [
           "Male"
          ],
          [
           "Female"
          ],
          [
           "Male"
          ],
          [
           "Female"
          ],
          [
           "Male"
          ],
          [
           "Female"
          ],
          [
           "Male"
          ],
          [
           "Female"
          ],
          [
           "Male"
          ],
          [
           "Female"
          ],
          [
           "Male"
          ]
         ],
         "domain": {
          "x": [
           0,
           1
          ],
          "y": [
           0,
           1
          ]
         },
         "hovertemplate": "labels=%{label}<br>Victims=%{value}<br>parent=%{parent}<br>id=%{id}<br>gender=%{customdata[0]}<extra></extra>",
         "ids": [
          "Female/-99",
          "Male/9--17",
          "Female/9--17",
          "Male/48+",
          "Female/48+",
          "Male/39--47",
          "Female/39--47",
          "Male/30--38",
          "Female/30--38",
          "Male/27--29",
          "Female/27--29",
          "Male/24--26",
          "Female/24--26",
          "Male/21--23",
          "Female/21--23",
          "Male/18--20",
          "Female/18--20",
          "Male/0--8",
          "Female/0--8",
          "Male/-99",
          "Female",
          "Male"
         ],
         "labels": [
          "-99",
          "9--17",
          "9--17",
          "48+",
          "48+",
          "39--47",
          "39--47",
          "30--38",
          "30--38",
          "27--29",
          "27--29",
          "24--26",
          "24--26",
          "21--23",
          "21--23",
          "18--20",
          "18--20",
          "0--8",
          "0--8",
          "-99",
          "Female",
          "Male"
         ],
         "marker": {
          "colors": [
           "#636efa",
           "#EF553B",
           "#636efa",
           "#EF553B",
           "#636efa",
           "#EF553B",
           "#636efa",
           "#EF553B",
           "#636efa",
           "#EF553B",
           "#636efa",
           "#EF553B",
           "#636efa",
           "#EF553B",
           "#636efa",
           "#EF553B",
           "#636efa",
           "#EF553B",
           "#636efa",
           "#EF553B",
           "#636efa",
           "#EF553B"
          ]
         },
         "name": "",
         "parents": [
          "Female",
          "Male",
          "Female",
          "Male",
          "Female",
          "Male",
          "Female",
          "Male",
          "Female",
          "Male",
          "Female",
          "Male",
          "Female",
          "Male",
          "Female",
          "Male",
          "Female",
          "Male",
          "Female",
          "Male",
          "",
          ""
         ],
         "type": "sunburst",
         "values": [
          8840,
          1891,
          6754,
          695,
          865,
          1455,
          1366,
          2869,
          4222,
          772,
          1869,
          648,
          2816,
          479,
          3734,
          221,
          4227,
          715,
          841,
          3522,
          35534,
          13267
         ]
        }
       ],
       "layout": {
        "height": 700,
        "legend": {
         "tracegroupgap": 0
        },
        "template": {
         "data": {
          "bar": [
           {
            "error_x": {
             "color": "#2a3f5f"
            },
            "error_y": {
             "color": "#2a3f5f"
            },
            "marker": {
             "line": {
              "color": "#E5ECF6",
              "width": 0.5
             },
             "pattern": {
              "fillmode": "overlay",
              "size": 10,
              "solidity": 0.2
             }
            },
            "type": "bar"
           }
          ],
          "barpolar": [
           {
            "marker": {
             "line": {
              "color": "#E5ECF6",
              "width": 0.5
             },
             "pattern": {
              "fillmode": "overlay",
              "size": 10,
              "solidity": 0.2
             }
            },
            "type": "barpolar"
           }
          ],
          "carpet": [
           {
            "aaxis": {
             "endlinecolor": "#2a3f5f",
             "gridcolor": "white",
             "linecolor": "white",
             "minorgridcolor": "white",
             "startlinecolor": "#2a3f5f"
            },
            "baxis": {
             "endlinecolor": "#2a3f5f",
             "gridcolor": "white",
             "linecolor": "white",
             "minorgridcolor": "white",
             "startlinecolor": "#2a3f5f"
            },
            "type": "carpet"
           }
          ],
          "choropleth": [
           {
            "colorbar": {
             "outlinewidth": 0,
             "ticks": ""
            },
            "type": "choropleth"
           }
          ],
          "contour": [
           {
            "colorbar": {
             "outlinewidth": 0,
             "ticks": ""
            },
            "colorscale": [
             [
              0,
              "#0d0887"
             ],
             [
              0.1111111111111111,
              "#46039f"
             ],
             [
              0.2222222222222222,
              "#7201a8"
             ],
             [
              0.3333333333333333,
              "#9c179e"
             ],
             [
              0.4444444444444444,
              "#bd3786"
             ],
             [
              0.5555555555555556,
              "#d8576b"
             ],
             [
              0.6666666666666666,
              "#ed7953"
             ],
             [
              0.7777777777777778,
              "#fb9f3a"
             ],
             [
              0.8888888888888888,
              "#fdca26"
             ],
             [
              1,
              "#f0f921"
             ]
            ],
            "type": "contour"
           }
          ],
          "contourcarpet": [
           {
            "colorbar": {
             "outlinewidth": 0,
             "ticks": ""
            },
            "type": "contourcarpet"
           }
          ],
          "heatmap": [
           {
            "colorbar": {
             "outlinewidth": 0,
             "ticks": ""
            },
            "colorscale": [
             [
              0,
              "#0d0887"
             ],
             [
              0.1111111111111111,
              "#46039f"
             ],
             [
              0.2222222222222222,
              "#7201a8"
             ],
             [
              0.3333333333333333,
              "#9c179e"
             ],
             [
              0.4444444444444444,
              "#bd3786"
             ],
             [
              0.5555555555555556,
              "#d8576b"
             ],
             [
              0.6666666666666666,
              "#ed7953"
             ],
             [
              0.7777777777777778,
              "#fb9f3a"
             ],
             [
              0.8888888888888888,
              "#fdca26"
             ],
             [
              1,
              "#f0f921"
             ]
            ],
            "type": "heatmap"
           }
          ],
          "heatmapgl": [
           {
            "colorbar": {
             "outlinewidth": 0,
             "ticks": ""
            },
            "colorscale": [
             [
              0,
              "#0d0887"
             ],
             [
              0.1111111111111111,
              "#46039f"
             ],
             [
              0.2222222222222222,
              "#7201a8"
             ],
             [
              0.3333333333333333,
              "#9c179e"
             ],
             [
              0.4444444444444444,
              "#bd3786"
             ],
             [
              0.5555555555555556,
              "#d8576b"
             ],
             [
              0.6666666666666666,
              "#ed7953"
             ],
             [
              0.7777777777777778,
              "#fb9f3a"
             ],
             [
              0.8888888888888888,
              "#fdca26"
             ],
             [
              1,
              "#f0f921"
             ]
            ],
            "type": "heatmapgl"
           }
          ],
          "histogram": [
           {
            "marker": {
             "pattern": {
              "fillmode": "overlay",
              "size": 10,
              "solidity": 0.2
             }
            },
            "type": "histogram"
           }
          ],
          "histogram2d": [
           {
            "colorbar": {
             "outlinewidth": 0,
             "ticks": ""
            },
            "colorscale": [
             [
              0,
              "#0d0887"
             ],
             [
              0.1111111111111111,
              "#46039f"
             ],
             [
              0.2222222222222222,
              "#7201a8"
             ],
             [
              0.3333333333333333,
              "#9c179e"
             ],
             [
              0.4444444444444444,
              "#bd3786"
             ],
             [
              0.5555555555555556,
              "#d8576b"
             ],
             [
              0.6666666666666666,
              "#ed7953"
             ],
             [
              0.7777777777777778,
              "#fb9f3a"
             ],
             [
              0.8888888888888888,
              "#fdca26"
             ],
             [
              1,
              "#f0f921"
             ]
            ],
            "type": "histogram2d"
           }
          ],
          "histogram2dcontour": [
           {
            "colorbar": {
             "outlinewidth": 0,
             "ticks": ""
            },
            "colorscale": [
             [
              0,
              "#0d0887"
             ],
             [
              0.1111111111111111,
              "#46039f"
             ],
             [
              0.2222222222222222,
              "#7201a8"
             ],
             [
              0.3333333333333333,
              "#9c179e"
             ],
             [
              0.4444444444444444,
              "#bd3786"
             ],
             [
              0.5555555555555556,
              "#d8576b"
             ],
             [
              0.6666666666666666,
              "#ed7953"
             ],
             [
              0.7777777777777778,
              "#fb9f3a"
             ],
             [
              0.8888888888888888,
              "#fdca26"
             ],
             [
              1,
              "#f0f921"
             ]
            ],
            "type": "histogram2dcontour"
           }
          ],
          "mesh3d": [
           {
            "colorbar": {
             "outlinewidth": 0,
             "ticks": ""
            },
            "type": "mesh3d"
           }
          ],
          "parcoords": [
           {
            "line": {
             "colorbar": {
              "outlinewidth": 0,
              "ticks": ""
             }
            },
            "type": "parcoords"
           }
          ],
          "pie": [
           {
            "automargin": true,
            "type": "pie"
           }
          ],
          "scatter": [
           {
            "marker": {
             "colorbar": {
              "outlinewidth": 0,
              "ticks": ""
             }
            },
            "type": "scatter"
           }
          ],
          "scatter3d": [
           {
            "line": {
             "colorbar": {
              "outlinewidth": 0,
              "ticks": ""
             }
            },
            "marker": {
             "colorbar": {
              "outlinewidth": 0,
              "ticks": ""
             }
            },
            "type": "scatter3d"
           }
          ],
          "scattercarpet": [
           {
            "marker": {
             "colorbar": {
              "outlinewidth": 0,
              "ticks": ""
             }
            },
            "type": "scattercarpet"
           }
          ],
          "scattergeo": [
           {
            "marker": {
             "colorbar": {
              "outlinewidth": 0,
              "ticks": ""
             }
            },
            "type": "scattergeo"
           }
          ],
          "scattergl": [
           {
            "marker": {
             "colorbar": {
              "outlinewidth": 0,
              "ticks": ""
             }
            },
            "type": "scattergl"
           }
          ],
          "scattermapbox": [
           {
            "marker": {
             "colorbar": {
              "outlinewidth": 0,
              "ticks": ""
             }
            },
            "type": "scattermapbox"
           }
          ],
          "scatterpolar": [
           {
            "marker": {
             "colorbar": {
              "outlinewidth": 0,
              "ticks": ""
             }
            },
            "type": "scatterpolar"
           }
          ],
          "scatterpolargl": [
           {
            "marker": {
             "colorbar": {
              "outlinewidth": 0,
              "ticks": ""
             }
            },
            "type": "scatterpolargl"
           }
          ],
          "scatterternary": [
           {
            "marker": {
             "colorbar": {
              "outlinewidth": 0,
              "ticks": ""
             }
            },
            "type": "scatterternary"
           }
          ],
          "surface": [
           {
            "colorbar": {
             "outlinewidth": 0,
             "ticks": ""
            },
            "colorscale": [
             [
              0,
              "#0d0887"
             ],
             [
              0.1111111111111111,
              "#46039f"
             ],
             [
              0.2222222222222222,
              "#7201a8"
             ],
             [
              0.3333333333333333,
              "#9c179e"
             ],
             [
              0.4444444444444444,
              "#bd3786"
             ],
             [
              0.5555555555555556,
              "#d8576b"
             ],
             [
              0.6666666666666666,
              "#ed7953"
             ],
             [
              0.7777777777777778,
              "#fb9f3a"
             ],
             [
              0.8888888888888888,
              "#fdca26"
             ],
             [
              1,
              "#f0f921"
             ]
            ],
            "type": "surface"
           }
          ],
          "table": [
           {
            "cells": {
             "fill": {
              "color": "#EBF0F8"
             },
             "line": {
              "color": "white"
             }
            },
            "header": {
             "fill": {
              "color": "#C8D4E3"
             },
             "line": {
              "color": "white"
             }
            },
            "type": "table"
           }
          ]
         },
         "layout": {
          "annotationdefaults": {
           "arrowcolor": "#2a3f5f",
           "arrowhead": 0,
           "arrowwidth": 1
          },
          "autotypenumbers": "strict",
          "coloraxis": {
           "colorbar": {
            "outlinewidth": 0,
            "ticks": ""
           }
          },
          "colorscale": {
           "diverging": [
            [
             0,
             "#8e0152"
            ],
            [
             0.1,
             "#c51b7d"
            ],
            [
             0.2,
             "#de77ae"
            ],
            [
             0.3,
             "#f1b6da"
            ],
            [
             0.4,
             "#fde0ef"
            ],
            [
             0.5,
             "#f7f7f7"
            ],
            [
             0.6,
             "#e6f5d0"
            ],
            [
             0.7,
             "#b8e186"
            ],
            [
             0.8,
             "#7fbc41"
            ],
            [
             0.9,
             "#4d9221"
            ],
            [
             1,
             "#276419"
            ]
           ],
           "sequential": [
            [
             0,
             "#0d0887"
            ],
            [
             0.1111111111111111,
             "#46039f"
            ],
            [
             0.2222222222222222,
             "#7201a8"
            ],
            [
             0.3333333333333333,
             "#9c179e"
            ],
            [
             0.4444444444444444,
             "#bd3786"
            ],
            [
             0.5555555555555556,
             "#d8576b"
            ],
            [
             0.6666666666666666,
             "#ed7953"
            ],
            [
             0.7777777777777778,
             "#fb9f3a"
            ],
            [
             0.8888888888888888,
             "#fdca26"
            ],
            [
             1,
             "#f0f921"
            ]
           ],
           "sequentialminus": [
            [
             0,
             "#0d0887"
            ],
            [
             0.1111111111111111,
             "#46039f"
            ],
            [
             0.2222222222222222,
             "#7201a8"
            ],
            [
             0.3333333333333333,
             "#9c179e"
            ],
            [
             0.4444444444444444,
             "#bd3786"
            ],
            [
             0.5555555555555556,
             "#d8576b"
            ],
            [
             0.6666666666666666,
             "#ed7953"
            ],
            [
             0.7777777777777778,
             "#fb9f3a"
            ],
            [
             0.8888888888888888,
             "#fdca26"
            ],
            [
             1,
             "#f0f921"
            ]
           ]
          },
          "colorway": [
           "#636efa",
           "#EF553B",
           "#00cc96",
           "#ab63fa",
           "#FFA15A",
           "#19d3f3",
           "#FF6692",
           "#B6E880",
           "#FF97FF",
           "#FECB52"
          ],
          "font": {
           "color": "#2a3f5f"
          },
          "geo": {
           "bgcolor": "white",
           "lakecolor": "white",
           "landcolor": "#E5ECF6",
           "showlakes": true,
           "showland": true,
           "subunitcolor": "white"
          },
          "hoverlabel": {
           "align": "left"
          },
          "hovermode": "closest",
          "mapbox": {
           "style": "light"
          },
          "paper_bgcolor": "white",
          "plot_bgcolor": "#E5ECF6",
          "polar": {
           "angularaxis": {
            "gridcolor": "white",
            "linecolor": "white",
            "ticks": ""
           },
           "bgcolor": "#E5ECF6",
           "radialaxis": {
            "gridcolor": "white",
            "linecolor": "white",
            "ticks": ""
           }
          },
          "scene": {
           "xaxis": {
            "backgroundcolor": "#E5ECF6",
            "gridcolor": "white",
            "gridwidth": 2,
            "linecolor": "white",
            "showbackground": true,
            "ticks": "",
            "zerolinecolor": "white"
           },
           "yaxis": {
            "backgroundcolor": "#E5ECF6",
            "gridcolor": "white",
            "gridwidth": 2,
            "linecolor": "white",
            "showbackground": true,
            "ticks": "",
            "zerolinecolor": "white"
           },
           "zaxis": {
            "backgroundcolor": "#E5ECF6",
            "gridcolor": "white",
            "gridwidth": 2,
            "linecolor": "white",
            "showbackground": true,
            "ticks": "",
            "zerolinecolor": "white"
           }
          },
          "shapedefaults": {
           "line": {
            "color": "#2a3f5f"
           }
          },
          "ternary": {
           "aaxis": {
            "gridcolor": "white",
            "linecolor": "white",
            "ticks": ""
           },
           "baxis": {
            "gridcolor": "white",
            "linecolor": "white",
            "ticks": ""
           },
           "bgcolor": "#E5ECF6",
           "caxis": {
            "gridcolor": "white",
            "linecolor": "white",
            "ticks": ""
           }
          },
          "title": {
           "x": 0.05
          },
          "xaxis": {
           "automargin": true,
           "gridcolor": "white",
           "linecolor": "white",
           "ticks": "",
           "title": {
            "standoff": 15
           },
           "zerolinecolor": "white",
           "zerolinewidth": 2
          },
          "yaxis": {
           "automargin": true,
           "gridcolor": "white",
           "linecolor": "white",
           "ticks": "",
           "title": {
            "standoff": 15
           },
           "zerolinecolor": "white",
           "zerolinewidth": 2
          }
         }
        },
        "title": {
         "text": "Gender and Age of Human Trafficking Victims"
        },
        "width": 700
       }
      },
      "text/html": [
       "<div>                            <div id=\"83d2b6a9-bc60-4658-8db6-b497b44fcde5\" class=\"plotly-graph-div\" style=\"height:700px; width:700px;\"></div>            <script type=\"text/javascript\">                require([\"plotly\"], function(Plotly) {                    window.PLOTLYENV=window.PLOTLYENV || {};                                    if (document.getElementById(\"83d2b6a9-bc60-4658-8db6-b497b44fcde5\")) {                    Plotly.newPlot(                        \"83d2b6a9-bc60-4658-8db6-b497b44fcde5\",                        [{\"branchvalues\":\"total\",\"customdata\":[[\"Female\"],[\"Male\"],[\"Female\"],[\"Male\"],[\"Female\"],[\"Male\"],[\"Female\"],[\"Male\"],[\"Female\"],[\"Male\"],[\"Female\"],[\"Male\"],[\"Female\"],[\"Male\"],[\"Female\"],[\"Male\"],[\"Female\"],[\"Male\"],[\"Female\"],[\"Male\"],[\"Female\"],[\"Male\"]],\"domain\":{\"x\":[0.0,1.0],\"y\":[0.0,1.0]},\"hovertemplate\":\"labels=%{label}<br>Victims=%{value}<br>parent=%{parent}<br>id=%{id}<br>gender=%{customdata[0]}<extra></extra>\",\"ids\":[\"Female/-99\",\"Male/9--17\",\"Female/9--17\",\"Male/48+\",\"Female/48+\",\"Male/39--47\",\"Female/39--47\",\"Male/30--38\",\"Female/30--38\",\"Male/27--29\",\"Female/27--29\",\"Male/24--26\",\"Female/24--26\",\"Male/21--23\",\"Female/21--23\",\"Male/18--20\",\"Female/18--20\",\"Male/0--8\",\"Female/0--8\",\"Male/-99\",\"Female\",\"Male\"],\"labels\":[\"-99\",\"9--17\",\"9--17\",\"48+\",\"48+\",\"39--47\",\"39--47\",\"30--38\",\"30--38\",\"27--29\",\"27--29\",\"24--26\",\"24--26\",\"21--23\",\"21--23\",\"18--20\",\"18--20\",\"0--8\",\"0--8\",\"-99\",\"Female\",\"Male\"],\"marker\":{\"colors\":[\"#636efa\",\"#EF553B\",\"#636efa\",\"#EF553B\",\"#636efa\",\"#EF553B\",\"#636efa\",\"#EF553B\",\"#636efa\",\"#EF553B\",\"#636efa\",\"#EF553B\",\"#636efa\",\"#EF553B\",\"#636efa\",\"#EF553B\",\"#636efa\",\"#EF553B\",\"#636efa\",\"#EF553B\",\"#636efa\",\"#EF553B\"]},\"name\":\"\",\"parents\":[\"Female\",\"Male\",\"Female\",\"Male\",\"Female\",\"Male\",\"Female\",\"Male\",\"Female\",\"Male\",\"Female\",\"Male\",\"Female\",\"Male\",\"Female\",\"Male\",\"Female\",\"Male\",\"Female\",\"Male\",\"\",\"\"],\"values\":[8840,1891,6754,695,865,1455,1366,2869,4222,772,1869,648,2816,479,3734,221,4227,715,841,3522,35534,13267],\"type\":\"sunburst\"}],                        {\"template\":{\"data\":{\"bar\":[{\"error_x\":{\"color\":\"#2a3f5f\"},\"error_y\":{\"color\":\"#2a3f5f\"},\"marker\":{\"line\":{\"color\":\"#E5ECF6\",\"width\":0.5},\"pattern\":{\"fillmode\":\"overlay\",\"size\":10,\"solidity\":0.2}},\"type\":\"bar\"}],\"barpolar\":[{\"marker\":{\"line\":{\"color\":\"#E5ECF6\",\"width\":0.5},\"pattern\":{\"fillmode\":\"overlay\",\"size\":10,\"solidity\":0.2}},\"type\":\"barpolar\"}],\"carpet\":[{\"aaxis\":{\"endlinecolor\":\"#2a3f5f\",\"gridcolor\":\"white\",\"linecolor\":\"white\",\"minorgridcolor\":\"white\",\"startlinecolor\":\"#2a3f5f\"},\"baxis\":{\"endlinecolor\":\"#2a3f5f\",\"gridcolor\":\"white\",\"linecolor\":\"white\",\"minorgridcolor\":\"white\",\"startlinecolor\":\"#2a3f5f\"},\"type\":\"carpet\"}],\"choropleth\":[{\"colorbar\":{\"outlinewidth\":0,\"ticks\":\"\"},\"type\":\"choropleth\"}],\"contour\":[{\"colorbar\":{\"outlinewidth\":0,\"ticks\":\"\"},\"colorscale\":[[0.0,\"#0d0887\"],[0.1111111111111111,\"#46039f\"],[0.2222222222222222,\"#7201a8\"],[0.3333333333333333,\"#9c179e\"],[0.4444444444444444,\"#bd3786\"],[0.5555555555555556,\"#d8576b\"],[0.6666666666666666,\"#ed7953\"],[0.7777777777777778,\"#fb9f3a\"],[0.8888888888888888,\"#fdca26\"],[1.0,\"#f0f921\"]],\"type\":\"contour\"}],\"contourcarpet\":[{\"colorbar\":{\"outlinewidth\":0,\"ticks\":\"\"},\"type\":\"contourcarpet\"}],\"heatmap\":[{\"colorbar\":{\"outlinewidth\":0,\"ticks\":\"\"},\"colorscale\":[[0.0,\"#0d0887\"],[0.1111111111111111,\"#46039f\"],[0.2222222222222222,\"#7201a8\"],[0.3333333333333333,\"#9c179e\"],[0.4444444444444444,\"#bd3786\"],[0.5555555555555556,\"#d8576b\"],[0.6666666666666666,\"#ed7953\"],[0.7777777777777778,\"#fb9f3a\"],[0.8888888888888888,\"#fdca26\"],[1.0,\"#f0f921\"]],\"type\":\"heatmap\"}],\"heatmapgl\":[{\"colorbar\":{\"outlinewidth\":0,\"ticks\":\"\"},\"colorscale\":[[0.0,\"#0d0887\"],[0.1111111111111111,\"#46039f\"],[0.2222222222222222,\"#7201a8\"],[0.3333333333333333,\"#9c179e\"],[0.4444444444444444,\"#bd3786\"],[0.5555555555555556,\"#d8576b\"],[0.6666666666666666,\"#ed7953\"],[0.7777777777777778,\"#fb9f3a\"],[0.8888888888888888,\"#fdca26\"],[1.0,\"#f0f921\"]],\"type\":\"heatmapgl\"}],\"histogram\":[{\"marker\":{\"pattern\":{\"fillmode\":\"overlay\",\"size\":10,\"solidity\":0.2}},\"type\":\"histogram\"}],\"histogram2d\":[{\"colorbar\":{\"outlinewidth\":0,\"ticks\":\"\"},\"colorscale\":[[0.0,\"#0d0887\"],[0.1111111111111111,\"#46039f\"],[0.2222222222222222,\"#7201a8\"],[0.3333333333333333,\"#9c179e\"],[0.4444444444444444,\"#bd3786\"],[0.5555555555555556,\"#d8576b\"],[0.6666666666666666,\"#ed7953\"],[0.7777777777777778,\"#fb9f3a\"],[0.8888888888888888,\"#fdca26\"],[1.0,\"#f0f921\"]],\"type\":\"histogram2d\"}],\"histogram2dcontour\":[{\"colorbar\":{\"outlinewidth\":0,\"ticks\":\"\"},\"colorscale\":[[0.0,\"#0d0887\"],[0.1111111111111111,\"#46039f\"],[0.2222222222222222,\"#7201a8\"],[0.3333333333333333,\"#9c179e\"],[0.4444444444444444,\"#bd3786\"],[0.5555555555555556,\"#d8576b\"],[0.6666666666666666,\"#ed7953\"],[0.7777777777777778,\"#fb9f3a\"],[0.8888888888888888,\"#fdca26\"],[1.0,\"#f0f921\"]],\"type\":\"histogram2dcontour\"}],\"mesh3d\":[{\"colorbar\":{\"outlinewidth\":0,\"ticks\":\"\"},\"type\":\"mesh3d\"}],\"parcoords\":[{\"line\":{\"colorbar\":{\"outlinewidth\":0,\"ticks\":\"\"}},\"type\":\"parcoords\"}],\"pie\":[{\"automargin\":true,\"type\":\"pie\"}],\"scatter\":[{\"marker\":{\"colorbar\":{\"outlinewidth\":0,\"ticks\":\"\"}},\"type\":\"scatter\"}],\"scatter3d\":[{\"line\":{\"colorbar\":{\"outlinewidth\":0,\"ticks\":\"\"}},\"marker\":{\"colorbar\":{\"outlinewidth\":0,\"ticks\":\"\"}},\"type\":\"scatter3d\"}],\"scattercarpet\":[{\"marker\":{\"colorbar\":{\"outlinewidth\":0,\"ticks\":\"\"}},\"type\":\"scattercarpet\"}],\"scattergeo\":[{\"marker\":{\"colorbar\":{\"outlinewidth\":0,\"ticks\":\"\"}},\"type\":\"scattergeo\"}],\"scattergl\":[{\"marker\":{\"colorbar\":{\"outlinewidth\":0,\"ticks\":\"\"}},\"type\":\"scattergl\"}],\"scattermapbox\":[{\"marker\":{\"colorbar\":{\"outlinewidth\":0,\"ticks\":\"\"}},\"type\":\"scattermapbox\"}],\"scatterpolar\":[{\"marker\":{\"colorbar\":{\"outlinewidth\":0,\"ticks\":\"\"}},\"type\":\"scatterpolar\"}],\"scatterpolargl\":[{\"marker\":{\"colorbar\":{\"outlinewidth\":0,\"ticks\":\"\"}},\"type\":\"scatterpolargl\"}],\"scatterternary\":[{\"marker\":{\"colorbar\":{\"outlinewidth\":0,\"ticks\":\"\"}},\"type\":\"scatterternary\"}],\"surface\":[{\"colorbar\":{\"outlinewidth\":0,\"ticks\":\"\"},\"colorscale\":[[0.0,\"#0d0887\"],[0.1111111111111111,\"#46039f\"],[0.2222222222222222,\"#7201a8\"],[0.3333333333333333,\"#9c179e\"],[0.4444444444444444,\"#bd3786\"],[0.5555555555555556,\"#d8576b\"],[0.6666666666666666,\"#ed7953\"],[0.7777777777777778,\"#fb9f3a\"],[0.8888888888888888,\"#fdca26\"],[1.0,\"#f0f921\"]],\"type\":\"surface\"}],\"table\":[{\"cells\":{\"fill\":{\"color\":\"#EBF0F8\"},\"line\":{\"color\":\"white\"}},\"header\":{\"fill\":{\"color\":\"#C8D4E3\"},\"line\":{\"color\":\"white\"}},\"type\":\"table\"}]},\"layout\":{\"annotationdefaults\":{\"arrowcolor\":\"#2a3f5f\",\"arrowhead\":0,\"arrowwidth\":1},\"autotypenumbers\":\"strict\",\"coloraxis\":{\"colorbar\":{\"outlinewidth\":0,\"ticks\":\"\"}},\"colorscale\":{\"diverging\":[[0,\"#8e0152\"],[0.1,\"#c51b7d\"],[0.2,\"#de77ae\"],[0.3,\"#f1b6da\"],[0.4,\"#fde0ef\"],[0.5,\"#f7f7f7\"],[0.6,\"#e6f5d0\"],[0.7,\"#b8e186\"],[0.8,\"#7fbc41\"],[0.9,\"#4d9221\"],[1,\"#276419\"]],\"sequential\":[[0.0,\"#0d0887\"],[0.1111111111111111,\"#46039f\"],[0.2222222222222222,\"#7201a8\"],[0.3333333333333333,\"#9c179e\"],[0.4444444444444444,\"#bd3786\"],[0.5555555555555556,\"#d8576b\"],[0.6666666666666666,\"#ed7953\"],[0.7777777777777778,\"#fb9f3a\"],[0.8888888888888888,\"#fdca26\"],[1.0,\"#f0f921\"]],\"sequentialminus\":[[0.0,\"#0d0887\"],[0.1111111111111111,\"#46039f\"],[0.2222222222222222,\"#7201a8\"],[0.3333333333333333,\"#9c179e\"],[0.4444444444444444,\"#bd3786\"],[0.5555555555555556,\"#d8576b\"],[0.6666666666666666,\"#ed7953\"],[0.7777777777777778,\"#fb9f3a\"],[0.8888888888888888,\"#fdca26\"],[1.0,\"#f0f921\"]]},\"colorway\":[\"#636efa\",\"#EF553B\",\"#00cc96\",\"#ab63fa\",\"#FFA15A\",\"#19d3f3\",\"#FF6692\",\"#B6E880\",\"#FF97FF\",\"#FECB52\"],\"font\":{\"color\":\"#2a3f5f\"},\"geo\":{\"bgcolor\":\"white\",\"lakecolor\":\"white\",\"landcolor\":\"#E5ECF6\",\"showlakes\":true,\"showland\":true,\"subunitcolor\":\"white\"},\"hoverlabel\":{\"align\":\"left\"},\"hovermode\":\"closest\",\"mapbox\":{\"style\":\"light\"},\"paper_bgcolor\":\"white\",\"plot_bgcolor\":\"#E5ECF6\",\"polar\":{\"angularaxis\":{\"gridcolor\":\"white\",\"linecolor\":\"white\",\"ticks\":\"\"},\"bgcolor\":\"#E5ECF6\",\"radialaxis\":{\"gridcolor\":\"white\",\"linecolor\":\"white\",\"ticks\":\"\"}},\"scene\":{\"xaxis\":{\"backgroundcolor\":\"#E5ECF6\",\"gridcolor\":\"white\",\"gridwidth\":2,\"linecolor\":\"white\",\"showbackground\":true,\"ticks\":\"\",\"zerolinecolor\":\"white\"},\"yaxis\":{\"backgroundcolor\":\"#E5ECF6\",\"gridcolor\":\"white\",\"gridwidth\":2,\"linecolor\":\"white\",\"showbackground\":true,\"ticks\":\"\",\"zerolinecolor\":\"white\"},\"zaxis\":{\"backgroundcolor\":\"#E5ECF6\",\"gridcolor\":\"white\",\"gridwidth\":2,\"linecolor\":\"white\",\"showbackground\":true,\"ticks\":\"\",\"zerolinecolor\":\"white\"}},\"shapedefaults\":{\"line\":{\"color\":\"#2a3f5f\"}},\"ternary\":{\"aaxis\":{\"gridcolor\":\"white\",\"linecolor\":\"white\",\"ticks\":\"\"},\"baxis\":{\"gridcolor\":\"white\",\"linecolor\":\"white\",\"ticks\":\"\"},\"bgcolor\":\"#E5ECF6\",\"caxis\":{\"gridcolor\":\"white\",\"linecolor\":\"white\",\"ticks\":\"\"}},\"title\":{\"x\":0.05},\"xaxis\":{\"automargin\":true,\"gridcolor\":\"white\",\"linecolor\":\"white\",\"ticks\":\"\",\"title\":{\"standoff\":15},\"zerolinecolor\":\"white\",\"zerolinewidth\":2},\"yaxis\":{\"automargin\":true,\"gridcolor\":\"white\",\"linecolor\":\"white\",\"ticks\":\"\",\"title\":{\"standoff\":15},\"zerolinecolor\":\"white\",\"zerolinewidth\":2}}},\"legend\":{\"tracegroupgap\":0},\"title\":{\"text\":\"Gender and Age of Human Trafficking Victims\"},\"width\":700,\"height\":700},                        {\"responsive\": true}                    ).then(function(){\n",
       "                            \n",
       "var gd = document.getElementById('83d2b6a9-bc60-4658-8db6-b497b44fcde5');\n",
       "var x = new MutationObserver(function (mutations, observer) {{\n",
       "        var display = window.getComputedStyle(gd).display;\n",
       "        if (!display || display === 'none') {{\n",
       "            console.log([gd, 'removed!']);\n",
       "            Plotly.purge(gd);\n",
       "            observer.disconnect();\n",
       "        }}\n",
       "}});\n",
       "\n",
       "// Listen for the removal of the full notebook cells\n",
       "var notebookContainer = gd.closest('#notebook-container');\n",
       "if (notebookContainer) {{\n",
       "    x.observe(notebookContainer, {childList: true});\n",
       "}}\n",
       "\n",
       "// Listen for the clearing of the current output cell\n",
       "var outputEl = gd.closest('.output');\n",
       "if (outputEl) {{\n",
       "    x.observe(outputEl, {childList: true});\n",
       "}}\n",
       "\n",
       "                        })                };                });            </script>        </div>"
      ]
     },
     "metadata": {},
     "output_type": "display_data"
    }
   ],
   "source": [
    "data['Victims'] = 1\n",
    "fig = px.sunburst(data[data.ageBroad.notna()], path=['gender', 'ageBroad'], values='Victims', color='gender',\n",
    "                  title='Gender and Age of Human Trafficking Victims')\n",
    "fig.update_layout(width=700, height=700)\n",
    "fig.show()"
   ]
  },
  {
   "cell_type": "code",
   "execution_count": 192,
   "metadata": {},
   "outputs": [],
   "source": [
    "data_bar_mg = pd.DataFrame(data.groupby(['gender', 'majorityStatus'])['majorityStatus'].agg(Victims='count')).reset_index()"
   ]
  },
  {
   "cell_type": "code",
   "execution_count": 193,
   "metadata": {},
   "outputs": [
    {
     "data": {
      "application/vnd.plotly.v1+json": {
       "config": {
        "plotlyServerURL": "https://plot.ly"
       },
       "data": [
        {
         "alignmentgroup": "True",
         "hovertemplate": "gender=Female<br>Majority Status=%{x}<br>Victims=%{y}<extra></extra>",
         "legendgroup": "Female",
         "marker": {
          "color": "#636efa",
          "pattern": {
           "shape": ""
          }
         },
         "name": "Female",
         "offsetgroup": "Female",
         "orientation": "v",
         "showlegend": true,
         "textposition": "outside",
         "texttemplate": "%{value}",
         "type": "bar",
         "x": [
          "-99",
          "Adult",
          "Minor"
         ],
         "xaxis": "x",
         "y": [
          8840,
          19099,
          7595
         ],
         "yaxis": "y"
        },
        {
         "alignmentgroup": "True",
         "hovertemplate": "gender=Male<br>Majority Status=%{x}<br>Victims=%{y}<extra></extra>",
         "legendgroup": "Male",
         "marker": {
          "color": "#EF553B",
          "pattern": {
           "shape": ""
          }
         },
         "name": "Male",
         "offsetgroup": "Male",
         "orientation": "v",
         "showlegend": true,
         "textposition": "outside",
         "texttemplate": "%{value}",
         "type": "bar",
         "x": [
          "-99",
          "Adult",
          "Minor"
         ],
         "xaxis": "x",
         "y": [
          3522,
          7139,
          2606
         ],
         "yaxis": "y"
        }
       ],
       "layout": {
        "barmode": "relative",
        "hovermode": "x",
        "legend": {
         "title": {
          "text": "gender"
         },
         "tracegroupgap": 0
        },
        "template": {
         "data": {
          "bar": [
           {
            "error_x": {
             "color": "#2a3f5f"
            },
            "error_y": {
             "color": "#2a3f5f"
            },
            "marker": {
             "line": {
              "color": "#E5ECF6",
              "width": 0.5
             },
             "pattern": {
              "fillmode": "overlay",
              "size": 10,
              "solidity": 0.2
             }
            },
            "type": "bar"
           }
          ],
          "barpolar": [
           {
            "marker": {
             "line": {
              "color": "#E5ECF6",
              "width": 0.5
             },
             "pattern": {
              "fillmode": "overlay",
              "size": 10,
              "solidity": 0.2
             }
            },
            "type": "barpolar"
           }
          ],
          "carpet": [
           {
            "aaxis": {
             "endlinecolor": "#2a3f5f",
             "gridcolor": "white",
             "linecolor": "white",
             "minorgridcolor": "white",
             "startlinecolor": "#2a3f5f"
            },
            "baxis": {
             "endlinecolor": "#2a3f5f",
             "gridcolor": "white",
             "linecolor": "white",
             "minorgridcolor": "white",
             "startlinecolor": "#2a3f5f"
            },
            "type": "carpet"
           }
          ],
          "choropleth": [
           {
            "colorbar": {
             "outlinewidth": 0,
             "ticks": ""
            },
            "type": "choropleth"
           }
          ],
          "contour": [
           {
            "colorbar": {
             "outlinewidth": 0,
             "ticks": ""
            },
            "colorscale": [
             [
              0,
              "#0d0887"
             ],
             [
              0.1111111111111111,
              "#46039f"
             ],
             [
              0.2222222222222222,
              "#7201a8"
             ],
             [
              0.3333333333333333,
              "#9c179e"
             ],
             [
              0.4444444444444444,
              "#bd3786"
             ],
             [
              0.5555555555555556,
              "#d8576b"
             ],
             [
              0.6666666666666666,
              "#ed7953"
             ],
             [
              0.7777777777777778,
              "#fb9f3a"
             ],
             [
              0.8888888888888888,
              "#fdca26"
             ],
             [
              1,
              "#f0f921"
             ]
            ],
            "type": "contour"
           }
          ],
          "contourcarpet": [
           {
            "colorbar": {
             "outlinewidth": 0,
             "ticks": ""
            },
            "type": "contourcarpet"
           }
          ],
          "heatmap": [
           {
            "colorbar": {
             "outlinewidth": 0,
             "ticks": ""
            },
            "colorscale": [
             [
              0,
              "#0d0887"
             ],
             [
              0.1111111111111111,
              "#46039f"
             ],
             [
              0.2222222222222222,
              "#7201a8"
             ],
             [
              0.3333333333333333,
              "#9c179e"
             ],
             [
              0.4444444444444444,
              "#bd3786"
             ],
             [
              0.5555555555555556,
              "#d8576b"
             ],
             [
              0.6666666666666666,
              "#ed7953"
             ],
             [
              0.7777777777777778,
              "#fb9f3a"
             ],
             [
              0.8888888888888888,
              "#fdca26"
             ],
             [
              1,
              "#f0f921"
             ]
            ],
            "type": "heatmap"
           }
          ],
          "heatmapgl": [
           {
            "colorbar": {
             "outlinewidth": 0,
             "ticks": ""
            },
            "colorscale": [
             [
              0,
              "#0d0887"
             ],
             [
              0.1111111111111111,
              "#46039f"
             ],
             [
              0.2222222222222222,
              "#7201a8"
             ],
             [
              0.3333333333333333,
              "#9c179e"
             ],
             [
              0.4444444444444444,
              "#bd3786"
             ],
             [
              0.5555555555555556,
              "#d8576b"
             ],
             [
              0.6666666666666666,
              "#ed7953"
             ],
             [
              0.7777777777777778,
              "#fb9f3a"
             ],
             [
              0.8888888888888888,
              "#fdca26"
             ],
             [
              1,
              "#f0f921"
             ]
            ],
            "type": "heatmapgl"
           }
          ],
          "histogram": [
           {
            "marker": {
             "pattern": {
              "fillmode": "overlay",
              "size": 10,
              "solidity": 0.2
             }
            },
            "type": "histogram"
           }
          ],
          "histogram2d": [
           {
            "colorbar": {
             "outlinewidth": 0,
             "ticks": ""
            },
            "colorscale": [
             [
              0,
              "#0d0887"
             ],
             [
              0.1111111111111111,
              "#46039f"
             ],
             [
              0.2222222222222222,
              "#7201a8"
             ],
             [
              0.3333333333333333,
              "#9c179e"
             ],
             [
              0.4444444444444444,
              "#bd3786"
             ],
             [
              0.5555555555555556,
              "#d8576b"
             ],
             [
              0.6666666666666666,
              "#ed7953"
             ],
             [
              0.7777777777777778,
              "#fb9f3a"
             ],
             [
              0.8888888888888888,
              "#fdca26"
             ],
             [
              1,
              "#f0f921"
             ]
            ],
            "type": "histogram2d"
           }
          ],
          "histogram2dcontour": [
           {
            "colorbar": {
             "outlinewidth": 0,
             "ticks": ""
            },
            "colorscale": [
             [
              0,
              "#0d0887"
             ],
             [
              0.1111111111111111,
              "#46039f"
             ],
             [
              0.2222222222222222,
              "#7201a8"
             ],
             [
              0.3333333333333333,
              "#9c179e"
             ],
             [
              0.4444444444444444,
              "#bd3786"
             ],
             [
              0.5555555555555556,
              "#d8576b"
             ],
             [
              0.6666666666666666,
              "#ed7953"
             ],
             [
              0.7777777777777778,
              "#fb9f3a"
             ],
             [
              0.8888888888888888,
              "#fdca26"
             ],
             [
              1,
              "#f0f921"
             ]
            ],
            "type": "histogram2dcontour"
           }
          ],
          "mesh3d": [
           {
            "colorbar": {
             "outlinewidth": 0,
             "ticks": ""
            },
            "type": "mesh3d"
           }
          ],
          "parcoords": [
           {
            "line": {
             "colorbar": {
              "outlinewidth": 0,
              "ticks": ""
             }
            },
            "type": "parcoords"
           }
          ],
          "pie": [
           {
            "automargin": true,
            "type": "pie"
           }
          ],
          "scatter": [
           {
            "marker": {
             "colorbar": {
              "outlinewidth": 0,
              "ticks": ""
             }
            },
            "type": "scatter"
           }
          ],
          "scatter3d": [
           {
            "line": {
             "colorbar": {
              "outlinewidth": 0,
              "ticks": ""
             }
            },
            "marker": {
             "colorbar": {
              "outlinewidth": 0,
              "ticks": ""
             }
            },
            "type": "scatter3d"
           }
          ],
          "scattercarpet": [
           {
            "marker": {
             "colorbar": {
              "outlinewidth": 0,
              "ticks": ""
             }
            },
            "type": "scattercarpet"
           }
          ],
          "scattergeo": [
           {
            "marker": {
             "colorbar": {
              "outlinewidth": 0,
              "ticks": ""
             }
            },
            "type": "scattergeo"
           }
          ],
          "scattergl": [
           {
            "marker": {
             "colorbar": {
              "outlinewidth": 0,
              "ticks": ""
             }
            },
            "type": "scattergl"
           }
          ],
          "scattermapbox": [
           {
            "marker": {
             "colorbar": {
              "outlinewidth": 0,
              "ticks": ""
             }
            },
            "type": "scattermapbox"
           }
          ],
          "scatterpolar": [
           {
            "marker": {
             "colorbar": {
              "outlinewidth": 0,
              "ticks": ""
             }
            },
            "type": "scatterpolar"
           }
          ],
          "scatterpolargl": [
           {
            "marker": {
             "colorbar": {
              "outlinewidth": 0,
              "ticks": ""
             }
            },
            "type": "scatterpolargl"
           }
          ],
          "scatterternary": [
           {
            "marker": {
             "colorbar": {
              "outlinewidth": 0,
              "ticks": ""
             }
            },
            "type": "scatterternary"
           }
          ],
          "surface": [
           {
            "colorbar": {
             "outlinewidth": 0,
             "ticks": ""
            },
            "colorscale": [
             [
              0,
              "#0d0887"
             ],
             [
              0.1111111111111111,
              "#46039f"
             ],
             [
              0.2222222222222222,
              "#7201a8"
             ],
             [
              0.3333333333333333,
              "#9c179e"
             ],
             [
              0.4444444444444444,
              "#bd3786"
             ],
             [
              0.5555555555555556,
              "#d8576b"
             ],
             [
              0.6666666666666666,
              "#ed7953"
             ],
             [
              0.7777777777777778,
              "#fb9f3a"
             ],
             [
              0.8888888888888888,
              "#fdca26"
             ],
             [
              1,
              "#f0f921"
             ]
            ],
            "type": "surface"
           }
          ],
          "table": [
           {
            "cells": {
             "fill": {
              "color": "#EBF0F8"
             },
             "line": {
              "color": "white"
             }
            },
            "header": {
             "fill": {
              "color": "#C8D4E3"
             },
             "line": {
              "color": "white"
             }
            },
            "type": "table"
           }
          ]
         },
         "layout": {
          "annotationdefaults": {
           "arrowcolor": "#2a3f5f",
           "arrowhead": 0,
           "arrowwidth": 1
          },
          "autotypenumbers": "strict",
          "coloraxis": {
           "colorbar": {
            "outlinewidth": 0,
            "ticks": ""
           }
          },
          "colorscale": {
           "diverging": [
            [
             0,
             "#8e0152"
            ],
            [
             0.1,
             "#c51b7d"
            ],
            [
             0.2,
             "#de77ae"
            ],
            [
             0.3,
             "#f1b6da"
            ],
            [
             0.4,
             "#fde0ef"
            ],
            [
             0.5,
             "#f7f7f7"
            ],
            [
             0.6,
             "#e6f5d0"
            ],
            [
             0.7,
             "#b8e186"
            ],
            [
             0.8,
             "#7fbc41"
            ],
            [
             0.9,
             "#4d9221"
            ],
            [
             1,
             "#276419"
            ]
           ],
           "sequential": [
            [
             0,
             "#0d0887"
            ],
            [
             0.1111111111111111,
             "#46039f"
            ],
            [
             0.2222222222222222,
             "#7201a8"
            ],
            [
             0.3333333333333333,
             "#9c179e"
            ],
            [
             0.4444444444444444,
             "#bd3786"
            ],
            [
             0.5555555555555556,
             "#d8576b"
            ],
            [
             0.6666666666666666,
             "#ed7953"
            ],
            [
             0.7777777777777778,
             "#fb9f3a"
            ],
            [
             0.8888888888888888,
             "#fdca26"
            ],
            [
             1,
             "#f0f921"
            ]
           ],
           "sequentialminus": [
            [
             0,
             "#0d0887"
            ],
            [
             0.1111111111111111,
             "#46039f"
            ],
            [
             0.2222222222222222,
             "#7201a8"
            ],
            [
             0.3333333333333333,
             "#9c179e"
            ],
            [
             0.4444444444444444,
             "#bd3786"
            ],
            [
             0.5555555555555556,
             "#d8576b"
            ],
            [
             0.6666666666666666,
             "#ed7953"
            ],
            [
             0.7777777777777778,
             "#fb9f3a"
            ],
            [
             0.8888888888888888,
             "#fdca26"
            ],
            [
             1,
             "#f0f921"
            ]
           ]
          },
          "colorway": [
           "#636efa",
           "#EF553B",
           "#00cc96",
           "#ab63fa",
           "#FFA15A",
           "#19d3f3",
           "#FF6692",
           "#B6E880",
           "#FF97FF",
           "#FECB52"
          ],
          "font": {
           "color": "#2a3f5f"
          },
          "geo": {
           "bgcolor": "white",
           "lakecolor": "white",
           "landcolor": "#E5ECF6",
           "showlakes": true,
           "showland": true,
           "subunitcolor": "white"
          },
          "hoverlabel": {
           "align": "left"
          },
          "hovermode": "closest",
          "mapbox": {
           "style": "light"
          },
          "paper_bgcolor": "white",
          "plot_bgcolor": "#E5ECF6",
          "polar": {
           "angularaxis": {
            "gridcolor": "white",
            "linecolor": "white",
            "ticks": ""
           },
           "bgcolor": "#E5ECF6",
           "radialaxis": {
            "gridcolor": "white",
            "linecolor": "white",
            "ticks": ""
           }
          },
          "scene": {
           "xaxis": {
            "backgroundcolor": "#E5ECF6",
            "gridcolor": "white",
            "gridwidth": 2,
            "linecolor": "white",
            "showbackground": true,
            "ticks": "",
            "zerolinecolor": "white"
           },
           "yaxis": {
            "backgroundcolor": "#E5ECF6",
            "gridcolor": "white",
            "gridwidth": 2,
            "linecolor": "white",
            "showbackground": true,
            "ticks": "",
            "zerolinecolor": "white"
           },
           "zaxis": {
            "backgroundcolor": "#E5ECF6",
            "gridcolor": "white",
            "gridwidth": 2,
            "linecolor": "white",
            "showbackground": true,
            "ticks": "",
            "zerolinecolor": "white"
           }
          },
          "shapedefaults": {
           "line": {
            "color": "#2a3f5f"
           }
          },
          "ternary": {
           "aaxis": {
            "gridcolor": "white",
            "linecolor": "white",
            "ticks": ""
           },
           "baxis": {
            "gridcolor": "white",
            "linecolor": "white",
            "ticks": ""
           },
           "bgcolor": "#E5ECF6",
           "caxis": {
            "gridcolor": "white",
            "linecolor": "white",
            "ticks": ""
           }
          },
          "title": {
           "x": 0.05
          },
          "xaxis": {
           "automargin": true,
           "gridcolor": "white",
           "linecolor": "white",
           "ticks": "",
           "title": {
            "standoff": 15
           },
           "zerolinecolor": "white",
           "zerolinewidth": 2
          },
          "yaxis": {
           "automargin": true,
           "gridcolor": "white",
           "linecolor": "white",
           "ticks": "",
           "title": {
            "standoff": 15
           },
           "zerolinecolor": "white",
           "zerolinewidth": 2
          }
         }
        },
        "title": {
         "text": "Majority and Gender of Human Trafficking Victims"
        },
        "xaxis": {
         "anchor": "y",
         "domain": [
          0,
          1
         ],
         "title": {
          "text": "Majority Status"
         }
        },
        "yaxis": {
         "anchor": "x",
         "domain": [
          0,
          1
         ],
         "title": {
          "text": "Victims"
         }
        }
       }
      },
      "text/html": [
       "<div>                            <div id=\"cdafe2ae-7892-4e37-b5c8-97d80881331a\" class=\"plotly-graph-div\" style=\"height:525px; width:100%;\"></div>            <script type=\"text/javascript\">                require([\"plotly\"], function(Plotly) {                    window.PLOTLYENV=window.PLOTLYENV || {};                                    if (document.getElementById(\"cdafe2ae-7892-4e37-b5c8-97d80881331a\")) {                    Plotly.newPlot(                        \"cdafe2ae-7892-4e37-b5c8-97d80881331a\",                        [{\"alignmentgroup\":\"True\",\"hovertemplate\":\"gender=Female<br>Majority Status=%{x}<br>Victims=%{y}<extra></extra>\",\"legendgroup\":\"Female\",\"marker\":{\"color\":\"#636efa\",\"pattern\":{\"shape\":\"\"}},\"name\":\"Female\",\"offsetgroup\":\"Female\",\"orientation\":\"v\",\"showlegend\":true,\"textposition\":\"outside\",\"x\":[\"-99\",\"Adult\",\"Minor\"],\"xaxis\":\"x\",\"y\":[8840,19099,7595],\"yaxis\":\"y\",\"type\":\"bar\",\"texttemplate\":\"%{value}\"},{\"alignmentgroup\":\"True\",\"hovertemplate\":\"gender=Male<br>Majority Status=%{x}<br>Victims=%{y}<extra></extra>\",\"legendgroup\":\"Male\",\"marker\":{\"color\":\"#EF553B\",\"pattern\":{\"shape\":\"\"}},\"name\":\"Male\",\"offsetgroup\":\"Male\",\"orientation\":\"v\",\"showlegend\":true,\"textposition\":\"outside\",\"x\":[\"-99\",\"Adult\",\"Minor\"],\"xaxis\":\"x\",\"y\":[3522,7139,2606],\"yaxis\":\"y\",\"type\":\"bar\",\"texttemplate\":\"%{value}\"}],                        {\"template\":{\"data\":{\"bar\":[{\"error_x\":{\"color\":\"#2a3f5f\"},\"error_y\":{\"color\":\"#2a3f5f\"},\"marker\":{\"line\":{\"color\":\"#E5ECF6\",\"width\":0.5},\"pattern\":{\"fillmode\":\"overlay\",\"size\":10,\"solidity\":0.2}},\"type\":\"bar\"}],\"barpolar\":[{\"marker\":{\"line\":{\"color\":\"#E5ECF6\",\"width\":0.5},\"pattern\":{\"fillmode\":\"overlay\",\"size\":10,\"solidity\":0.2}},\"type\":\"barpolar\"}],\"carpet\":[{\"aaxis\":{\"endlinecolor\":\"#2a3f5f\",\"gridcolor\":\"white\",\"linecolor\":\"white\",\"minorgridcolor\":\"white\",\"startlinecolor\":\"#2a3f5f\"},\"baxis\":{\"endlinecolor\":\"#2a3f5f\",\"gridcolor\":\"white\",\"linecolor\":\"white\",\"minorgridcolor\":\"white\",\"startlinecolor\":\"#2a3f5f\"},\"type\":\"carpet\"}],\"choropleth\":[{\"colorbar\":{\"outlinewidth\":0,\"ticks\":\"\"},\"type\":\"choropleth\"}],\"contour\":[{\"colorbar\":{\"outlinewidth\":0,\"ticks\":\"\"},\"colorscale\":[[0.0,\"#0d0887\"],[0.1111111111111111,\"#46039f\"],[0.2222222222222222,\"#7201a8\"],[0.3333333333333333,\"#9c179e\"],[0.4444444444444444,\"#bd3786\"],[0.5555555555555556,\"#d8576b\"],[0.6666666666666666,\"#ed7953\"],[0.7777777777777778,\"#fb9f3a\"],[0.8888888888888888,\"#fdca26\"],[1.0,\"#f0f921\"]],\"type\":\"contour\"}],\"contourcarpet\":[{\"colorbar\":{\"outlinewidth\":0,\"ticks\":\"\"},\"type\":\"contourcarpet\"}],\"heatmap\":[{\"colorbar\":{\"outlinewidth\":0,\"ticks\":\"\"},\"colorscale\":[[0.0,\"#0d0887\"],[0.1111111111111111,\"#46039f\"],[0.2222222222222222,\"#7201a8\"],[0.3333333333333333,\"#9c179e\"],[0.4444444444444444,\"#bd3786\"],[0.5555555555555556,\"#d8576b\"],[0.6666666666666666,\"#ed7953\"],[0.7777777777777778,\"#fb9f3a\"],[0.8888888888888888,\"#fdca26\"],[1.0,\"#f0f921\"]],\"type\":\"heatmap\"}],\"heatmapgl\":[{\"colorbar\":{\"outlinewidth\":0,\"ticks\":\"\"},\"colorscale\":[[0.0,\"#0d0887\"],[0.1111111111111111,\"#46039f\"],[0.2222222222222222,\"#7201a8\"],[0.3333333333333333,\"#9c179e\"],[0.4444444444444444,\"#bd3786\"],[0.5555555555555556,\"#d8576b\"],[0.6666666666666666,\"#ed7953\"],[0.7777777777777778,\"#fb9f3a\"],[0.8888888888888888,\"#fdca26\"],[1.0,\"#f0f921\"]],\"type\":\"heatmapgl\"}],\"histogram\":[{\"marker\":{\"pattern\":{\"fillmode\":\"overlay\",\"size\":10,\"solidity\":0.2}},\"type\":\"histogram\"}],\"histogram2d\":[{\"colorbar\":{\"outlinewidth\":0,\"ticks\":\"\"},\"colorscale\":[[0.0,\"#0d0887\"],[0.1111111111111111,\"#46039f\"],[0.2222222222222222,\"#7201a8\"],[0.3333333333333333,\"#9c179e\"],[0.4444444444444444,\"#bd3786\"],[0.5555555555555556,\"#d8576b\"],[0.6666666666666666,\"#ed7953\"],[0.7777777777777778,\"#fb9f3a\"],[0.8888888888888888,\"#fdca26\"],[1.0,\"#f0f921\"]],\"type\":\"histogram2d\"}],\"histogram2dcontour\":[{\"colorbar\":{\"outlinewidth\":0,\"ticks\":\"\"},\"colorscale\":[[0.0,\"#0d0887\"],[0.1111111111111111,\"#46039f\"],[0.2222222222222222,\"#7201a8\"],[0.3333333333333333,\"#9c179e\"],[0.4444444444444444,\"#bd3786\"],[0.5555555555555556,\"#d8576b\"],[0.6666666666666666,\"#ed7953\"],[0.7777777777777778,\"#fb9f3a\"],[0.8888888888888888,\"#fdca26\"],[1.0,\"#f0f921\"]],\"type\":\"histogram2dcontour\"}],\"mesh3d\":[{\"colorbar\":{\"outlinewidth\":0,\"ticks\":\"\"},\"type\":\"mesh3d\"}],\"parcoords\":[{\"line\":{\"colorbar\":{\"outlinewidth\":0,\"ticks\":\"\"}},\"type\":\"parcoords\"}],\"pie\":[{\"automargin\":true,\"type\":\"pie\"}],\"scatter\":[{\"marker\":{\"colorbar\":{\"outlinewidth\":0,\"ticks\":\"\"}},\"type\":\"scatter\"}],\"scatter3d\":[{\"line\":{\"colorbar\":{\"outlinewidth\":0,\"ticks\":\"\"}},\"marker\":{\"colorbar\":{\"outlinewidth\":0,\"ticks\":\"\"}},\"type\":\"scatter3d\"}],\"scattercarpet\":[{\"marker\":{\"colorbar\":{\"outlinewidth\":0,\"ticks\":\"\"}},\"type\":\"scattercarpet\"}],\"scattergeo\":[{\"marker\":{\"colorbar\":{\"outlinewidth\":0,\"ticks\":\"\"}},\"type\":\"scattergeo\"}],\"scattergl\":[{\"marker\":{\"colorbar\":{\"outlinewidth\":0,\"ticks\":\"\"}},\"type\":\"scattergl\"}],\"scattermapbox\":[{\"marker\":{\"colorbar\":{\"outlinewidth\":0,\"ticks\":\"\"}},\"type\":\"scattermapbox\"}],\"scatterpolar\":[{\"marker\":{\"colorbar\":{\"outlinewidth\":0,\"ticks\":\"\"}},\"type\":\"scatterpolar\"}],\"scatterpolargl\":[{\"marker\":{\"colorbar\":{\"outlinewidth\":0,\"ticks\":\"\"}},\"type\":\"scatterpolargl\"}],\"scatterternary\":[{\"marker\":{\"colorbar\":{\"outlinewidth\":0,\"ticks\":\"\"}},\"type\":\"scatterternary\"}],\"surface\":[{\"colorbar\":{\"outlinewidth\":0,\"ticks\":\"\"},\"colorscale\":[[0.0,\"#0d0887\"],[0.1111111111111111,\"#46039f\"],[0.2222222222222222,\"#7201a8\"],[0.3333333333333333,\"#9c179e\"],[0.4444444444444444,\"#bd3786\"],[0.5555555555555556,\"#d8576b\"],[0.6666666666666666,\"#ed7953\"],[0.7777777777777778,\"#fb9f3a\"],[0.8888888888888888,\"#fdca26\"],[1.0,\"#f0f921\"]],\"type\":\"surface\"}],\"table\":[{\"cells\":{\"fill\":{\"color\":\"#EBF0F8\"},\"line\":{\"color\":\"white\"}},\"header\":{\"fill\":{\"color\":\"#C8D4E3\"},\"line\":{\"color\":\"white\"}},\"type\":\"table\"}]},\"layout\":{\"annotationdefaults\":{\"arrowcolor\":\"#2a3f5f\",\"arrowhead\":0,\"arrowwidth\":1},\"autotypenumbers\":\"strict\",\"coloraxis\":{\"colorbar\":{\"outlinewidth\":0,\"ticks\":\"\"}},\"colorscale\":{\"diverging\":[[0,\"#8e0152\"],[0.1,\"#c51b7d\"],[0.2,\"#de77ae\"],[0.3,\"#f1b6da\"],[0.4,\"#fde0ef\"],[0.5,\"#f7f7f7\"],[0.6,\"#e6f5d0\"],[0.7,\"#b8e186\"],[0.8,\"#7fbc41\"],[0.9,\"#4d9221\"],[1,\"#276419\"]],\"sequential\":[[0.0,\"#0d0887\"],[0.1111111111111111,\"#46039f\"],[0.2222222222222222,\"#7201a8\"],[0.3333333333333333,\"#9c179e\"],[0.4444444444444444,\"#bd3786\"],[0.5555555555555556,\"#d8576b\"],[0.6666666666666666,\"#ed7953\"],[0.7777777777777778,\"#fb9f3a\"],[0.8888888888888888,\"#fdca26\"],[1.0,\"#f0f921\"]],\"sequentialminus\":[[0.0,\"#0d0887\"],[0.1111111111111111,\"#46039f\"],[0.2222222222222222,\"#7201a8\"],[0.3333333333333333,\"#9c179e\"],[0.4444444444444444,\"#bd3786\"],[0.5555555555555556,\"#d8576b\"],[0.6666666666666666,\"#ed7953\"],[0.7777777777777778,\"#fb9f3a\"],[0.8888888888888888,\"#fdca26\"],[1.0,\"#f0f921\"]]},\"colorway\":[\"#636efa\",\"#EF553B\",\"#00cc96\",\"#ab63fa\",\"#FFA15A\",\"#19d3f3\",\"#FF6692\",\"#B6E880\",\"#FF97FF\",\"#FECB52\"],\"font\":{\"color\":\"#2a3f5f\"},\"geo\":{\"bgcolor\":\"white\",\"lakecolor\":\"white\",\"landcolor\":\"#E5ECF6\",\"showlakes\":true,\"showland\":true,\"subunitcolor\":\"white\"},\"hoverlabel\":{\"align\":\"left\"},\"hovermode\":\"closest\",\"mapbox\":{\"style\":\"light\"},\"paper_bgcolor\":\"white\",\"plot_bgcolor\":\"#E5ECF6\",\"polar\":{\"angularaxis\":{\"gridcolor\":\"white\",\"linecolor\":\"white\",\"ticks\":\"\"},\"bgcolor\":\"#E5ECF6\",\"radialaxis\":{\"gridcolor\":\"white\",\"linecolor\":\"white\",\"ticks\":\"\"}},\"scene\":{\"xaxis\":{\"backgroundcolor\":\"#E5ECF6\",\"gridcolor\":\"white\",\"gridwidth\":2,\"linecolor\":\"white\",\"showbackground\":true,\"ticks\":\"\",\"zerolinecolor\":\"white\"},\"yaxis\":{\"backgroundcolor\":\"#E5ECF6\",\"gridcolor\":\"white\",\"gridwidth\":2,\"linecolor\":\"white\",\"showbackground\":true,\"ticks\":\"\",\"zerolinecolor\":\"white\"},\"zaxis\":{\"backgroundcolor\":\"#E5ECF6\",\"gridcolor\":\"white\",\"gridwidth\":2,\"linecolor\":\"white\",\"showbackground\":true,\"ticks\":\"\",\"zerolinecolor\":\"white\"}},\"shapedefaults\":{\"line\":{\"color\":\"#2a3f5f\"}},\"ternary\":{\"aaxis\":{\"gridcolor\":\"white\",\"linecolor\":\"white\",\"ticks\":\"\"},\"baxis\":{\"gridcolor\":\"white\",\"linecolor\":\"white\",\"ticks\":\"\"},\"bgcolor\":\"#E5ECF6\",\"caxis\":{\"gridcolor\":\"white\",\"linecolor\":\"white\",\"ticks\":\"\"}},\"title\":{\"x\":0.05},\"xaxis\":{\"automargin\":true,\"gridcolor\":\"white\",\"linecolor\":\"white\",\"ticks\":\"\",\"title\":{\"standoff\":15},\"zerolinecolor\":\"white\",\"zerolinewidth\":2},\"yaxis\":{\"automargin\":true,\"gridcolor\":\"white\",\"linecolor\":\"white\",\"ticks\":\"\",\"title\":{\"standoff\":15},\"zerolinecolor\":\"white\",\"zerolinewidth\":2}}},\"xaxis\":{\"anchor\":\"y\",\"domain\":[0.0,1.0],\"title\":{\"text\":\"Majority Status\"}},\"yaxis\":{\"anchor\":\"x\",\"domain\":[0.0,1.0],\"title\":{\"text\":\"Victims\"}},\"legend\":{\"title\":{\"text\":\"gender\"},\"tracegroupgap\":0},\"title\":{\"text\":\"Majority and Gender of Human Trafficking Victims\"},\"barmode\":\"relative\",\"hovermode\":\"x\"},                        {\"responsive\": true}                    ).then(function(){\n",
       "                            \n",
       "var gd = document.getElementById('cdafe2ae-7892-4e37-b5c8-97d80881331a');\n",
       "var x = new MutationObserver(function (mutations, observer) {{\n",
       "        var display = window.getComputedStyle(gd).display;\n",
       "        if (!display || display === 'none') {{\n",
       "            console.log([gd, 'removed!']);\n",
       "            Plotly.purge(gd);\n",
       "            observer.disconnect();\n",
       "        }}\n",
       "}});\n",
       "\n",
       "// Listen for the removal of the full notebook cells\n",
       "var notebookContainer = gd.closest('#notebook-container');\n",
       "if (notebookContainer) {{\n",
       "    x.observe(notebookContainer, {childList: true});\n",
       "}}\n",
       "\n",
       "// Listen for the clearing of the current output cell\n",
       "var outputEl = gd.closest('.output');\n",
       "if (outputEl) {{\n",
       "    x.observe(outputEl, {childList: true});\n",
       "}}\n",
       "\n",
       "                        })                };                });            </script>        </div>"
      ]
     },
     "metadata": {},
     "output_type": "display_data"
    }
   ],
   "source": [
    "fig = px.bar(data_bar_mg, x=\"majorityStatus\", y=\"Victims\", color=\"gender\", \n",
    "            title=\"Majority and Gender of Human Trafficking Victims\",\n",
    "            labels={'majorityStatus':'Majority Status'})\n",
    "fig.update_traces(texttemplate='%{value}', textposition='outside')\n",
    "fig.update_layout(hovermode='x')\n",
    "fig.show()"
   ]
  },
  {
   "cell_type": "code",
   "execution_count": 194,
   "metadata": {},
   "outputs": [],
   "source": [
    "data['meansOfControlConcatenated'] = data['meansOfControlConcatenated'].str.replace('Abuse', 'abuse', regex=True)\n",
    "data_bar_f = data[(data.meansOfControlConcatenated.notna()) & (data.gender == 'Female')].meansOfControlConcatenated.apply(lambda x: pd.value_counts(str(x).split(\";\"))).sum(axis = 0)\n",
    "data_bar_m = data[(data.meansOfControlConcatenated.notna()) & (data.gender == 'Male')].meansOfControlConcatenated.apply(lambda x: pd.value_counts(str(x).split(\";\"))).sum(axis = 0)"
   ]
  },
  {
   "cell_type": "code",
   "execution_count": 195,
   "metadata": {},
   "outputs": [
    {
     "data": {
      "application/vnd.plotly.v1+json": {
       "config": {
        "plotlyServerURL": "https://plot.ly"
       },
       "data": [
        {
         "name": "Female",
         "textposition": "outside",
         "texttemplate": "%{value}",
         "type": "bar",
         "x": [
          "-99",
          "Debt bondage",
          "Physical abuse",
          "Psychological abuse",
          "Sexual abuse",
          "Threats",
          "Withholds documents",
          "Excessive working hours",
          "False promises",
          "Restricts movement",
          "Takes earnings",
          "Withholds necessities",
          "Restricts medical care",
          "Psychoactive substances",
          "Threat of law enforcement",
          "Other",
          "Not specified",
          "Uses children",
          "Restricts financial access"
         ],
         "y": [
          21429,
          842,
          3000,
          3562,
          1572,
          2950,
          1037,
          877,
          1369,
          3241,
          1465,
          787,
          583,
          2224,
          390,
          1762,
          5531,
          117,
          116
         ]
        },
        {
         "name": "Male",
         "textposition": "outside",
         "texttemplate": "%{value}",
         "type": "bar",
         "x": [
          "-99",
          "Debt bondage",
          "Excessive working hours",
          "False promises",
          "Physical abuse",
          "Psychoactive substances",
          "Psychological abuse",
          "Restricts medical care",
          "Restricts movement",
          "Sexual abuse",
          "Takes earnings",
          "Threat of law enforcement",
          "Threats",
          "Withholds documents",
          "Withholds necessities",
          "Other",
          "Not specified",
          "Uses children"
         ],
         "y": [
          10852,
          457,
          1302,
          1405,
          651,
          63,
          1298,
          702,
          1185,
          51,
          1333,
          390,
          1031,
          1053,
          572,
          111,
          598,
          3
         ]
        }
       ],
       "layout": {
        "hovermode": "x",
        "template": {
         "data": {
          "bar": [
           {
            "error_x": {
             "color": "#2a3f5f"
            },
            "error_y": {
             "color": "#2a3f5f"
            },
            "marker": {
             "line": {
              "color": "#E5ECF6",
              "width": 0.5
             },
             "pattern": {
              "fillmode": "overlay",
              "size": 10,
              "solidity": 0.2
             }
            },
            "type": "bar"
           }
          ],
          "barpolar": [
           {
            "marker": {
             "line": {
              "color": "#E5ECF6",
              "width": 0.5
             },
             "pattern": {
              "fillmode": "overlay",
              "size": 10,
              "solidity": 0.2
             }
            },
            "type": "barpolar"
           }
          ],
          "carpet": [
           {
            "aaxis": {
             "endlinecolor": "#2a3f5f",
             "gridcolor": "white",
             "linecolor": "white",
             "minorgridcolor": "white",
             "startlinecolor": "#2a3f5f"
            },
            "baxis": {
             "endlinecolor": "#2a3f5f",
             "gridcolor": "white",
             "linecolor": "white",
             "minorgridcolor": "white",
             "startlinecolor": "#2a3f5f"
            },
            "type": "carpet"
           }
          ],
          "choropleth": [
           {
            "colorbar": {
             "outlinewidth": 0,
             "ticks": ""
            },
            "type": "choropleth"
           }
          ],
          "contour": [
           {
            "colorbar": {
             "outlinewidth": 0,
             "ticks": ""
            },
            "colorscale": [
             [
              0,
              "#0d0887"
             ],
             [
              0.1111111111111111,
              "#46039f"
             ],
             [
              0.2222222222222222,
              "#7201a8"
             ],
             [
              0.3333333333333333,
              "#9c179e"
             ],
             [
              0.4444444444444444,
              "#bd3786"
             ],
             [
              0.5555555555555556,
              "#d8576b"
             ],
             [
              0.6666666666666666,
              "#ed7953"
             ],
             [
              0.7777777777777778,
              "#fb9f3a"
             ],
             [
              0.8888888888888888,
              "#fdca26"
             ],
             [
              1,
              "#f0f921"
             ]
            ],
            "type": "contour"
           }
          ],
          "contourcarpet": [
           {
            "colorbar": {
             "outlinewidth": 0,
             "ticks": ""
            },
            "type": "contourcarpet"
           }
          ],
          "heatmap": [
           {
            "colorbar": {
             "outlinewidth": 0,
             "ticks": ""
            },
            "colorscale": [
             [
              0,
              "#0d0887"
             ],
             [
              0.1111111111111111,
              "#46039f"
             ],
             [
              0.2222222222222222,
              "#7201a8"
             ],
             [
              0.3333333333333333,
              "#9c179e"
             ],
             [
              0.4444444444444444,
              "#bd3786"
             ],
             [
              0.5555555555555556,
              "#d8576b"
             ],
             [
              0.6666666666666666,
              "#ed7953"
             ],
             [
              0.7777777777777778,
              "#fb9f3a"
             ],
             [
              0.8888888888888888,
              "#fdca26"
             ],
             [
              1,
              "#f0f921"
             ]
            ],
            "type": "heatmap"
           }
          ],
          "heatmapgl": [
           {
            "colorbar": {
             "outlinewidth": 0,
             "ticks": ""
            },
            "colorscale": [
             [
              0,
              "#0d0887"
             ],
             [
              0.1111111111111111,
              "#46039f"
             ],
             [
              0.2222222222222222,
              "#7201a8"
             ],
             [
              0.3333333333333333,
              "#9c179e"
             ],
             [
              0.4444444444444444,
              "#bd3786"
             ],
             [
              0.5555555555555556,
              "#d8576b"
             ],
             [
              0.6666666666666666,
              "#ed7953"
             ],
             [
              0.7777777777777778,
              "#fb9f3a"
             ],
             [
              0.8888888888888888,
              "#fdca26"
             ],
             [
              1,
              "#f0f921"
             ]
            ],
            "type": "heatmapgl"
           }
          ],
          "histogram": [
           {
            "marker": {
             "pattern": {
              "fillmode": "overlay",
              "size": 10,
              "solidity": 0.2
             }
            },
            "type": "histogram"
           }
          ],
          "histogram2d": [
           {
            "colorbar": {
             "outlinewidth": 0,
             "ticks": ""
            },
            "colorscale": [
             [
              0,
              "#0d0887"
             ],
             [
              0.1111111111111111,
              "#46039f"
             ],
             [
              0.2222222222222222,
              "#7201a8"
             ],
             [
              0.3333333333333333,
              "#9c179e"
             ],
             [
              0.4444444444444444,
              "#bd3786"
             ],
             [
              0.5555555555555556,
              "#d8576b"
             ],
             [
              0.6666666666666666,
              "#ed7953"
             ],
             [
              0.7777777777777778,
              "#fb9f3a"
             ],
             [
              0.8888888888888888,
              "#fdca26"
             ],
             [
              1,
              "#f0f921"
             ]
            ],
            "type": "histogram2d"
           }
          ],
          "histogram2dcontour": [
           {
            "colorbar": {
             "outlinewidth": 0,
             "ticks": ""
            },
            "colorscale": [
             [
              0,
              "#0d0887"
             ],
             [
              0.1111111111111111,
              "#46039f"
             ],
             [
              0.2222222222222222,
              "#7201a8"
             ],
             [
              0.3333333333333333,
              "#9c179e"
             ],
             [
              0.4444444444444444,
              "#bd3786"
             ],
             [
              0.5555555555555556,
              "#d8576b"
             ],
             [
              0.6666666666666666,
              "#ed7953"
             ],
             [
              0.7777777777777778,
              "#fb9f3a"
             ],
             [
              0.8888888888888888,
              "#fdca26"
             ],
             [
              1,
              "#f0f921"
             ]
            ],
            "type": "histogram2dcontour"
           }
          ],
          "mesh3d": [
           {
            "colorbar": {
             "outlinewidth": 0,
             "ticks": ""
            },
            "type": "mesh3d"
           }
          ],
          "parcoords": [
           {
            "line": {
             "colorbar": {
              "outlinewidth": 0,
              "ticks": ""
             }
            },
            "type": "parcoords"
           }
          ],
          "pie": [
           {
            "automargin": true,
            "type": "pie"
           }
          ],
          "scatter": [
           {
            "marker": {
             "colorbar": {
              "outlinewidth": 0,
              "ticks": ""
             }
            },
            "type": "scatter"
           }
          ],
          "scatter3d": [
           {
            "line": {
             "colorbar": {
              "outlinewidth": 0,
              "ticks": ""
             }
            },
            "marker": {
             "colorbar": {
              "outlinewidth": 0,
              "ticks": ""
             }
            },
            "type": "scatter3d"
           }
          ],
          "scattercarpet": [
           {
            "marker": {
             "colorbar": {
              "outlinewidth": 0,
              "ticks": ""
             }
            },
            "type": "scattercarpet"
           }
          ],
          "scattergeo": [
           {
            "marker": {
             "colorbar": {
              "outlinewidth": 0,
              "ticks": ""
             }
            },
            "type": "scattergeo"
           }
          ],
          "scattergl": [
           {
            "marker": {
             "colorbar": {
              "outlinewidth": 0,
              "ticks": ""
             }
            },
            "type": "scattergl"
           }
          ],
          "scattermapbox": [
           {
            "marker": {
             "colorbar": {
              "outlinewidth": 0,
              "ticks": ""
             }
            },
            "type": "scattermapbox"
           }
          ],
          "scatterpolar": [
           {
            "marker": {
             "colorbar": {
              "outlinewidth": 0,
              "ticks": ""
             }
            },
            "type": "scatterpolar"
           }
          ],
          "scatterpolargl": [
           {
            "marker": {
             "colorbar": {
              "outlinewidth": 0,
              "ticks": ""
             }
            },
            "type": "scatterpolargl"
           }
          ],
          "scatterternary": [
           {
            "marker": {
             "colorbar": {
              "outlinewidth": 0,
              "ticks": ""
             }
            },
            "type": "scatterternary"
           }
          ],
          "surface": [
           {
            "colorbar": {
             "outlinewidth": 0,
             "ticks": ""
            },
            "colorscale": [
             [
              0,
              "#0d0887"
             ],
             [
              0.1111111111111111,
              "#46039f"
             ],
             [
              0.2222222222222222,
              "#7201a8"
             ],
             [
              0.3333333333333333,
              "#9c179e"
             ],
             [
              0.4444444444444444,
              "#bd3786"
             ],
             [
              0.5555555555555556,
              "#d8576b"
             ],
             [
              0.6666666666666666,
              "#ed7953"
             ],
             [
              0.7777777777777778,
              "#fb9f3a"
             ],
             [
              0.8888888888888888,
              "#fdca26"
             ],
             [
              1,
              "#f0f921"
             ]
            ],
            "type": "surface"
           }
          ],
          "table": [
           {
            "cells": {
             "fill": {
              "color": "#EBF0F8"
             },
             "line": {
              "color": "white"
             }
            },
            "header": {
             "fill": {
              "color": "#C8D4E3"
             },
             "line": {
              "color": "white"
             }
            },
            "type": "table"
           }
          ]
         },
         "layout": {
          "annotationdefaults": {
           "arrowcolor": "#2a3f5f",
           "arrowhead": 0,
           "arrowwidth": 1
          },
          "autotypenumbers": "strict",
          "coloraxis": {
           "colorbar": {
            "outlinewidth": 0,
            "ticks": ""
           }
          },
          "colorscale": {
           "diverging": [
            [
             0,
             "#8e0152"
            ],
            [
             0.1,
             "#c51b7d"
            ],
            [
             0.2,
             "#de77ae"
            ],
            [
             0.3,
             "#f1b6da"
            ],
            [
             0.4,
             "#fde0ef"
            ],
            [
             0.5,
             "#f7f7f7"
            ],
            [
             0.6,
             "#e6f5d0"
            ],
            [
             0.7,
             "#b8e186"
            ],
            [
             0.8,
             "#7fbc41"
            ],
            [
             0.9,
             "#4d9221"
            ],
            [
             1,
             "#276419"
            ]
           ],
           "sequential": [
            [
             0,
             "#0d0887"
            ],
            [
             0.1111111111111111,
             "#46039f"
            ],
            [
             0.2222222222222222,
             "#7201a8"
            ],
            [
             0.3333333333333333,
             "#9c179e"
            ],
            [
             0.4444444444444444,
             "#bd3786"
            ],
            [
             0.5555555555555556,
             "#d8576b"
            ],
            [
             0.6666666666666666,
             "#ed7953"
            ],
            [
             0.7777777777777778,
             "#fb9f3a"
            ],
            [
             0.8888888888888888,
             "#fdca26"
            ],
            [
             1,
             "#f0f921"
            ]
           ],
           "sequentialminus": [
            [
             0,
             "#0d0887"
            ],
            [
             0.1111111111111111,
             "#46039f"
            ],
            [
             0.2222222222222222,
             "#7201a8"
            ],
            [
             0.3333333333333333,
             "#9c179e"
            ],
            [
             0.4444444444444444,
             "#bd3786"
            ],
            [
             0.5555555555555556,
             "#d8576b"
            ],
            [
             0.6666666666666666,
             "#ed7953"
            ],
            [
             0.7777777777777778,
             "#fb9f3a"
            ],
            [
             0.8888888888888888,
             "#fdca26"
            ],
            [
             1,
             "#f0f921"
            ]
           ]
          },
          "colorway": [
           "#636efa",
           "#EF553B",
           "#00cc96",
           "#ab63fa",
           "#FFA15A",
           "#19d3f3",
           "#FF6692",
           "#B6E880",
           "#FF97FF",
           "#FECB52"
          ],
          "font": {
           "color": "#2a3f5f"
          },
          "geo": {
           "bgcolor": "white",
           "lakecolor": "white",
           "landcolor": "#E5ECF6",
           "showlakes": true,
           "showland": true,
           "subunitcolor": "white"
          },
          "hoverlabel": {
           "align": "left"
          },
          "hovermode": "closest",
          "mapbox": {
           "style": "light"
          },
          "paper_bgcolor": "white",
          "plot_bgcolor": "#E5ECF6",
          "polar": {
           "angularaxis": {
            "gridcolor": "white",
            "linecolor": "white",
            "ticks": ""
           },
           "bgcolor": "#E5ECF6",
           "radialaxis": {
            "gridcolor": "white",
            "linecolor": "white",
            "ticks": ""
           }
          },
          "scene": {
           "xaxis": {
            "backgroundcolor": "#E5ECF6",
            "gridcolor": "white",
            "gridwidth": 2,
            "linecolor": "white",
            "showbackground": true,
            "ticks": "",
            "zerolinecolor": "white"
           },
           "yaxis": {
            "backgroundcolor": "#E5ECF6",
            "gridcolor": "white",
            "gridwidth": 2,
            "linecolor": "white",
            "showbackground": true,
            "ticks": "",
            "zerolinecolor": "white"
           },
           "zaxis": {
            "backgroundcolor": "#E5ECF6",
            "gridcolor": "white",
            "gridwidth": 2,
            "linecolor": "white",
            "showbackground": true,
            "ticks": "",
            "zerolinecolor": "white"
           }
          },
          "shapedefaults": {
           "line": {
            "color": "#2a3f5f"
           }
          },
          "ternary": {
           "aaxis": {
            "gridcolor": "white",
            "linecolor": "white",
            "ticks": ""
           },
           "baxis": {
            "gridcolor": "white",
            "linecolor": "white",
            "ticks": ""
           },
           "bgcolor": "#E5ECF6",
           "caxis": {
            "gridcolor": "white",
            "linecolor": "white",
            "ticks": ""
           }
          },
          "title": {
           "x": 0.05
          },
          "xaxis": {
           "automargin": true,
           "gridcolor": "white",
           "linecolor": "white",
           "ticks": "",
           "title": {
            "standoff": 15
           },
           "zerolinecolor": "white",
           "zerolinewidth": 2
          },
          "yaxis": {
           "automargin": true,
           "gridcolor": "white",
           "linecolor": "white",
           "ticks": "",
           "title": {
            "standoff": 15
           },
           "zerolinecolor": "white",
           "zerolinewidth": 2
          }
         }
        },
        "title": {
         "text": "Means of Control"
        }
       }
      },
      "text/html": [
       "<div>                            <div id=\"f1c28894-a0ca-4fcf-b0d9-8defc9f19492\" class=\"plotly-graph-div\" style=\"height:525px; width:100%;\"></div>            <script type=\"text/javascript\">                require([\"plotly\"], function(Plotly) {                    window.PLOTLYENV=window.PLOTLYENV || {};                                    if (document.getElementById(\"f1c28894-a0ca-4fcf-b0d9-8defc9f19492\")) {                    Plotly.newPlot(                        \"f1c28894-a0ca-4fcf-b0d9-8defc9f19492\",                        [{\"name\":\"Female\",\"x\":[\"-99\",\"Debt bondage\",\"Physical abuse\",\"Psychological abuse\",\"Sexual abuse\",\"Threats\",\"Withholds documents\",\"Excessive working hours\",\"False promises\",\"Restricts movement\",\"Takes earnings\",\"Withholds necessities\",\"Restricts medical care\",\"Psychoactive substances\",\"Threat of law enforcement\",\"Other\",\"Not specified\",\"Uses children\",\"Restricts financial access\"],\"y\":[21429.0,842.0,3000.0,3562.0,1572.0,2950.0,1037.0,877.0,1369.0,3241.0,1465.0,787.0,583.0,2224.0,390.0,1762.0,5531.0,117.0,116.0],\"type\":\"bar\",\"textposition\":\"outside\",\"texttemplate\":\"%{value}\"},{\"name\":\"Male\",\"x\":[\"-99\",\"Debt bondage\",\"Excessive working hours\",\"False promises\",\"Physical abuse\",\"Psychoactive substances\",\"Psychological abuse\",\"Restricts medical care\",\"Restricts movement\",\"Sexual abuse\",\"Takes earnings\",\"Threat of law enforcement\",\"Threats\",\"Withholds documents\",\"Withholds necessities\",\"Other\",\"Not specified\",\"Uses children\"],\"y\":[10852.0,457.0,1302.0,1405.0,651.0,63.0,1298.0,702.0,1185.0,51.0,1333.0,390.0,1031.0,1053.0,572.0,111.0,598.0,3.0],\"type\":\"bar\",\"textposition\":\"outside\",\"texttemplate\":\"%{value}\"}],                        {\"template\":{\"data\":{\"bar\":[{\"error_x\":{\"color\":\"#2a3f5f\"},\"error_y\":{\"color\":\"#2a3f5f\"},\"marker\":{\"line\":{\"color\":\"#E5ECF6\",\"width\":0.5},\"pattern\":{\"fillmode\":\"overlay\",\"size\":10,\"solidity\":0.2}},\"type\":\"bar\"}],\"barpolar\":[{\"marker\":{\"line\":{\"color\":\"#E5ECF6\",\"width\":0.5},\"pattern\":{\"fillmode\":\"overlay\",\"size\":10,\"solidity\":0.2}},\"type\":\"barpolar\"}],\"carpet\":[{\"aaxis\":{\"endlinecolor\":\"#2a3f5f\",\"gridcolor\":\"white\",\"linecolor\":\"white\",\"minorgridcolor\":\"white\",\"startlinecolor\":\"#2a3f5f\"},\"baxis\":{\"endlinecolor\":\"#2a3f5f\",\"gridcolor\":\"white\",\"linecolor\":\"white\",\"minorgridcolor\":\"white\",\"startlinecolor\":\"#2a3f5f\"},\"type\":\"carpet\"}],\"choropleth\":[{\"colorbar\":{\"outlinewidth\":0,\"ticks\":\"\"},\"type\":\"choropleth\"}],\"contour\":[{\"colorbar\":{\"outlinewidth\":0,\"ticks\":\"\"},\"colorscale\":[[0.0,\"#0d0887\"],[0.1111111111111111,\"#46039f\"],[0.2222222222222222,\"#7201a8\"],[0.3333333333333333,\"#9c179e\"],[0.4444444444444444,\"#bd3786\"],[0.5555555555555556,\"#d8576b\"],[0.6666666666666666,\"#ed7953\"],[0.7777777777777778,\"#fb9f3a\"],[0.8888888888888888,\"#fdca26\"],[1.0,\"#f0f921\"]],\"type\":\"contour\"}],\"contourcarpet\":[{\"colorbar\":{\"outlinewidth\":0,\"ticks\":\"\"},\"type\":\"contourcarpet\"}],\"heatmap\":[{\"colorbar\":{\"outlinewidth\":0,\"ticks\":\"\"},\"colorscale\":[[0.0,\"#0d0887\"],[0.1111111111111111,\"#46039f\"],[0.2222222222222222,\"#7201a8\"],[0.3333333333333333,\"#9c179e\"],[0.4444444444444444,\"#bd3786\"],[0.5555555555555556,\"#d8576b\"],[0.6666666666666666,\"#ed7953\"],[0.7777777777777778,\"#fb9f3a\"],[0.8888888888888888,\"#fdca26\"],[1.0,\"#f0f921\"]],\"type\":\"heatmap\"}],\"heatmapgl\":[{\"colorbar\":{\"outlinewidth\":0,\"ticks\":\"\"},\"colorscale\":[[0.0,\"#0d0887\"],[0.1111111111111111,\"#46039f\"],[0.2222222222222222,\"#7201a8\"],[0.3333333333333333,\"#9c179e\"],[0.4444444444444444,\"#bd3786\"],[0.5555555555555556,\"#d8576b\"],[0.6666666666666666,\"#ed7953\"],[0.7777777777777778,\"#fb9f3a\"],[0.8888888888888888,\"#fdca26\"],[1.0,\"#f0f921\"]],\"type\":\"heatmapgl\"}],\"histogram\":[{\"marker\":{\"pattern\":{\"fillmode\":\"overlay\",\"size\":10,\"solidity\":0.2}},\"type\":\"histogram\"}],\"histogram2d\":[{\"colorbar\":{\"outlinewidth\":0,\"ticks\":\"\"},\"colorscale\":[[0.0,\"#0d0887\"],[0.1111111111111111,\"#46039f\"],[0.2222222222222222,\"#7201a8\"],[0.3333333333333333,\"#9c179e\"],[0.4444444444444444,\"#bd3786\"],[0.5555555555555556,\"#d8576b\"],[0.6666666666666666,\"#ed7953\"],[0.7777777777777778,\"#fb9f3a\"],[0.8888888888888888,\"#fdca26\"],[1.0,\"#f0f921\"]],\"type\":\"histogram2d\"}],\"histogram2dcontour\":[{\"colorbar\":{\"outlinewidth\":0,\"ticks\":\"\"},\"colorscale\":[[0.0,\"#0d0887\"],[0.1111111111111111,\"#46039f\"],[0.2222222222222222,\"#7201a8\"],[0.3333333333333333,\"#9c179e\"],[0.4444444444444444,\"#bd3786\"],[0.5555555555555556,\"#d8576b\"],[0.6666666666666666,\"#ed7953\"],[0.7777777777777778,\"#fb9f3a\"],[0.8888888888888888,\"#fdca26\"],[1.0,\"#f0f921\"]],\"type\":\"histogram2dcontour\"}],\"mesh3d\":[{\"colorbar\":{\"outlinewidth\":0,\"ticks\":\"\"},\"type\":\"mesh3d\"}],\"parcoords\":[{\"line\":{\"colorbar\":{\"outlinewidth\":0,\"ticks\":\"\"}},\"type\":\"parcoords\"}],\"pie\":[{\"automargin\":true,\"type\":\"pie\"}],\"scatter\":[{\"marker\":{\"colorbar\":{\"outlinewidth\":0,\"ticks\":\"\"}},\"type\":\"scatter\"}],\"scatter3d\":[{\"line\":{\"colorbar\":{\"outlinewidth\":0,\"ticks\":\"\"}},\"marker\":{\"colorbar\":{\"outlinewidth\":0,\"ticks\":\"\"}},\"type\":\"scatter3d\"}],\"scattercarpet\":[{\"marker\":{\"colorbar\":{\"outlinewidth\":0,\"ticks\":\"\"}},\"type\":\"scattercarpet\"}],\"scattergeo\":[{\"marker\":{\"colorbar\":{\"outlinewidth\":0,\"ticks\":\"\"}},\"type\":\"scattergeo\"}],\"scattergl\":[{\"marker\":{\"colorbar\":{\"outlinewidth\":0,\"ticks\":\"\"}},\"type\":\"scattergl\"}],\"scattermapbox\":[{\"marker\":{\"colorbar\":{\"outlinewidth\":0,\"ticks\":\"\"}},\"type\":\"scattermapbox\"}],\"scatterpolar\":[{\"marker\":{\"colorbar\":{\"outlinewidth\":0,\"ticks\":\"\"}},\"type\":\"scatterpolar\"}],\"scatterpolargl\":[{\"marker\":{\"colorbar\":{\"outlinewidth\":0,\"ticks\":\"\"}},\"type\":\"scatterpolargl\"}],\"scatterternary\":[{\"marker\":{\"colorbar\":{\"outlinewidth\":0,\"ticks\":\"\"}},\"type\":\"scatterternary\"}],\"surface\":[{\"colorbar\":{\"outlinewidth\":0,\"ticks\":\"\"},\"colorscale\":[[0.0,\"#0d0887\"],[0.1111111111111111,\"#46039f\"],[0.2222222222222222,\"#7201a8\"],[0.3333333333333333,\"#9c179e\"],[0.4444444444444444,\"#bd3786\"],[0.5555555555555556,\"#d8576b\"],[0.6666666666666666,\"#ed7953\"],[0.7777777777777778,\"#fb9f3a\"],[0.8888888888888888,\"#fdca26\"],[1.0,\"#f0f921\"]],\"type\":\"surface\"}],\"table\":[{\"cells\":{\"fill\":{\"color\":\"#EBF0F8\"},\"line\":{\"color\":\"white\"}},\"header\":{\"fill\":{\"color\":\"#C8D4E3\"},\"line\":{\"color\":\"white\"}},\"type\":\"table\"}]},\"layout\":{\"annotationdefaults\":{\"arrowcolor\":\"#2a3f5f\",\"arrowhead\":0,\"arrowwidth\":1},\"autotypenumbers\":\"strict\",\"coloraxis\":{\"colorbar\":{\"outlinewidth\":0,\"ticks\":\"\"}},\"colorscale\":{\"diverging\":[[0,\"#8e0152\"],[0.1,\"#c51b7d\"],[0.2,\"#de77ae\"],[0.3,\"#f1b6da\"],[0.4,\"#fde0ef\"],[0.5,\"#f7f7f7\"],[0.6,\"#e6f5d0\"],[0.7,\"#b8e186\"],[0.8,\"#7fbc41\"],[0.9,\"#4d9221\"],[1,\"#276419\"]],\"sequential\":[[0.0,\"#0d0887\"],[0.1111111111111111,\"#46039f\"],[0.2222222222222222,\"#7201a8\"],[0.3333333333333333,\"#9c179e\"],[0.4444444444444444,\"#bd3786\"],[0.5555555555555556,\"#d8576b\"],[0.6666666666666666,\"#ed7953\"],[0.7777777777777778,\"#fb9f3a\"],[0.8888888888888888,\"#fdca26\"],[1.0,\"#f0f921\"]],\"sequentialminus\":[[0.0,\"#0d0887\"],[0.1111111111111111,\"#46039f\"],[0.2222222222222222,\"#7201a8\"],[0.3333333333333333,\"#9c179e\"],[0.4444444444444444,\"#bd3786\"],[0.5555555555555556,\"#d8576b\"],[0.6666666666666666,\"#ed7953\"],[0.7777777777777778,\"#fb9f3a\"],[0.8888888888888888,\"#fdca26\"],[1.0,\"#f0f921\"]]},\"colorway\":[\"#636efa\",\"#EF553B\",\"#00cc96\",\"#ab63fa\",\"#FFA15A\",\"#19d3f3\",\"#FF6692\",\"#B6E880\",\"#FF97FF\",\"#FECB52\"],\"font\":{\"color\":\"#2a3f5f\"},\"geo\":{\"bgcolor\":\"white\",\"lakecolor\":\"white\",\"landcolor\":\"#E5ECF6\",\"showlakes\":true,\"showland\":true,\"subunitcolor\":\"white\"},\"hoverlabel\":{\"align\":\"left\"},\"hovermode\":\"closest\",\"mapbox\":{\"style\":\"light\"},\"paper_bgcolor\":\"white\",\"plot_bgcolor\":\"#E5ECF6\",\"polar\":{\"angularaxis\":{\"gridcolor\":\"white\",\"linecolor\":\"white\",\"ticks\":\"\"},\"bgcolor\":\"#E5ECF6\",\"radialaxis\":{\"gridcolor\":\"white\",\"linecolor\":\"white\",\"ticks\":\"\"}},\"scene\":{\"xaxis\":{\"backgroundcolor\":\"#E5ECF6\",\"gridcolor\":\"white\",\"gridwidth\":2,\"linecolor\":\"white\",\"showbackground\":true,\"ticks\":\"\",\"zerolinecolor\":\"white\"},\"yaxis\":{\"backgroundcolor\":\"#E5ECF6\",\"gridcolor\":\"white\",\"gridwidth\":2,\"linecolor\":\"white\",\"showbackground\":true,\"ticks\":\"\",\"zerolinecolor\":\"white\"},\"zaxis\":{\"backgroundcolor\":\"#E5ECF6\",\"gridcolor\":\"white\",\"gridwidth\":2,\"linecolor\":\"white\",\"showbackground\":true,\"ticks\":\"\",\"zerolinecolor\":\"white\"}},\"shapedefaults\":{\"line\":{\"color\":\"#2a3f5f\"}},\"ternary\":{\"aaxis\":{\"gridcolor\":\"white\",\"linecolor\":\"white\",\"ticks\":\"\"},\"baxis\":{\"gridcolor\":\"white\",\"linecolor\":\"white\",\"ticks\":\"\"},\"bgcolor\":\"#E5ECF6\",\"caxis\":{\"gridcolor\":\"white\",\"linecolor\":\"white\",\"ticks\":\"\"}},\"title\":{\"x\":0.05},\"xaxis\":{\"automargin\":true,\"gridcolor\":\"white\",\"linecolor\":\"white\",\"ticks\":\"\",\"title\":{\"standoff\":15},\"zerolinecolor\":\"white\",\"zerolinewidth\":2},\"yaxis\":{\"automargin\":true,\"gridcolor\":\"white\",\"linecolor\":\"white\",\"ticks\":\"\",\"title\":{\"standoff\":15},\"zerolinecolor\":\"white\",\"zerolinewidth\":2}}},\"title\":{\"text\":\"Means of Control\"},\"hovermode\":\"x\"},                        {\"responsive\": true}                    ).then(function(){\n",
       "                            \n",
       "var gd = document.getElementById('f1c28894-a0ca-4fcf-b0d9-8defc9f19492');\n",
       "var x = new MutationObserver(function (mutations, observer) {{\n",
       "        var display = window.getComputedStyle(gd).display;\n",
       "        if (!display || display === 'none') {{\n",
       "            console.log([gd, 'removed!']);\n",
       "            Plotly.purge(gd);\n",
       "            observer.disconnect();\n",
       "        }}\n",
       "}});\n",
       "\n",
       "// Listen for the removal of the full notebook cells\n",
       "var notebookContainer = gd.closest('#notebook-container');\n",
       "if (notebookContainer) {{\n",
       "    x.observe(notebookContainer, {childList: true});\n",
       "}}\n",
       "\n",
       "// Listen for the clearing of the current output cell\n",
       "var outputEl = gd.closest('.output');\n",
       "if (outputEl) {{\n",
       "    x.observe(outputEl, {childList: true});\n",
       "}}\n",
       "\n",
       "                        })                };                });            </script>        </div>"
      ]
     },
     "metadata": {},
     "output_type": "display_data"
    }
   ],
   "source": [
    "fig = go.Figure(data=[\n",
    "    go.Bar(name='Female', x=data_bar_f.index, y=data_bar_f),\n",
    "    go.Bar(name='Male', x=data_bar_m.index, y=data_bar_m)\n",
    "])\n",
    "fig.update_traces(texttemplate='%{value}', textposition='outside')\n",
    "fig.update_layout(hovermode='x', title_text='Means of Control')\n",
    "fig.show()"
   ]
  },
  {
   "cell_type": "code",
   "execution_count": 197,
   "metadata": {},
   "outputs": [],
   "source": [
    "table2 = pd.DataFrame()\n",
    "for i in data[data.ageBroad.notna()].ageBroad.unique():\n",
    "    age_col = pd.DataFrame(data[(data.meansOfControlConcatenated.notna()) & (data.ageBroad == i)].meansOfControlConcatenated.apply(lambda x: pd.value_counts(str(x).split(\";\"))).sum(axis = 0))\n",
    "    age_col.rename(columns={0: i}, inplace=True)\n",
    "    table2 = pd.concat([table2,age_col],axis=1)\n",
    "\n",
    "age_list = ['0--8', '9--17', '18--20', '21--23', '24--26', '27--29', '30--38', '39--47', '48+']\n",
    "table2 = table2.reindex(columns=age_list)"
   ]
  },
  {
   "cell_type": "code",
   "execution_count": 198,
   "metadata": {},
   "outputs": [
    {
     "data": {
      "text/html": [
       "<style type=\"text/css\">\n",
       "#T_69e3f_row0_col0, #T_69e3f_row0_col1, #T_69e3f_row0_col2, #T_69e3f_row0_col3, #T_69e3f_row0_col4, #T_69e3f_row0_col5, #T_69e3f_row0_col6, #T_69e3f_row0_col7, #T_69e3f_row0_col8 {\n",
       "  background-color: #0000ff;\n",
       "  color: #f1f1f1;\n",
       "}\n",
       "#T_69e3f_row1_col0, #T_69e3f_row3_col8, #T_69e3f_row4_col1, #T_69e3f_row8_col3, #T_69e3f_row11_col3, #T_69e3f_row12_col0 {\n",
       "  background-color: #eaeaf3;\n",
       "  color: #000000;\n",
       "}\n",
       "#T_69e3f_row1_col1, #T_69e3f_row9_col3, #T_69e3f_row12_col1, #T_69e3f_row12_col6 {\n",
       "  background-color: #bebef5;\n",
       "  color: #000000;\n",
       "}\n",
       "#T_69e3f_row1_col2, #T_69e3f_row1_col4, #T_69e3f_row2_col8, #T_69e3f_row9_col5 {\n",
       "  background-color: #bcbcf5;\n",
       "  color: #000000;\n",
       "}\n",
       "#T_69e3f_row1_col3, #T_69e3f_row5_col7, #T_69e3f_row6_col8, #T_69e3f_row10_col7, #T_69e3f_row10_col8 {\n",
       "  background-color: #c3c3f5;\n",
       "  color: #000000;\n",
       "}\n",
       "#T_69e3f_row1_col5, #T_69e3f_row5_col8, #T_69e3f_row6_col7, #T_69e3f_row12_col3 {\n",
       "  background-color: #c4c4f5;\n",
       "  color: #000000;\n",
       "}\n",
       "#T_69e3f_row1_col6, #T_69e3f_row7_col2, #T_69e3f_row9_col8, #T_69e3f_row15_col2 {\n",
       "  background-color: #cacaf5;\n",
       "  color: #000000;\n",
       "}\n",
       "#T_69e3f_row1_col7, #T_69e3f_row7_col4, #T_69e3f_row13_col5, #T_69e3f_row16_col5 {\n",
       "  background-color: #d3d3f4;\n",
       "  color: #000000;\n",
       "}\n",
       "#T_69e3f_row1_col8, #T_69e3f_row6_col5 {\n",
       "  background-color: #cfcff4;\n",
       "  color: #000000;\n",
       "}\n",
       "#T_69e3f_row2_col0 {\n",
       "  background-color: #e0e0f4;\n",
       "  color: #000000;\n",
       "}\n",
       "#T_69e3f_row2_col1 {\n",
       "  background-color: #9e9ef7;\n",
       "  color: #f1f1f1;\n",
       "}\n",
       "#T_69e3f_row2_col2 {\n",
       "  background-color: #b7b7f6;\n",
       "  color: #000000;\n",
       "}\n",
       "#T_69e3f_row2_col3 {\n",
       "  background-color: #c0c0f5;\n",
       "  color: #000000;\n",
       "}\n",
       "#T_69e3f_row2_col4 {\n",
       "  background-color: #b5b5f6;\n",
       "  color: #000000;\n",
       "}\n",
       "#T_69e3f_row2_col5, #T_69e3f_row12_col5, #T_69e3f_row16_col3 {\n",
       "  background-color: #bdbdf5;\n",
       "  color: #000000;\n",
       "}\n",
       "#T_69e3f_row2_col6 {\n",
       "  background-color: #b6b6f6;\n",
       "  color: #000000;\n",
       "}\n",
       "#T_69e3f_row2_col7 {\n",
       "  background-color: #c2c2f5;\n",
       "  color: #000000;\n",
       "}\n",
       "#T_69e3f_row3_col0, #T_69e3f_row3_col7, #T_69e3f_row5_col1 {\n",
       "  background-color: #e9e9f3;\n",
       "  color: #000000;\n",
       "}\n",
       "#T_69e3f_row3_col1, #T_69e3f_row12_col7 {\n",
       "  background-color: #ccccf5;\n",
       "  color: #000000;\n",
       "}\n",
       "#T_69e3f_row3_col2, #T_69e3f_row8_col6 {\n",
       "  background-color: #dadaf4;\n",
       "  color: #000000;\n",
       "}\n",
       "#T_69e3f_row3_col3, #T_69e3f_row6_col3, #T_69e3f_row14_col6, #T_69e3f_row14_col7 {\n",
       "  background-color: #dedef4;\n",
       "  color: #000000;\n",
       "}\n",
       "#T_69e3f_row3_col4, #T_69e3f_row8_col7 {\n",
       "  background-color: #d9d9f4;\n",
       "  color: #000000;\n",
       "}\n",
       "#T_69e3f_row3_col5, #T_69e3f_row4_col8, #T_69e3f_row13_col3 {\n",
       "  background-color: #e2e2f3;\n",
       "  color: #000000;\n",
       "}\n",
       "#T_69e3f_row3_col6, #T_69e3f_row4_col2, #T_69e3f_row10_col1, #T_69e3f_row11_col7, #T_69e3f_row14_col3 {\n",
       "  background-color: #e6e6f3;\n",
       "  color: #000000;\n",
       "}\n",
       "#T_69e3f_row4_col0, #T_69e3f_row7_col0, #T_69e3f_row8_col0, #T_69e3f_row11_col0, #T_69e3f_row13_col0, #T_69e3f_row13_col1, #T_69e3f_row14_col0, #T_69e3f_row17_col0, #T_69e3f_row17_col1, #T_69e3f_row17_col2, #T_69e3f_row17_col4, #T_69e3f_row17_col5, #T_69e3f_row17_col6, #T_69e3f_row17_col7, #T_69e3f_row17_col8, #T_69e3f_row18_col0, #T_69e3f_row18_col1, #T_69e3f_row18_col3, #T_69e3f_row18_col4, #T_69e3f_row18_col5, #T_69e3f_row18_col6, #T_69e3f_row18_col7, #T_69e3f_row18_col8 {\n",
       "  background-color: #f0f0f3;\n",
       "  color: #000000;\n",
       "}\n",
       "#T_69e3f_row4_col3, #T_69e3f_row5_col3, #T_69e3f_row11_col6, #T_69e3f_row14_col1, #T_69e3f_row16_col0, #T_69e3f_row16_col8 {\n",
       "  background-color: #e4e4f3;\n",
       "  color: #000000;\n",
       "}\n",
       "#T_69e3f_row4_col4, #T_69e3f_row15_col3, #T_69e3f_row15_col4 {\n",
       "  background-color: #d8d8f4;\n",
       "  color: #000000;\n",
       "}\n",
       "#T_69e3f_row4_col5, #T_69e3f_row8_col4, #T_69e3f_row15_col5 {\n",
       "  background-color: #dedff4;\n",
       "  color: #000000;\n",
       "}\n",
       "#T_69e3f_row4_col6, #T_69e3f_row8_col5 {\n",
       "  background-color: #dfdff4;\n",
       "  color: #000000;\n",
       "}\n",
       "#T_69e3f_row4_col7, #T_69e3f_row6_col2, #T_69e3f_row11_col8, #T_69e3f_row14_col5, #T_69e3f_row15_col6 {\n",
       "  background-color: #e3e3f3;\n",
       "  color: #000000;\n",
       "}\n",
       "#T_69e3f_row5_col0, #T_69e3f_row8_col1, #T_69e3f_row10_col0, #T_69e3f_row11_col1, #T_69e3f_row11_col2, #T_69e3f_row15_col0, #T_69e3f_row17_col3, #T_69e3f_row18_col2 {\n",
       "  background-color: #efeff3;\n",
       "  color: #000000;\n",
       "}\n",
       "#T_69e3f_row5_col2, #T_69e3f_row8_col2, #T_69e3f_row9_col0 {\n",
       "  background-color: #eeeef3;\n",
       "  color: #000000;\n",
       "}\n",
       "#T_69e3f_row5_col4, #T_69e3f_row5_col5, #T_69e3f_row16_col6 {\n",
       "  background-color: #d7d7f4;\n",
       "  color: #000000;\n",
       "}\n",
       "#T_69e3f_row5_col6, #T_69e3f_row13_col6, #T_69e3f_row16_col4 {\n",
       "  background-color: #c6c6f5;\n",
       "  color: #000000;\n",
       "}\n",
       "#T_69e3f_row6_col0 {\n",
       "  background-color: #ebebf3;\n",
       "  color: #000000;\n",
       "}\n",
       "#T_69e3f_row6_col1, #T_69e3f_row7_col6, #T_69e3f_row14_col8, #T_69e3f_row16_col7 {\n",
       "  background-color: #e1e1f4;\n",
       "  color: #000000;\n",
       "}\n",
       "#T_69e3f_row6_col4, #T_69e3f_row13_col8 {\n",
       "  background-color: #cbcbf5;\n",
       "  color: #000000;\n",
       "}\n",
       "#T_69e3f_row6_col6, #T_69e3f_row10_col6, #T_69e3f_row12_col2 {\n",
       "  background-color: #c1c1f5;\n",
       "  color: #000000;\n",
       "}\n",
       "#T_69e3f_row7_col1, #T_69e3f_row12_col4 {\n",
       "  background-color: #b8b8f6;\n",
       "  color: #000000;\n",
       "}\n",
       "#T_69e3f_row7_col3 {\n",
       "  background-color: #d2d2f4;\n",
       "  color: #000000;\n",
       "}\n",
       "#T_69e3f_row7_col5 {\n",
       "  background-color: #dbdbf4;\n",
       "  color: #000000;\n",
       "}\n",
       "#T_69e3f_row7_col7 {\n",
       "  background-color: #e7e7f3;\n",
       "  color: #000000;\n",
       "}\n",
       "#T_69e3f_row7_col8, #T_69e3f_row13_col2 {\n",
       "  background-color: #e8e8f3;\n",
       "  color: #000000;\n",
       "}\n",
       "#T_69e3f_row8_col8 {\n",
       "  background-color: #d1d1f4;\n",
       "  color: #000000;\n",
       "}\n",
       "#T_69e3f_row9_col1 {\n",
       "  background-color: #babaf6;\n",
       "  color: #000000;\n",
       "}\n",
       "#T_69e3f_row9_col2 {\n",
       "  background-color: #b2b2f6;\n",
       "  color: #000000;\n",
       "}\n",
       "#T_69e3f_row9_col4 {\n",
       "  background-color: #b1b1f6;\n",
       "  color: #000000;\n",
       "}\n",
       "#T_69e3f_row9_col6 {\n",
       "  background-color: #b9b9f6;\n",
       "  color: #000000;\n",
       "}\n",
       "#T_69e3f_row9_col7 {\n",
       "  background-color: #c5c5f5;\n",
       "  color: #000000;\n",
       "}\n",
       "#T_69e3f_row10_col2, #T_69e3f_row14_col4 {\n",
       "  background-color: #dcdcf4;\n",
       "  color: #000000;\n",
       "}\n",
       "#T_69e3f_row10_col3 {\n",
       "  background-color: #d6d6f4;\n",
       "  color: #000000;\n",
       "}\n",
       "#T_69e3f_row10_col4 {\n",
       "  background-color: #c9c9f5;\n",
       "  color: #000000;\n",
       "}\n",
       "#T_69e3f_row10_col5 {\n",
       "  background-color: #cdcdf5;\n",
       "  color: #000000;\n",
       "}\n",
       "#T_69e3f_row11_col4, #T_69e3f_row11_col5, #T_69e3f_row14_col2, #T_69e3f_row15_col7 {\n",
       "  background-color: #e5e5f3;\n",
       "  color: #000000;\n",
       "}\n",
       "#T_69e3f_row12_col8 {\n",
       "  background-color: #c8c8f5;\n",
       "  color: #000000;\n",
       "}\n",
       "#T_69e3f_row13_col4 {\n",
       "  background-color: #d4d4f4;\n",
       "  color: #000000;\n",
       "}\n",
       "#T_69e3f_row13_col7 {\n",
       "  background-color: #cecef5;\n",
       "  color: #000000;\n",
       "}\n",
       "#T_69e3f_row15_col1 {\n",
       "  background-color: #d5d5f4;\n",
       "  color: #000000;\n",
       "}\n",
       "#T_69e3f_row15_col8 {\n",
       "  background-color: #ececf3;\n",
       "  color: #000000;\n",
       "}\n",
       "#T_69e3f_row16_col1 {\n",
       "  background-color: #0808ff;\n",
       "  color: #f1f1f1;\n",
       "}\n",
       "#T_69e3f_row16_col2 {\n",
       "  background-color: #9494f7;\n",
       "  color: #f1f1f1;\n",
       "}\n",
       "</style>\n",
       "<table id=\"T_69e3f\">\n",
       "  <thead>\n",
       "    <tr>\n",
       "      <th class=\"blank level0\" >&nbsp;</th>\n",
       "      <th id=\"T_69e3f_level0_col0\" class=\"col_heading level0 col0\" >0--8</th>\n",
       "      <th id=\"T_69e3f_level0_col1\" class=\"col_heading level0 col1\" >9--17</th>\n",
       "      <th id=\"T_69e3f_level0_col2\" class=\"col_heading level0 col2\" >18--20</th>\n",
       "      <th id=\"T_69e3f_level0_col3\" class=\"col_heading level0 col3\" >21--23</th>\n",
       "      <th id=\"T_69e3f_level0_col4\" class=\"col_heading level0 col4\" >24--26</th>\n",
       "      <th id=\"T_69e3f_level0_col5\" class=\"col_heading level0 col5\" >27--29</th>\n",
       "      <th id=\"T_69e3f_level0_col6\" class=\"col_heading level0 col6\" >30--38</th>\n",
       "      <th id=\"T_69e3f_level0_col7\" class=\"col_heading level0 col7\" >39--47</th>\n",
       "      <th id=\"T_69e3f_level0_col8\" class=\"col_heading level0 col8\" >48+</th>\n",
       "    </tr>\n",
       "  </thead>\n",
       "  <tbody>\n",
       "    <tr>\n",
       "      <th id=\"T_69e3f_level0_row0\" class=\"row_heading level0 row0\" >-99</th>\n",
       "      <td id=\"T_69e3f_row0_col0\" class=\"data row0 col0\" >1,314</td>\n",
       "      <td id=\"T_69e3f_row0_col1\" class=\"data row0 col1\" >2,991</td>\n",
       "      <td id=\"T_69e3f_row0_col2\" class=\"data row0 col2\" >2,185</td>\n",
       "      <td id=\"T_69e3f_row0_col3\" class=\"data row0 col3\" >2,501</td>\n",
       "      <td id=\"T_69e3f_row0_col4\" class=\"data row0 col4\" >2,043</td>\n",
       "      <td id=\"T_69e3f_row0_col5\" class=\"data row0 col5\" >1,673</td>\n",
       "      <td id=\"T_69e3f_row0_col6\" class=\"data row0 col6\" >4,620</td>\n",
       "      <td id=\"T_69e3f_row0_col7\" class=\"data row0 col7\" >2,001</td>\n",
       "      <td id=\"T_69e3f_row0_col8\" class=\"data row0 col8\" >1,157</td>\n",
       "    </tr>\n",
       "    <tr>\n",
       "      <th id=\"T_69e3f_level0_row1\" class=\"row_heading level0 row1\" >Physical abuse</th>\n",
       "      <td id=\"T_69e3f_row1_col0\" class=\"data row1 col0\" >38</td>\n",
       "      <td id=\"T_69e3f_row1_col1\" class=\"data row1 col1\" >644</td>\n",
       "      <td id=\"T_69e3f_row1_col2\" class=\"data row1 col2\" >495</td>\n",
       "      <td id=\"T_69e3f_row1_col3\" class=\"data row1 col3\" >486</td>\n",
       "      <td id=\"T_69e3f_row1_col4\" class=\"data row1 col4\" >466</td>\n",
       "      <td id=\"T_69e3f_row1_col5\" class=\"data row1 col5\" >325</td>\n",
       "      <td id=\"T_69e3f_row1_col6\" class=\"data row1 col6\" >771</td>\n",
       "      <td id=\"T_69e3f_row1_col7\" class=\"data row1 col7\" >252</td>\n",
       "      <td id=\"T_69e3f_row1_col8\" class=\"data row1 col8\" >163</td>\n",
       "    </tr>\n",
       "    <tr>\n",
       "      <th id=\"T_69e3f_level0_row2\" class=\"row_heading level0 row2\" >Psychological abuse</th>\n",
       "      <td id=\"T_69e3f_row2_col0\" class=\"data row2 col0\" >88</td>\n",
       "      <td id=\"T_69e3f_row2_col1\" class=\"data row2 col1\" >1,020</td>\n",
       "      <td id=\"T_69e3f_row2_col2\" class=\"data row2 col2\" >535</td>\n",
       "      <td id=\"T_69e3f_row2_col3\" class=\"data row2 col3\" >515</td>\n",
       "      <td id=\"T_69e3f_row2_col4\" class=\"data row2 col4\" >524</td>\n",
       "      <td id=\"T_69e3f_row2_col5\" class=\"data row2 col5\" >373</td>\n",
       "      <td id=\"T_69e3f_row2_col6\" class=\"data row2 col6\" >1,153</td>\n",
       "      <td id=\"T_69e3f_row2_col7\" class=\"data row2 col7\" >393</td>\n",
       "      <td id=\"T_69e3f_row2_col8\" class=\"data row2 col8\" >256</td>\n",
       "    </tr>\n",
       "    <tr>\n",
       "      <th id=\"T_69e3f_level0_row3\" class=\"row_heading level0 row3\" >Sexual abuse</th>\n",
       "      <td id=\"T_69e3f_row3_col0\" class=\"data row3 col0\" >45</td>\n",
       "      <td id=\"T_69e3f_row3_col1\" class=\"data row3 col1\" >471</td>\n",
       "      <td id=\"T_69e3f_row3_col2\" class=\"data row3 col2\" >220</td>\n",
       "      <td id=\"T_69e3f_row3_col3\" class=\"data row3 col3\" >212</td>\n",
       "      <td id=\"T_69e3f_row3_col4\" class=\"data row3 col4\" >219</td>\n",
       "      <td id=\"T_69e3f_row3_col5\" class=\"data row3 col5\" >116</td>\n",
       "      <td id=\"T_69e3f_row3_col6\" class=\"data row3 col6\" >229</td>\n",
       "      <td id=\"T_69e3f_row3_col7\" class=\"data row3 col7\" >68</td>\n",
       "      <td id=\"T_69e3f_row3_col8\" class=\"data row3 col8\" >37</td>\n",
       "    </tr>\n",
       "    <tr>\n",
       "      <th id=\"T_69e3f_level0_row4\" class=\"row_heading level0 row4\" >Debt bondage</th>\n",
       "      <td id=\"T_69e3f_row4_col0\" class=\"data row4 col0\" >0</td>\n",
       "      <td id=\"T_69e3f_row4_col1\" class=\"data row4 col1\" >88</td>\n",
       "      <td id=\"T_69e3f_row4_col2\" class=\"data row4 col2\" >112</td>\n",
       "      <td id=\"T_69e3f_row4_col3\" class=\"data row4 col3\" >144</td>\n",
       "      <td id=\"T_69e3f_row4_col4\" class=\"data row4 col4\" >231</td>\n",
       "      <td id=\"T_69e3f_row4_col5\" class=\"data row4 col5\" >138</td>\n",
       "      <td id=\"T_69e3f_row4_col6\" class=\"data row4 col6\" >357</td>\n",
       "      <td id=\"T_69e3f_row4_col7\" class=\"data row4 col7\" >119</td>\n",
       "      <td id=\"T_69e3f_row4_col8\" class=\"data row4 col8\" >73</td>\n",
       "    </tr>\n",
       "    <tr>\n",
       "      <th id=\"T_69e3f_level0_row5\" class=\"row_heading level0 row5\" >Excessive working hours</th>\n",
       "      <td id=\"T_69e3f_row5_col0\" class=\"data row5 col0\" >11</td>\n",
       "      <td id=\"T_69e3f_row5_col1\" class=\"data row5 col1\" >106</td>\n",
       "      <td id=\"T_69e3f_row5_col2\" class=\"data row5 col2\" >43</td>\n",
       "      <td id=\"T_69e3f_row5_col3\" class=\"data row5 col3\" >149</td>\n",
       "      <td id=\"T_69e3f_row5_col4\" class=\"data row5 col4\" >234</td>\n",
       "      <td id=\"T_69e3f_row5_col5\" class=\"data row5 col5\" >189</td>\n",
       "      <td id=\"T_69e3f_row5_col6\" class=\"data row5 col6\" >847</td>\n",
       "      <td id=\"T_69e3f_row5_col7\" class=\"data row5 col7\" >385</td>\n",
       "      <td id=\"T_69e3f_row5_col8\" class=\"data row5 col8\" >215</td>\n",
       "    </tr>\n",
       "    <tr>\n",
       "      <th id=\"T_69e3f_level0_row6\" class=\"row_heading level0 row6\" >False promises</th>\n",
       "      <td id=\"T_69e3f_row6_col0\" class=\"data row6 col0\" >32</td>\n",
       "      <td id=\"T_69e3f_row6_col1\" class=\"data row6 col1\" >199</td>\n",
       "      <td id=\"T_69e3f_row6_col2\" class=\"data row6 col2\" >133</td>\n",
       "      <td id=\"T_69e3f_row6_col3\" class=\"data row6 col3\" >213</td>\n",
       "      <td id=\"T_69e3f_row6_col4\" class=\"data row6 col4\" >336</td>\n",
       "      <td id=\"T_69e3f_row6_col5\" class=\"data row6 col5\" >243</td>\n",
       "      <td id=\"T_69e3f_row6_col6\" class=\"data row6 col6\" >937</td>\n",
       "      <td id=\"T_69e3f_row6_col7\" class=\"data row6 col7\" >370</td>\n",
       "      <td id=\"T_69e3f_row6_col8\" class=\"data row6 col8\" >218</td>\n",
       "    </tr>\n",
       "    <tr>\n",
       "      <th id=\"T_69e3f_level0_row7\" class=\"row_heading level0 row7\" >Psychoactive substances</th>\n",
       "      <td id=\"T_69e3f_row7_col0\" class=\"data row7 col0\" >5</td>\n",
       "      <td id=\"T_69e3f_row7_col1\" class=\"data row7 col1\" >709</td>\n",
       "      <td id=\"T_69e3f_row7_col2\" class=\"data row7 col2\" >362</td>\n",
       "      <td id=\"T_69e3f_row7_col3\" class=\"data row7 col3\" >328</td>\n",
       "      <td id=\"T_69e3f_row7_col4\" class=\"data row7 col4\" >264</td>\n",
       "      <td id=\"T_69e3f_row7_col5\" class=\"data row7 col5\" >166</td>\n",
       "      <td id=\"T_69e3f_row7_col6\" class=\"data row7 col6\" >328</td>\n",
       "      <td id=\"T_69e3f_row7_col7\" class=\"data row7 col7\" >82</td>\n",
       "      <td id=\"T_69e3f_row7_col8\" class=\"data row7 col8\" >43</td>\n",
       "    </tr>\n",
       "    <tr>\n",
       "      <th id=\"T_69e3f_level0_row8\" class=\"row_heading level0 row8\" >Restricts medical care</th>\n",
       "      <td id=\"T_69e3f_row8_col0\" class=\"data row8 col0\" >2</td>\n",
       "      <td id=\"T_69e3f_row8_col1\" class=\"data row8 col1\" >26</td>\n",
       "      <td id=\"T_69e3f_row8_col2\" class=\"data row8 col2\" >39</td>\n",
       "      <td id=\"T_69e3f_row8_col3\" class=\"data row8 col3\" >88</td>\n",
       "      <td id=\"T_69e3f_row8_col4\" class=\"data row8 col4\" >174</td>\n",
       "      <td id=\"T_69e3f_row8_col5\" class=\"data row8 col5\" >131</td>\n",
       "      <td id=\"T_69e3f_row8_col6\" class=\"data row8 col6\" >474</td>\n",
       "      <td id=\"T_69e3f_row8_col7\" class=\"data row8 col7\" >200</td>\n",
       "      <td id=\"T_69e3f_row8_col8\" class=\"data row8 col8\" >151</td>\n",
       "    </tr>\n",
       "    <tr>\n",
       "      <th id=\"T_69e3f_level0_row9\" class=\"row_heading level0 row9\" >Restricts movement</th>\n",
       "      <td id=\"T_69e3f_row9_col0\" class=\"data row9 col0\" >19</td>\n",
       "      <td id=\"T_69e3f_row9_col1\" class=\"data row9 col1\" >688</td>\n",
       "      <td id=\"T_69e3f_row9_col2\" class=\"data row9 col2\" >575</td>\n",
       "      <td id=\"T_69e3f_row9_col3\" class=\"data row9 col3\" >532</td>\n",
       "      <td id=\"T_69e3f_row9_col4\" class=\"data row9 col4\" >554</td>\n",
       "      <td id=\"T_69e3f_row9_col5\" class=\"data row9 col5\" >383</td>\n",
       "      <td id=\"T_69e3f_row9_col6\" class=\"data row9 col6\" >1,092</td>\n",
       "      <td id=\"T_69e3f_row9_col7\" class=\"data row9 col7\" >366</td>\n",
       "      <td id=\"T_69e3f_row9_col8\" class=\"data row9 col8\" >190</td>\n",
       "    </tr>\n",
       "    <tr>\n",
       "      <th id=\"T_69e3f_level0_row10\" class=\"row_heading level0 row10\" >Takes earnings</th>\n",
       "      <td id=\"T_69e3f_row10_col0\" class=\"data row10 col0\" >14</td>\n",
       "      <td id=\"T_69e3f_row10_col1\" class=\"data row10 col1\" >143</td>\n",
       "      <td id=\"T_69e3f_row10_col2\" class=\"data row10 col2\" >202</td>\n",
       "      <td id=\"T_69e3f_row10_col3\" class=\"data row10 col3\" >292</td>\n",
       "      <td id=\"T_69e3f_row10_col4\" class=\"data row10 col4\" >357</td>\n",
       "      <td id=\"T_69e3f_row10_col5\" class=\"data row10 col5\" >266</td>\n",
       "      <td id=\"T_69e3f_row10_col6\" class=\"data row10 col6\" >925</td>\n",
       "      <td id=\"T_69e3f_row10_col7\" class=\"data row10 col7\" >380</td>\n",
       "      <td id=\"T_69e3f_row10_col8\" class=\"data row10 col8\" >219</td>\n",
       "    </tr>\n",
       "    <tr>\n",
       "      <th id=\"T_69e3f_level0_row11\" class=\"row_heading level0 row11\" >Threat of law enforcement</th>\n",
       "      <td id=\"T_69e3f_row11_col0\" class=\"data row11 col0\" >0</td>\n",
       "      <td id=\"T_69e3f_row11_col1\" class=\"data row11 col1\" >22</td>\n",
       "      <td id=\"T_69e3f_row11_col2\" class=\"data row11 col2\" >26</td>\n",
       "      <td id=\"T_69e3f_row11_col3\" class=\"data row11 col3\" >87</td>\n",
       "      <td id=\"T_69e3f_row11_col4\" class=\"data row11 col4\" >116</td>\n",
       "      <td id=\"T_69e3f_row11_col5\" class=\"data row11 col5\" >96</td>\n",
       "      <td id=\"T_69e3f_row11_col6\" class=\"data row11 col6\" >277</td>\n",
       "      <td id=\"T_69e3f_row11_col7\" class=\"data row11 col7\" >91</td>\n",
       "      <td id=\"T_69e3f_row11_col8\" class=\"data row11 col8\" >65</td>\n",
       "    </tr>\n",
       "    <tr>\n",
       "      <th id=\"T_69e3f_level0_row12\" class=\"row_heading level0 row12\" >Threats</th>\n",
       "      <td id=\"T_69e3f_row12_col0\" class=\"data row12 col0\" >37</td>\n",
       "      <td id=\"T_69e3f_row12_col1\" class=\"data row12 col1\" >630</td>\n",
       "      <td id=\"T_69e3f_row12_col2\" class=\"data row12 col2\" >442</td>\n",
       "      <td id=\"T_69e3f_row12_col3\" class=\"data row12 col3\" >475</td>\n",
       "      <td id=\"T_69e3f_row12_col4\" class=\"data row12 col4\" >497</td>\n",
       "      <td id=\"T_69e3f_row12_col5\" class=\"data row12 col5\" >376</td>\n",
       "      <td id=\"T_69e3f_row12_col6\" class=\"data row12 col6\" >1,003</td>\n",
       "      <td id=\"T_69e3f_row12_col7\" class=\"data row12 col7\" >313</td>\n",
       "      <td id=\"T_69e3f_row12_col8\" class=\"data row12 col8\" >198</td>\n",
       "    </tr>\n",
       "    <tr>\n",
       "      <th id=\"T_69e3f_level0_row13\" class=\"row_heading level0 row13\" >Withholds documents</th>\n",
       "      <td id=\"T_69e3f_row13_col0\" class=\"data row13 col0\" >0</td>\n",
       "      <td id=\"T_69e3f_row13_col1\" class=\"data row13 col1\" >14</td>\n",
       "      <td id=\"T_69e3f_row13_col2\" class=\"data row13 col2\" >91</td>\n",
       "      <td id=\"T_69e3f_row13_col3\" class=\"data row13 col3\" >162</td>\n",
       "      <td id=\"T_69e3f_row13_col4\" class=\"data row13 col4\" >260</td>\n",
       "      <td id=\"T_69e3f_row13_col5\" class=\"data row13 col5\" >217</td>\n",
       "      <td id=\"T_69e3f_row13_col6\" class=\"data row13 col6\" >839</td>\n",
       "      <td id=\"T_69e3f_row13_col7\" class=\"data row13 col7\" >292</td>\n",
       "      <td id=\"T_69e3f_row13_col8\" class=\"data row13 col8\" >182</td>\n",
       "    </tr>\n",
       "    <tr>\n",
       "      <th id=\"T_69e3f_level0_row14\" class=\"row_heading level0 row14\" >Withholds necessities</th>\n",
       "      <td id=\"T_69e3f_row14_col0\" class=\"data row14 col0\" >3</td>\n",
       "      <td id=\"T_69e3f_row14_col1\" class=\"data row14 col1\" >157</td>\n",
       "      <td id=\"T_69e3f_row14_col2\" class=\"data row14 col2\" >121</td>\n",
       "      <td id=\"T_69e3f_row14_col3\" class=\"data row14 col3\" >128</td>\n",
       "      <td id=\"T_69e3f_row14_col4\" class=\"data row14 col4\" >196</td>\n",
       "      <td id=\"T_69e3f_row14_col5\" class=\"data row14 col5\" >109</td>\n",
       "      <td id=\"T_69e3f_row14_col6\" class=\"data row14 col6\" >403</td>\n",
       "      <td id=\"T_69e3f_row14_col7\" class=\"data row14 col7\" >166</td>\n",
       "      <td id=\"T_69e3f_row14_col8\" class=\"data row14 col8\" >76</td>\n",
       "    </tr>\n",
       "    <tr>\n",
       "      <th id=\"T_69e3f_level0_row15\" class=\"row_heading level0 row15\" >Other</th>\n",
       "      <td id=\"T_69e3f_row15_col0\" class=\"data row15 col0\" >13</td>\n",
       "      <td id=\"T_69e3f_row15_col1\" class=\"data row15 col1\" >353</td>\n",
       "      <td id=\"T_69e3f_row15_col2\" class=\"data row15 col2\" >368</td>\n",
       "      <td id=\"T_69e3f_row15_col3\" class=\"data row15 col3\" >269</td>\n",
       "      <td id=\"T_69e3f_row15_col4\" class=\"data row15 col4\" >226</td>\n",
       "      <td id=\"T_69e3f_row15_col5\" class=\"data row15 col5\" >142</td>\n",
       "      <td id=\"T_69e3f_row15_col6\" class=\"data row15 col6\" >289</td>\n",
       "      <td id=\"T_69e3f_row15_col7\" class=\"data row15 col7\" >103</td>\n",
       "      <td id=\"T_69e3f_row15_col8\" class=\"data row15 col8\" >27</td>\n",
       "    </tr>\n",
       "    <tr>\n",
       "      <th id=\"T_69e3f_level0_row16\" class=\"row_heading level0 row16\" >Not specified</th>\n",
       "      <td id=\"T_69e3f_row16_col0\" class=\"data row16 col0\" >68</td>\n",
       "      <td id=\"T_69e3f_row16_col1\" class=\"data row16 col1\" >2,892</td>\n",
       "      <td id=\"T_69e3f_row16_col2\" class=\"data row16 col2\" >852</td>\n",
       "      <td id=\"T_69e3f_row16_col3\" class=\"data row16 col3\" >553</td>\n",
       "      <td id=\"T_69e3f_row16_col4\" class=\"data row16 col4\" >380</td>\n",
       "      <td id=\"T_69e3f_row16_col5\" class=\"data row16 col5\" >220</td>\n",
       "      <td id=\"T_69e3f_row16_col6\" class=\"data row16 col6\" >528</td>\n",
       "      <td id=\"T_69e3f_row16_col7\" class=\"data row16 col7\" >134</td>\n",
       "      <td id=\"T_69e3f_row16_col8\" class=\"data row16 col8\" >63</td>\n",
       "    </tr>\n",
       "    <tr>\n",
       "      <th id=\"T_69e3f_level0_row17\" class=\"row_heading level0 row17\" >Uses children</th>\n",
       "      <td id=\"T_69e3f_row17_col0\" class=\"data row17 col0\" >2</td>\n",
       "      <td id=\"T_69e3f_row17_col1\" class=\"data row17 col1\" >5</td>\n",
       "      <td id=\"T_69e3f_row17_col2\" class=\"data row17 col2\" >13</td>\n",
       "      <td id=\"T_69e3f_row17_col3\" class=\"data row17 col3\" >24</td>\n",
       "      <td id=\"T_69e3f_row17_col4\" class=\"data row17 col4\" >19</td>\n",
       "      <td id=\"T_69e3f_row17_col5\" class=\"data row17 col5\" >18</td>\n",
       "      <td id=\"T_69e3f_row17_col6\" class=\"data row17 col6\" >33</td>\n",
       "      <td id=\"T_69e3f_row17_col7\" class=\"data row17 col7\" >3</td>\n",
       "      <td id=\"T_69e3f_row17_col8\" class=\"data row17 col8\" >3</td>\n",
       "    </tr>\n",
       "    <tr>\n",
       "      <th id=\"T_69e3f_level0_row18\" class=\"row_heading level0 row18\" >Restricts financial access</th>\n",
       "      <td id=\"T_69e3f_row18_col0\" class=\"data row18 col0\" >0</td>\n",
       "      <td id=\"T_69e3f_row18_col1\" class=\"data row18 col1\" >8</td>\n",
       "      <td id=\"T_69e3f_row18_col2\" class=\"data row18 col2\" >30</td>\n",
       "      <td id=\"T_69e3f_row18_col3\" class=\"data row18 col3\" >14</td>\n",
       "      <td id=\"T_69e3f_row18_col4\" class=\"data row18 col4\" >18</td>\n",
       "      <td id=\"T_69e3f_row18_col5\" class=\"data row18 col5\" >14</td>\n",
       "      <td id=\"T_69e3f_row18_col6\" class=\"data row18 col6\" >27</td>\n",
       "      <td id=\"T_69e3f_row18_col7\" class=\"data row18 col7\" >4</td>\n",
       "      <td id=\"T_69e3f_row18_col8\" class=\"data row18 col8\" >1</td>\n",
       "    </tr>\n",
       "  </tbody>\n",
       "</table>\n"
      ],
      "text/plain": [
       "<pandas.io.formats.style.Styler at 0x2394a0b6370>"
      ]
     },
     "execution_count": 198,
     "metadata": {},
     "output_type": "execute_result"
    }
   ],
   "source": [
    "table2.fillna(0).style.background_gradient(cmap=cm).format('{:,.0f}')"
   ]
  },
  {
   "cell_type": "code",
   "execution_count": 18,
   "metadata": {},
   "outputs": [],
   "source": [
    "data_bar_f = data[(data.typeOfExploitConcatenated.notna()) & (data.gender == 'Female')].typeOfExploitConcatenated.apply(lambda x: pd.value_counts(str(x).split(\";\"))).sum(axis = 0)\n",
    "data_bar_m = data[(data.typeOfExploitConcatenated.notna()) & (data.gender == 'Male')].typeOfExploitConcatenated.apply(lambda x: pd.value_counts(str(x).split(\";\"))).sum(axis = 0)"
   ]
  },
  {
   "cell_type": "code",
   "execution_count": 199,
   "metadata": {},
   "outputs": [
    {
     "data": {
      "application/vnd.plotly.v1+json": {
       "config": {
        "plotlyServerURL": "https://plot.ly"
       },
       "data": [
        {
         "name": "Female",
         "textposition": "outside",
         "texttemplate": "%{value}",
         "type": "bar",
         "x": [
          "-99",
          "Debt bondage",
          "Physical abuse",
          "Psychological abuse",
          "Sexual abuse",
          "Threats",
          "Withholds documents",
          "Excessive working hours",
          "False promises",
          "Restricts movement",
          "Takes earnings",
          "Withholds necessities",
          "Restricts medical care",
          "Psychoactive substances",
          "Threat of law enforcement",
          "Other",
          "Not specified",
          "Uses children",
          "Restricts financial access"
         ],
         "y": [
          21429,
          842,
          3000,
          3562,
          1572,
          2950,
          1037,
          877,
          1369,
          3241,
          1465,
          787,
          583,
          2224,
          390,
          1762,
          5531,
          117,
          116
         ]
        },
        {
         "name": "Male",
         "textposition": "outside",
         "texttemplate": "%{value}",
         "type": "bar",
         "x": [
          "-99",
          "Debt bondage",
          "Excessive working hours",
          "False promises",
          "Physical abuse",
          "Psychoactive substances",
          "Psychological abuse",
          "Restricts medical care",
          "Restricts movement",
          "Sexual abuse",
          "Takes earnings",
          "Threat of law enforcement",
          "Threats",
          "Withholds documents",
          "Withholds necessities",
          "Other",
          "Not specified",
          "Uses children"
         ],
         "y": [
          10852,
          457,
          1302,
          1405,
          651,
          63,
          1298,
          702,
          1185,
          51,
          1333,
          390,
          1031,
          1053,
          572,
          111,
          598,
          3
         ]
        }
       ],
       "layout": {
        "template": {
         "data": {
          "bar": [
           {
            "error_x": {
             "color": "#2a3f5f"
            },
            "error_y": {
             "color": "#2a3f5f"
            },
            "marker": {
             "line": {
              "color": "#E5ECF6",
              "width": 0.5
             },
             "pattern": {
              "fillmode": "overlay",
              "size": 10,
              "solidity": 0.2
             }
            },
            "type": "bar"
           }
          ],
          "barpolar": [
           {
            "marker": {
             "line": {
              "color": "#E5ECF6",
              "width": 0.5
             },
             "pattern": {
              "fillmode": "overlay",
              "size": 10,
              "solidity": 0.2
             }
            },
            "type": "barpolar"
           }
          ],
          "carpet": [
           {
            "aaxis": {
             "endlinecolor": "#2a3f5f",
             "gridcolor": "white",
             "linecolor": "white",
             "minorgridcolor": "white",
             "startlinecolor": "#2a3f5f"
            },
            "baxis": {
             "endlinecolor": "#2a3f5f",
             "gridcolor": "white",
             "linecolor": "white",
             "minorgridcolor": "white",
             "startlinecolor": "#2a3f5f"
            },
            "type": "carpet"
           }
          ],
          "choropleth": [
           {
            "colorbar": {
             "outlinewidth": 0,
             "ticks": ""
            },
            "type": "choropleth"
           }
          ],
          "contour": [
           {
            "colorbar": {
             "outlinewidth": 0,
             "ticks": ""
            },
            "colorscale": [
             [
              0,
              "#0d0887"
             ],
             [
              0.1111111111111111,
              "#46039f"
             ],
             [
              0.2222222222222222,
              "#7201a8"
             ],
             [
              0.3333333333333333,
              "#9c179e"
             ],
             [
              0.4444444444444444,
              "#bd3786"
             ],
             [
              0.5555555555555556,
              "#d8576b"
             ],
             [
              0.6666666666666666,
              "#ed7953"
             ],
             [
              0.7777777777777778,
              "#fb9f3a"
             ],
             [
              0.8888888888888888,
              "#fdca26"
             ],
             [
              1,
              "#f0f921"
             ]
            ],
            "type": "contour"
           }
          ],
          "contourcarpet": [
           {
            "colorbar": {
             "outlinewidth": 0,
             "ticks": ""
            },
            "type": "contourcarpet"
           }
          ],
          "heatmap": [
           {
            "colorbar": {
             "outlinewidth": 0,
             "ticks": ""
            },
            "colorscale": [
             [
              0,
              "#0d0887"
             ],
             [
              0.1111111111111111,
              "#46039f"
             ],
             [
              0.2222222222222222,
              "#7201a8"
             ],
             [
              0.3333333333333333,
              "#9c179e"
             ],
             [
              0.4444444444444444,
              "#bd3786"
             ],
             [
              0.5555555555555556,
              "#d8576b"
             ],
             [
              0.6666666666666666,
              "#ed7953"
             ],
             [
              0.7777777777777778,
              "#fb9f3a"
             ],
             [
              0.8888888888888888,
              "#fdca26"
             ],
             [
              1,
              "#f0f921"
             ]
            ],
            "type": "heatmap"
           }
          ],
          "heatmapgl": [
           {
            "colorbar": {
             "outlinewidth": 0,
             "ticks": ""
            },
            "colorscale": [
             [
              0,
              "#0d0887"
             ],
             [
              0.1111111111111111,
              "#46039f"
             ],
             [
              0.2222222222222222,
              "#7201a8"
             ],
             [
              0.3333333333333333,
              "#9c179e"
             ],
             [
              0.4444444444444444,
              "#bd3786"
             ],
             [
              0.5555555555555556,
              "#d8576b"
             ],
             [
              0.6666666666666666,
              "#ed7953"
             ],
             [
              0.7777777777777778,
              "#fb9f3a"
             ],
             [
              0.8888888888888888,
              "#fdca26"
             ],
             [
              1,
              "#f0f921"
             ]
            ],
            "type": "heatmapgl"
           }
          ],
          "histogram": [
           {
            "marker": {
             "pattern": {
              "fillmode": "overlay",
              "size": 10,
              "solidity": 0.2
             }
            },
            "type": "histogram"
           }
          ],
          "histogram2d": [
           {
            "colorbar": {
             "outlinewidth": 0,
             "ticks": ""
            },
            "colorscale": [
             [
              0,
              "#0d0887"
             ],
             [
              0.1111111111111111,
              "#46039f"
             ],
             [
              0.2222222222222222,
              "#7201a8"
             ],
             [
              0.3333333333333333,
              "#9c179e"
             ],
             [
              0.4444444444444444,
              "#bd3786"
             ],
             [
              0.5555555555555556,
              "#d8576b"
             ],
             [
              0.6666666666666666,
              "#ed7953"
             ],
             [
              0.7777777777777778,
              "#fb9f3a"
             ],
             [
              0.8888888888888888,
              "#fdca26"
             ],
             [
              1,
              "#f0f921"
             ]
            ],
            "type": "histogram2d"
           }
          ],
          "histogram2dcontour": [
           {
            "colorbar": {
             "outlinewidth": 0,
             "ticks": ""
            },
            "colorscale": [
             [
              0,
              "#0d0887"
             ],
             [
              0.1111111111111111,
              "#46039f"
             ],
             [
              0.2222222222222222,
              "#7201a8"
             ],
             [
              0.3333333333333333,
              "#9c179e"
             ],
             [
              0.4444444444444444,
              "#bd3786"
             ],
             [
              0.5555555555555556,
              "#d8576b"
             ],
             [
              0.6666666666666666,
              "#ed7953"
             ],
             [
              0.7777777777777778,
              "#fb9f3a"
             ],
             [
              0.8888888888888888,
              "#fdca26"
             ],
             [
              1,
              "#f0f921"
             ]
            ],
            "type": "histogram2dcontour"
           }
          ],
          "mesh3d": [
           {
            "colorbar": {
             "outlinewidth": 0,
             "ticks": ""
            },
            "type": "mesh3d"
           }
          ],
          "parcoords": [
           {
            "line": {
             "colorbar": {
              "outlinewidth": 0,
              "ticks": ""
             }
            },
            "type": "parcoords"
           }
          ],
          "pie": [
           {
            "automargin": true,
            "type": "pie"
           }
          ],
          "scatter": [
           {
            "marker": {
             "colorbar": {
              "outlinewidth": 0,
              "ticks": ""
             }
            },
            "type": "scatter"
           }
          ],
          "scatter3d": [
           {
            "line": {
             "colorbar": {
              "outlinewidth": 0,
              "ticks": ""
             }
            },
            "marker": {
             "colorbar": {
              "outlinewidth": 0,
              "ticks": ""
             }
            },
            "type": "scatter3d"
           }
          ],
          "scattercarpet": [
           {
            "marker": {
             "colorbar": {
              "outlinewidth": 0,
              "ticks": ""
             }
            },
            "type": "scattercarpet"
           }
          ],
          "scattergeo": [
           {
            "marker": {
             "colorbar": {
              "outlinewidth": 0,
              "ticks": ""
             }
            },
            "type": "scattergeo"
           }
          ],
          "scattergl": [
           {
            "marker": {
             "colorbar": {
              "outlinewidth": 0,
              "ticks": ""
             }
            },
            "type": "scattergl"
           }
          ],
          "scattermapbox": [
           {
            "marker": {
             "colorbar": {
              "outlinewidth": 0,
              "ticks": ""
             }
            },
            "type": "scattermapbox"
           }
          ],
          "scatterpolar": [
           {
            "marker": {
             "colorbar": {
              "outlinewidth": 0,
              "ticks": ""
             }
            },
            "type": "scatterpolar"
           }
          ],
          "scatterpolargl": [
           {
            "marker": {
             "colorbar": {
              "outlinewidth": 0,
              "ticks": ""
             }
            },
            "type": "scatterpolargl"
           }
          ],
          "scatterternary": [
           {
            "marker": {
             "colorbar": {
              "outlinewidth": 0,
              "ticks": ""
             }
            },
            "type": "scatterternary"
           }
          ],
          "surface": [
           {
            "colorbar": {
             "outlinewidth": 0,
             "ticks": ""
            },
            "colorscale": [
             [
              0,
              "#0d0887"
             ],
             [
              0.1111111111111111,
              "#46039f"
             ],
             [
              0.2222222222222222,
              "#7201a8"
             ],
             [
              0.3333333333333333,
              "#9c179e"
             ],
             [
              0.4444444444444444,
              "#bd3786"
             ],
             [
              0.5555555555555556,
              "#d8576b"
             ],
             [
              0.6666666666666666,
              "#ed7953"
             ],
             [
              0.7777777777777778,
              "#fb9f3a"
             ],
             [
              0.8888888888888888,
              "#fdca26"
             ],
             [
              1,
              "#f0f921"
             ]
            ],
            "type": "surface"
           }
          ],
          "table": [
           {
            "cells": {
             "fill": {
              "color": "#EBF0F8"
             },
             "line": {
              "color": "white"
             }
            },
            "header": {
             "fill": {
              "color": "#C8D4E3"
             },
             "line": {
              "color": "white"
             }
            },
            "type": "table"
           }
          ]
         },
         "layout": {
          "annotationdefaults": {
           "arrowcolor": "#2a3f5f",
           "arrowhead": 0,
           "arrowwidth": 1
          },
          "autotypenumbers": "strict",
          "coloraxis": {
           "colorbar": {
            "outlinewidth": 0,
            "ticks": ""
           }
          },
          "colorscale": {
           "diverging": [
            [
             0,
             "#8e0152"
            ],
            [
             0.1,
             "#c51b7d"
            ],
            [
             0.2,
             "#de77ae"
            ],
            [
             0.3,
             "#f1b6da"
            ],
            [
             0.4,
             "#fde0ef"
            ],
            [
             0.5,
             "#f7f7f7"
            ],
            [
             0.6,
             "#e6f5d0"
            ],
            [
             0.7,
             "#b8e186"
            ],
            [
             0.8,
             "#7fbc41"
            ],
            [
             0.9,
             "#4d9221"
            ],
            [
             1,
             "#276419"
            ]
           ],
           "sequential": [
            [
             0,
             "#0d0887"
            ],
            [
             0.1111111111111111,
             "#46039f"
            ],
            [
             0.2222222222222222,
             "#7201a8"
            ],
            [
             0.3333333333333333,
             "#9c179e"
            ],
            [
             0.4444444444444444,
             "#bd3786"
            ],
            [
             0.5555555555555556,
             "#d8576b"
            ],
            [
             0.6666666666666666,
             "#ed7953"
            ],
            [
             0.7777777777777778,
             "#fb9f3a"
            ],
            [
             0.8888888888888888,
             "#fdca26"
            ],
            [
             1,
             "#f0f921"
            ]
           ],
           "sequentialminus": [
            [
             0,
             "#0d0887"
            ],
            [
             0.1111111111111111,
             "#46039f"
            ],
            [
             0.2222222222222222,
             "#7201a8"
            ],
            [
             0.3333333333333333,
             "#9c179e"
            ],
            [
             0.4444444444444444,
             "#bd3786"
            ],
            [
             0.5555555555555556,
             "#d8576b"
            ],
            [
             0.6666666666666666,
             "#ed7953"
            ],
            [
             0.7777777777777778,
             "#fb9f3a"
            ],
            [
             0.8888888888888888,
             "#fdca26"
            ],
            [
             1,
             "#f0f921"
            ]
           ]
          },
          "colorway": [
           "#636efa",
           "#EF553B",
           "#00cc96",
           "#ab63fa",
           "#FFA15A",
           "#19d3f3",
           "#FF6692",
           "#B6E880",
           "#FF97FF",
           "#FECB52"
          ],
          "font": {
           "color": "#2a3f5f"
          },
          "geo": {
           "bgcolor": "white",
           "lakecolor": "white",
           "landcolor": "#E5ECF6",
           "showlakes": true,
           "showland": true,
           "subunitcolor": "white"
          },
          "hoverlabel": {
           "align": "left"
          },
          "hovermode": "closest",
          "mapbox": {
           "style": "light"
          },
          "paper_bgcolor": "white",
          "plot_bgcolor": "#E5ECF6",
          "polar": {
           "angularaxis": {
            "gridcolor": "white",
            "linecolor": "white",
            "ticks": ""
           },
           "bgcolor": "#E5ECF6",
           "radialaxis": {
            "gridcolor": "white",
            "linecolor": "white",
            "ticks": ""
           }
          },
          "scene": {
           "xaxis": {
            "backgroundcolor": "#E5ECF6",
            "gridcolor": "white",
            "gridwidth": 2,
            "linecolor": "white",
            "showbackground": true,
            "ticks": "",
            "zerolinecolor": "white"
           },
           "yaxis": {
            "backgroundcolor": "#E5ECF6",
            "gridcolor": "white",
            "gridwidth": 2,
            "linecolor": "white",
            "showbackground": true,
            "ticks": "",
            "zerolinecolor": "white"
           },
           "zaxis": {
            "backgroundcolor": "#E5ECF6",
            "gridcolor": "white",
            "gridwidth": 2,
            "linecolor": "white",
            "showbackground": true,
            "ticks": "",
            "zerolinecolor": "white"
           }
          },
          "shapedefaults": {
           "line": {
            "color": "#2a3f5f"
           }
          },
          "ternary": {
           "aaxis": {
            "gridcolor": "white",
            "linecolor": "white",
            "ticks": ""
           },
           "baxis": {
            "gridcolor": "white",
            "linecolor": "white",
            "ticks": ""
           },
           "bgcolor": "#E5ECF6",
           "caxis": {
            "gridcolor": "white",
            "linecolor": "white",
            "ticks": ""
           }
          },
          "title": {
           "x": 0.05
          },
          "xaxis": {
           "automargin": true,
           "gridcolor": "white",
           "linecolor": "white",
           "ticks": "",
           "title": {
            "standoff": 15
           },
           "zerolinecolor": "white",
           "zerolinewidth": 2
          },
          "yaxis": {
           "automargin": true,
           "gridcolor": "white",
           "linecolor": "white",
           "ticks": "",
           "title": {
            "standoff": 15
           },
           "zerolinecolor": "white",
           "zerolinewidth": 2
          }
         }
        },
        "title": {
         "text": "Type of Exploit"
        }
       }
      },
      "text/html": [
       "<div>                            <div id=\"40d27585-96a4-406b-b0cb-16957be7b1fa\" class=\"plotly-graph-div\" style=\"height:525px; width:100%;\"></div>            <script type=\"text/javascript\">                require([\"plotly\"], function(Plotly) {                    window.PLOTLYENV=window.PLOTLYENV || {};                                    if (document.getElementById(\"40d27585-96a4-406b-b0cb-16957be7b1fa\")) {                    Plotly.newPlot(                        \"40d27585-96a4-406b-b0cb-16957be7b1fa\",                        [{\"name\":\"Female\",\"x\":[\"-99\",\"Debt bondage\",\"Physical abuse\",\"Psychological abuse\",\"Sexual abuse\",\"Threats\",\"Withholds documents\",\"Excessive working hours\",\"False promises\",\"Restricts movement\",\"Takes earnings\",\"Withholds necessities\",\"Restricts medical care\",\"Psychoactive substances\",\"Threat of law enforcement\",\"Other\",\"Not specified\",\"Uses children\",\"Restricts financial access\"],\"y\":[21429.0,842.0,3000.0,3562.0,1572.0,2950.0,1037.0,877.0,1369.0,3241.0,1465.0,787.0,583.0,2224.0,390.0,1762.0,5531.0,117.0,116.0],\"type\":\"bar\",\"textposition\":\"outside\",\"texttemplate\":\"%{value}\"},{\"name\":\"Male\",\"x\":[\"-99\",\"Debt bondage\",\"Excessive working hours\",\"False promises\",\"Physical abuse\",\"Psychoactive substances\",\"Psychological abuse\",\"Restricts medical care\",\"Restricts movement\",\"Sexual abuse\",\"Takes earnings\",\"Threat of law enforcement\",\"Threats\",\"Withholds documents\",\"Withholds necessities\",\"Other\",\"Not specified\",\"Uses children\"],\"y\":[10852.0,457.0,1302.0,1405.0,651.0,63.0,1298.0,702.0,1185.0,51.0,1333.0,390.0,1031.0,1053.0,572.0,111.0,598.0,3.0],\"type\":\"bar\",\"textposition\":\"outside\",\"texttemplate\":\"%{value}\"}],                        {\"template\":{\"data\":{\"bar\":[{\"error_x\":{\"color\":\"#2a3f5f\"},\"error_y\":{\"color\":\"#2a3f5f\"},\"marker\":{\"line\":{\"color\":\"#E5ECF6\",\"width\":0.5},\"pattern\":{\"fillmode\":\"overlay\",\"size\":10,\"solidity\":0.2}},\"type\":\"bar\"}],\"barpolar\":[{\"marker\":{\"line\":{\"color\":\"#E5ECF6\",\"width\":0.5},\"pattern\":{\"fillmode\":\"overlay\",\"size\":10,\"solidity\":0.2}},\"type\":\"barpolar\"}],\"carpet\":[{\"aaxis\":{\"endlinecolor\":\"#2a3f5f\",\"gridcolor\":\"white\",\"linecolor\":\"white\",\"minorgridcolor\":\"white\",\"startlinecolor\":\"#2a3f5f\"},\"baxis\":{\"endlinecolor\":\"#2a3f5f\",\"gridcolor\":\"white\",\"linecolor\":\"white\",\"minorgridcolor\":\"white\",\"startlinecolor\":\"#2a3f5f\"},\"type\":\"carpet\"}],\"choropleth\":[{\"colorbar\":{\"outlinewidth\":0,\"ticks\":\"\"},\"type\":\"choropleth\"}],\"contour\":[{\"colorbar\":{\"outlinewidth\":0,\"ticks\":\"\"},\"colorscale\":[[0.0,\"#0d0887\"],[0.1111111111111111,\"#46039f\"],[0.2222222222222222,\"#7201a8\"],[0.3333333333333333,\"#9c179e\"],[0.4444444444444444,\"#bd3786\"],[0.5555555555555556,\"#d8576b\"],[0.6666666666666666,\"#ed7953\"],[0.7777777777777778,\"#fb9f3a\"],[0.8888888888888888,\"#fdca26\"],[1.0,\"#f0f921\"]],\"type\":\"contour\"}],\"contourcarpet\":[{\"colorbar\":{\"outlinewidth\":0,\"ticks\":\"\"},\"type\":\"contourcarpet\"}],\"heatmap\":[{\"colorbar\":{\"outlinewidth\":0,\"ticks\":\"\"},\"colorscale\":[[0.0,\"#0d0887\"],[0.1111111111111111,\"#46039f\"],[0.2222222222222222,\"#7201a8\"],[0.3333333333333333,\"#9c179e\"],[0.4444444444444444,\"#bd3786\"],[0.5555555555555556,\"#d8576b\"],[0.6666666666666666,\"#ed7953\"],[0.7777777777777778,\"#fb9f3a\"],[0.8888888888888888,\"#fdca26\"],[1.0,\"#f0f921\"]],\"type\":\"heatmap\"}],\"heatmapgl\":[{\"colorbar\":{\"outlinewidth\":0,\"ticks\":\"\"},\"colorscale\":[[0.0,\"#0d0887\"],[0.1111111111111111,\"#46039f\"],[0.2222222222222222,\"#7201a8\"],[0.3333333333333333,\"#9c179e\"],[0.4444444444444444,\"#bd3786\"],[0.5555555555555556,\"#d8576b\"],[0.6666666666666666,\"#ed7953\"],[0.7777777777777778,\"#fb9f3a\"],[0.8888888888888888,\"#fdca26\"],[1.0,\"#f0f921\"]],\"type\":\"heatmapgl\"}],\"histogram\":[{\"marker\":{\"pattern\":{\"fillmode\":\"overlay\",\"size\":10,\"solidity\":0.2}},\"type\":\"histogram\"}],\"histogram2d\":[{\"colorbar\":{\"outlinewidth\":0,\"ticks\":\"\"},\"colorscale\":[[0.0,\"#0d0887\"],[0.1111111111111111,\"#46039f\"],[0.2222222222222222,\"#7201a8\"],[0.3333333333333333,\"#9c179e\"],[0.4444444444444444,\"#bd3786\"],[0.5555555555555556,\"#d8576b\"],[0.6666666666666666,\"#ed7953\"],[0.7777777777777778,\"#fb9f3a\"],[0.8888888888888888,\"#fdca26\"],[1.0,\"#f0f921\"]],\"type\":\"histogram2d\"}],\"histogram2dcontour\":[{\"colorbar\":{\"outlinewidth\":0,\"ticks\":\"\"},\"colorscale\":[[0.0,\"#0d0887\"],[0.1111111111111111,\"#46039f\"],[0.2222222222222222,\"#7201a8\"],[0.3333333333333333,\"#9c179e\"],[0.4444444444444444,\"#bd3786\"],[0.5555555555555556,\"#d8576b\"],[0.6666666666666666,\"#ed7953\"],[0.7777777777777778,\"#fb9f3a\"],[0.8888888888888888,\"#fdca26\"],[1.0,\"#f0f921\"]],\"type\":\"histogram2dcontour\"}],\"mesh3d\":[{\"colorbar\":{\"outlinewidth\":0,\"ticks\":\"\"},\"type\":\"mesh3d\"}],\"parcoords\":[{\"line\":{\"colorbar\":{\"outlinewidth\":0,\"ticks\":\"\"}},\"type\":\"parcoords\"}],\"pie\":[{\"automargin\":true,\"type\":\"pie\"}],\"scatter\":[{\"marker\":{\"colorbar\":{\"outlinewidth\":0,\"ticks\":\"\"}},\"type\":\"scatter\"}],\"scatter3d\":[{\"line\":{\"colorbar\":{\"outlinewidth\":0,\"ticks\":\"\"}},\"marker\":{\"colorbar\":{\"outlinewidth\":0,\"ticks\":\"\"}},\"type\":\"scatter3d\"}],\"scattercarpet\":[{\"marker\":{\"colorbar\":{\"outlinewidth\":0,\"ticks\":\"\"}},\"type\":\"scattercarpet\"}],\"scattergeo\":[{\"marker\":{\"colorbar\":{\"outlinewidth\":0,\"ticks\":\"\"}},\"type\":\"scattergeo\"}],\"scattergl\":[{\"marker\":{\"colorbar\":{\"outlinewidth\":0,\"ticks\":\"\"}},\"type\":\"scattergl\"}],\"scattermapbox\":[{\"marker\":{\"colorbar\":{\"outlinewidth\":0,\"ticks\":\"\"}},\"type\":\"scattermapbox\"}],\"scatterpolar\":[{\"marker\":{\"colorbar\":{\"outlinewidth\":0,\"ticks\":\"\"}},\"type\":\"scatterpolar\"}],\"scatterpolargl\":[{\"marker\":{\"colorbar\":{\"outlinewidth\":0,\"ticks\":\"\"}},\"type\":\"scatterpolargl\"}],\"scatterternary\":[{\"marker\":{\"colorbar\":{\"outlinewidth\":0,\"ticks\":\"\"}},\"type\":\"scatterternary\"}],\"surface\":[{\"colorbar\":{\"outlinewidth\":0,\"ticks\":\"\"},\"colorscale\":[[0.0,\"#0d0887\"],[0.1111111111111111,\"#46039f\"],[0.2222222222222222,\"#7201a8\"],[0.3333333333333333,\"#9c179e\"],[0.4444444444444444,\"#bd3786\"],[0.5555555555555556,\"#d8576b\"],[0.6666666666666666,\"#ed7953\"],[0.7777777777777778,\"#fb9f3a\"],[0.8888888888888888,\"#fdca26\"],[1.0,\"#f0f921\"]],\"type\":\"surface\"}],\"table\":[{\"cells\":{\"fill\":{\"color\":\"#EBF0F8\"},\"line\":{\"color\":\"white\"}},\"header\":{\"fill\":{\"color\":\"#C8D4E3\"},\"line\":{\"color\":\"white\"}},\"type\":\"table\"}]},\"layout\":{\"annotationdefaults\":{\"arrowcolor\":\"#2a3f5f\",\"arrowhead\":0,\"arrowwidth\":1},\"autotypenumbers\":\"strict\",\"coloraxis\":{\"colorbar\":{\"outlinewidth\":0,\"ticks\":\"\"}},\"colorscale\":{\"diverging\":[[0,\"#8e0152\"],[0.1,\"#c51b7d\"],[0.2,\"#de77ae\"],[0.3,\"#f1b6da\"],[0.4,\"#fde0ef\"],[0.5,\"#f7f7f7\"],[0.6,\"#e6f5d0\"],[0.7,\"#b8e186\"],[0.8,\"#7fbc41\"],[0.9,\"#4d9221\"],[1,\"#276419\"]],\"sequential\":[[0.0,\"#0d0887\"],[0.1111111111111111,\"#46039f\"],[0.2222222222222222,\"#7201a8\"],[0.3333333333333333,\"#9c179e\"],[0.4444444444444444,\"#bd3786\"],[0.5555555555555556,\"#d8576b\"],[0.6666666666666666,\"#ed7953\"],[0.7777777777777778,\"#fb9f3a\"],[0.8888888888888888,\"#fdca26\"],[1.0,\"#f0f921\"]],\"sequentialminus\":[[0.0,\"#0d0887\"],[0.1111111111111111,\"#46039f\"],[0.2222222222222222,\"#7201a8\"],[0.3333333333333333,\"#9c179e\"],[0.4444444444444444,\"#bd3786\"],[0.5555555555555556,\"#d8576b\"],[0.6666666666666666,\"#ed7953\"],[0.7777777777777778,\"#fb9f3a\"],[0.8888888888888888,\"#fdca26\"],[1.0,\"#f0f921\"]]},\"colorway\":[\"#636efa\",\"#EF553B\",\"#00cc96\",\"#ab63fa\",\"#FFA15A\",\"#19d3f3\",\"#FF6692\",\"#B6E880\",\"#FF97FF\",\"#FECB52\"],\"font\":{\"color\":\"#2a3f5f\"},\"geo\":{\"bgcolor\":\"white\",\"lakecolor\":\"white\",\"landcolor\":\"#E5ECF6\",\"showlakes\":true,\"showland\":true,\"subunitcolor\":\"white\"},\"hoverlabel\":{\"align\":\"left\"},\"hovermode\":\"closest\",\"mapbox\":{\"style\":\"light\"},\"paper_bgcolor\":\"white\",\"plot_bgcolor\":\"#E5ECF6\",\"polar\":{\"angularaxis\":{\"gridcolor\":\"white\",\"linecolor\":\"white\",\"ticks\":\"\"},\"bgcolor\":\"#E5ECF6\",\"radialaxis\":{\"gridcolor\":\"white\",\"linecolor\":\"white\",\"ticks\":\"\"}},\"scene\":{\"xaxis\":{\"backgroundcolor\":\"#E5ECF6\",\"gridcolor\":\"white\",\"gridwidth\":2,\"linecolor\":\"white\",\"showbackground\":true,\"ticks\":\"\",\"zerolinecolor\":\"white\"},\"yaxis\":{\"backgroundcolor\":\"#E5ECF6\",\"gridcolor\":\"white\",\"gridwidth\":2,\"linecolor\":\"white\",\"showbackground\":true,\"ticks\":\"\",\"zerolinecolor\":\"white\"},\"zaxis\":{\"backgroundcolor\":\"#E5ECF6\",\"gridcolor\":\"white\",\"gridwidth\":2,\"linecolor\":\"white\",\"showbackground\":true,\"ticks\":\"\",\"zerolinecolor\":\"white\"}},\"shapedefaults\":{\"line\":{\"color\":\"#2a3f5f\"}},\"ternary\":{\"aaxis\":{\"gridcolor\":\"white\",\"linecolor\":\"white\",\"ticks\":\"\"},\"baxis\":{\"gridcolor\":\"white\",\"linecolor\":\"white\",\"ticks\":\"\"},\"bgcolor\":\"#E5ECF6\",\"caxis\":{\"gridcolor\":\"white\",\"linecolor\":\"white\",\"ticks\":\"\"}},\"title\":{\"x\":0.05},\"xaxis\":{\"automargin\":true,\"gridcolor\":\"white\",\"linecolor\":\"white\",\"ticks\":\"\",\"title\":{\"standoff\":15},\"zerolinecolor\":\"white\",\"zerolinewidth\":2},\"yaxis\":{\"automargin\":true,\"gridcolor\":\"white\",\"linecolor\":\"white\",\"ticks\":\"\",\"title\":{\"standoff\":15},\"zerolinecolor\":\"white\",\"zerolinewidth\":2}}},\"title\":{\"text\":\"Type of Exploit\"}},                        {\"responsive\": true}                    ).then(function(){\n",
       "                            \n",
       "var gd = document.getElementById('40d27585-96a4-406b-b0cb-16957be7b1fa');\n",
       "var x = new MutationObserver(function (mutations, observer) {{\n",
       "        var display = window.getComputedStyle(gd).display;\n",
       "        if (!display || display === 'none') {{\n",
       "            console.log([gd, 'removed!']);\n",
       "            Plotly.purge(gd);\n",
       "            observer.disconnect();\n",
       "        }}\n",
       "}});\n",
       "\n",
       "// Listen for the removal of the full notebook cells\n",
       "var notebookContainer = gd.closest('#notebook-container');\n",
       "if (notebookContainer) {{\n",
       "    x.observe(notebookContainer, {childList: true});\n",
       "}}\n",
       "\n",
       "// Listen for the clearing of the current output cell\n",
       "var outputEl = gd.closest('.output');\n",
       "if (outputEl) {{\n",
       "    x.observe(outputEl, {childList: true});\n",
       "}}\n",
       "\n",
       "                        })                };                });            </script>        </div>"
      ]
     },
     "metadata": {},
     "output_type": "display_data"
    }
   ],
   "source": [
    "fig = go.Figure(data=[\n",
    "    go.Bar(name='Female', x=data_bar_f.index, y=data_bar_f),\n",
    "    go.Bar(name='Male', x=data_bar_m.index, y=data_bar_m)\n",
    "])\n",
    "fig.update_traces(texttemplate='%{value}', textposition='outside')\n",
    "fig.update_layout(title_text='Type of Exploit')\n",
    "fig.show()"
   ]
  },
  {
   "cell_type": "code",
   "execution_count": 200,
   "metadata": {},
   "outputs": [],
   "source": [
    "table3 = pd.DataFrame()\n",
    "for i in data[data.ageBroad.notna()].ageBroad.unique():\n",
    "    age_col = pd.DataFrame(data[(data.typeOfExploitConcatenated.notna()) & (data.ageBroad == i)].typeOfExploitConcatenated.apply(lambda x: pd.value_counts(str(x).split(\";\"))).sum(axis = 0))\n",
    "    age_col.rename(columns={0: i}, inplace=True)\n",
    "    table3 = pd.concat([table3,age_col],axis=1)\n",
    "    \n",
    "table3 = table3.reindex(columns=age_list)"
   ]
  },
  {
   "cell_type": "code",
   "execution_count": 201,
   "metadata": {},
   "outputs": [
    {
     "data": {
      "text/html": [
       "<style type=\"text/css\">\n",
       "#T_bed82_row0_col0 {\n",
       "  background-color: #d0d0f4;\n",
       "  color: #000000;\n",
       "}\n",
       "#T_bed82_row0_col1, #T_bed82_row0_col2, #T_bed82_row0_col3, #T_bed82_row0_col4, #T_bed82_row1_col0, #T_bed82_row1_col5, #T_bed82_row1_col6, #T_bed82_row1_col7, #T_bed82_row1_col8 {\n",
       "  background-color: #0000ff;\n",
       "  color: #f1f1f1;\n",
       "}\n",
       "#T_bed82_row0_col5 {\n",
       "  background-color: #3737fc;\n",
       "  color: #f1f1f1;\n",
       "}\n",
       "#T_bed82_row0_col6 {\n",
       "  background-color: #7676f9;\n",
       "  color: #f1f1f1;\n",
       "}\n",
       "#T_bed82_row0_col7 {\n",
       "  background-color: #adadf6;\n",
       "  color: #000000;\n",
       "}\n",
       "#T_bed82_row0_col8 {\n",
       "  background-color: #c9c9f5;\n",
       "  color: #000000;\n",
       "}\n",
       "#T_bed82_row1_col1 {\n",
       "  background-color: #7c7cf9;\n",
       "  color: #f1f1f1;\n",
       "}\n",
       "#T_bed82_row1_col2 {\n",
       "  background-color: #8585f8;\n",
       "  color: #f1f1f1;\n",
       "}\n",
       "#T_bed82_row1_col3 {\n",
       "  background-color: #5959fa;\n",
       "  color: #f1f1f1;\n",
       "}\n",
       "#T_bed82_row1_col4 {\n",
       "  background-color: #1818fe;\n",
       "  color: #f1f1f1;\n",
       "}\n",
       "#T_bed82_row2_col0 {\n",
       "  background-color: #c6c6f5;\n",
       "  color: #000000;\n",
       "}\n",
       "#T_bed82_row2_col1 {\n",
       "  background-color: #bebef5;\n",
       "  color: #000000;\n",
       "}\n",
       "#T_bed82_row2_col2 {\n",
       "  background-color: #e1e1f4;\n",
       "  color: #000000;\n",
       "}\n",
       "#T_bed82_row2_col3 {\n",
       "  background-color: #cecef4;\n",
       "  color: #000000;\n",
       "}\n",
       "#T_bed82_row2_col4 {\n",
       "  background-color: #a9a9f6;\n",
       "  color: #000000;\n",
       "}\n",
       "#T_bed82_row2_col5 {\n",
       "  background-color: #7878f9;\n",
       "  color: #f1f1f1;\n",
       "}\n",
       "#T_bed82_row2_col6 {\n",
       "  background-color: #3f3ffc;\n",
       "  color: #f1f1f1;\n",
       "}\n",
       "#T_bed82_row2_col7 {\n",
       "  background-color: #3939fc;\n",
       "  color: #f1f1f1;\n",
       "}\n",
       "#T_bed82_row2_col8 {\n",
       "  background-color: #9898f7;\n",
       "  color: #f1f1f1;\n",
       "}\n",
       "#T_bed82_row3_col0, #T_bed82_row3_col1, #T_bed82_row3_col6, #T_bed82_row3_col7, #T_bed82_row3_col8, #T_bed82_row4_col0, #T_bed82_row4_col3, #T_bed82_row4_col4, #T_bed82_row4_col5, #T_bed82_row4_col7, #T_bed82_row4_col8, #T_bed82_row5_col2, #T_bed82_row5_col4, #T_bed82_row5_col5, #T_bed82_row5_col8, #T_bed82_row6_col0, #T_bed82_row6_col1, #T_bed82_row6_col2, #T_bed82_row6_col3, #T_bed82_row6_col4, #T_bed82_row6_col5, #T_bed82_row6_col6, #T_bed82_row6_col7, #T_bed82_row6_col8 {\n",
       "  background-color: #f0f0f3;\n",
       "  color: #000000;\n",
       "}\n",
       "#T_bed82_row3_col2, #T_bed82_row3_col3, #T_bed82_row3_col4, #T_bed82_row3_col5, #T_bed82_row4_col1, #T_bed82_row4_col2, #T_bed82_row4_col6, #T_bed82_row5_col1, #T_bed82_row5_col3, #T_bed82_row5_col6 {\n",
       "  background-color: #efeff3;\n",
       "  color: #000000;\n",
       "}\n",
       "#T_bed82_row5_col0 {\n",
       "  background-color: #ebebf3;\n",
       "  color: #000000;\n",
       "}\n",
       "#T_bed82_row5_col7 {\n",
       "  background-color: #ececf3;\n",
       "  color: #000000;\n",
       "}\n",
       "</style>\n",
       "<table id=\"T_bed82\">\n",
       "  <thead>\n",
       "    <tr>\n",
       "      <th class=\"blank level0\" >&nbsp;</th>\n",
       "      <th id=\"T_bed82_level0_col0\" class=\"col_heading level0 col0\" >0--8</th>\n",
       "      <th id=\"T_bed82_level0_col1\" class=\"col_heading level0 col1\" >9--17</th>\n",
       "      <th id=\"T_bed82_level0_col2\" class=\"col_heading level0 col2\" >18--20</th>\n",
       "      <th id=\"T_bed82_level0_col3\" class=\"col_heading level0 col3\" >21--23</th>\n",
       "      <th id=\"T_bed82_level0_col4\" class=\"col_heading level0 col4\" >24--26</th>\n",
       "      <th id=\"T_bed82_level0_col5\" class=\"col_heading level0 col5\" >27--29</th>\n",
       "      <th id=\"T_bed82_level0_col6\" class=\"col_heading level0 col6\" >30--38</th>\n",
       "      <th id=\"T_bed82_level0_col7\" class=\"col_heading level0 col7\" >39--47</th>\n",
       "      <th id=\"T_bed82_level0_col8\" class=\"col_heading level0 col8\" >48+</th>\n",
       "    </tr>\n",
       "  </thead>\n",
       "  <tbody>\n",
       "    <tr>\n",
       "      <th id=\"T_bed82_level0_row0\" class=\"row_heading level0 row0\" >Sexual exploitation</th>\n",
       "      <td id=\"T_bed82_row0_col0\" class=\"data row0 col0\" >158</td>\n",
       "      <td id=\"T_bed82_row0_col1\" class=\"data row0 col1\" >5,077</td>\n",
       "      <td id=\"T_bed82_row0_col2\" class=\"data row0 col2\" >2,936</td>\n",
       "      <td id=\"T_bed82_row0_col3\" class=\"data row0 col3\" >2,350</td>\n",
       "      <td id=\"T_bed82_row0_col4\" class=\"data row0 col4\" >1,568</td>\n",
       "      <td id=\"T_bed82_row0_col5\" class=\"data row0 col5\" >891</td>\n",
       "      <td id=\"T_bed82_row0_col6\" class=\"data row0 col6\" >1,605</td>\n",
       "      <td id=\"T_bed82_row0_col7\" class=\"data row0 col7\" >388</td>\n",
       "      <td id=\"T_bed82_row0_col8\" class=\"data row0 col8\" >167</td>\n",
       "    </tr>\n",
       "    <tr>\n",
       "      <th id=\"T_bed82_level0_row1\" class=\"row_heading level0 row1\" >-99</th>\n",
       "      <td id=\"T_bed82_row1_col0\" class=\"data row1 col0\" >1,164</td>\n",
       "      <td id=\"T_bed82_row1_col1\" class=\"data row1 col1\" >2,458</td>\n",
       "      <td id=\"T_bed82_row1_col2\" class=\"data row1 col2\" >1,318</td>\n",
       "      <td id=\"T_bed82_row1_col3\" class=\"data row1 col3\" >1,481</td>\n",
       "      <td id=\"T_bed82_row1_col4\" class=\"data row1 col4\" >1,414</td>\n",
       "      <td id=\"T_bed82_row1_col5\" class=\"data row1 col5\" >1,157</td>\n",
       "      <td id=\"T_bed82_row1_col6\" class=\"data row1 col6\" >3,158</td>\n",
       "      <td id=\"T_bed82_row1_col7\" class=\"data row1 col7\" >1,363</td>\n",
       "      <td id=\"T_bed82_row1_col8\" class=\"data row1 col8\" >1,017</td>\n",
       "    </tr>\n",
       "    <tr>\n",
       "      <th id=\"T_bed82_level0_row2\" class=\"row_heading level0 row2\" >Forced labour</th>\n",
       "      <td id=\"T_bed82_row2_col0\" class=\"data row2 col0\" >205</td>\n",
       "      <td id=\"T_bed82_row2_col1\" class=\"data row2 col1\" >1,079</td>\n",
       "      <td id=\"T_bed82_row2_col2\" class=\"data row2 col2\" >193</td>\n",
       "      <td id=\"T_bed82_row2_col3\" class=\"data row2 col3\" >339</td>\n",
       "      <td id=\"T_bed82_row2_col4\" class=\"data row2 col4\" >467</td>\n",
       "      <td id=\"T_bed82_row2_col5\" class=\"data row2 col5\" >582</td>\n",
       "      <td id=\"T_bed82_row2_col6\" class=\"data row2 col6\" >2,331</td>\n",
       "      <td id=\"T_bed82_row2_col7\" class=\"data row2 col7\" >1,040</td>\n",
       "      <td id=\"T_bed82_row2_col8\" class=\"data row2 col8\" >376</td>\n",
       "    </tr>\n",
       "    <tr>\n",
       "      <th id=\"T_bed82_level0_row3\" class=\"row_heading level0 row3\" >Forced marriage</th>\n",
       "      <td id=\"T_bed82_row3_col0\" class=\"data row3 col0\" >0</td>\n",
       "      <td id=\"T_bed82_row3_col1\" class=\"data row3 col1\" >11</td>\n",
       "      <td id=\"T_bed82_row3_col2\" class=\"data row3 col2\" >15</td>\n",
       "      <td id=\"T_bed82_row3_col3\" class=\"data row3 col3\" >27</td>\n",
       "      <td id=\"T_bed82_row3_col4\" class=\"data row3 col4\" >15</td>\n",
       "      <td id=\"T_bed82_row3_col5\" class=\"data row3 col5\" >11</td>\n",
       "      <td id=\"T_bed82_row3_col6\" class=\"data row3 col6\" >0</td>\n",
       "      <td id=\"T_bed82_row3_col7\" class=\"data row3 col7\" >0</td>\n",
       "      <td id=\"T_bed82_row3_col8\" class=\"data row3 col8\" >0</td>\n",
       "    </tr>\n",
       "    <tr>\n",
       "      <th id=\"T_bed82_level0_row4\" class=\"row_heading level0 row4\" >Combined sexual and labour exploitation</th>\n",
       "      <td id=\"T_bed82_row4_col0\" class=\"data row4 col0\" >0</td>\n",
       "      <td id=\"T_bed82_row4_col1\" class=\"data row4 col1\" >32</td>\n",
       "      <td id=\"T_bed82_row4_col2\" class=\"data row4 col2\" >14</td>\n",
       "      <td id=\"T_bed82_row4_col3\" class=\"data row4 col3\" >0</td>\n",
       "      <td id=\"T_bed82_row4_col4\" class=\"data row4 col4\" >0</td>\n",
       "      <td id=\"T_bed82_row4_col5\" class=\"data row4 col5\" >0</td>\n",
       "      <td id=\"T_bed82_row4_col6\" class=\"data row4 col6\" >32</td>\n",
       "      <td id=\"T_bed82_row4_col7\" class=\"data row4 col7\" >0</td>\n",
       "      <td id=\"T_bed82_row4_col8\" class=\"data row4 col8\" >0</td>\n",
       "    </tr>\n",
       "    <tr>\n",
       "      <th id=\"T_bed82_level0_row5\" class=\"row_heading level0 row5\" >Other</th>\n",
       "      <td id=\"T_bed82_row5_col0\" class=\"data row5 col0\" >30</td>\n",
       "      <td id=\"T_bed82_row5_col1\" class=\"data row5 col1\" >52</td>\n",
       "      <td id=\"T_bed82_row5_col2\" class=\"data row5 col2\" >0</td>\n",
       "      <td id=\"T_bed82_row5_col3\" class=\"data row5 col3\" >16</td>\n",
       "      <td id=\"T_bed82_row5_col4\" class=\"data row5 col4\" >0</td>\n",
       "      <td id=\"T_bed82_row5_col5\" class=\"data row5 col5\" >0</td>\n",
       "      <td id=\"T_bed82_row5_col6\" class=\"data row5 col6\" >29</td>\n",
       "      <td id=\"T_bed82_row5_col7\" class=\"data row5 col7\" >30</td>\n",
       "      <td id=\"T_bed82_row5_col8\" class=\"data row5 col8\" >0</td>\n",
       "    </tr>\n",
       "    <tr>\n",
       "      <th id=\"T_bed82_level0_row6\" class=\"row_heading level0 row6\" >Slavery and similar practices</th>\n",
       "      <td id=\"T_bed82_row6_col0\" class=\"data row6 col0\" >0</td>\n",
       "      <td id=\"T_bed82_row6_col1\" class=\"data row6 col1\" >0</td>\n",
       "      <td id=\"T_bed82_row6_col2\" class=\"data row6 col2\" >0</td>\n",
       "      <td id=\"T_bed82_row6_col3\" class=\"data row6 col3\" >0</td>\n",
       "      <td id=\"T_bed82_row6_col4\" class=\"data row6 col4\" >0</td>\n",
       "      <td id=\"T_bed82_row6_col5\" class=\"data row6 col5\" >0</td>\n",
       "      <td id=\"T_bed82_row6_col6\" class=\"data row6 col6\" >0</td>\n",
       "      <td id=\"T_bed82_row6_col7\" class=\"data row6 col7\" >0</td>\n",
       "      <td id=\"T_bed82_row6_col8\" class=\"data row6 col8\" >0</td>\n",
       "    </tr>\n",
       "  </tbody>\n",
       "</table>\n"
      ],
      "text/plain": [
       "<pandas.io.formats.style.Styler at 0x239539b44f0>"
      ]
     },
     "execution_count": 201,
     "metadata": {},
     "output_type": "execute_result"
    }
   ],
   "source": [
    "table3.fillna(0).style.background_gradient(cmap=cm).format('{:,.0f}')"
   ]
  },
  {
   "cell_type": "code",
   "execution_count": 202,
   "metadata": {},
   "outputs": [],
   "source": [
    "data_sex_type = data.typeOfSexConcatenated.value_counts()"
   ]
  },
  {
   "cell_type": "code",
   "execution_count": 203,
   "metadata": {},
   "outputs": [
    {
     "data": {
      "application/vnd.plotly.v1+json": {
       "config": {
        "plotlyServerURL": "https://plot.ly"
       },
       "data": [
        {
         "domain": {
          "x": [
           0,
           1
          ],
          "y": [
           0,
           1
          ]
         },
         "hovertemplate": "index=%{label}<br>value=%{value}<extra></extra>",
         "labels": [
          "-99",
          -99,
          "Prostitution",
          "Pornography",
          "Private sexual services"
         ],
         "legendgroup": "",
         "name": "",
         "showlegend": true,
         "textinfo": "percent+label",
         "textposition": "inside",
         "type": "pie",
         "values": [
          27828,
          16384,
          4386,
          160,
          43
         ]
        }
       ],
       "layout": {
        "legend": {
         "tracegroupgap": 0
        },
        "template": {
         "data": {
          "bar": [
           {
            "error_x": {
             "color": "#2a3f5f"
            },
            "error_y": {
             "color": "#2a3f5f"
            },
            "marker": {
             "line": {
              "color": "#E5ECF6",
              "width": 0.5
             },
             "pattern": {
              "fillmode": "overlay",
              "size": 10,
              "solidity": 0.2
             }
            },
            "type": "bar"
           }
          ],
          "barpolar": [
           {
            "marker": {
             "line": {
              "color": "#E5ECF6",
              "width": 0.5
             },
             "pattern": {
              "fillmode": "overlay",
              "size": 10,
              "solidity": 0.2
             }
            },
            "type": "barpolar"
           }
          ],
          "carpet": [
           {
            "aaxis": {
             "endlinecolor": "#2a3f5f",
             "gridcolor": "white",
             "linecolor": "white",
             "minorgridcolor": "white",
             "startlinecolor": "#2a3f5f"
            },
            "baxis": {
             "endlinecolor": "#2a3f5f",
             "gridcolor": "white",
             "linecolor": "white",
             "minorgridcolor": "white",
             "startlinecolor": "#2a3f5f"
            },
            "type": "carpet"
           }
          ],
          "choropleth": [
           {
            "colorbar": {
             "outlinewidth": 0,
             "ticks": ""
            },
            "type": "choropleth"
           }
          ],
          "contour": [
           {
            "colorbar": {
             "outlinewidth": 0,
             "ticks": ""
            },
            "colorscale": [
             [
              0,
              "#0d0887"
             ],
             [
              0.1111111111111111,
              "#46039f"
             ],
             [
              0.2222222222222222,
              "#7201a8"
             ],
             [
              0.3333333333333333,
              "#9c179e"
             ],
             [
              0.4444444444444444,
              "#bd3786"
             ],
             [
              0.5555555555555556,
              "#d8576b"
             ],
             [
              0.6666666666666666,
              "#ed7953"
             ],
             [
              0.7777777777777778,
              "#fb9f3a"
             ],
             [
              0.8888888888888888,
              "#fdca26"
             ],
             [
              1,
              "#f0f921"
             ]
            ],
            "type": "contour"
           }
          ],
          "contourcarpet": [
           {
            "colorbar": {
             "outlinewidth": 0,
             "ticks": ""
            },
            "type": "contourcarpet"
           }
          ],
          "heatmap": [
           {
            "colorbar": {
             "outlinewidth": 0,
             "ticks": ""
            },
            "colorscale": [
             [
              0,
              "#0d0887"
             ],
             [
              0.1111111111111111,
              "#46039f"
             ],
             [
              0.2222222222222222,
              "#7201a8"
             ],
             [
              0.3333333333333333,
              "#9c179e"
             ],
             [
              0.4444444444444444,
              "#bd3786"
             ],
             [
              0.5555555555555556,
              "#d8576b"
             ],
             [
              0.6666666666666666,
              "#ed7953"
             ],
             [
              0.7777777777777778,
              "#fb9f3a"
             ],
             [
              0.8888888888888888,
              "#fdca26"
             ],
             [
              1,
              "#f0f921"
             ]
            ],
            "type": "heatmap"
           }
          ],
          "heatmapgl": [
           {
            "colorbar": {
             "outlinewidth": 0,
             "ticks": ""
            },
            "colorscale": [
             [
              0,
              "#0d0887"
             ],
             [
              0.1111111111111111,
              "#46039f"
             ],
             [
              0.2222222222222222,
              "#7201a8"
             ],
             [
              0.3333333333333333,
              "#9c179e"
             ],
             [
              0.4444444444444444,
              "#bd3786"
             ],
             [
              0.5555555555555556,
              "#d8576b"
             ],
             [
              0.6666666666666666,
              "#ed7953"
             ],
             [
              0.7777777777777778,
              "#fb9f3a"
             ],
             [
              0.8888888888888888,
              "#fdca26"
             ],
             [
              1,
              "#f0f921"
             ]
            ],
            "type": "heatmapgl"
           }
          ],
          "histogram": [
           {
            "marker": {
             "pattern": {
              "fillmode": "overlay",
              "size": 10,
              "solidity": 0.2
             }
            },
            "type": "histogram"
           }
          ],
          "histogram2d": [
           {
            "colorbar": {
             "outlinewidth": 0,
             "ticks": ""
            },
            "colorscale": [
             [
              0,
              "#0d0887"
             ],
             [
              0.1111111111111111,
              "#46039f"
             ],
             [
              0.2222222222222222,
              "#7201a8"
             ],
             [
              0.3333333333333333,
              "#9c179e"
             ],
             [
              0.4444444444444444,
              "#bd3786"
             ],
             [
              0.5555555555555556,
              "#d8576b"
             ],
             [
              0.6666666666666666,
              "#ed7953"
             ],
             [
              0.7777777777777778,
              "#fb9f3a"
             ],
             [
              0.8888888888888888,
              "#fdca26"
             ],
             [
              1,
              "#f0f921"
             ]
            ],
            "type": "histogram2d"
           }
          ],
          "histogram2dcontour": [
           {
            "colorbar": {
             "outlinewidth": 0,
             "ticks": ""
            },
            "colorscale": [
             [
              0,
              "#0d0887"
             ],
             [
              0.1111111111111111,
              "#46039f"
             ],
             [
              0.2222222222222222,
              "#7201a8"
             ],
             [
              0.3333333333333333,
              "#9c179e"
             ],
             [
              0.4444444444444444,
              "#bd3786"
             ],
             [
              0.5555555555555556,
              "#d8576b"
             ],
             [
              0.6666666666666666,
              "#ed7953"
             ],
             [
              0.7777777777777778,
              "#fb9f3a"
             ],
             [
              0.8888888888888888,
              "#fdca26"
             ],
             [
              1,
              "#f0f921"
             ]
            ],
            "type": "histogram2dcontour"
           }
          ],
          "mesh3d": [
           {
            "colorbar": {
             "outlinewidth": 0,
             "ticks": ""
            },
            "type": "mesh3d"
           }
          ],
          "parcoords": [
           {
            "line": {
             "colorbar": {
              "outlinewidth": 0,
              "ticks": ""
             }
            },
            "type": "parcoords"
           }
          ],
          "pie": [
           {
            "automargin": true,
            "type": "pie"
           }
          ],
          "scatter": [
           {
            "marker": {
             "colorbar": {
              "outlinewidth": 0,
              "ticks": ""
             }
            },
            "type": "scatter"
           }
          ],
          "scatter3d": [
           {
            "line": {
             "colorbar": {
              "outlinewidth": 0,
              "ticks": ""
             }
            },
            "marker": {
             "colorbar": {
              "outlinewidth": 0,
              "ticks": ""
             }
            },
            "type": "scatter3d"
           }
          ],
          "scattercarpet": [
           {
            "marker": {
             "colorbar": {
              "outlinewidth": 0,
              "ticks": ""
             }
            },
            "type": "scattercarpet"
           }
          ],
          "scattergeo": [
           {
            "marker": {
             "colorbar": {
              "outlinewidth": 0,
              "ticks": ""
             }
            },
            "type": "scattergeo"
           }
          ],
          "scattergl": [
           {
            "marker": {
             "colorbar": {
              "outlinewidth": 0,
              "ticks": ""
             }
            },
            "type": "scattergl"
           }
          ],
          "scattermapbox": [
           {
            "marker": {
             "colorbar": {
              "outlinewidth": 0,
              "ticks": ""
             }
            },
            "type": "scattermapbox"
           }
          ],
          "scatterpolar": [
           {
            "marker": {
             "colorbar": {
              "outlinewidth": 0,
              "ticks": ""
             }
            },
            "type": "scatterpolar"
           }
          ],
          "scatterpolargl": [
           {
            "marker": {
             "colorbar": {
              "outlinewidth": 0,
              "ticks": ""
             }
            },
            "type": "scatterpolargl"
           }
          ],
          "scatterternary": [
           {
            "marker": {
             "colorbar": {
              "outlinewidth": 0,
              "ticks": ""
             }
            },
            "type": "scatterternary"
           }
          ],
          "surface": [
           {
            "colorbar": {
             "outlinewidth": 0,
             "ticks": ""
            },
            "colorscale": [
             [
              0,
              "#0d0887"
             ],
             [
              0.1111111111111111,
              "#46039f"
             ],
             [
              0.2222222222222222,
              "#7201a8"
             ],
             [
              0.3333333333333333,
              "#9c179e"
             ],
             [
              0.4444444444444444,
              "#bd3786"
             ],
             [
              0.5555555555555556,
              "#d8576b"
             ],
             [
              0.6666666666666666,
              "#ed7953"
             ],
             [
              0.7777777777777778,
              "#fb9f3a"
             ],
             [
              0.8888888888888888,
              "#fdca26"
             ],
             [
              1,
              "#f0f921"
             ]
            ],
            "type": "surface"
           }
          ],
          "table": [
           {
            "cells": {
             "fill": {
              "color": "#EBF0F8"
             },
             "line": {
              "color": "white"
             }
            },
            "header": {
             "fill": {
              "color": "#C8D4E3"
             },
             "line": {
              "color": "white"
             }
            },
            "type": "table"
           }
          ]
         },
         "layout": {
          "annotationdefaults": {
           "arrowcolor": "#2a3f5f",
           "arrowhead": 0,
           "arrowwidth": 1
          },
          "autotypenumbers": "strict",
          "coloraxis": {
           "colorbar": {
            "outlinewidth": 0,
            "ticks": ""
           }
          },
          "colorscale": {
           "diverging": [
            [
             0,
             "#8e0152"
            ],
            [
             0.1,
             "#c51b7d"
            ],
            [
             0.2,
             "#de77ae"
            ],
            [
             0.3,
             "#f1b6da"
            ],
            [
             0.4,
             "#fde0ef"
            ],
            [
             0.5,
             "#f7f7f7"
            ],
            [
             0.6,
             "#e6f5d0"
            ],
            [
             0.7,
             "#b8e186"
            ],
            [
             0.8,
             "#7fbc41"
            ],
            [
             0.9,
             "#4d9221"
            ],
            [
             1,
             "#276419"
            ]
           ],
           "sequential": [
            [
             0,
             "#0d0887"
            ],
            [
             0.1111111111111111,
             "#46039f"
            ],
            [
             0.2222222222222222,
             "#7201a8"
            ],
            [
             0.3333333333333333,
             "#9c179e"
            ],
            [
             0.4444444444444444,
             "#bd3786"
            ],
            [
             0.5555555555555556,
             "#d8576b"
            ],
            [
             0.6666666666666666,
             "#ed7953"
            ],
            [
             0.7777777777777778,
             "#fb9f3a"
            ],
            [
             0.8888888888888888,
             "#fdca26"
            ],
            [
             1,
             "#f0f921"
            ]
           ],
           "sequentialminus": [
            [
             0,
             "#0d0887"
            ],
            [
             0.1111111111111111,
             "#46039f"
            ],
            [
             0.2222222222222222,
             "#7201a8"
            ],
            [
             0.3333333333333333,
             "#9c179e"
            ],
            [
             0.4444444444444444,
             "#bd3786"
            ],
            [
             0.5555555555555556,
             "#d8576b"
            ],
            [
             0.6666666666666666,
             "#ed7953"
            ],
            [
             0.7777777777777778,
             "#fb9f3a"
            ],
            [
             0.8888888888888888,
             "#fdca26"
            ],
            [
             1,
             "#f0f921"
            ]
           ]
          },
          "colorway": [
           "#636efa",
           "#EF553B",
           "#00cc96",
           "#ab63fa",
           "#FFA15A",
           "#19d3f3",
           "#FF6692",
           "#B6E880",
           "#FF97FF",
           "#FECB52"
          ],
          "font": {
           "color": "#2a3f5f"
          },
          "geo": {
           "bgcolor": "white",
           "lakecolor": "white",
           "landcolor": "#E5ECF6",
           "showlakes": true,
           "showland": true,
           "subunitcolor": "white"
          },
          "hoverlabel": {
           "align": "left"
          },
          "hovermode": "closest",
          "mapbox": {
           "style": "light"
          },
          "paper_bgcolor": "white",
          "plot_bgcolor": "#E5ECF6",
          "polar": {
           "angularaxis": {
            "gridcolor": "white",
            "linecolor": "white",
            "ticks": ""
           },
           "bgcolor": "#E5ECF6",
           "radialaxis": {
            "gridcolor": "white",
            "linecolor": "white",
            "ticks": ""
           }
          },
          "scene": {
           "xaxis": {
            "backgroundcolor": "#E5ECF6",
            "gridcolor": "white",
            "gridwidth": 2,
            "linecolor": "white",
            "showbackground": true,
            "ticks": "",
            "zerolinecolor": "white"
           },
           "yaxis": {
            "backgroundcolor": "#E5ECF6",
            "gridcolor": "white",
            "gridwidth": 2,
            "linecolor": "white",
            "showbackground": true,
            "ticks": "",
            "zerolinecolor": "white"
           },
           "zaxis": {
            "backgroundcolor": "#E5ECF6",
            "gridcolor": "white",
            "gridwidth": 2,
            "linecolor": "white",
            "showbackground": true,
            "ticks": "",
            "zerolinecolor": "white"
           }
          },
          "shapedefaults": {
           "line": {
            "color": "#2a3f5f"
           }
          },
          "ternary": {
           "aaxis": {
            "gridcolor": "white",
            "linecolor": "white",
            "ticks": ""
           },
           "baxis": {
            "gridcolor": "white",
            "linecolor": "white",
            "ticks": ""
           },
           "bgcolor": "#E5ECF6",
           "caxis": {
            "gridcolor": "white",
            "linecolor": "white",
            "ticks": ""
           }
          },
          "title": {
           "x": 0.05
          },
          "xaxis": {
           "automargin": true,
           "gridcolor": "white",
           "linecolor": "white",
           "ticks": "",
           "title": {
            "standoff": 15
           },
           "zerolinecolor": "white",
           "zerolinewidth": 2
          },
          "yaxis": {
           "automargin": true,
           "gridcolor": "white",
           "linecolor": "white",
           "ticks": "",
           "title": {
            "standoff": 15
           },
           "zerolinecolor": "white",
           "zerolinewidth": 2
          }
         }
        },
        "title": {
         "text": "Distribution of Sex Exploit"
        }
       }
      },
      "text/html": [
       "<div>                            <div id=\"293eb5c6-16be-4993-b122-082c9baca30c\" class=\"plotly-graph-div\" style=\"height:525px; width:100%;\"></div>            <script type=\"text/javascript\">                require([\"plotly\"], function(Plotly) {                    window.PLOTLYENV=window.PLOTLYENV || {};                                    if (document.getElementById(\"293eb5c6-16be-4993-b122-082c9baca30c\")) {                    Plotly.newPlot(                        \"293eb5c6-16be-4993-b122-082c9baca30c\",                        [{\"domain\":{\"x\":[0.0,1.0],\"y\":[0.0,1.0]},\"hovertemplate\":\"index=%{label}<br>value=%{value}<extra></extra>\",\"labels\":[\"-99\",-99,\"Prostitution\",\"Pornography\",\"Private sexual services\"],\"legendgroup\":\"\",\"name\":\"\",\"showlegend\":true,\"values\":[27828,16384,4386,160,43],\"type\":\"pie\",\"textinfo\":\"percent+label\",\"textposition\":\"inside\"}],                        {\"template\":{\"data\":{\"bar\":[{\"error_x\":{\"color\":\"#2a3f5f\"},\"error_y\":{\"color\":\"#2a3f5f\"},\"marker\":{\"line\":{\"color\":\"#E5ECF6\",\"width\":0.5},\"pattern\":{\"fillmode\":\"overlay\",\"size\":10,\"solidity\":0.2}},\"type\":\"bar\"}],\"barpolar\":[{\"marker\":{\"line\":{\"color\":\"#E5ECF6\",\"width\":0.5},\"pattern\":{\"fillmode\":\"overlay\",\"size\":10,\"solidity\":0.2}},\"type\":\"barpolar\"}],\"carpet\":[{\"aaxis\":{\"endlinecolor\":\"#2a3f5f\",\"gridcolor\":\"white\",\"linecolor\":\"white\",\"minorgridcolor\":\"white\",\"startlinecolor\":\"#2a3f5f\"},\"baxis\":{\"endlinecolor\":\"#2a3f5f\",\"gridcolor\":\"white\",\"linecolor\":\"white\",\"minorgridcolor\":\"white\",\"startlinecolor\":\"#2a3f5f\"},\"type\":\"carpet\"}],\"choropleth\":[{\"colorbar\":{\"outlinewidth\":0,\"ticks\":\"\"},\"type\":\"choropleth\"}],\"contour\":[{\"colorbar\":{\"outlinewidth\":0,\"ticks\":\"\"},\"colorscale\":[[0.0,\"#0d0887\"],[0.1111111111111111,\"#46039f\"],[0.2222222222222222,\"#7201a8\"],[0.3333333333333333,\"#9c179e\"],[0.4444444444444444,\"#bd3786\"],[0.5555555555555556,\"#d8576b\"],[0.6666666666666666,\"#ed7953\"],[0.7777777777777778,\"#fb9f3a\"],[0.8888888888888888,\"#fdca26\"],[1.0,\"#f0f921\"]],\"type\":\"contour\"}],\"contourcarpet\":[{\"colorbar\":{\"outlinewidth\":0,\"ticks\":\"\"},\"type\":\"contourcarpet\"}],\"heatmap\":[{\"colorbar\":{\"outlinewidth\":0,\"ticks\":\"\"},\"colorscale\":[[0.0,\"#0d0887\"],[0.1111111111111111,\"#46039f\"],[0.2222222222222222,\"#7201a8\"],[0.3333333333333333,\"#9c179e\"],[0.4444444444444444,\"#bd3786\"],[0.5555555555555556,\"#d8576b\"],[0.6666666666666666,\"#ed7953\"],[0.7777777777777778,\"#fb9f3a\"],[0.8888888888888888,\"#fdca26\"],[1.0,\"#f0f921\"]],\"type\":\"heatmap\"}],\"heatmapgl\":[{\"colorbar\":{\"outlinewidth\":0,\"ticks\":\"\"},\"colorscale\":[[0.0,\"#0d0887\"],[0.1111111111111111,\"#46039f\"],[0.2222222222222222,\"#7201a8\"],[0.3333333333333333,\"#9c179e\"],[0.4444444444444444,\"#bd3786\"],[0.5555555555555556,\"#d8576b\"],[0.6666666666666666,\"#ed7953\"],[0.7777777777777778,\"#fb9f3a\"],[0.8888888888888888,\"#fdca26\"],[1.0,\"#f0f921\"]],\"type\":\"heatmapgl\"}],\"histogram\":[{\"marker\":{\"pattern\":{\"fillmode\":\"overlay\",\"size\":10,\"solidity\":0.2}},\"type\":\"histogram\"}],\"histogram2d\":[{\"colorbar\":{\"outlinewidth\":0,\"ticks\":\"\"},\"colorscale\":[[0.0,\"#0d0887\"],[0.1111111111111111,\"#46039f\"],[0.2222222222222222,\"#7201a8\"],[0.3333333333333333,\"#9c179e\"],[0.4444444444444444,\"#bd3786\"],[0.5555555555555556,\"#d8576b\"],[0.6666666666666666,\"#ed7953\"],[0.7777777777777778,\"#fb9f3a\"],[0.8888888888888888,\"#fdca26\"],[1.0,\"#f0f921\"]],\"type\":\"histogram2d\"}],\"histogram2dcontour\":[{\"colorbar\":{\"outlinewidth\":0,\"ticks\":\"\"},\"colorscale\":[[0.0,\"#0d0887\"],[0.1111111111111111,\"#46039f\"],[0.2222222222222222,\"#7201a8\"],[0.3333333333333333,\"#9c179e\"],[0.4444444444444444,\"#bd3786\"],[0.5555555555555556,\"#d8576b\"],[0.6666666666666666,\"#ed7953\"],[0.7777777777777778,\"#fb9f3a\"],[0.8888888888888888,\"#fdca26\"],[1.0,\"#f0f921\"]],\"type\":\"histogram2dcontour\"}],\"mesh3d\":[{\"colorbar\":{\"outlinewidth\":0,\"ticks\":\"\"},\"type\":\"mesh3d\"}],\"parcoords\":[{\"line\":{\"colorbar\":{\"outlinewidth\":0,\"ticks\":\"\"}},\"type\":\"parcoords\"}],\"pie\":[{\"automargin\":true,\"type\":\"pie\"}],\"scatter\":[{\"marker\":{\"colorbar\":{\"outlinewidth\":0,\"ticks\":\"\"}},\"type\":\"scatter\"}],\"scatter3d\":[{\"line\":{\"colorbar\":{\"outlinewidth\":0,\"ticks\":\"\"}},\"marker\":{\"colorbar\":{\"outlinewidth\":0,\"ticks\":\"\"}},\"type\":\"scatter3d\"}],\"scattercarpet\":[{\"marker\":{\"colorbar\":{\"outlinewidth\":0,\"ticks\":\"\"}},\"type\":\"scattercarpet\"}],\"scattergeo\":[{\"marker\":{\"colorbar\":{\"outlinewidth\":0,\"ticks\":\"\"}},\"type\":\"scattergeo\"}],\"scattergl\":[{\"marker\":{\"colorbar\":{\"outlinewidth\":0,\"ticks\":\"\"}},\"type\":\"scattergl\"}],\"scattermapbox\":[{\"marker\":{\"colorbar\":{\"outlinewidth\":0,\"ticks\":\"\"}},\"type\":\"scattermapbox\"}],\"scatterpolar\":[{\"marker\":{\"colorbar\":{\"outlinewidth\":0,\"ticks\":\"\"}},\"type\":\"scatterpolar\"}],\"scatterpolargl\":[{\"marker\":{\"colorbar\":{\"outlinewidth\":0,\"ticks\":\"\"}},\"type\":\"scatterpolargl\"}],\"scatterternary\":[{\"marker\":{\"colorbar\":{\"outlinewidth\":0,\"ticks\":\"\"}},\"type\":\"scatterternary\"}],\"surface\":[{\"colorbar\":{\"outlinewidth\":0,\"ticks\":\"\"},\"colorscale\":[[0.0,\"#0d0887\"],[0.1111111111111111,\"#46039f\"],[0.2222222222222222,\"#7201a8\"],[0.3333333333333333,\"#9c179e\"],[0.4444444444444444,\"#bd3786\"],[0.5555555555555556,\"#d8576b\"],[0.6666666666666666,\"#ed7953\"],[0.7777777777777778,\"#fb9f3a\"],[0.8888888888888888,\"#fdca26\"],[1.0,\"#f0f921\"]],\"type\":\"surface\"}],\"table\":[{\"cells\":{\"fill\":{\"color\":\"#EBF0F8\"},\"line\":{\"color\":\"white\"}},\"header\":{\"fill\":{\"color\":\"#C8D4E3\"},\"line\":{\"color\":\"white\"}},\"type\":\"table\"}]},\"layout\":{\"annotationdefaults\":{\"arrowcolor\":\"#2a3f5f\",\"arrowhead\":0,\"arrowwidth\":1},\"autotypenumbers\":\"strict\",\"coloraxis\":{\"colorbar\":{\"outlinewidth\":0,\"ticks\":\"\"}},\"colorscale\":{\"diverging\":[[0,\"#8e0152\"],[0.1,\"#c51b7d\"],[0.2,\"#de77ae\"],[0.3,\"#f1b6da\"],[0.4,\"#fde0ef\"],[0.5,\"#f7f7f7\"],[0.6,\"#e6f5d0\"],[0.7,\"#b8e186\"],[0.8,\"#7fbc41\"],[0.9,\"#4d9221\"],[1,\"#276419\"]],\"sequential\":[[0.0,\"#0d0887\"],[0.1111111111111111,\"#46039f\"],[0.2222222222222222,\"#7201a8\"],[0.3333333333333333,\"#9c179e\"],[0.4444444444444444,\"#bd3786\"],[0.5555555555555556,\"#d8576b\"],[0.6666666666666666,\"#ed7953\"],[0.7777777777777778,\"#fb9f3a\"],[0.8888888888888888,\"#fdca26\"],[1.0,\"#f0f921\"]],\"sequentialminus\":[[0.0,\"#0d0887\"],[0.1111111111111111,\"#46039f\"],[0.2222222222222222,\"#7201a8\"],[0.3333333333333333,\"#9c179e\"],[0.4444444444444444,\"#bd3786\"],[0.5555555555555556,\"#d8576b\"],[0.6666666666666666,\"#ed7953\"],[0.7777777777777778,\"#fb9f3a\"],[0.8888888888888888,\"#fdca26\"],[1.0,\"#f0f921\"]]},\"colorway\":[\"#636efa\",\"#EF553B\",\"#00cc96\",\"#ab63fa\",\"#FFA15A\",\"#19d3f3\",\"#FF6692\",\"#B6E880\",\"#FF97FF\",\"#FECB52\"],\"font\":{\"color\":\"#2a3f5f\"},\"geo\":{\"bgcolor\":\"white\",\"lakecolor\":\"white\",\"landcolor\":\"#E5ECF6\",\"showlakes\":true,\"showland\":true,\"subunitcolor\":\"white\"},\"hoverlabel\":{\"align\":\"left\"},\"hovermode\":\"closest\",\"mapbox\":{\"style\":\"light\"},\"paper_bgcolor\":\"white\",\"plot_bgcolor\":\"#E5ECF6\",\"polar\":{\"angularaxis\":{\"gridcolor\":\"white\",\"linecolor\":\"white\",\"ticks\":\"\"},\"bgcolor\":\"#E5ECF6\",\"radialaxis\":{\"gridcolor\":\"white\",\"linecolor\":\"white\",\"ticks\":\"\"}},\"scene\":{\"xaxis\":{\"backgroundcolor\":\"#E5ECF6\",\"gridcolor\":\"white\",\"gridwidth\":2,\"linecolor\":\"white\",\"showbackground\":true,\"ticks\":\"\",\"zerolinecolor\":\"white\"},\"yaxis\":{\"backgroundcolor\":\"#E5ECF6\",\"gridcolor\":\"white\",\"gridwidth\":2,\"linecolor\":\"white\",\"showbackground\":true,\"ticks\":\"\",\"zerolinecolor\":\"white\"},\"zaxis\":{\"backgroundcolor\":\"#E5ECF6\",\"gridcolor\":\"white\",\"gridwidth\":2,\"linecolor\":\"white\",\"showbackground\":true,\"ticks\":\"\",\"zerolinecolor\":\"white\"}},\"shapedefaults\":{\"line\":{\"color\":\"#2a3f5f\"}},\"ternary\":{\"aaxis\":{\"gridcolor\":\"white\",\"linecolor\":\"white\",\"ticks\":\"\"},\"baxis\":{\"gridcolor\":\"white\",\"linecolor\":\"white\",\"ticks\":\"\"},\"bgcolor\":\"#E5ECF6\",\"caxis\":{\"gridcolor\":\"white\",\"linecolor\":\"white\",\"ticks\":\"\"}},\"title\":{\"x\":0.05},\"xaxis\":{\"automargin\":true,\"gridcolor\":\"white\",\"linecolor\":\"white\",\"ticks\":\"\",\"title\":{\"standoff\":15},\"zerolinecolor\":\"white\",\"zerolinewidth\":2},\"yaxis\":{\"automargin\":true,\"gridcolor\":\"white\",\"linecolor\":\"white\",\"ticks\":\"\",\"title\":{\"standoff\":15},\"zerolinecolor\":\"white\",\"zerolinewidth\":2}}},\"legend\":{\"tracegroupgap\":0},\"title\":{\"text\":\"Distribution of Sex Exploit\"}},                        {\"responsive\": true}                    ).then(function(){\n",
       "                            \n",
       "var gd = document.getElementById('293eb5c6-16be-4993-b122-082c9baca30c');\n",
       "var x = new MutationObserver(function (mutations, observer) {{\n",
       "        var display = window.getComputedStyle(gd).display;\n",
       "        if (!display || display === 'none') {{\n",
       "            console.log([gd, 'removed!']);\n",
       "            Plotly.purge(gd);\n",
       "            observer.disconnect();\n",
       "        }}\n",
       "}});\n",
       "\n",
       "// Listen for the removal of the full notebook cells\n",
       "var notebookContainer = gd.closest('#notebook-container');\n",
       "if (notebookContainer) {{\n",
       "    x.observe(notebookContainer, {childList: true});\n",
       "}}\n",
       "\n",
       "// Listen for the clearing of the current output cell\n",
       "var outputEl = gd.closest('.output');\n",
       "if (outputEl) {{\n",
       "    x.observe(outputEl, {childList: true});\n",
       "}}\n",
       "\n",
       "                        })                };                });            </script>        </div>"
      ]
     },
     "metadata": {},
     "output_type": "display_data"
    }
   ],
   "source": [
    "fig = px.pie(data_sex_type, values=data_sex_type, names=data_sex_type.index,\n",
    "            title=\"Distribution of Sex Exploit\")\n",
    "fig.update_traces(textposition='inside', textinfo='percent+label')\n",
    "fig.show()"
   ]
  },
  {
   "cell_type": "code",
   "execution_count": 204,
   "metadata": {},
   "outputs": [],
   "source": [
    "data_bar_f = data[(data.RecruiterRelationship.notna()) & (data.gender == 'Female')].RecruiterRelationship.apply(lambda x: pd.value_counts(str(x).split(\"; \"))).sum(axis = 0)\n",
    "data_bar_m = data[(data.RecruiterRelationship.notna()) & (data.gender == 'Male')].RecruiterRelationship.apply(lambda x: pd.value_counts(str(x).split(\"; \"))).sum(axis = 0)"
   ]
  },
  {
   "cell_type": "code",
   "execution_count": 205,
   "metadata": {},
   "outputs": [
    {
     "data": {
      "application/vnd.plotly.v1+json": {
       "config": {
        "plotlyServerURL": "https://plot.ly"
       },
       "data": [
        {
         "name": "Female",
         "textposition": "outside",
         "texttemplate": "%{value}",
         "type": "bar",
         "x": [
          "-99",
          "Other",
          "Friend/Acquaintance",
          "Family/Relative",
          "Intimate Partner",
          "Not Specified"
         ],
         "y": [
          20132,
          2525,
          1323,
          1638,
          1619,
          8527
         ]
        },
        {
         "name": "Male",
         "textposition": "outside",
         "texttemplate": "%{value}",
         "type": "bar",
         "x": [
          "-99",
          "Friend/Acquaintance",
          "Other",
          "Family/Relative",
          "Not Specified",
          "Intimate Partner"
         ],
         "y": [
          10549,
          773,
          1474,
          241,
          244,
          6
         ]
        }
       ],
       "layout": {
        "template": {
         "data": {
          "bar": [
           {
            "error_x": {
             "color": "#2a3f5f"
            },
            "error_y": {
             "color": "#2a3f5f"
            },
            "marker": {
             "line": {
              "color": "#E5ECF6",
              "width": 0.5
             },
             "pattern": {
              "fillmode": "overlay",
              "size": 10,
              "solidity": 0.2
             }
            },
            "type": "bar"
           }
          ],
          "barpolar": [
           {
            "marker": {
             "line": {
              "color": "#E5ECF6",
              "width": 0.5
             },
             "pattern": {
              "fillmode": "overlay",
              "size": 10,
              "solidity": 0.2
             }
            },
            "type": "barpolar"
           }
          ],
          "carpet": [
           {
            "aaxis": {
             "endlinecolor": "#2a3f5f",
             "gridcolor": "white",
             "linecolor": "white",
             "minorgridcolor": "white",
             "startlinecolor": "#2a3f5f"
            },
            "baxis": {
             "endlinecolor": "#2a3f5f",
             "gridcolor": "white",
             "linecolor": "white",
             "minorgridcolor": "white",
             "startlinecolor": "#2a3f5f"
            },
            "type": "carpet"
           }
          ],
          "choropleth": [
           {
            "colorbar": {
             "outlinewidth": 0,
             "ticks": ""
            },
            "type": "choropleth"
           }
          ],
          "contour": [
           {
            "colorbar": {
             "outlinewidth": 0,
             "ticks": ""
            },
            "colorscale": [
             [
              0,
              "#0d0887"
             ],
             [
              0.1111111111111111,
              "#46039f"
             ],
             [
              0.2222222222222222,
              "#7201a8"
             ],
             [
              0.3333333333333333,
              "#9c179e"
             ],
             [
              0.4444444444444444,
              "#bd3786"
             ],
             [
              0.5555555555555556,
              "#d8576b"
             ],
             [
              0.6666666666666666,
              "#ed7953"
             ],
             [
              0.7777777777777778,
              "#fb9f3a"
             ],
             [
              0.8888888888888888,
              "#fdca26"
             ],
             [
              1,
              "#f0f921"
             ]
            ],
            "type": "contour"
           }
          ],
          "contourcarpet": [
           {
            "colorbar": {
             "outlinewidth": 0,
             "ticks": ""
            },
            "type": "contourcarpet"
           }
          ],
          "heatmap": [
           {
            "colorbar": {
             "outlinewidth": 0,
             "ticks": ""
            },
            "colorscale": [
             [
              0,
              "#0d0887"
             ],
             [
              0.1111111111111111,
              "#46039f"
             ],
             [
              0.2222222222222222,
              "#7201a8"
             ],
             [
              0.3333333333333333,
              "#9c179e"
             ],
             [
              0.4444444444444444,
              "#bd3786"
             ],
             [
              0.5555555555555556,
              "#d8576b"
             ],
             [
              0.6666666666666666,
              "#ed7953"
             ],
             [
              0.7777777777777778,
              "#fb9f3a"
             ],
             [
              0.8888888888888888,
              "#fdca26"
             ],
             [
              1,
              "#f0f921"
             ]
            ],
            "type": "heatmap"
           }
          ],
          "heatmapgl": [
           {
            "colorbar": {
             "outlinewidth": 0,
             "ticks": ""
            },
            "colorscale": [
             [
              0,
              "#0d0887"
             ],
             [
              0.1111111111111111,
              "#46039f"
             ],
             [
              0.2222222222222222,
              "#7201a8"
             ],
             [
              0.3333333333333333,
              "#9c179e"
             ],
             [
              0.4444444444444444,
              "#bd3786"
             ],
             [
              0.5555555555555556,
              "#d8576b"
             ],
             [
              0.6666666666666666,
              "#ed7953"
             ],
             [
              0.7777777777777778,
              "#fb9f3a"
             ],
             [
              0.8888888888888888,
              "#fdca26"
             ],
             [
              1,
              "#f0f921"
             ]
            ],
            "type": "heatmapgl"
           }
          ],
          "histogram": [
           {
            "marker": {
             "pattern": {
              "fillmode": "overlay",
              "size": 10,
              "solidity": 0.2
             }
            },
            "type": "histogram"
           }
          ],
          "histogram2d": [
           {
            "colorbar": {
             "outlinewidth": 0,
             "ticks": ""
            },
            "colorscale": [
             [
              0,
              "#0d0887"
             ],
             [
              0.1111111111111111,
              "#46039f"
             ],
             [
              0.2222222222222222,
              "#7201a8"
             ],
             [
              0.3333333333333333,
              "#9c179e"
             ],
             [
              0.4444444444444444,
              "#bd3786"
             ],
             [
              0.5555555555555556,
              "#d8576b"
             ],
             [
              0.6666666666666666,
              "#ed7953"
             ],
             [
              0.7777777777777778,
              "#fb9f3a"
             ],
             [
              0.8888888888888888,
              "#fdca26"
             ],
             [
              1,
              "#f0f921"
             ]
            ],
            "type": "histogram2d"
           }
          ],
          "histogram2dcontour": [
           {
            "colorbar": {
             "outlinewidth": 0,
             "ticks": ""
            },
            "colorscale": [
             [
              0,
              "#0d0887"
             ],
             [
              0.1111111111111111,
              "#46039f"
             ],
             [
              0.2222222222222222,
              "#7201a8"
             ],
             [
              0.3333333333333333,
              "#9c179e"
             ],
             [
              0.4444444444444444,
              "#bd3786"
             ],
             [
              0.5555555555555556,
              "#d8576b"
             ],
             [
              0.6666666666666666,
              "#ed7953"
             ],
             [
              0.7777777777777778,
              "#fb9f3a"
             ],
             [
              0.8888888888888888,
              "#fdca26"
             ],
             [
              1,
              "#f0f921"
             ]
            ],
            "type": "histogram2dcontour"
           }
          ],
          "mesh3d": [
           {
            "colorbar": {
             "outlinewidth": 0,
             "ticks": ""
            },
            "type": "mesh3d"
           }
          ],
          "parcoords": [
           {
            "line": {
             "colorbar": {
              "outlinewidth": 0,
              "ticks": ""
             }
            },
            "type": "parcoords"
           }
          ],
          "pie": [
           {
            "automargin": true,
            "type": "pie"
           }
          ],
          "scatter": [
           {
            "marker": {
             "colorbar": {
              "outlinewidth": 0,
              "ticks": ""
             }
            },
            "type": "scatter"
           }
          ],
          "scatter3d": [
           {
            "line": {
             "colorbar": {
              "outlinewidth": 0,
              "ticks": ""
             }
            },
            "marker": {
             "colorbar": {
              "outlinewidth": 0,
              "ticks": ""
             }
            },
            "type": "scatter3d"
           }
          ],
          "scattercarpet": [
           {
            "marker": {
             "colorbar": {
              "outlinewidth": 0,
              "ticks": ""
             }
            },
            "type": "scattercarpet"
           }
          ],
          "scattergeo": [
           {
            "marker": {
             "colorbar": {
              "outlinewidth": 0,
              "ticks": ""
             }
            },
            "type": "scattergeo"
           }
          ],
          "scattergl": [
           {
            "marker": {
             "colorbar": {
              "outlinewidth": 0,
              "ticks": ""
             }
            },
            "type": "scattergl"
           }
          ],
          "scattermapbox": [
           {
            "marker": {
             "colorbar": {
              "outlinewidth": 0,
              "ticks": ""
             }
            },
            "type": "scattermapbox"
           }
          ],
          "scatterpolar": [
           {
            "marker": {
             "colorbar": {
              "outlinewidth": 0,
              "ticks": ""
             }
            },
            "type": "scatterpolar"
           }
          ],
          "scatterpolargl": [
           {
            "marker": {
             "colorbar": {
              "outlinewidth": 0,
              "ticks": ""
             }
            },
            "type": "scatterpolargl"
           }
          ],
          "scatterternary": [
           {
            "marker": {
             "colorbar": {
              "outlinewidth": 0,
              "ticks": ""
             }
            },
            "type": "scatterternary"
           }
          ],
          "surface": [
           {
            "colorbar": {
             "outlinewidth": 0,
             "ticks": ""
            },
            "colorscale": [
             [
              0,
              "#0d0887"
             ],
             [
              0.1111111111111111,
              "#46039f"
             ],
             [
              0.2222222222222222,
              "#7201a8"
             ],
             [
              0.3333333333333333,
              "#9c179e"
             ],
             [
              0.4444444444444444,
              "#bd3786"
             ],
             [
              0.5555555555555556,
              "#d8576b"
             ],
             [
              0.6666666666666666,
              "#ed7953"
             ],
             [
              0.7777777777777778,
              "#fb9f3a"
             ],
             [
              0.8888888888888888,
              "#fdca26"
             ],
             [
              1,
              "#f0f921"
             ]
            ],
            "type": "surface"
           }
          ],
          "table": [
           {
            "cells": {
             "fill": {
              "color": "#EBF0F8"
             },
             "line": {
              "color": "white"
             }
            },
            "header": {
             "fill": {
              "color": "#C8D4E3"
             },
             "line": {
              "color": "white"
             }
            },
            "type": "table"
           }
          ]
         },
         "layout": {
          "annotationdefaults": {
           "arrowcolor": "#2a3f5f",
           "arrowhead": 0,
           "arrowwidth": 1
          },
          "autotypenumbers": "strict",
          "coloraxis": {
           "colorbar": {
            "outlinewidth": 0,
            "ticks": ""
           }
          },
          "colorscale": {
           "diverging": [
            [
             0,
             "#8e0152"
            ],
            [
             0.1,
             "#c51b7d"
            ],
            [
             0.2,
             "#de77ae"
            ],
            [
             0.3,
             "#f1b6da"
            ],
            [
             0.4,
             "#fde0ef"
            ],
            [
             0.5,
             "#f7f7f7"
            ],
            [
             0.6,
             "#e6f5d0"
            ],
            [
             0.7,
             "#b8e186"
            ],
            [
             0.8,
             "#7fbc41"
            ],
            [
             0.9,
             "#4d9221"
            ],
            [
             1,
             "#276419"
            ]
           ],
           "sequential": [
            [
             0,
             "#0d0887"
            ],
            [
             0.1111111111111111,
             "#46039f"
            ],
            [
             0.2222222222222222,
             "#7201a8"
            ],
            [
             0.3333333333333333,
             "#9c179e"
            ],
            [
             0.4444444444444444,
             "#bd3786"
            ],
            [
             0.5555555555555556,
             "#d8576b"
            ],
            [
             0.6666666666666666,
             "#ed7953"
            ],
            [
             0.7777777777777778,
             "#fb9f3a"
            ],
            [
             0.8888888888888888,
             "#fdca26"
            ],
            [
             1,
             "#f0f921"
            ]
           ],
           "sequentialminus": [
            [
             0,
             "#0d0887"
            ],
            [
             0.1111111111111111,
             "#46039f"
            ],
            [
             0.2222222222222222,
             "#7201a8"
            ],
            [
             0.3333333333333333,
             "#9c179e"
            ],
            [
             0.4444444444444444,
             "#bd3786"
            ],
            [
             0.5555555555555556,
             "#d8576b"
            ],
            [
             0.6666666666666666,
             "#ed7953"
            ],
            [
             0.7777777777777778,
             "#fb9f3a"
            ],
            [
             0.8888888888888888,
             "#fdca26"
            ],
            [
             1,
             "#f0f921"
            ]
           ]
          },
          "colorway": [
           "#636efa",
           "#EF553B",
           "#00cc96",
           "#ab63fa",
           "#FFA15A",
           "#19d3f3",
           "#FF6692",
           "#B6E880",
           "#FF97FF",
           "#FECB52"
          ],
          "font": {
           "color": "#2a3f5f"
          },
          "geo": {
           "bgcolor": "white",
           "lakecolor": "white",
           "landcolor": "#E5ECF6",
           "showlakes": true,
           "showland": true,
           "subunitcolor": "white"
          },
          "hoverlabel": {
           "align": "left"
          },
          "hovermode": "closest",
          "mapbox": {
           "style": "light"
          },
          "paper_bgcolor": "white",
          "plot_bgcolor": "#E5ECF6",
          "polar": {
           "angularaxis": {
            "gridcolor": "white",
            "linecolor": "white",
            "ticks": ""
           },
           "bgcolor": "#E5ECF6",
           "radialaxis": {
            "gridcolor": "white",
            "linecolor": "white",
            "ticks": ""
           }
          },
          "scene": {
           "xaxis": {
            "backgroundcolor": "#E5ECF6",
            "gridcolor": "white",
            "gridwidth": 2,
            "linecolor": "white",
            "showbackground": true,
            "ticks": "",
            "zerolinecolor": "white"
           },
           "yaxis": {
            "backgroundcolor": "#E5ECF6",
            "gridcolor": "white",
            "gridwidth": 2,
            "linecolor": "white",
            "showbackground": true,
            "ticks": "",
            "zerolinecolor": "white"
           },
           "zaxis": {
            "backgroundcolor": "#E5ECF6",
            "gridcolor": "white",
            "gridwidth": 2,
            "linecolor": "white",
            "showbackground": true,
            "ticks": "",
            "zerolinecolor": "white"
           }
          },
          "shapedefaults": {
           "line": {
            "color": "#2a3f5f"
           }
          },
          "ternary": {
           "aaxis": {
            "gridcolor": "white",
            "linecolor": "white",
            "ticks": ""
           },
           "baxis": {
            "gridcolor": "white",
            "linecolor": "white",
            "ticks": ""
           },
           "bgcolor": "#E5ECF6",
           "caxis": {
            "gridcolor": "white",
            "linecolor": "white",
            "ticks": ""
           }
          },
          "title": {
           "x": 0.05
          },
          "xaxis": {
           "automargin": true,
           "gridcolor": "white",
           "linecolor": "white",
           "ticks": "",
           "title": {
            "standoff": 15
           },
           "zerolinecolor": "white",
           "zerolinewidth": 2
          },
          "yaxis": {
           "automargin": true,
           "gridcolor": "white",
           "linecolor": "white",
           "ticks": "",
           "title": {
            "standoff": 15
           },
           "zerolinecolor": "white",
           "zerolinewidth": 2
          }
         }
        },
        "title": {
         "text": "Recruiter Relationship"
        }
       }
      },
      "text/html": [
       "<div>                            <div id=\"425891c3-ed44-43ad-a3b7-d88fa258a69a\" class=\"plotly-graph-div\" style=\"height:525px; width:100%;\"></div>            <script type=\"text/javascript\">                require([\"plotly\"], function(Plotly) {                    window.PLOTLYENV=window.PLOTLYENV || {};                                    if (document.getElementById(\"425891c3-ed44-43ad-a3b7-d88fa258a69a\")) {                    Plotly.newPlot(                        \"425891c3-ed44-43ad-a3b7-d88fa258a69a\",                        [{\"name\":\"Female\",\"x\":[\"-99\",\"Other\",\"Friend/Acquaintance\",\"Family/Relative\",\"Intimate Partner\",\"Not Specified\"],\"y\":[20132.0,2525.0,1323.0,1638.0,1619.0,8527.0],\"type\":\"bar\",\"textposition\":\"outside\",\"texttemplate\":\"%{value}\"},{\"name\":\"Male\",\"x\":[\"-99\",\"Friend/Acquaintance\",\"Other\",\"Family/Relative\",\"Not Specified\",\"Intimate Partner\"],\"y\":[10549.0,773.0,1474.0,241.0,244.0,6.0],\"type\":\"bar\",\"textposition\":\"outside\",\"texttemplate\":\"%{value}\"}],                        {\"template\":{\"data\":{\"bar\":[{\"error_x\":{\"color\":\"#2a3f5f\"},\"error_y\":{\"color\":\"#2a3f5f\"},\"marker\":{\"line\":{\"color\":\"#E5ECF6\",\"width\":0.5},\"pattern\":{\"fillmode\":\"overlay\",\"size\":10,\"solidity\":0.2}},\"type\":\"bar\"}],\"barpolar\":[{\"marker\":{\"line\":{\"color\":\"#E5ECF6\",\"width\":0.5},\"pattern\":{\"fillmode\":\"overlay\",\"size\":10,\"solidity\":0.2}},\"type\":\"barpolar\"}],\"carpet\":[{\"aaxis\":{\"endlinecolor\":\"#2a3f5f\",\"gridcolor\":\"white\",\"linecolor\":\"white\",\"minorgridcolor\":\"white\",\"startlinecolor\":\"#2a3f5f\"},\"baxis\":{\"endlinecolor\":\"#2a3f5f\",\"gridcolor\":\"white\",\"linecolor\":\"white\",\"minorgridcolor\":\"white\",\"startlinecolor\":\"#2a3f5f\"},\"type\":\"carpet\"}],\"choropleth\":[{\"colorbar\":{\"outlinewidth\":0,\"ticks\":\"\"},\"type\":\"choropleth\"}],\"contour\":[{\"colorbar\":{\"outlinewidth\":0,\"ticks\":\"\"},\"colorscale\":[[0.0,\"#0d0887\"],[0.1111111111111111,\"#46039f\"],[0.2222222222222222,\"#7201a8\"],[0.3333333333333333,\"#9c179e\"],[0.4444444444444444,\"#bd3786\"],[0.5555555555555556,\"#d8576b\"],[0.6666666666666666,\"#ed7953\"],[0.7777777777777778,\"#fb9f3a\"],[0.8888888888888888,\"#fdca26\"],[1.0,\"#f0f921\"]],\"type\":\"contour\"}],\"contourcarpet\":[{\"colorbar\":{\"outlinewidth\":0,\"ticks\":\"\"},\"type\":\"contourcarpet\"}],\"heatmap\":[{\"colorbar\":{\"outlinewidth\":0,\"ticks\":\"\"},\"colorscale\":[[0.0,\"#0d0887\"],[0.1111111111111111,\"#46039f\"],[0.2222222222222222,\"#7201a8\"],[0.3333333333333333,\"#9c179e\"],[0.4444444444444444,\"#bd3786\"],[0.5555555555555556,\"#d8576b\"],[0.6666666666666666,\"#ed7953\"],[0.7777777777777778,\"#fb9f3a\"],[0.8888888888888888,\"#fdca26\"],[1.0,\"#f0f921\"]],\"type\":\"heatmap\"}],\"heatmapgl\":[{\"colorbar\":{\"outlinewidth\":0,\"ticks\":\"\"},\"colorscale\":[[0.0,\"#0d0887\"],[0.1111111111111111,\"#46039f\"],[0.2222222222222222,\"#7201a8\"],[0.3333333333333333,\"#9c179e\"],[0.4444444444444444,\"#bd3786\"],[0.5555555555555556,\"#d8576b\"],[0.6666666666666666,\"#ed7953\"],[0.7777777777777778,\"#fb9f3a\"],[0.8888888888888888,\"#fdca26\"],[1.0,\"#f0f921\"]],\"type\":\"heatmapgl\"}],\"histogram\":[{\"marker\":{\"pattern\":{\"fillmode\":\"overlay\",\"size\":10,\"solidity\":0.2}},\"type\":\"histogram\"}],\"histogram2d\":[{\"colorbar\":{\"outlinewidth\":0,\"ticks\":\"\"},\"colorscale\":[[0.0,\"#0d0887\"],[0.1111111111111111,\"#46039f\"],[0.2222222222222222,\"#7201a8\"],[0.3333333333333333,\"#9c179e\"],[0.4444444444444444,\"#bd3786\"],[0.5555555555555556,\"#d8576b\"],[0.6666666666666666,\"#ed7953\"],[0.7777777777777778,\"#fb9f3a\"],[0.8888888888888888,\"#fdca26\"],[1.0,\"#f0f921\"]],\"type\":\"histogram2d\"}],\"histogram2dcontour\":[{\"colorbar\":{\"outlinewidth\":0,\"ticks\":\"\"},\"colorscale\":[[0.0,\"#0d0887\"],[0.1111111111111111,\"#46039f\"],[0.2222222222222222,\"#7201a8\"],[0.3333333333333333,\"#9c179e\"],[0.4444444444444444,\"#bd3786\"],[0.5555555555555556,\"#d8576b\"],[0.6666666666666666,\"#ed7953\"],[0.7777777777777778,\"#fb9f3a\"],[0.8888888888888888,\"#fdca26\"],[1.0,\"#f0f921\"]],\"type\":\"histogram2dcontour\"}],\"mesh3d\":[{\"colorbar\":{\"outlinewidth\":0,\"ticks\":\"\"},\"type\":\"mesh3d\"}],\"parcoords\":[{\"line\":{\"colorbar\":{\"outlinewidth\":0,\"ticks\":\"\"}},\"type\":\"parcoords\"}],\"pie\":[{\"automargin\":true,\"type\":\"pie\"}],\"scatter\":[{\"marker\":{\"colorbar\":{\"outlinewidth\":0,\"ticks\":\"\"}},\"type\":\"scatter\"}],\"scatter3d\":[{\"line\":{\"colorbar\":{\"outlinewidth\":0,\"ticks\":\"\"}},\"marker\":{\"colorbar\":{\"outlinewidth\":0,\"ticks\":\"\"}},\"type\":\"scatter3d\"}],\"scattercarpet\":[{\"marker\":{\"colorbar\":{\"outlinewidth\":0,\"ticks\":\"\"}},\"type\":\"scattercarpet\"}],\"scattergeo\":[{\"marker\":{\"colorbar\":{\"outlinewidth\":0,\"ticks\":\"\"}},\"type\":\"scattergeo\"}],\"scattergl\":[{\"marker\":{\"colorbar\":{\"outlinewidth\":0,\"ticks\":\"\"}},\"type\":\"scattergl\"}],\"scattermapbox\":[{\"marker\":{\"colorbar\":{\"outlinewidth\":0,\"ticks\":\"\"}},\"type\":\"scattermapbox\"}],\"scatterpolar\":[{\"marker\":{\"colorbar\":{\"outlinewidth\":0,\"ticks\":\"\"}},\"type\":\"scatterpolar\"}],\"scatterpolargl\":[{\"marker\":{\"colorbar\":{\"outlinewidth\":0,\"ticks\":\"\"}},\"type\":\"scatterpolargl\"}],\"scatterternary\":[{\"marker\":{\"colorbar\":{\"outlinewidth\":0,\"ticks\":\"\"}},\"type\":\"scatterternary\"}],\"surface\":[{\"colorbar\":{\"outlinewidth\":0,\"ticks\":\"\"},\"colorscale\":[[0.0,\"#0d0887\"],[0.1111111111111111,\"#46039f\"],[0.2222222222222222,\"#7201a8\"],[0.3333333333333333,\"#9c179e\"],[0.4444444444444444,\"#bd3786\"],[0.5555555555555556,\"#d8576b\"],[0.6666666666666666,\"#ed7953\"],[0.7777777777777778,\"#fb9f3a\"],[0.8888888888888888,\"#fdca26\"],[1.0,\"#f0f921\"]],\"type\":\"surface\"}],\"table\":[{\"cells\":{\"fill\":{\"color\":\"#EBF0F8\"},\"line\":{\"color\":\"white\"}},\"header\":{\"fill\":{\"color\":\"#C8D4E3\"},\"line\":{\"color\":\"white\"}},\"type\":\"table\"}]},\"layout\":{\"annotationdefaults\":{\"arrowcolor\":\"#2a3f5f\",\"arrowhead\":0,\"arrowwidth\":1},\"autotypenumbers\":\"strict\",\"coloraxis\":{\"colorbar\":{\"outlinewidth\":0,\"ticks\":\"\"}},\"colorscale\":{\"diverging\":[[0,\"#8e0152\"],[0.1,\"#c51b7d\"],[0.2,\"#de77ae\"],[0.3,\"#f1b6da\"],[0.4,\"#fde0ef\"],[0.5,\"#f7f7f7\"],[0.6,\"#e6f5d0\"],[0.7,\"#b8e186\"],[0.8,\"#7fbc41\"],[0.9,\"#4d9221\"],[1,\"#276419\"]],\"sequential\":[[0.0,\"#0d0887\"],[0.1111111111111111,\"#46039f\"],[0.2222222222222222,\"#7201a8\"],[0.3333333333333333,\"#9c179e\"],[0.4444444444444444,\"#bd3786\"],[0.5555555555555556,\"#d8576b\"],[0.6666666666666666,\"#ed7953\"],[0.7777777777777778,\"#fb9f3a\"],[0.8888888888888888,\"#fdca26\"],[1.0,\"#f0f921\"]],\"sequentialminus\":[[0.0,\"#0d0887\"],[0.1111111111111111,\"#46039f\"],[0.2222222222222222,\"#7201a8\"],[0.3333333333333333,\"#9c179e\"],[0.4444444444444444,\"#bd3786\"],[0.5555555555555556,\"#d8576b\"],[0.6666666666666666,\"#ed7953\"],[0.7777777777777778,\"#fb9f3a\"],[0.8888888888888888,\"#fdca26\"],[1.0,\"#f0f921\"]]},\"colorway\":[\"#636efa\",\"#EF553B\",\"#00cc96\",\"#ab63fa\",\"#FFA15A\",\"#19d3f3\",\"#FF6692\",\"#B6E880\",\"#FF97FF\",\"#FECB52\"],\"font\":{\"color\":\"#2a3f5f\"},\"geo\":{\"bgcolor\":\"white\",\"lakecolor\":\"white\",\"landcolor\":\"#E5ECF6\",\"showlakes\":true,\"showland\":true,\"subunitcolor\":\"white\"},\"hoverlabel\":{\"align\":\"left\"},\"hovermode\":\"closest\",\"mapbox\":{\"style\":\"light\"},\"paper_bgcolor\":\"white\",\"plot_bgcolor\":\"#E5ECF6\",\"polar\":{\"angularaxis\":{\"gridcolor\":\"white\",\"linecolor\":\"white\",\"ticks\":\"\"},\"bgcolor\":\"#E5ECF6\",\"radialaxis\":{\"gridcolor\":\"white\",\"linecolor\":\"white\",\"ticks\":\"\"}},\"scene\":{\"xaxis\":{\"backgroundcolor\":\"#E5ECF6\",\"gridcolor\":\"white\",\"gridwidth\":2,\"linecolor\":\"white\",\"showbackground\":true,\"ticks\":\"\",\"zerolinecolor\":\"white\"},\"yaxis\":{\"backgroundcolor\":\"#E5ECF6\",\"gridcolor\":\"white\",\"gridwidth\":2,\"linecolor\":\"white\",\"showbackground\":true,\"ticks\":\"\",\"zerolinecolor\":\"white\"},\"zaxis\":{\"backgroundcolor\":\"#E5ECF6\",\"gridcolor\":\"white\",\"gridwidth\":2,\"linecolor\":\"white\",\"showbackground\":true,\"ticks\":\"\",\"zerolinecolor\":\"white\"}},\"shapedefaults\":{\"line\":{\"color\":\"#2a3f5f\"}},\"ternary\":{\"aaxis\":{\"gridcolor\":\"white\",\"linecolor\":\"white\",\"ticks\":\"\"},\"baxis\":{\"gridcolor\":\"white\",\"linecolor\":\"white\",\"ticks\":\"\"},\"bgcolor\":\"#E5ECF6\",\"caxis\":{\"gridcolor\":\"white\",\"linecolor\":\"white\",\"ticks\":\"\"}},\"title\":{\"x\":0.05},\"xaxis\":{\"automargin\":true,\"gridcolor\":\"white\",\"linecolor\":\"white\",\"ticks\":\"\",\"title\":{\"standoff\":15},\"zerolinecolor\":\"white\",\"zerolinewidth\":2},\"yaxis\":{\"automargin\":true,\"gridcolor\":\"white\",\"linecolor\":\"white\",\"ticks\":\"\",\"title\":{\"standoff\":15},\"zerolinecolor\":\"white\",\"zerolinewidth\":2}}},\"title\":{\"text\":\"Recruiter Relationship\"}},                        {\"responsive\": true}                    ).then(function(){\n",
       "                            \n",
       "var gd = document.getElementById('425891c3-ed44-43ad-a3b7-d88fa258a69a');\n",
       "var x = new MutationObserver(function (mutations, observer) {{\n",
       "        var display = window.getComputedStyle(gd).display;\n",
       "        if (!display || display === 'none') {{\n",
       "            console.log([gd, 'removed!']);\n",
       "            Plotly.purge(gd);\n",
       "            observer.disconnect();\n",
       "        }}\n",
       "}});\n",
       "\n",
       "// Listen for the removal of the full notebook cells\n",
       "var notebookContainer = gd.closest('#notebook-container');\n",
       "if (notebookContainer) {{\n",
       "    x.observe(notebookContainer, {childList: true});\n",
       "}}\n",
       "\n",
       "// Listen for the clearing of the current output cell\n",
       "var outputEl = gd.closest('.output');\n",
       "if (outputEl) {{\n",
       "    x.observe(outputEl, {childList: true});\n",
       "}}\n",
       "\n",
       "                        })                };                });            </script>        </div>"
      ]
     },
     "metadata": {},
     "output_type": "display_data"
    }
   ],
   "source": [
    "fig = go.Figure(data=[\n",
    "    go.Bar(name='Female', x=data_bar_f.index, y=data_bar_f),\n",
    "    go.Bar(name='Male', x=data_bar_m.index, y=data_bar_m)\n",
    "])\n",
    "fig.update_traces(texttemplate='%{value}', textposition='outside')\n",
    "fig.update_layout(title_text='Recruiter Relationship')\n",
    "fig.show()"
   ]
  },
  {
   "cell_type": "code",
   "execution_count": 206,
   "metadata": {},
   "outputs": [
    {
     "data": {
      "text/html": [
       "<div>\n",
       "<style scoped>\n",
       "    .dataframe tbody tr th:only-of-type {\n",
       "        vertical-align: middle;\n",
       "    }\n",
       "\n",
       "    .dataframe tbody tr th {\n",
       "        vertical-align: top;\n",
       "    }\n",
       "\n",
       "    .dataframe thead th {\n",
       "        text-align: right;\n",
       "    }\n",
       "</style>\n",
       "<table border=\"1\" class=\"dataframe\">\n",
       "  <thead>\n",
       "    <tr style=\"text-align: right;\">\n",
       "      <th></th>\n",
       "      <th>yearOfRegistration</th>\n",
       "      <th>Datasource</th>\n",
       "      <th>gender</th>\n",
       "      <th>ageBroad</th>\n",
       "      <th>majorityStatus</th>\n",
       "      <th>majorityStatusAtExploit</th>\n",
       "      <th>majorityEntry</th>\n",
       "      <th>citizenship</th>\n",
       "      <th>meansOfControlDebtBondage</th>\n",
       "      <th>meansOfControlTakesEarnings</th>\n",
       "      <th>...</th>\n",
       "      <th>RecruiterRelationship</th>\n",
       "      <th>CountryOfExploitation</th>\n",
       "      <th>recruiterRelationIntimatePartner</th>\n",
       "      <th>recruiterRelationFriend</th>\n",
       "      <th>recruiterRelationFamily</th>\n",
       "      <th>recruiterRelationOther</th>\n",
       "      <th>recruiterRelationUnknown</th>\n",
       "      <th>country</th>\n",
       "      <th>alpha_3</th>\n",
       "      <th>Victims</th>\n",
       "    </tr>\n",
       "  </thead>\n",
       "  <tbody>\n",
       "    <tr>\n",
       "      <th>0</th>\n",
       "      <td>2002</td>\n",
       "      <td>Case Management</td>\n",
       "      <td>Female</td>\n",
       "      <td>18--20</td>\n",
       "      <td>Adult</td>\n",
       "      <td>-99</td>\n",
       "      <td>-99</td>\n",
       "      <td>CO</td>\n",
       "      <td>-99</td>\n",
       "      <td>-99</td>\n",
       "      <td>...</td>\n",
       "      <td>-99</td>\n",
       "      <td>-99</td>\n",
       "      <td>0</td>\n",
       "      <td>0</td>\n",
       "      <td>0</td>\n",
       "      <td>0</td>\n",
       "      <td>1</td>\n",
       "      <td>Colombia</td>\n",
       "      <td>COL</td>\n",
       "      <td>1</td>\n",
       "    </tr>\n",
       "    <tr>\n",
       "      <th>1</th>\n",
       "      <td>2002</td>\n",
       "      <td>Case Management</td>\n",
       "      <td>Female</td>\n",
       "      <td>18--20</td>\n",
       "      <td>Adult</td>\n",
       "      <td>-99</td>\n",
       "      <td>-99</td>\n",
       "      <td>CO</td>\n",
       "      <td>-99</td>\n",
       "      <td>-99</td>\n",
       "      <td>...</td>\n",
       "      <td>-99</td>\n",
       "      <td>-99</td>\n",
       "      <td>0</td>\n",
       "      <td>0</td>\n",
       "      <td>0</td>\n",
       "      <td>0</td>\n",
       "      <td>1</td>\n",
       "      <td>Colombia</td>\n",
       "      <td>COL</td>\n",
       "      <td>1</td>\n",
       "    </tr>\n",
       "    <tr>\n",
       "      <th>2</th>\n",
       "      <td>2002</td>\n",
       "      <td>Case Management</td>\n",
       "      <td>Female</td>\n",
       "      <td>18--20</td>\n",
       "      <td>Adult</td>\n",
       "      <td>-99</td>\n",
       "      <td>-99</td>\n",
       "      <td>CO</td>\n",
       "      <td>-99</td>\n",
       "      <td>-99</td>\n",
       "      <td>...</td>\n",
       "      <td>-99</td>\n",
       "      <td>-99</td>\n",
       "      <td>0</td>\n",
       "      <td>0</td>\n",
       "      <td>0</td>\n",
       "      <td>0</td>\n",
       "      <td>1</td>\n",
       "      <td>Colombia</td>\n",
       "      <td>COL</td>\n",
       "      <td>1</td>\n",
       "    </tr>\n",
       "    <tr>\n",
       "      <th>3</th>\n",
       "      <td>2002</td>\n",
       "      <td>Case Management</td>\n",
       "      <td>Female</td>\n",
       "      <td>18--20</td>\n",
       "      <td>Adult</td>\n",
       "      <td>-99</td>\n",
       "      <td>-99</td>\n",
       "      <td>CO</td>\n",
       "      <td>-99</td>\n",
       "      <td>-99</td>\n",
       "      <td>...</td>\n",
       "      <td>-99</td>\n",
       "      <td>-99</td>\n",
       "      <td>0</td>\n",
       "      <td>0</td>\n",
       "      <td>0</td>\n",
       "      <td>0</td>\n",
       "      <td>1</td>\n",
       "      <td>Colombia</td>\n",
       "      <td>COL</td>\n",
       "      <td>1</td>\n",
       "    </tr>\n",
       "    <tr>\n",
       "      <th>4</th>\n",
       "      <td>2002</td>\n",
       "      <td>Case Management</td>\n",
       "      <td>Female</td>\n",
       "      <td>18--20</td>\n",
       "      <td>Adult</td>\n",
       "      <td>-99</td>\n",
       "      <td>-99</td>\n",
       "      <td>CO</td>\n",
       "      <td>-99</td>\n",
       "      <td>-99</td>\n",
       "      <td>...</td>\n",
       "      <td>-99</td>\n",
       "      <td>-99</td>\n",
       "      <td>0</td>\n",
       "      <td>0</td>\n",
       "      <td>0</td>\n",
       "      <td>0</td>\n",
       "      <td>1</td>\n",
       "      <td>Colombia</td>\n",
       "      <td>COL</td>\n",
       "      <td>1</td>\n",
       "    </tr>\n",
       "    <tr>\n",
       "      <th>...</th>\n",
       "      <td>...</td>\n",
       "      <td>...</td>\n",
       "      <td>...</td>\n",
       "      <td>...</td>\n",
       "      <td>...</td>\n",
       "      <td>...</td>\n",
       "      <td>...</td>\n",
       "      <td>...</td>\n",
       "      <td>...</td>\n",
       "      <td>...</td>\n",
       "      <td>...</td>\n",
       "      <td>...</td>\n",
       "      <td>...</td>\n",
       "      <td>...</td>\n",
       "      <td>...</td>\n",
       "      <td>...</td>\n",
       "      <td>...</td>\n",
       "      <td>...</td>\n",
       "      <td>...</td>\n",
       "      <td>...</td>\n",
       "      <td>...</td>\n",
       "    </tr>\n",
       "    <tr>\n",
       "      <th>48796</th>\n",
       "      <td>2019</td>\n",
       "      <td>Case Management</td>\n",
       "      <td>Female</td>\n",
       "      <td>-99</td>\n",
       "      <td>-99</td>\n",
       "      <td>Adult</td>\n",
       "      <td>-99</td>\n",
       "      <td>UG</td>\n",
       "      <td>0</td>\n",
       "      <td>0</td>\n",
       "      <td>...</td>\n",
       "      <td>-99</td>\n",
       "      <td>UG</td>\n",
       "      <td>-99</td>\n",
       "      <td>-99</td>\n",
       "      <td>-99</td>\n",
       "      <td>-99</td>\n",
       "      <td>-99</td>\n",
       "      <td>Uganda</td>\n",
       "      <td>UGA</td>\n",
       "      <td>1</td>\n",
       "    </tr>\n",
       "    <tr>\n",
       "      <th>48797</th>\n",
       "      <td>2019</td>\n",
       "      <td>Case Management</td>\n",
       "      <td>Female</td>\n",
       "      <td>-99</td>\n",
       "      <td>-99</td>\n",
       "      <td>Adult</td>\n",
       "      <td>-99</td>\n",
       "      <td>UG</td>\n",
       "      <td>0</td>\n",
       "      <td>0</td>\n",
       "      <td>...</td>\n",
       "      <td>-99</td>\n",
       "      <td>UG</td>\n",
       "      <td>-99</td>\n",
       "      <td>-99</td>\n",
       "      <td>-99</td>\n",
       "      <td>-99</td>\n",
       "      <td>-99</td>\n",
       "      <td>Uganda</td>\n",
       "      <td>UGA</td>\n",
       "      <td>1</td>\n",
       "    </tr>\n",
       "    <tr>\n",
       "      <th>48798</th>\n",
       "      <td>2019</td>\n",
       "      <td>Case Management</td>\n",
       "      <td>Female</td>\n",
       "      <td>-99</td>\n",
       "      <td>-99</td>\n",
       "      <td>Adult</td>\n",
       "      <td>-99</td>\n",
       "      <td>UG</td>\n",
       "      <td>0</td>\n",
       "      <td>0</td>\n",
       "      <td>...</td>\n",
       "      <td>-99</td>\n",
       "      <td>UG</td>\n",
       "      <td>-99</td>\n",
       "      <td>-99</td>\n",
       "      <td>-99</td>\n",
       "      <td>-99</td>\n",
       "      <td>-99</td>\n",
       "      <td>Uganda</td>\n",
       "      <td>UGA</td>\n",
       "      <td>1</td>\n",
       "    </tr>\n",
       "    <tr>\n",
       "      <th>48799</th>\n",
       "      <td>2019</td>\n",
       "      <td>Case Management</td>\n",
       "      <td>Female</td>\n",
       "      <td>-99</td>\n",
       "      <td>-99</td>\n",
       "      <td>Minor</td>\n",
       "      <td>-99</td>\n",
       "      <td>UG</td>\n",
       "      <td>0</td>\n",
       "      <td>0</td>\n",
       "      <td>...</td>\n",
       "      <td>-99</td>\n",
       "      <td>UG</td>\n",
       "      <td>-99</td>\n",
       "      <td>-99</td>\n",
       "      <td>-99</td>\n",
       "      <td>-99</td>\n",
       "      <td>-99</td>\n",
       "      <td>Uganda</td>\n",
       "      <td>UGA</td>\n",
       "      <td>1</td>\n",
       "    </tr>\n",
       "    <tr>\n",
       "      <th>48800</th>\n",
       "      <td>2019</td>\n",
       "      <td>Case Management</td>\n",
       "      <td>Female</td>\n",
       "      <td>-99</td>\n",
       "      <td>-99</td>\n",
       "      <td>Adult</td>\n",
       "      <td>-99</td>\n",
       "      <td>UG</td>\n",
       "      <td>0</td>\n",
       "      <td>0</td>\n",
       "      <td>...</td>\n",
       "      <td>-99</td>\n",
       "      <td>UG</td>\n",
       "      <td>-99</td>\n",
       "      <td>-99</td>\n",
       "      <td>-99</td>\n",
       "      <td>-99</td>\n",
       "      <td>-99</td>\n",
       "      <td>Uganda</td>\n",
       "      <td>UGA</td>\n",
       "      <td>1</td>\n",
       "    </tr>\n",
       "  </tbody>\n",
       "</table>\n",
       "<p>48801 rows × 66 columns</p>\n",
       "</div>"
      ],
      "text/plain": [
       "       yearOfRegistration       Datasource  gender ageBroad majorityStatus  \\\n",
       "0                    2002  Case Management  Female   18--20          Adult   \n",
       "1                    2002  Case Management  Female   18--20          Adult   \n",
       "2                    2002  Case Management  Female   18--20          Adult   \n",
       "3                    2002  Case Management  Female   18--20          Adult   \n",
       "4                    2002  Case Management  Female   18--20          Adult   \n",
       "...                   ...              ...     ...      ...            ...   \n",
       "48796                2019  Case Management  Female      -99            -99   \n",
       "48797                2019  Case Management  Female      -99            -99   \n",
       "48798                2019  Case Management  Female      -99            -99   \n",
       "48799                2019  Case Management  Female      -99            -99   \n",
       "48800                2019  Case Management  Female      -99            -99   \n",
       "\n",
       "      majorityStatusAtExploit majorityEntry citizenship  \\\n",
       "0                         -99           -99          CO   \n",
       "1                         -99           -99          CO   \n",
       "2                         -99           -99          CO   \n",
       "3                         -99           -99          CO   \n",
       "4                         -99           -99          CO   \n",
       "...                       ...           ...         ...   \n",
       "48796                   Adult           -99          UG   \n",
       "48797                   Adult           -99          UG   \n",
       "48798                   Adult           -99          UG   \n",
       "48799                   Minor           -99          UG   \n",
       "48800                   Adult           -99          UG   \n",
       "\n",
       "       meansOfControlDebtBondage  meansOfControlTakesEarnings  ...  \\\n",
       "0                            -99                          -99  ...   \n",
       "1                            -99                          -99  ...   \n",
       "2                            -99                          -99  ...   \n",
       "3                            -99                          -99  ...   \n",
       "4                            -99                          -99  ...   \n",
       "...                          ...                          ...  ...   \n",
       "48796                          0                            0  ...   \n",
       "48797                          0                            0  ...   \n",
       "48798                          0                            0  ...   \n",
       "48799                          0                            0  ...   \n",
       "48800                          0                            0  ...   \n",
       "\n",
       "       RecruiterRelationship  CountryOfExploitation  \\\n",
       "0                        -99                    -99   \n",
       "1                        -99                    -99   \n",
       "2                        -99                    -99   \n",
       "3                        -99                    -99   \n",
       "4                        -99                    -99   \n",
       "...                      ...                    ...   \n",
       "48796                    -99                     UG   \n",
       "48797                    -99                     UG   \n",
       "48798                    -99                     UG   \n",
       "48799                    -99                     UG   \n",
       "48800                    -99                     UG   \n",
       "\n",
       "       recruiterRelationIntimatePartner  recruiterRelationFriend  \\\n",
       "0                                     0                        0   \n",
       "1                                     0                        0   \n",
       "2                                     0                        0   \n",
       "3                                     0                        0   \n",
       "4                                     0                        0   \n",
       "...                                 ...                      ...   \n",
       "48796                               -99                      -99   \n",
       "48797                               -99                      -99   \n",
       "48798                               -99                      -99   \n",
       "48799                               -99                      -99   \n",
       "48800                               -99                      -99   \n",
       "\n",
       "       recruiterRelationFamily  recruiterRelationOther  \\\n",
       "0                            0                       0   \n",
       "1                            0                       0   \n",
       "2                            0                       0   \n",
       "3                            0                       0   \n",
       "4                            0                       0   \n",
       "...                        ...                     ...   \n",
       "48796                      -99                     -99   \n",
       "48797                      -99                     -99   \n",
       "48798                      -99                     -99   \n",
       "48799                      -99                     -99   \n",
       "48800                      -99                     -99   \n",
       "\n",
       "       recruiterRelationUnknown   country  alpha_3  Victims  \n",
       "0                             1  Colombia      COL        1  \n",
       "1                             1  Colombia      COL        1  \n",
       "2                             1  Colombia      COL        1  \n",
       "3                             1  Colombia      COL        1  \n",
       "4                             1  Colombia      COL        1  \n",
       "...                         ...       ...      ...      ...  \n",
       "48796                       -99    Uganda      UGA        1  \n",
       "48797                       -99    Uganda      UGA        1  \n",
       "48798                       -99    Uganda      UGA        1  \n",
       "48799                       -99    Uganda      UGA        1  \n",
       "48800                       -99    Uganda      UGA        1  \n",
       "\n",
       "[48801 rows x 66 columns]"
      ]
     },
     "execution_count": 206,
     "metadata": {},
     "output_type": "execute_result"
    }
   ],
   "source": [
    "data['Victims'] = 1\n",
    "data"
   ]
  },
  {
   "cell_type": "code",
   "execution_count": 207,
   "metadata": {},
   "outputs": [],
   "source": [
    "y=data_bar_f"
   ]
  },
  {
   "cell_type": "code",
   "execution_count": 208,
   "metadata": {},
   "outputs": [],
   "source": [
    "x=data_bar_m "
   ]
  },
  {
   "cell_type": "code",
   "execution_count": 209,
   "metadata": {},
   "outputs": [],
   "source": [
    "from keras.models import Sequential\n",
    "from keras.layers import Dense\n",
    "from keras.optimizers import SGD, Adam, Adadelta, RMSprop\n",
    "import keras.backend as K\n",
    "from sklearn.model_selection import train_test_split\n",
    "from sklearn.preprocessing import StandardScaler\n",
    "# Classification Report\n",
    "from sklearn.metrics import classification_report\n",
    "import tensorflow as tf"
   ]
  },
  {
   "cell_type": "code",
   "execution_count": 210,
   "metadata": {},
   "outputs": [],
   "source": [
    "from keras.utils.np_utils import to_categorical"
   ]
  },
  {
   "cell_type": "code",
   "execution_count": 211,
   "metadata": {},
   "outputs": [],
   "source": [
    "from sklearn.model_selection import train_test_split\n",
    "x_train, x_test, y_train, y_test = train_test_split(x, y, test_size=0.2)"
   ]
  },
  {
   "cell_type": "code",
   "execution_count": 212,
   "metadata": {
    "scrolled": true
   },
   "outputs": [
    {
     "name": "stdout",
     "output_type": "stream",
     "text": [
      "Model: \"sequential_14\"\n",
      "_________________________________________________________________\n",
      " Layer (type)                Output Shape              Param #   \n",
      "=================================================================\n",
      " dense_41 (Dense)            (None, 60)                2040      \n",
      "                                                                 \n",
      " dense_42 (Dense)            (None, 15)                915       \n",
      "                                                                 \n",
      " dense_43 (Dense)            (None, 4)                 64        \n",
      "                                                                 \n",
      "=================================================================\n",
      "Total params: 3,019\n",
      "Trainable params: 3,019\n",
      "Non-trainable params: 0\n",
      "_________________________________________________________________\n"
     ]
    }
   ],
   "source": [
    "model = Sequential()\n",
    "model.add(Dense(60, input_shape = (33,), activation = \"relu\"))\n",
    "model.add(Dense(15, activation = \"relu\"))\n",
    "model.add(Dense(4, activation = \"softmax\"))\n",
    "model.compile(Adam(lr = 0.01), \"categorical_crossentropy\", metrics = [\"accuracy\"])\n",
    "model.summary()\n"
   ]
  },
  {
   "cell_type": "code",
   "execution_count": 213,
   "metadata": {},
   "outputs": [
    {
     "data": {
      "text/html": [
       "<style>#sk-container-id-8 {color: black;background-color: white;}#sk-container-id-8 pre{padding: 0;}#sk-container-id-8 div.sk-toggleable {background-color: white;}#sk-container-id-8 label.sk-toggleable__label {cursor: pointer;display: block;width: 100%;margin-bottom: 0;padding: 0.3em;box-sizing: border-box;text-align: center;}#sk-container-id-8 label.sk-toggleable__label-arrow:before {content: \"▸\";float: left;margin-right: 0.25em;color: #696969;}#sk-container-id-8 label.sk-toggleable__label-arrow:hover:before {color: black;}#sk-container-id-8 div.sk-estimator:hover label.sk-toggleable__label-arrow:before {color: black;}#sk-container-id-8 div.sk-toggleable__content {max-height: 0;max-width: 0;overflow: hidden;text-align: left;background-color: #f0f8ff;}#sk-container-id-8 div.sk-toggleable__content pre {margin: 0.2em;color: black;border-radius: 0.25em;background-color: #f0f8ff;}#sk-container-id-8 input.sk-toggleable__control:checked~div.sk-toggleable__content {max-height: 200px;max-width: 100%;overflow: auto;}#sk-container-id-8 input.sk-toggleable__control:checked~label.sk-toggleable__label-arrow:before {content: \"▾\";}#sk-container-id-8 div.sk-estimator input.sk-toggleable__control:checked~label.sk-toggleable__label {background-color: #d4ebff;}#sk-container-id-8 div.sk-label input.sk-toggleable__control:checked~label.sk-toggleable__label {background-color: #d4ebff;}#sk-container-id-8 input.sk-hidden--visually {border: 0;clip: rect(1px 1px 1px 1px);clip: rect(1px, 1px, 1px, 1px);height: 1px;margin: -1px;overflow: hidden;padding: 0;position: absolute;width: 1px;}#sk-container-id-8 div.sk-estimator {font-family: monospace;background-color: #f0f8ff;border: 1px dotted black;border-radius: 0.25em;box-sizing: border-box;margin-bottom: 0.5em;}#sk-container-id-8 div.sk-estimator:hover {background-color: #d4ebff;}#sk-container-id-8 div.sk-parallel-item::after {content: \"\";width: 100%;border-bottom: 1px solid gray;flex-grow: 1;}#sk-container-id-8 div.sk-label:hover label.sk-toggleable__label {background-color: #d4ebff;}#sk-container-id-8 div.sk-serial::before {content: \"\";position: absolute;border-left: 1px solid gray;box-sizing: border-box;top: 0;bottom: 0;left: 50%;z-index: 0;}#sk-container-id-8 div.sk-serial {display: flex;flex-direction: column;align-items: center;background-color: white;padding-right: 0.2em;padding-left: 0.2em;position: relative;}#sk-container-id-8 div.sk-item {position: relative;z-index: 1;}#sk-container-id-8 div.sk-parallel {display: flex;align-items: stretch;justify-content: center;background-color: white;position: relative;}#sk-container-id-8 div.sk-item::before, #sk-container-id-8 div.sk-parallel-item::before {content: \"\";position: absolute;border-left: 1px solid gray;box-sizing: border-box;top: 0;bottom: 0;left: 50%;z-index: -1;}#sk-container-id-8 div.sk-parallel-item {display: flex;flex-direction: column;z-index: 1;position: relative;background-color: white;}#sk-container-id-8 div.sk-parallel-item:first-child::after {align-self: flex-end;width: 50%;}#sk-container-id-8 div.sk-parallel-item:last-child::after {align-self: flex-start;width: 50%;}#sk-container-id-8 div.sk-parallel-item:only-child::after {width: 0;}#sk-container-id-8 div.sk-dashed-wrapped {border: 1px dashed gray;margin: 0 0.4em 0.5em 0.4em;box-sizing: border-box;padding-bottom: 0.4em;background-color: white;}#sk-container-id-8 div.sk-label label {font-family: monospace;font-weight: bold;display: inline-block;line-height: 1.2em;}#sk-container-id-8 div.sk-label-container {text-align: center;}#sk-container-id-8 div.sk-container {/* jupyter's `normalize.less` sets `[hidden] { display: none; }` but bootstrap.min.css set `[hidden] { display: none !important; }` so we also need the `!important` here to be able to override the default hidden behavior on the sphinx rendered scikit-learn.org. See: https://github.com/scikit-learn/scikit-learn/issues/21755 */display: inline-block !important;position: relative;}#sk-container-id-8 div.sk-text-repr-fallback {display: none;}</style><div id=\"sk-container-id-8\" class=\"sk-top-container\"><div class=\"sk-text-repr-fallback\"><pre>RandomForestClassifier()</pre><b>In a Jupyter environment, please rerun this cell to show the HTML representation or trust the notebook. <br />On GitHub, the HTML representation is unable to render, please try loading this page with nbviewer.org.</b></div><div class=\"sk-container\" hidden><div class=\"sk-item\"><div class=\"sk-estimator sk-toggleable\"><input class=\"sk-toggleable__control sk-hidden--visually\" id=\"sk-estimator-id-8\" type=\"checkbox\" checked><label for=\"sk-estimator-id-8\" class=\"sk-toggleable__label sk-toggleable__label-arrow\">RandomForestClassifier</label><div class=\"sk-toggleable__content\"><pre>RandomForestClassifier()</pre></div></div></div></div></div>"
      ],
      "text/plain": [
       "RandomForestClassifier()"
      ]
     },
     "execution_count": 213,
     "metadata": {},
     "output_type": "execute_result"
    }
   ],
   "source": [
    "from sklearn.ensemble import RandomForestClassifier\n",
    "model = RandomForestClassifier()\n",
    "model.fit(x_train.values.reshape(-1,1),y_train)"
   ]
  },
  {
   "cell_type": "code",
   "execution_count": 214,
   "metadata": {},
   "outputs": [
    {
     "data": {
      "text/plain": [
       "1.0"
      ]
     },
     "execution_count": 214,
     "metadata": {},
     "output_type": "execute_result"
    }
   ],
   "source": [
    "model.score(x_train.values.reshape(-1,1),y_train)"
   ]
  },
  {
   "cell_type": "code",
   "execution_count": 215,
   "metadata": {},
   "outputs": [
    {
     "data": {
      "text/plain": [
       "array([1619., 1619.])"
      ]
     },
     "execution_count": 215,
     "metadata": {},
     "output_type": "execute_result"
    }
   ],
   "source": [
    "z=model.predict(x_test.values.reshape(-1,1))\n",
    "z"
   ]
  },
  {
   "cell_type": "code",
   "execution_count": 216,
   "metadata": {},
   "outputs": [
    {
     "data": {
      "text/html": [
       "<style>#sk-container-id-9 {color: black;background-color: white;}#sk-container-id-9 pre{padding: 0;}#sk-container-id-9 div.sk-toggleable {background-color: white;}#sk-container-id-9 label.sk-toggleable__label {cursor: pointer;display: block;width: 100%;margin-bottom: 0;padding: 0.3em;box-sizing: border-box;text-align: center;}#sk-container-id-9 label.sk-toggleable__label-arrow:before {content: \"▸\";float: left;margin-right: 0.25em;color: #696969;}#sk-container-id-9 label.sk-toggleable__label-arrow:hover:before {color: black;}#sk-container-id-9 div.sk-estimator:hover label.sk-toggleable__label-arrow:before {color: black;}#sk-container-id-9 div.sk-toggleable__content {max-height: 0;max-width: 0;overflow: hidden;text-align: left;background-color: #f0f8ff;}#sk-container-id-9 div.sk-toggleable__content pre {margin: 0.2em;color: black;border-radius: 0.25em;background-color: #f0f8ff;}#sk-container-id-9 input.sk-toggleable__control:checked~div.sk-toggleable__content {max-height: 200px;max-width: 100%;overflow: auto;}#sk-container-id-9 input.sk-toggleable__control:checked~label.sk-toggleable__label-arrow:before {content: \"▾\";}#sk-container-id-9 div.sk-estimator input.sk-toggleable__control:checked~label.sk-toggleable__label {background-color: #d4ebff;}#sk-container-id-9 div.sk-label input.sk-toggleable__control:checked~label.sk-toggleable__label {background-color: #d4ebff;}#sk-container-id-9 input.sk-hidden--visually {border: 0;clip: rect(1px 1px 1px 1px);clip: rect(1px, 1px, 1px, 1px);height: 1px;margin: -1px;overflow: hidden;padding: 0;position: absolute;width: 1px;}#sk-container-id-9 div.sk-estimator {font-family: monospace;background-color: #f0f8ff;border: 1px dotted black;border-radius: 0.25em;box-sizing: border-box;margin-bottom: 0.5em;}#sk-container-id-9 div.sk-estimator:hover {background-color: #d4ebff;}#sk-container-id-9 div.sk-parallel-item::after {content: \"\";width: 100%;border-bottom: 1px solid gray;flex-grow: 1;}#sk-container-id-9 div.sk-label:hover label.sk-toggleable__label {background-color: #d4ebff;}#sk-container-id-9 div.sk-serial::before {content: \"\";position: absolute;border-left: 1px solid gray;box-sizing: border-box;top: 0;bottom: 0;left: 50%;z-index: 0;}#sk-container-id-9 div.sk-serial {display: flex;flex-direction: column;align-items: center;background-color: white;padding-right: 0.2em;padding-left: 0.2em;position: relative;}#sk-container-id-9 div.sk-item {position: relative;z-index: 1;}#sk-container-id-9 div.sk-parallel {display: flex;align-items: stretch;justify-content: center;background-color: white;position: relative;}#sk-container-id-9 div.sk-item::before, #sk-container-id-9 div.sk-parallel-item::before {content: \"\";position: absolute;border-left: 1px solid gray;box-sizing: border-box;top: 0;bottom: 0;left: 50%;z-index: -1;}#sk-container-id-9 div.sk-parallel-item {display: flex;flex-direction: column;z-index: 1;position: relative;background-color: white;}#sk-container-id-9 div.sk-parallel-item:first-child::after {align-self: flex-end;width: 50%;}#sk-container-id-9 div.sk-parallel-item:last-child::after {align-self: flex-start;width: 50%;}#sk-container-id-9 div.sk-parallel-item:only-child::after {width: 0;}#sk-container-id-9 div.sk-dashed-wrapped {border: 1px dashed gray;margin: 0 0.4em 0.5em 0.4em;box-sizing: border-box;padding-bottom: 0.4em;background-color: white;}#sk-container-id-9 div.sk-label label {font-family: monospace;font-weight: bold;display: inline-block;line-height: 1.2em;}#sk-container-id-9 div.sk-label-container {text-align: center;}#sk-container-id-9 div.sk-container {/* jupyter's `normalize.less` sets `[hidden] { display: none; }` but bootstrap.min.css set `[hidden] { display: none !important; }` so we also need the `!important` here to be able to override the default hidden behavior on the sphinx rendered scikit-learn.org. See: https://github.com/scikit-learn/scikit-learn/issues/21755 */display: inline-block !important;position: relative;}#sk-container-id-9 div.sk-text-repr-fallback {display: none;}</style><div id=\"sk-container-id-9\" class=\"sk-top-container\"><div class=\"sk-text-repr-fallback\"><pre>LogisticRegression()</pre><b>In a Jupyter environment, please rerun this cell to show the HTML representation or trust the notebook. <br />On GitHub, the HTML representation is unable to render, please try loading this page with nbviewer.org.</b></div><div class=\"sk-container\" hidden><div class=\"sk-item\"><div class=\"sk-estimator sk-toggleable\"><input class=\"sk-toggleable__control sk-hidden--visually\" id=\"sk-estimator-id-9\" type=\"checkbox\" checked><label for=\"sk-estimator-id-9\" class=\"sk-toggleable__label sk-toggleable__label-arrow\">LogisticRegression</label><div class=\"sk-toggleable__content\"><pre>LogisticRegression()</pre></div></div></div></div></div>"
      ],
      "text/plain": [
       "LogisticRegression()"
      ]
     },
     "execution_count": 216,
     "metadata": {},
     "output_type": "execute_result"
    }
   ],
   "source": [
    "from sklearn.linear_model import LogisticRegression \n",
    "log=LogisticRegression()\n",
    "log.fit(x_train.values.reshape(-1,1),y_train)"
   ]
  },
  {
   "cell_type": "code",
   "execution_count": 217,
   "metadata": {},
   "outputs": [
    {
     "data": {
      "text/plain": [
       "1.0"
      ]
     },
     "execution_count": 217,
     "metadata": {},
     "output_type": "execute_result"
    }
   ],
   "source": [
    "log.score(x_train.values.reshape(-1,1),y_train)"
   ]
  }
 ],
 "metadata": {
  "kernelspec": {
   "display_name": "Python 3 (ipykernel)",
   "language": "python",
   "name": "python3"
  },
  "language_info": {
   "codemirror_mode": {
    "name": "ipython",
    "version": 3
   },
   "file_extension": ".py",
   "mimetype": "text/x-python",
   "name": "python",
   "nbconvert_exporter": "python",
   "pygments_lexer": "ipython3",
   "version": "3.9.12"
  }
 },
 "nbformat": 4,
 "nbformat_minor": 4
}
